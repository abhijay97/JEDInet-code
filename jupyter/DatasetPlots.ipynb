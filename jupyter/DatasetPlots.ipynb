{
 "cells": [
  {
   "cell_type": "code",
   "execution_count": 1,
   "metadata": {},
   "outputs": [
    {
     "name": "stderr",
     "output_type": "stream",
     "text": [
      "/usr/local/Cellar/python3/3.6.4_2/Frameworks/Python.framework/Versions/3.6/lib/python3.6/site-packages/h5py/__init__.py:36: FutureWarning: Conversion of the second argument of issubdtype from `float` to `np.floating` is deprecated. In future, it will be treated as `np.float64 == np.dtype(float).type`.\n",
      "  from ._conv import register_converters as _register_converters\n"
     ]
    }
   ],
   "source": [
    "import h5py\n",
    "import glob\n",
    "import numpy as np"
   ]
  },
  {
   "cell_type": "code",
   "execution_count": 2,
   "metadata": {},
   "outputs": [],
   "source": [
    "# need afs password to read from eos\n",
    "onEOS = False\n",
    "import os\n",
    "import getpass\n",
    "if onEOS: os.system(\"echo %s| kinit\" %getpass.getpass())"
   ]
  },
  {
   "cell_type": "code",
   "execution_count": 3,
   "metadata": {},
   "outputs": [],
   "source": [
    "%matplotlib inline"
   ]
  },
  {
   "cell_type": "markdown",
   "metadata": {},
   "source": [
    "# Read Dataset: HLF\n",
    "\n"
   ]
  },
  {
   "cell_type": "code",
   "execution_count": 4,
   "metadata": {},
   "outputs": [
    {
     "name": "stdout",
     "output_type": "stream",
     "text": [
      "../data/jetImage_30.h5\n",
      "(8000, 16) (19118, 16) (17803, 16) (1117, 16) (19962, 16)\n"
     ]
    }
   ],
   "source": [
    "### TO BE CHANGED\n",
    "fileIN = \"../data/jetImage_30.h5\"\n",
    "print(fileIN)\n",
    "f = h5py.File(fileIN)\n",
    "data = np.array(f.get(\"jets\"))\n",
    "data_q = data[data[:,-6]==1]\n",
    "data_g = data[data[:,-5]==1]\n",
    "data_W = data[data[:,-4]==1]\n",
    "data_Z = data[data[:,-3]==1]\n",
    "data_t = data[data[:,-2]==1]\n",
    "### select only relevant features\n",
    "data_q = data_q[:,[12, 34, 35, 36, 37, 38, 39, 40, 41, 42, 43, 44, 45, 46, 48, 52]]\n",
    "data_g = data_g[:,[12, 34, 35, 36, 37, 38, 39, 40, 41, 42, 43, 44, 45, 46, 48, 52]]\n",
    "data_W = data_W[:,[12, 34, 35, 36, 37, 38, 39, 40, 41, 42, 43, 44, 45, 46, 48, 52]]\n",
    "data_Z = data_Z[:,[12, 34, 35, 36, 37, 38, 39, 40, 41, 42, 43, 44, 45, 46, 48, 52]]\n",
    "data_t = data_t[:,[12, 34, 35, 36, 37, 38, 39, 40, 41, 42, 43, 44, 45, 46, 48, 52]]\n",
    "####\n",
    "print(data_q.shape, data_g.shape, data_W.shape, data_Z.shape, data_t.shape)"
   ]
  },
  {
   "cell_type": "code",
   "execution_count": 5,
   "metadata": {},
   "outputs": [
    {
     "data": {
      "text/plain": [
       "array([1., 1., 1., ..., 0., 0., 0.])"
      ]
     },
     "execution_count": 5,
     "metadata": {},
     "output_type": "execute_result"
    }
   ],
   "source": [
    "data[:,-6]"
   ]
  },
  {
   "cell_type": "code",
   "execution_count": 6,
   "metadata": {},
   "outputs": [],
   "source": [
    "labels = ['$\\Sigma zlog(z)$', '$C_{1}^{0}$', '$C_{1}^{1}$', '$C_{1}^{2}$',\n",
    "          '$C_{2}^{1}$', '$C_{2}^{2}$',\n",
    "         '$D_{2}^{1}$','$D_{2}^{2}$',\n",
    "          '$D_{2}^{(1,1)}$', '$D_{2}^{(1,2)}$', \n",
    "         '$M_{2}^{1}$', '$M_{2}^{2}$',\n",
    "         '$N_{2}^{1}$', '$N_{2}^{2}$', 'jet $mass_{mMDT}$', 'Multiplicity']"
   ]
  },
  {
   "cell_type": "code",
   "execution_count": 7,
   "metadata": {},
   "outputs": [],
   "source": [
    "import matplotlib.pyplot as plt\n",
    "minEntries = min(data_q.shape[0],data_g.shape[0],data_W.shape[0],\n",
    "                data_Z.shape[0],data_t.shape[0])\n",
    "for i in range(16):\n",
    "    plt.hist(data_q[:minEntries,i], 50, density=True, histtype='step', fill=False, linewidth=1.5)\n",
    "    plt.hist(data_g[:minEntries,i], 50, density=True, histtype='step', fill=False, linewidth=1.5)\n",
    "    plt.hist(data_W[:minEntries,i], 50, density=True, histtype='step', fill=False, linewidth=1.5)\n",
    "    plt.hist(data_Z[:minEntries,i], 50, density=True, histtype='step', fill=False, linewidth=1.5)\n",
    "    plt.hist(data_t[:minEntries,i], 50, density=True, histtype='step', fill=False, linewidth=1.5)\n",
    "    plt.xlabel(labels[i], fontsize=15)\n",
    "    plt.ylabel('Prob. Density (a.u.)', fontsize=15)\n",
    "    #handles = [Rectangle((0,0),1,1,color=c,ec=\"k\") for c in [low,medium, high]]\n",
    "    labelCat= [\"quark\",\"gluon\", \"W\", \"Z\", \"top\"]\n",
    "    plt.legend(labelCat, fontsize=12, frameon=False)  \n",
    "    #plt.rc('text', usetex=True)\n",
    "    #plt.rc('font', family='serif')\n",
    "    #plt.show()\n",
    "    plt.rc('text', usetex=True)\n",
    "    plt.rc('font', family='serif')\n",
    "    plt.draw()\n",
    "    plt.savefig('fig_%i.png' %i, dpi=250)\n",
    "    plt.close()"
   ]
  },
  {
   "cell_type": "code",
   "execution_count": 8,
   "metadata": {},
   "outputs": [],
   "source": [
    "#### LOG\n",
    "import matplotlib.pyplot as plt\n",
    "minEntries = min(data_q.shape[0],data_g.shape[0],data_W.shape[0],\n",
    "                data_Z.shape[0],data_t.shape[0])\n",
    "for i in range(16):\n",
    "    plt.hist(data_q[:minEntries,i], 50, density=True, histtype='step', fill=False, linewidth=1.5)\n",
    "    plt.hist(data_g[:minEntries,i], 50, density=True, histtype='step', fill=False, linewidth=1.5)\n",
    "    plt.hist(data_W[:minEntries,i], 50, density=True, histtype='step', fill=False, linewidth=1.5)\n",
    "    plt.hist(data_Z[:minEntries,i], 50, density=True, histtype='step', fill=False, linewidth=1.5)\n",
    "    plt.hist(data_t[:minEntries,i], 50, density=True, histtype='step', fill=False, linewidth=1.5)\n",
    "    plt.xlabel(labels[i], fontsize=15)\n",
    "    plt.ylabel('Prob. Density (a.u.)', fontsize=15)\n",
    "    #handles = [Rectangle((0,0),1,1,color=c,ec=\"k\") for c in [low,medium, high]]\n",
    "    labelCat= [\"quark\",\"gluon\", \"W\", \"Z\", \"top\"]\n",
    "    plt.yscale('log', nonposy='clip')\n",
    "    plt.legend(labelCat, fontsize=12, frameon=False)  \n",
    "    plt.rc('text', usetex=True)\n",
    "    plt.rc('font', family='serif')\n",
    "    plt.draw()\n",
    "    plt.savefig('fig_%i_log.png' %i, dpi=250)\n",
    "    plt.close()"
   ]
  },
  {
   "cell_type": "markdown",
   "metadata": {},
   "source": [
    "# plot average images"
   ]
  },
  {
   "cell_type": "code",
   "execution_count": 9,
   "metadata": {},
   "outputs": [],
   "source": [
    "from matplotlib.colors import LogNorm\n",
    "image = np.array(f.get('jetImage'))\n",
    "image_q = image[data[:,-6]==1]\n",
    "image_g = image[data[:,-5]==1]\n",
    "image_W = image[data[:,-4]==1]\n",
    "image_Z = image[data[:,-3]==1]\n",
    "image_t = image[data[:,-2]==1]\n",
    "images = [image_q, image_g, image_W, image_Z, image_t]\n",
    "\n",
    "for i in range(len(images)):\n",
    "    SUM_Image = np.sum(images[i], axis = 0)\n",
    "    plt.imshow(SUM_Image/float(images[i].shape[0]), origin='lower',norm=LogNorm(vmin=0.01))\n",
    "    plt.colorbar()\n",
    "    plt.title(labelCat[i], fontsize=15)\n",
    "    plt.xlabel(\"$\\Delta\\eta$ cell\", fontsize=15)\n",
    "    plt.ylabel(\"$\\Delta\\phi$ cell\", fontsize=15)\n",
    "    plt.rc('text', usetex=True)\n",
    "    plt.rc('font', family='serif')\n",
    "    plt.draw()\n",
    "    plt.savefig('image_%i_log.png' %i, dpi=250, bbox_inches='tight')\n",
    "    plt.close()"
   ]
  },
  {
   "cell_type": "markdown",
   "metadata": {},
   "source": [
    "# plot single-jet images"
   ]
  },
  {
   "cell_type": "code",
   "execution_count": 10,
   "metadata": {},
   "outputs": [],
   "source": [
    "image_q = image_q[10,:,:]\n",
    "image_g = image_g[10,:,:]\n",
    "image_W = image_W[10,:,:]\n",
    "image_Z = image_Z[10,:,:]\n",
    "image_t = image_t[10,:,:]\n",
    "images = [image_q, image_g, image_W, image_Z, image_t]\n",
    "for i in range(len(images)):\n",
    "    #SUM_Image = np.sum(images[i], axis = 0)\n",
    "    plt.imshow(images[i], origin='lower',norm=LogNorm(vmin=0.01))\n",
    "    plt.colorbar()\n",
    "    plt.title(labelCat[i], fontsize=15)\n",
    "    plt.xlabel(\"$\\Delta\\eta$ cell\", fontsize=15)\n",
    "    plt.ylabel(\"$\\Delta\\phi$ cell\", fontsize=15)\n",
    "    plt.rc('text', usetex=True)\n",
    "    plt.rc('font', family='serif')\n",
    "    plt.draw()\n",
    "    plt.savefig('imageOneJet_%i_log.png' %i, dpi=250, bbox_inches='tight')\n",
    "    plt.close()"
   ]
  },
  {
   "cell_type": "markdown",
   "metadata": {},
   "source": [
    "# plot constituent features"
   ]
  },
  {
   "cell_type": "code",
   "execution_count": 11,
   "metadata": {},
   "outputs": [
    {
     "name": "stdout",
     "output_type": "stream",
     "text": [
      "(8000, 30, 16)\n",
      "(1117, 30, 16)\n"
     ]
    }
   ],
   "source": [
    "listP = np.array(f.get('jetConstituentList'))\n",
    "list_q = listP[data[:,-6]==1]\n",
    "list_g = listP[data[:,-5]==1]\n",
    "list_W = listP[data[:,-4]==1]\n",
    "list_Z = listP[data[:,-3]==1]\n",
    "list_t = listP[data[:,-2]==1]\n",
    "print(list_q.shape)\n",
    "minEntries = min(list_q.shape[0],list_g.shape[0],list_W.shape[0],\n",
    "                list_Z.shape[0],list_t.shape[0])\n",
    "list_q = list_q[:minEntries,:,:]\n",
    "list_g = list_g[:minEntries,:,:]\n",
    "list_W = list_W[:minEntries,:,:]\n",
    "list_Z = list_Z[:minEntries,:,:]\n",
    "list_t = list_t[:minEntries,:,:]\n",
    "print(list_q.shape)"
   ]
  },
  {
   "cell_type": "code",
   "execution_count": 12,
   "metadata": {},
   "outputs": [
    {
     "name": "stdout",
     "output_type": "stream",
     "text": [
      "[b'j1_px' b'j1_py' b'j1_pz' b'j1_e' b'j1_erel' b'j1_pt' b'j1_ptrel'\n",
      " b'j1_eta' b'j1_etarel' b'j1_etarot' b'j1_phi' b'j1_phirel' b'j1_phirot'\n",
      " b'j1_deltaR' b'j1_costheta' b'j1_costhetarel']\n"
     ]
    }
   ],
   "source": [
    "d2 = f.get(\"particleFeatureNames\")\n",
    "print(d2[:,])"
   ]
  },
  {
   "cell_type": "code",
   "execution_count": 13,
   "metadata": {},
   "outputs": [],
   "source": [
    "featureNames = ['$p_{x}$ [Gev]', '$p_{y}$ [Gev]', '$p_{z}$ [Gev]', '$E$ [Gev]', \n",
    "                'Relative $E$ [Gev]', '$p_T$ [GeV]', '$Relative p_T$ [GeV]',\n",
    "                 '$\\eta$', 'Relative $\\eta$', 'Rotated $\\eta$', '$\\phi$', 'Relative $\\phi$',\n",
    "                'Rotated $\\phi$', '$\\Delta R$','$\\cos \\theta$', 'Relative $\\cos \\theta$']"
   ]
  },
  {
   "cell_type": "code",
   "execution_count": 14,
   "metadata": {},
   "outputs": [
    {
     "name": "stdout",
     "output_type": "stream",
     "text": [
      "0 $p_{x}$ [Gev]\n",
      "1 $p_{y}$ [Gev]\n",
      "2 $p_{z}$ [Gev]\n",
      "3 $E$ [Gev]\n",
      "4 Relative $E$ [Gev]\n",
      "5 $p_T$ [GeV]\n",
      "6 $Relative p_T$ [GeV]\n",
      "7 $\\eta$\n",
      "8 Relative $\\eta$\n",
      "9 Rotated $\\eta$\n",
      "10 $\\phi$\n",
      "11 Relative $\\phi$\n",
      "12 Rotated $\\phi$\n",
      "13 $\\Delta R$\n",
      "14 $\\cos \theta$\n",
      "15 Relative $\\cos \theta$\n"
     ]
    }
   ],
   "source": [
    "for i in range(16):\n",
    "    plt.hist(np.ndarray.flatten(list_q[:,:,i]), 50, density=True, histtype='step', fill=False, linewidth=1.5)\n",
    "    plt.hist(np.ndarray.flatten(list_g[:,:,i]), 50, density=True, histtype='step', fill=False, linewidth=1.5)\n",
    "    plt.hist(np.ndarray.flatten(list_W[:,:,i]), 50, density=True, histtype='step', fill=False, linewidth=1.5)\n",
    "    plt.hist(np.ndarray.flatten(list_Z[:,:,i]), 50, density=True, histtype='step', fill=False, linewidth=1.5)\n",
    "    plt.hist(np.ndarray.flatten(list_t[:,:,i]), 50, density=True, histtype='step', fill=False, linewidth=1.5)\n",
    "    print(i,featureNames[i])\n",
    "    plt.xlabel(featureNames[i], fontsize=15)\n",
    "    plt.ylabel('Prob. Density (a.u.)', fontsize=15)\n",
    "    #handles = [Rectangle((0,0),1,1,color=c,ec=\"k\") for c in [low,medium, high]]\n",
    "    labelCat= [\"quark\",\"gluon\", \"W\", \"Z\", \"top\"]\n",
    "    plt.legend(labelCat, fontsize=12, frameon=False)  \n",
    "    #plt.rc('text', usetex=True)\n",
    "    #plt.rc('font', family='serif')\n",
    "    #plt.show()\n",
    "    plt.rc('text', usetex=True)\n",
    "    plt.rc('font', family='serif')\n",
    "    plt.draw()\n",
    "    plt.savefig('const_fig_%i.png' %i, dpi=250)\n",
    "    plt.close()"
   ]
  },
  {
   "cell_type": "code",
   "execution_count": 15,
   "metadata": {},
   "outputs": [],
   "source": [
    "# now in log scale\n",
    "for i in range(16):\n",
    "    plt.hist(np.ndarray.flatten(list_q[:,:,i]), 50, density=True, histtype='step', fill=False, linewidth=1.5)\n",
    "    plt.hist(np.ndarray.flatten(list_g[:,:,i]), 50, density=True, histtype='step', fill=False, linewidth=1.5)\n",
    "    plt.hist(np.ndarray.flatten(list_W[:,:,i]), 50, density=True, histtype='step', fill=False, linewidth=1.5)\n",
    "    plt.hist(np.ndarray.flatten(list_Z[:,:,i]), 50, density=True, histtype='step', fill=False, linewidth=1.5)\n",
    "    plt.hist(np.ndarray.flatten(list_t[:,:,i]), 50, density=True, histtype='step', fill=False, linewidth=1.5)\n",
    "    plt.xlabel(featureNames[i], fontsize=15)\n",
    "    plt.ylabel('Prob. Density (a.u.)', fontsize=15)\n",
    "    #handles = [Rectangle((0,0),1,1,color=c,ec=\"k\") for c in [low,medium, high]]\n",
    "    labelCat= [\"quark\",\"gluon\", \"W\", \"Z\", \"top\"]\n",
    "    plt.legend(labelCat, fontsize=12, frameon=False)  \n",
    "    plt.yscale('log', nonposy='clip')\n",
    "    plt.rc('text', usetex=True)\n",
    "    plt.rc('font', family='serif')\n",
    "    plt.draw()\n",
    "    plt.savefig('const_log_fig_%i.png' %i, dpi=250)\n",
    "    plt.close()"
   ]
  },
  {
   "cell_type": "code",
   "execution_count": null,
   "metadata": {},
   "outputs": [],
   "source": []
  }
 ],
 "metadata": {
  "kernelspec": {
   "display_name": "Python 3",
   "language": "python",
   "name": "python3"
  },
  "language_info": {
   "codemirror_mode": {
    "name": "ipython",
    "version": 3
   },
   "file_extension": ".py",
   "mimetype": "text/x-python",
   "name": "python",
   "nbconvert_exporter": "python",
   "pygments_lexer": "ipython3",
   "version": "3.6.4"
  }
 },
 "nbformat": 4,
 "nbformat_minor": 2
}
