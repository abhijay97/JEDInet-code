{
 "cells": [
  {
   "cell_type": "code",
   "execution_count": 1,
   "metadata": {},
   "outputs": [],
   "source": [
    "import h5py\n",
    "import glob\n",
    "import numpy as np"
   ]
  },
  {
   "cell_type": "code",
   "execution_count": 2,
   "metadata": {},
   "outputs": [],
   "source": [
    "# need afs password to read from eos\n",
    "onEOS = False\n",
    "import os\n",
    "import getpass\n",
    "if onEOS: os.system(\"echo %s| kinit\" %getpass.getpass())"
   ]
  },
  {
   "cell_type": "code",
   "execution_count": 3,
   "metadata": {},
   "outputs": [],
   "source": [
    "%matplotlib inline\n",
    "import matplotlib.pyplot as plt\n",
    "plt.style.use('../python/sonic.mplstyle')"
   ]
  },
  {
   "cell_type": "markdown",
   "metadata": {},
   "source": [
    "# Read Dataset: HLF\n",
    "\n"
   ]
  },
  {
   "cell_type": "code",
   "execution_count": 6,
   "metadata": {},
   "outputs": [
    {
     "name": "stdout",
     "output_type": "stream",
     "text": [
      "(10000, 59)\n",
      "(20000, 59)\n",
      "(30000, 59)\n",
      "(40000, 59)\n",
      "(50000, 59)\n",
      "(60000, 59)\n",
      "(70000, 59)\n",
      "(80000, 59)\n",
      "(90000, 59)\n"
     ]
    }
   ],
   "source": [
    "import glob\n",
    "data = np.array([])\n",
    "for fileIN in glob.glob(\"../data/jetImage_7_150p_*.h5\"):\n",
    "    f = h5py.File(fileIN, \"r\")\n",
    "    mydata = np.array(f.get(\"jets\"))\n",
    "    data = np.concatenate((data, mydata), axis=0) if data.size else mydata\n",
    "    print(data.shape)"
   ]
  },
  {
   "cell_type": "code",
   "execution_count": 7,
   "metadata": {},
   "outputs": [
    {
     "name": "stdout",
     "output_type": "stream",
     "text": [
      "(18094, 16) (17657, 16) (18067, 16) (18053, 16) (18129, 16)\n"
     ]
    }
   ],
   "source": [
    "### TO BE CHANGED\n",
    "data_q = data[data[:,-6]==1]\n",
    "data_g = data[data[:,-5]==1]\n",
    "data_W = data[data[:,-4]==1]\n",
    "data_Z = data[data[:,-3]==1]\n",
    "data_t = data[data[:,-2]==1]\n",
    "### select only relevant features\n",
    "data_q = data_q[:,[12, 34, 35, 36, 37, 38, 39, 40, 41, 42, 43, 44, 45, 46, 48, 52]]\n",
    "data_g = data_g[:,[12, 34, 35, 36, 37, 38, 39, 40, 41, 42, 43, 44, 45, 46, 48, 52]]\n",
    "data_W = data_W[:,[12, 34, 35, 36, 37, 38, 39, 40, 41, 42, 43, 44, 45, 46, 48, 52]]\n",
    "data_Z = data_Z[:,[12, 34, 35, 36, 37, 38, 39, 40, 41, 42, 43, 44, 45, 46, 48, 52]]\n",
    "data_t = data_t[:,[12, 34, 35, 36, 37, 38, 39, 40, 41, 42, 43, 44, 45, 46, 48, 52]]\n",
    "####\n",
    "print(data_q.shape, data_g.shape, data_W.shape, data_Z.shape, data_t.shape)"
   ]
  },
  {
   "cell_type": "code",
   "execution_count": 8,
   "metadata": {},
   "outputs": [
    {
     "data": {
      "text/plain": [
       "array([0., 1., 0., ..., 0., 0., 0.])"
      ]
     },
     "execution_count": 8,
     "metadata": {},
     "output_type": "execute_result"
    }
   ],
   "source": [
    "data[:,-6]"
   ]
  },
  {
   "cell_type": "code",
   "execution_count": 9,
   "metadata": {},
   "outputs": [],
   "source": [
    "labels = ['$\\Sigma zlog(z)$', '$C_{1}^{0}$', '$C_{1}^{1}$', '$C_{1}^{2}$',\n",
    "          '$C_{2}^{1}$', '$C_{2}^{2}$',\n",
    "         '$D_{2}^{1}$','$D_{2}^{2}$',\n",
    "          '$D_{2}^{(1,1)}$', '$D_{2}^{(1,2)}$', \n",
    "         '$M_{2}^{1}$', '$M_{2}^{2}$',\n",
    "         '$N_{2}^{1}$', '$N_{2}^{2}$', r'jet mass_{mMDT}$', 'Multiplicity']"
   ]
  },
  {
   "cell_type": "code",
   "execution_count": 11,
   "metadata": {},
   "outputs": [],
   "source": [
    "import matplotlib.pyplot as plt\n",
    "from matplotlib.lines import Line2D\n",
    "minEntries = min(data_q.shape[0],data_g.shape[0],data_W.shape[0],\n",
    "                data_Z.shape[0],data_t.shape[0])\n",
    "for i in range(16):\n",
    "    plt.figure(figsize=(7,5))\n",
    "    plt.hist(data_q[:minEntries,i], 50, density=True, histtype='step', fill=False, linewidth=1.5)\n",
    "    plt.hist(data_g[:minEntries,i], 50, density=True, histtype='step', fill=False, linewidth=1.5)\n",
    "    plt.hist(data_W[:minEntries,i], 50, density=True, histtype='step', fill=False, linewidth=1.5)\n",
    "    plt.hist(data_Z[:minEntries,i], 50, density=True, histtype='step', fill=False, linewidth=1.5)\n",
    "    plt.hist(data_t[:minEntries,i], 50, density=True, histtype='step', fill=False, linewidth=1.5)\n",
    "    plt.xlabel(labels[i], fontsize=28)\n",
    "    plt.ylabel('Prob. Density (a.u.)', fontsize=28)\n",
    "    #handles = [Rectangle((0,0),1,1,color=c,ec=\"k\") for c in [low,medium, high]]\n",
    "    if i == 0:\n",
    "        labelCat= [\"quark\",\"gluon\", \"W\", \"Z\", \"top\"]    \n",
    "        handle1 = Line2D([], [], c='C0', label=labelCat[0])\n",
    "        handle2 = Line2D([], [], c='C1', label=labelCat[1])\n",
    "        handle3 = Line2D([], [], c='C2', label=labelCat[2])\n",
    "        handle4 = Line2D([], [], c='C3', label=labelCat[3])\n",
    "        handle5 = Line2D([], [], c='C4', label=labelCat[4])    \n",
    "        plt.legend(loc=\"upper right\", \n",
    "                   handles=[handle1, handle2, handle3, handle4, handle5], fontsize=20, frameon=False)\n",
    "    plt.draw()\n",
    "    plt.savefig('fig_%i.pdf' %i, dpi=250)\n",
    "    plt.close()"
   ]
  },
  {
   "cell_type": "markdown",
   "metadata": {},
   "source": [
    "# plot average images"
   ]
  },
  {
   "cell_type": "code",
   "execution_count": 12,
   "metadata": {},
   "outputs": [
    {
     "name": "stdout",
     "output_type": "stream",
     "text": [
      "(10000, 100, 100)\n",
      "(20000, 100, 100)\n",
      "(30000, 100, 100)\n",
      "(40000, 100, 100)\n",
      "(50000, 100, 100)\n",
      "(60000, 100, 100)\n",
      "(70000, 100, 100)\n",
      "(80000, 100, 100)\n",
      "(90000, 100, 100)\n"
     ]
    }
   ],
   "source": [
    "import glob\n",
    "image = np.array([])\n",
    "for fileIN in glob.glob(\"../data/jetImage_7_150p_*.h5\"):\n",
    "    f = h5py.File(fileIN, \"r\")\n",
    "    myimage = np.array(f.get(\"jetImage\"))\n",
    "    image = np.concatenate((image, myimage), axis=0) if image.size else myimage\n",
    "    print(image.shape)"
   ]
  },
  {
   "cell_type": "code",
   "execution_count": 16,
   "metadata": {},
   "outputs": [],
   "source": [
    "from matplotlib.colors import LogNorm\n",
    "image_q = image[data[:,-6]==1]\n",
    "image_g = image[data[:,-5]==1]\n",
    "image_W = image[data[:,-4]==1]\n",
    "image_Z = image[data[:,-3]==1]\n",
    "image_t = image[data[:,-2]==1]\n",
    "images = [image_q, image_g, image_W, image_Z, image_t]\n",
    "\n",
    "for i in range(len(images)):\n",
    "    plt.figure()\n",
    "    SUM_Image = np.sum(images[i], axis = 0)\n",
    "    plt.imshow(SUM_Image/float(images[i].shape[0]), origin='lower',norm=LogNorm(vmin=0.01), cmap='PuBu_r')\n",
    "    plt.colorbar()\n",
    "    plt.title(labelCat[i], fontsize=20)\n",
    "    plt.xlabel(\"$\\Delta\\eta$\", fontsize=20)\n",
    "    plt.ylabel(\"$\\Delta\\phi$\", fontsize=20)\n",
    "    #plt.rc('text', usetex=True)\n",
    "    #plt.rc('font', family='serif')\n",
    "    #plt.show()\n",
    "    plt.draw()\n",
    "    plt.savefig('image_%i_log.pdf' %i, dpi=250, bbox_inches='tight')\n",
    "    plt.close()"
   ]
  },
  {
   "cell_type": "markdown",
   "metadata": {},
   "source": [
    "# plot single-jet images"
   ]
  },
  {
   "cell_type": "code",
   "execution_count": 22,
   "metadata": {},
   "outputs": [],
   "source": [
    "iJet = 1200\n",
    "Myimage_q = image_q[iJet,:,:]\n",
    "Myimage_g = image_g[iJet,:,:]\n",
    "Myimage_W = image_W[iJet,:,:]\n",
    "Myimage_Z = image_Z[iJet,:,:]\n",
    "Myimage_t = image_t[iJet,:,:]\n",
    "images = [Myimage_q, Myimage_g, Myimage_W, Myimage_Z, Myimage_t]\n",
    "for i in range(len(images)):\n",
    "    #SUM_Image = np.sum(images[i], axis = 0)\n",
    "    plt.imshow(images[i], origin='lower',norm=LogNorm(vmin=0.01), cmap='PuBu_r')\n",
    "    plt.colorbar()\n",
    "    plt.title(labelCat[i], fontsize=20)\n",
    "    plt.xlabel(\"$\\Delta\\eta$\", fontsize=20)\n",
    "    plt.ylabel(\"$\\Delta\\phi$\", fontsize=20)\n",
    "    #plt.show()\n",
    "    plt.draw()\n",
    "    plt.savefig('imageOneJet_%i_log.pdf' %i, dpi=250, bbox_inches='tight')\n",
    "    plt.close()"
   ]
  },
  {
   "cell_type": "markdown",
   "metadata": {},
   "source": [
    "# plot constituent features"
   ]
  },
  {
   "cell_type": "code",
   "execution_count": 23,
   "metadata": {},
   "outputs": [
    {
     "name": "stdout",
     "output_type": "stream",
     "text": [
      "(10000, 150, 16)\n",
      "(20000, 150, 16)\n",
      "(30000, 150, 16)\n",
      "(40000, 150, 16)\n",
      "(50000, 150, 16)\n",
      "(60000, 150, 16)\n",
      "(70000, 150, 16)\n",
      "(80000, 150, 16)\n",
      "(90000, 150, 16)\n"
     ]
    }
   ],
   "source": [
    "import glob\n",
    "listP = np.array([])\n",
    "for fileIN in glob.glob(\"../data/jetImage_7_150p_*.h5\"):\n",
    "    f = h5py.File(fileIN, \"r\")\n",
    "    mylistP = np.array(f.get(\"jetConstituentList\"))\n",
    "    listP = np.concatenate((listP, mylistP), axis=0) if listP.size else mylistP\n",
    "    print(listP.shape)"
   ]
  },
  {
   "cell_type": "code",
   "execution_count": 37,
   "metadata": {},
   "outputs": [
    {
     "name": "stdout",
     "output_type": "stream",
     "text": [
      "(18094, 150, 16)\n"
     ]
    }
   ],
   "source": [
    "list_q = np.array(listP[data[:,-6]==1])\n",
    "list_g = np.array(listP[data[:,-5]==1])\n",
    "list_W = np.array(listP[data[:,-4]==1])\n",
    "list_Z = np.array(listP[data[:,-3]==1])\n",
    "list_t = np.array(listP[data[:,-2]==1])\n",
    "print(list_q.shape)"
   ]
  },
  {
   "cell_type": "code",
   "execution_count": 47,
   "metadata": {},
   "outputs": [],
   "source": [
    "list_q = list_q[np.array(list_q[:,:,3]) >0.]\n",
    "list_g = list_g[np.array(list_g[:,:,3]) >0.]\n",
    "list_W = list_W[np.array(list_W[:,:,3]) >0.]\n",
    "list_Z = list_Z[np.array(list_Z[:,:,3]) >0.]\n",
    "list_t = list_t[np.array(list_t[:,:,3]) >0.]"
   ]
  },
  {
   "cell_type": "code",
   "execution_count": 48,
   "metadata": {},
   "outputs": [
    {
     "name": "stdout",
     "output_type": "stream",
     "text": [
      "(675893, 16)\n"
     ]
    }
   ],
   "source": [
    "minEntries = min(list_q.shape[0],list_g.shape[0],list_W.shape[0],\n",
    "                list_Z.shape[0],list_t.shape[0])\n",
    "list_q = list_q[:minEntries,:]\n",
    "list_g = list_g[:minEntries,:]\n",
    "list_W = list_W[:minEntries,:]\n",
    "list_Z = list_Z[:minEntries,:]\n",
    "list_t = list_t[:minEntries,:]\n",
    "print(list_q.shape)"
   ]
  },
  {
   "cell_type": "code",
   "execution_count": 49,
   "metadata": {},
   "outputs": [
    {
     "name": "stdout",
     "output_type": "stream",
     "text": [
      "[b'j1_px' b'j1_py' b'j1_pz' b'j1_e' b'j1_erel' b'j1_pt' b'j1_ptrel'\n",
      " b'j1_eta' b'j1_etarel' b'j1_etarot' b'j1_phi' b'j1_phirel' b'j1_phirot'\n",
      " b'j1_deltaR' b'j1_costheta' b'j1_costhetarel' b'j1_pdgid']\n"
     ]
    }
   ],
   "source": [
    "d2 = f.get(\"particleFeatureNames\")\n",
    "print(d2[:,])"
   ]
  },
  {
   "cell_type": "code",
   "execution_count": 50,
   "metadata": {},
   "outputs": [],
   "source": [
    "featureNames = ['$p_{x}$ [Gev]', '$p_{y}$ [Gev]', '$p_{z}$ [Gev]', '$E$ [Gev]', \n",
    "                'Relative~$E$ [Gev]', '$p_{T}$ [GeV]', 'Relative $p_{T}$ [GeV]',\n",
    "                 '$\\eta$', 'Relative $\\eta$', 'Rotated $\\eta$', '$\\phi$', 'Relative $\\phi$',\n",
    "                'Rotated $\\phi$', '$\\Delta R$', r'cos $\\theta$', r'Relative cos $\\theta$']"
   ]
  },
  {
   "cell_type": "code",
   "execution_count": 51,
   "metadata": {},
   "outputs": [],
   "source": [
    "minval = [-200, -200, -200, 0.,     0., -2., -3.142, 0.,  0.,  0., -0.4, -0.75, -0.5, -0.6, -1., -0.5]\n",
    "maxval = [ 200,  200,  200, 500., 300.,  2.,  3.142, 0.4, 0.4, 0.4, 0.4,  0.75,  0.5,  0.6,  1.,  0.5]\n",
    "logScale = [True, True, True, True, True, True, True, False, False, True, False, False, False, False, False, False]"
   ]
  },
  {
   "cell_type": "code",
   "execution_count": 53,
   "metadata": {},
   "outputs": [],
   "source": [
    "import matplotlib.pyplot as plt\n",
    "from matplotlib.lines import Line2D\n",
    "minEntries = min(data_q.shape[0],data_g.shape[0],data_W.shape[0],\n",
    "                data_Z.shape[0],data_t.shape[0])\n",
    "for i in range(16):\n",
    "    plt.figure(figsize=(7,5))\n",
    "    #plt.hist(np.ndarray.flatten(list_q[:,:,i]), bins=50, range = (minval[i], maxval[i]), density=True, histtype='step', fill=False, linewidth=1.5)\n",
    "    #plt.hist(np.ndarray.flatten(list_g[:,:,i]), bins=50, range = (minval[i], maxval[i]), density=True, histtype='step', fill=False, linewidth=1.5)\n",
    "    #plt.hist(np.ndarray.flatten(list_W[:,:,i]), bins=50, range = (minval[i], maxval[i]), density=True, histtype='step', fill=False, linewidth=1.5)\n",
    "    #plt.hist(np.ndarray.flatten(list_Z[:,:,i]), bins=50, range = (minval[i], maxval[i]), density=True, histtype='step', fill=False, linewidth=1.5)\n",
    "    #plt.hist(np.ndarray.flatten(list_t[:,:,i]), bins=50, range = (minval[i], maxval[i]), density=True, histtype='step', fill=False, linewidth=1.5)\n",
    "\n",
    "    plt.hist(np.ndarray.flatten(list_q[:,i]), bins=50, density=True, histtype='step', fill=False, linewidth=1.5)\n",
    "    plt.hist(np.ndarray.flatten(list_g[:,i]), bins=50, density=True, histtype='step', fill=False, linewidth=1.5)\n",
    "    plt.hist(np.ndarray.flatten(list_W[:,i]), bins=50, density=True, histtype='step', fill=False, linewidth=1.5)\n",
    "    plt.hist(np.ndarray.flatten(list_Z[:,i]), bins=50, density=True, histtype='step', fill=False, linewidth=1.5)\n",
    "    plt.hist(np.ndarray.flatten(list_t[:,i]), bins=50, density=True, histtype='step', fill=False, linewidth=1.5)\n",
    "\n",
    "    plt.xlabel(featureNames[i], fontsize=28)\n",
    "    plt.ylabel('Prob. Density (a.u.)', fontsize=28)\n",
    "    #if logScale[i] == True: \n",
    "    plt.semilogy()\n",
    "    #handles = [Rectangle((0,0),1,1,color=c,ec=\"k\") for c in [low,medium, high]]\n",
    "    if i == 0:\n",
    "        labelCat= [\"quark\",\"gluon\", \"W\", \"Z\", \"top\"]    \n",
    "        handle1 = Line2D([], [], c='C0', label=labelCat[0])\n",
    "        handle2 = Line2D([], [], c='C1', label=labelCat[1])\n",
    "        handle3 = Line2D([], [], c='C2', label=labelCat[2])\n",
    "        handle4 = Line2D([], [], c='C3', label=labelCat[3])\n",
    "        handle5 = Line2D([], [], c='C4', label=labelCat[4])    \n",
    "        plt.legend(loc=\"upper right\", \n",
    "                   handles=[handle1, handle2, handle3, handle4, handle5], fontsize=20, frameon=False)\n",
    "    #plt.show()\n",
    "    plt.draw()\n",
    "    plt.savefig('const_fig_%i.pdf' %i, dpi=250)\n",
    "    plt.close()"
   ]
  },
  {
   "cell_type": "code",
   "execution_count": null,
   "metadata": {},
   "outputs": [],
   "source": []
  }
 ],
 "metadata": {
  "kernelspec": {
   "display_name": "Python 3",
   "language": "python",
   "name": "python3"
  },
  "language_info": {
   "codemirror_mode": {
    "name": "ipython",
    "version": 3
   },
   "file_extension": ".py",
   "mimetype": "text/x-python",
   "name": "python",
   "nbconvert_exporter": "python",
   "pygments_lexer": "ipython3",
   "version": "3.7.3"
  }
 },
 "nbformat": 4,
 "nbformat_minor": 2
}
