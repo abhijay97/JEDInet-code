{
 "cells": [
  {
   "cell_type": "code",
   "execution_count": 346,
   "metadata": {},
   "outputs": [],
   "source": [
    "args_cuda = 0\n",
    "args_gpu = False"
   ]
  },
  {
   "cell_type": "code",
   "execution_count": 347,
   "metadata": {},
   "outputs": [],
   "source": [
    "if args_gpu: \n",
    "    import setGPU\n",
    "    args_cuda = 1\n",
    "import os\n",
    "import numpy as np\n",
    "import h5py\n",
    "import glob\n",
    "import itertools\n",
    "import sys\n",
    "from sklearn.utils import shuffle\n",
    "\n",
    "import torch\n",
    "import torch.nn as nn\n",
    "from torch.autograd.variable import *\n",
    "import torch.optim as optim"
   ]
  },
  {
   "cell_type": "code",
   "execution_count": 348,
   "metadata": {},
   "outputs": [],
   "source": [
    "%matplotlib inline\n",
    "import matplotlib.pyplot as plt\n",
    "plt.style.use('../python/sonic.mplstyle')"
   ]
  },
  {
   "cell_type": "code",
   "execution_count": 349,
   "metadata": {},
   "outputs": [],
   "source": [
    "# define the pytorch model\n",
    "class GraphNet(nn.Module):\n",
    "    def __init__(self, n_constituents, n_targets, params, hidden, De, Do, \n",
    "                 fr_activation=0, fo_activation=0, fc_activation=0, optimizer = 0, verbose = False):\n",
    "        super(GraphNet, self).__init__()\n",
    "        self.hidden = hidden\n",
    "        self.P = len(params)\n",
    "        self.N = n_constituents\n",
    "        self.Nr = self.N * (self.N - 1)\n",
    "        self.Dr = 0\n",
    "        self.De = De\n",
    "        self.Dx = 0\n",
    "        self.Do = Do\n",
    "        self.n_targets = n_targets\n",
    "        self.fr_activation = fr_activation\n",
    "        self.fo_activation = fo_activation\n",
    "        self.fc_activation = fc_activation\n",
    "        self.optimizer = optimizer\n",
    "        self.verbose = verbose\n",
    "        self.assign_matrices()\n",
    "\n",
    "        self.Ra = torch.ones(self.Dr, self.Nr)\n",
    "        self.fr1 = nn.Linear(2 * self.P + self.Dr, hidden)\n",
    "        self.fr2 = nn.Linear(hidden, int(hidden/2))\n",
    "        self.fr3 = nn.Linear(int(hidden/2), self.De)\n",
    "        self.fo1 = nn.Linear(self.P + self.Dx + self.De, hidden)\n",
    "        self.fo2 = nn.Linear(hidden, int(hidden/2))\n",
    "        self.fo3 = nn.Linear(int(hidden/2), self.Do)\n",
    "        self.fc1 = nn.Linear(self.Do, hidden)\n",
    "        self.fc2 = nn.Linear(hidden, int(hidden/2))\n",
    "        self.fc3 = nn.Linear(int(hidden/2), self.n_targets)\n",
    "\n",
    "    def assign_matrices(self):\n",
    "        self.Rr = torch.zeros(self.N, self.Nr)\n",
    "        self.Rs = torch.zeros(self.N, self.Nr)\n",
    "        receiver_sender_list = [i for i in itertools.product(range(self.N), range(self.N)) if i[0]!=i[1]]\n",
    "        for i, (r, s) in enumerate(receiver_sender_list):\n",
    "            self.Rr[r, i] = 1\n",
    "            self.Rs[s, i] = 1\n",
    "        self.Rr = Variable(self.Rr)\n",
    "        self.Rs = Variable(self.Rs)\n",
    "\n",
    "    def forward(self, x):\n",
    "        Orr = self.tmul(x, self.Rr)\n",
    "        Ors = self.tmul(x, self.Rs)\n",
    "        B = torch.cat([Orr, Ors], 1)\n",
    "        ### First MLP ###\n",
    "        B = torch.transpose(B, 1, 2).contiguous()\n",
    "        if self.fr_activation ==2:\n",
    "            B = nn.functional.selu(self.fr1(B.view(-1, 2 * self.P + self.Dr)))\n",
    "            B = nn.functional.selu(self.fr2(B))\n",
    "            E = nn.functional.selu(self.fr3(B).view(-1, self.Nr, self.De))            \n",
    "        elif self.fr_activation ==1:\n",
    "            B = nn.functional.elu(self.fr1(B.view(-1, 2 * self.P + self.Dr)))\n",
    "            B = nn.functional.elu(self.fr2(B))\n",
    "            E = nn.functional.elu(self.fr3(B).view(-1, self.Nr, self.De))\n",
    "        else:\n",
    "            B = nn.functional.relu(self.fr1(B.view(-1, 2 * self.P + self.Dr)))\n",
    "            B = nn.functional.relu(self.fr2(B))\n",
    "            E = nn.functional.relu(self.fr3(B).view(-1, self.Nr, self.De))\n",
    "        del B\n",
    "        E = torch.transpose(E, 1, 2).contiguous()\n",
    "        Ebar = self.tmul(E, torch.transpose(self.Rr, 0, 1).contiguous())\n",
    "        del E\n",
    "        C = torch.cat([x, Ebar], 1)\n",
    "        del Ebar\n",
    "        C = torch.transpose(C, 1, 2).contiguous()\n",
    "        ### Second MLP ###\n",
    "        if self.fo_activation ==2:\n",
    "            C = nn.functional.selu(self.fo1(C.view(-1, self.P + self.Dx + self.De)))\n",
    "            C = nn.functional.selu(self.fo2(C))\n",
    "            O = nn.functional.selu(self.fo3(C).view(-1, self.N, self.Do))\n",
    "        elif self.fo_activation ==1:\n",
    "            C = nn.functional.elu(self.fo1(C.view(-1, self.P + self.Dx + self.De)))\n",
    "            C = nn.functional.elu(self.fo2(C))\n",
    "            O = nn.functional.elu(self.fo3(C).view(-1, self.N, self.Do))\n",
    "        else:\n",
    "            C = nn.functional.relu(self.fo1(C.view(-1, self.P + self.Dx + self.De)))\n",
    "            C = nn.functional.relu(self.fo2(C))\n",
    "            O = nn.functional.relu(self.fo3(C).view(-1, self.N, self.Do))\n",
    "        del C\n",
    "        ## sum over the O matrix  \n",
    "        O = torch.sum( O, dim=1)\n",
    "        ### Classification MLP ###\n",
    "        if self.fc_activation ==2:\n",
    "            N = nn.functional.selu(self.fc1(O.view(-1, self.Do)))\n",
    "            N = nn.functional.selu(self.fc2(N))       \n",
    "        elif self.fc_activation ==1:\n",
    "            N = nn.functional.elu(self.fc1(O.view(-1, self.Do)))\n",
    "            N = nn.functional.elu(self.fc2(N))\n",
    "        else:\n",
    "            N = nn.functional.relu(self.fc1(O.view(-1, self.Do)))\n",
    "            N = nn.functional.relu(self.fc2(N))\n",
    "        #N = nn.functional.relu(self.fc3(N))\n",
    "        N = self.fc3(N)\n",
    "        return N, O\n",
    "\n",
    "    def tmul(self, x, y):  #Takes (I * J * K)(K * L) -> I * J * L \n",
    "        x_shape = x.size()\n",
    "        y_shape = y.size()\n",
    "        return torch.mm(x.view(-1, x_shape[2]), y).view(-1, x_shape[1], y_shape[1])"
   ]
  },
  {
   "cell_type": "code",
   "execution_count": 350,
   "metadata": {},
   "outputs": [],
   "source": [
    "# optimal parameters\n",
    "nParticles = 150\n",
    "x = []\n",
    "x.append(50) # hinned nodes                                                                                                                                            \n",
    "x.append(14) # De                                                                                                                                                      \n",
    "x.append(12) # Do                                                                                                                                                      \n",
    "x.append(2) # fr_activation_index                                                                                                                                      \n",
    "x.append(2) # fo_activation_index                                                                                                                                      \n",
    "x.append(2) # fc_activation_index                                                                                                                                      \n",
    "x.append(0) # optmizer_index                  "
   ]
  },
  {
   "cell_type": "code",
   "execution_count": 351,
   "metadata": {},
   "outputs": [],
   "source": [
    "labels = ['j_g', 'j_q', 'j_w', 'j_z', 'j_t']\n",
    "classes = ['gluons', 'quarks', 'W','Z', 'top']\n",
    "params = ['j1_px', 'j1_py' , 'j1_pz' , 'j1_e' , 'j1_erel' , 'j1_pt' , 'j1_ptrel', 'j1_eta' , 'j1_etarel' ,\n",
    "          'j1_etarot' , 'j1_phi' , 'j1_phirel' , 'j1_phirot', 'j1_deltaR' , 'j1_costheta' , 'j1_costhetarel']"
   ]
  },
  {
   "cell_type": "code",
   "execution_count": 352,
   "metadata": {},
   "outputs": [],
   "source": [
    "val_split = 0.3\n",
    "batch_size = 100\n",
    "n_epochs = 100\n",
    "patience = 10"
   ]
  },
  {
   "cell_type": "code",
   "execution_count": 353,
   "metadata": {},
   "outputs": [],
   "source": [
    "import glob\n",
    "inputValFiles = glob.glob(\"../data/jetImage*_%sp*.h5\" %nParticles)"
   ]
  },
  {
   "cell_type": "code",
   "execution_count": 354,
   "metadata": {
    "scrolled": true
   },
   "outputs": [
    {
     "data": {
      "text/plain": [
       "GraphNet(\n",
       "  (fr1): Linear(in_features=32, out_features=50, bias=True)\n",
       "  (fr2): Linear(in_features=50, out_features=25, bias=True)\n",
       "  (fr3): Linear(in_features=25, out_features=14, bias=True)\n",
       "  (fo1): Linear(in_features=30, out_features=50, bias=True)\n",
       "  (fo2): Linear(in_features=50, out_features=25, bias=True)\n",
       "  (fo3): Linear(in_features=25, out_features=12, bias=True)\n",
       "  (fc1): Linear(in_features=12, out_features=50, bias=True)\n",
       "  (fc2): Linear(in_features=50, out_features=25, bias=True)\n",
       "  (fc3): Linear(in_features=25, out_features=5, bias=True)\n",
       ")"
      ]
     },
     "execution_count": 354,
     "metadata": {},
     "output_type": "execute_result"
    }
   ],
   "source": [
    "mymodel = GraphNet(nParticles, len(labels), params, int(x[0]), int(x[1]), int(x[2]),\n",
    "                   int(x[3]),  int(x[4]),  int(x[5]), int(x[6]), 0)\n",
    "mymodel.load_state_dict(torch.load(\"../models/IN_150_withSumO.params\", map_location='cpu'))\n",
    "mymodel.eval()"
   ]
  },
  {
   "cell_type": "code",
   "execution_count": 378,
   "metadata": {},
   "outputs": [],
   "source": [
    "# HLF  in classifier\n",
    "myHLFlist = [12, 34, 35, 36, 37, 38, 39, 40, 42, 43, 44, 45, 46, 48, 52]\n",
    "namesY = ['zlogz', 'c1_b0_mmdt', 'c1_b1_mmdt', 'c1_b2_mmdt', 'c2_b1_mmdt', 'c2_b2_mmdt', \n",
    "          'd2_b1_mmdt', 'd2_b2_mmdt','d2_a1_b2_mmdt', 'm2_b1_mmdt', \n",
    "          'm2_b2_mmdt', 'n2_b1_mmdt', 'n2_b2_mmdt', 'mass_mmdt', 'multiplicity']\n",
    "labelsY = ['$\\Sigma zlog(z)$', '$C_{1}^{0}$', '$C_{1}^{1}$', '$C_{1}^{2}$',\n",
    "          '$C_{2}^{1}$', '$C_{2}^{2}$',\n",
    "         '$D_{2}^{1}$','$D_{2}^{2}$',\n",
    "          '$D_{2}^{(1,2)}$', \n",
    "         '$M_{2}^{1}$', '$M_{2}^{2}$',\n",
    "         '$N_{2}^{1}$', '$N_{2}^{2}$', 'jet $m_{mMDT}$', 'Multiplicity']"
   ]
  },
  {
   "cell_type": "code",
   "execution_count": 356,
   "metadata": {},
   "outputs": [],
   "source": [
    "# other HLF: all\n",
    "myHLFlist = [4,26,7,29,\n",
    "             5,27,8,30,\n",
    "             6,28,9,31]\n",
    "namesY = ['j_tau1_b1', 'j_tau1_b1_mmdt','j_tau1_b2',  'j_tau1_b2_mmdt', \n",
    "          'j_tau2_b1', 'j_tau2_b1_mmdt','j_tau2_b2',  'j_tau2_b2_mmdt', \n",
    "          'j_tau3_b1', 'j_tau3_b1_mmdt','j_tau3_b2',  'j_tau3_b2_mmdt']\n",
    "labelsY = ['$\\\\tau_1^1$','$\\\\tau_1^{1,mmdt}$','$\\\\tau_1^2$','$\\\\tau_1^{2,mmdt}$',\n",
    "           '$\\\\tau_2^1$','$\\\\tau_2^{1,mmdt}$','$\\\\tau_2^2$','$\\\\tau_2^{2,mmdt}$',\n",
    "           '$\\\\tau_3^1$','$\\\\tau_3^{1,mmdt}$','$\\\\tau_3^2$','$\\\\tau_3^{2,mmdt}$']"
   ]
  },
  {
   "cell_type": "code",
   "execution_count": 373,
   "metadata": {},
   "outputs": [],
   "source": [
    "# other HLF: w/o mmdt \n",
    "myHLFlist = [4,7,\n",
    "             5,8,\n",
    "             6,9]\n",
    "namesY = ['j_tau1_b1', 'j_tau1_b2',  \n",
    "          'j_tau2_b1', 'j_tau2_b2', \n",
    "          'j_tau3_b1', 'j_tau3_b2']\n",
    "labelsY = ['$\\\\tau_1^1$','$\\\\tau_1^2$',\n",
    "           '$\\\\tau_2^1$','$\\\\tau_2^2$',\n",
    "           '$\\\\tau_3^1$','$\\\\tau_3^2$']"
   ]
  },
  {
   "cell_type": "code",
   "execution_count": 358,
   "metadata": {},
   "outputs": [],
   "source": [
    "# other HLF: with mmdt \n",
    "myHLFlist = [26,29,\n",
    "             27,30,\n",
    "             28,31]\n",
    "namesY = ['j_tau1_b1_mmdt', 'j_tau1_b2_mmdt',  \n",
    "          'j_tau2_b1_mmdt', 'j_tau2_b2_mmdt', \n",
    "          'j_tau3_b1_mmdt', 'j_tau3_b2_mmdt']\n",
    "labelsY = ['$\\\\tau_1^{1,mmdt}$','$\\\\tau_1^{2,mmdt}$',\n",
    "           '$\\\\tau_2^{1,mmdt}$','$\\\\tau_2^{2,mmdt}$',\n",
    "           '$\\\\tau_3^{1,mmdt}$','$\\\\tau_3^{2,mmdt}$']"
   ]
  },
  {
   "cell_type": "code",
   "execution_count": 359,
   "metadata": {},
   "outputs": [
    {
     "name": "stdout",
     "output_type": "stream",
     "text": [
      "(10000, 150, 16) (10000, 5) (10000, 59)\n",
      "(20000, 150, 16) (20000, 5) (20000, 59)\n"
     ]
    }
   ],
   "source": [
    "#read datasets\n",
    "X = np.array([])                                                                                                                                      \n",
    "Y = np.array([]) \n",
    "Y_hlf = np.array([]) \n",
    "for fileIN in inputValFiles:\n",
    "    if X.shape[0] >10000: continue\n",
    "    f = h5py.File(fileIN, 'r')                                                                                                                        \n",
    "    myFeatures = np.array(f.get('jetConstituentList'))                                                                                                \n",
    "    myTarget = np.array(f.get('jets')[0:,-6:-1])\n",
    "    myHLF = np.array(f.get('jets'))\n",
    "    X = np.concatenate([X,myFeatures], axis = 0) if X.size else myFeatures                                                                            \n",
    "    Y = np.concatenate([Y,myTarget], axis = 0) if Y.size else myTarget                                                                                \n",
    "    Y_hlf = np.concatenate([Y_hlf,myHLF], axis = 0) if Y_hlf.size else myHLF                                                                                \n",
    "    print(X.shape, Y.shape, Y_hlf.shape)"
   ]
  },
  {
   "cell_type": "code",
   "execution_count": 360,
   "metadata": {},
   "outputs": [],
   "source": [
    "# pre-processing                                                                                                                                \n",
    "X, Y, Y_hlf = shuffle(X, Y, Y_hlf, random_state=1)\n",
    "X = np.swapaxes(X, 1, 2)\n",
    "#Y = np.argmax(Y, axis=1)\n",
    "X = torch.FloatTensor(X)\n",
    "Y = torch.FloatTensor(Y)\n",
    "Y_hlf = torch.FloatTensor(Y_hlf)"
   ]
  },
  {
   "cell_type": "code",
   "execution_count": 361,
   "metadata": {},
   "outputs": [],
   "source": [
    "# extract the O matrix and the category output [TBF]\n",
    "predict_test = []\n",
    "lst = []\n",
    "Otot = []\n",
    "for j in torch.split(X, batch_size):\n",
    "    a, myO = mymodel(j)\n",
    "    a = a.cpu().data.numpy()\n",
    "    myO = myO.cpu().data.numpy()\n",
    "    # sum over particles\n",
    "    lst.append(a)\n",
    "    Otot.append(myO)\n",
    "    \n",
    "predicted = Variable(torch.FloatTensor(np.concatenate(lst)))\n",
    "predicted = torch.nn.functional.softmax(predicted, dim=1)\n",
    "predict_test = predicted.data.numpy()\n",
    "\n",
    "O_predicted = Variable(torch.FloatTensor(np.concatenate(Otot)))\n",
    "O_predicted_test = O_predicted.data.numpy()"
   ]
  },
  {
   "cell_type": "code",
   "execution_count": 362,
   "metadata": {},
   "outputs": [
    {
     "name": "stdout",
     "output_type": "stream",
     "text": [
      "torch.Size([20000, 12])\n"
     ]
    }
   ],
   "source": [
    "print(O_predicted.shape)"
   ]
  },
  {
   "cell_type": "code",
   "execution_count": 363,
   "metadata": {},
   "outputs": [
    {
     "name": "stderr",
     "output_type": "stream",
     "text": [
      "No handles with labels found to put in legend.\n"
     ]
    },
    {
     "name": "stdout",
     "output_type": "stream",
     "text": [
      "j_g tagger, auc = 95.3%\n",
      "j_q tagger, auc = 92.5%\n",
      "j_w tagger, auc = 97.0%\n",
      "j_z tagger, auc = 96.3%\n",
      "j_t tagger, auc = 97.0%\n"
     ]
    },
    {
     "data": {
      "image/png": "[encoded data removed]",
      "text/plain": [
       "<Figure size 432x288 with 1 Axes>"
      ]
     },
     "metadata": {
      "needs_background": "light"
     },
     "output_type": "display_data"
    }
   ],
   "source": [
    "# ROC CURVE\n",
    "import pandas as pd\n",
    "from sklearn.metrics import roc_curve, auc\n",
    "df = pd.DataFrame()\n",
    "fpr = {}\n",
    "tpr = {}\n",
    "auc1 = {}\n",
    "plt.figure()\n",
    "for i, label in enumerate(labels):\n",
    "        df[label] = Y[:,i]\n",
    "        df[label + '_pred'] = predict_test[:,i]\n",
    "\n",
    "        fpr[label], tpr[label], threshold = roc_curve(df[label],df[label+'_pred'])\n",
    "\n",
    "        auc1[label] = auc(fpr[label], tpr[label])\n",
    "        print('%s tagger, auc = %.1f%%' %(label,auc1[label]*100.))\n",
    "        #plt.plot(tpr[label],fpr[label],label='%s tagger, auc = %.1f%%' %(label,auc1[label]*100.))\n",
    "        plt.plot(tpr[label],fpr[label])\n",
    "plt.semilogy()\n",
    "plt.xlabel(\"sig. efficiency\")\n",
    "plt.ylabel(\"bkg. mistag rate\")\n",
    "plt.ylim(0.000001,1)\n",
    "plt.grid(True)\n",
    "plt.legend(loc='upper left')\n",
    "#plt.savefig('%s/ROC.pdf'%(options.outputDir))\n",
    "plt.show()"
   ]
  },
  {
   "cell_type": "code",
   "execution_count": 364,
   "metadata": {},
   "outputs": [
    {
     "name": "stdout",
     "output_type": "stream",
     "text": [
      "(20000, 12)\n",
      "torch.Size([20000, 59])\n"
     ]
    }
   ],
   "source": [
    "print(O_predicted_test.shape)\n",
    "print(Y_hlf.shape)"
   ]
  },
  {
   "cell_type": "code",
   "execution_count": 365,
   "metadata": {},
   "outputs": [],
   "source": [
    "k = 0"
   ]
  },
  {
   "cell_type": "code",
   "execution_count": 366,
   "metadata": {
    "scrolled": true
   },
   "outputs": [
    {
     "name": "stdout",
     "output_type": "stream",
     "text": [
      "0.6404726739872605\n",
      "0.6106519135703451\n",
      "0.5349253218887217\n",
      "0.465638967707316\n",
      "0.5400694456958292\n",
      "0.4919717619380766\n",
      "0.46535435624827437\n",
      "0.3955159257950561\n",
      "0.5760465239755527\n",
      "0.5032130900715626\n",
      "0.5921489670767693\n",
      "0.5221388567479273\n",
      "0.06176414493079732\n",
      "0.0061901584165465155\n",
      "0.29798240521245933\n",
      "0.1942900191626232\n",
      "0.3443814537354387\n",
      "0.22633234257616977\n",
      "-0.2507828145765659\n",
      "-0.25464053112134005\n",
      "-0.1496796585038201\n",
      "-0.17624954398205683\n",
      "-0.13589056767505708\n",
      "-0.17385880645667082\n",
      "0.9273643227039541\n",
      "0.9458598067574961\n",
      "0.7132621392510397\n",
      "0.7002947367595537\n",
      "0.7040194524200841\n",
      "0.7237565213409052\n",
      "0.6087961188331998\n",
      "0.6579490102517527\n",
      "0.654018527256138\n",
      "0.6955649265296772\n",
      "0.640553935744841\n",
      "0.7009446910445903\n",
      "0.8808428863987501\n",
      "0.9123472133074699\n",
      "0.7176854002217704\n",
      "0.6981823091110849\n",
      "0.730617101932335\n",
      "0.7485570460303452\n",
      "-0.375726110656303\n",
      "-0.47421751858240896\n",
      "-0.19432088125929634\n",
      "-0.319393308842839\n",
      "-0.14658277124325214\n",
      "-0.3066108496013177\n",
      "0.8253875874781702\n",
      "0.8834173822756154\n",
      "0.7647881892594454\n",
      "0.7845157430747371\n",
      "0.7658198188554675\n",
      "0.8164942878278877\n",
      "0.7231838253386611\n",
      "0.7872651360611699\n",
      "0.7275952732154949\n",
      "0.7723564694520072\n",
      "0.700842305769913\n",
      "0.7569956594623587\n",
      "0.855260454096627\n",
      "0.9338038208060359\n",
      "0.6802508627298068\n",
      "0.7039552760923369\n",
      "0.6794465002855302\n",
      "0.7389309954604663\n",
      "-0.29387178907036965\n",
      "-0.30063420352080833\n",
      "-0.2793061391600572\n",
      "-0.27636023813521027\n",
      "-0.2778390623256304\n",
      "-0.2906133876758528\n"
     ]
    },
    {
     "data": {
      "image/png": "[encoded data removed]",
      "text/plain": [
       "<Figure size 432x288 with 1 Axes>"
      ]
     },
     "metadata": {
      "needs_background": "light"
     },
     "output_type": "display_data"
    },
    {
     "data": {
      "image/png": "[encoded data removed]",
      "text/plain": [
       "<Figure size 576x864 with 2 Axes>"
      ]
     },
     "metadata": {
      "needs_background": "light"
     },
     "output_type": "display_data"
    }
   ],
   "source": [
    "nO = O_predicted_test.shape[1]\n",
    "myrho = np.zeros([nO,len(labelsY)])\n",
    "from matplotlib.colors import LogNorm\n",
    "for i in range(nO):\n",
    "    xlabel = \"$\\overline{O_{%i}}$\" %i\n",
    "    myO_predicted_test = O_predicted_test[:,i]/100.\n",
    "    for j in range(len(labelsY)):\n",
    "        mask = Y[:,k].data.numpy()\n",
    "        mask = mask >0\n",
    "        myY_hlf = Y_hlf.data.numpy()[:,myHLFlist[j]]\n",
    "        ylabel = labelsY[j]\n",
    "        plt.hist2d(myO_predicted_test[mask], myY_hlf[mask], bins=30, norm=LogNorm())\n",
    "        plt.xlabel(xlabel, fontsize=15)\n",
    "        plt.ylabel(ylabel, fontsize=15)\n",
    "        plt.rc('text', usetex=True)\n",
    "        plt.rc('font', family='serif')\n",
    "        rho = np.corrcoef(myO_predicted_test[mask], myY_hlf[mask])\n",
    "        print(rho[0,1])\n",
    "        myrho[i,j] = rho[0,1]\n",
    "        plt.title('%s ($rho = %2.f$)' %(classes[k],rho[0,1]))\n",
    "        #plt.show()\n",
    "        plt.draw()\n",
    "        plt.savefig('O%i_%s_%s.png' %(i, namesY[j],classes[k]), dpi=250)\n",
    "    \n",
    "# drow correlation plot\n",
    "fig, ax = plt.subplots(figsize=(8, 2*len(labelsY)))\n",
    "\n",
    "#fig.figure(figsize=(8, 2nO))\n",
    "#im = ax.imshow(myrho, origin='lower',norm=LogNorm(vmin=0.01), cmap='Blues')\n",
    "im = ax.imshow(myrho, origin='lower', cmap='bwr', vmin=-1, vmax=1)\n",
    "\n",
    "# We want to show all ticks...\n",
    "ax.set_xticks(np.arange(len(labelsY)))\n",
    "ax.set_yticks(np.arange(nO))\n",
    "# ... and label them with the respective list entries\n",
    "labelsO = []\n",
    "for i in range(nO):\n",
    "    labelsO.append(\"$\\overline{O}_{%i}$\" %i)\n",
    "ax.set_yticklabels(labelsO, fontsize=15)\n",
    "ax.set_xticklabels(labelsY, fontsize=15)\n",
    "\n",
    "# Rotate the tick labels and set their alignment.\n",
    "plt.setp(ax.get_xticklabels(), rotation=45, ha=\"right\", rotation_mode=\"anchor\")\n",
    "    \n",
    "# Loop over data dimensions and create text annotations.\n",
    "for i in range(nO):\n",
    "    for j in range(len(labelsY)):\n",
    "        text = plt.text(j, i, \"%.2f\" %myrho[i, j], ha=\"center\", va=\"center\", color=\"black\")\n",
    "        \n",
    "# Create colorbar\n",
    "from mpl_toolkits.axes_grid1 import make_axes_locatable\n",
    "# create an axes on the right side of ax. The width of cax will be 5%\n",
    "# of ax and the padding between cax and ax will be fixed at 0.05 inch.\n",
    "divider = make_axes_locatable(ax)\n",
    "cax = divider.append_axes(\"right\", size=\"5%\", pad=0.05)\n",
    "\n",
    "#cbar = ax.figure.colorbar(im, ax=ax, cmap=\"binary\")\n",
    "cbar = ax.figure.colorbar(im, cax=cax, cmap='Blues')\n",
    "cbar.ax.set_ylabel(\"Linear correlation coeff.\", rotation=-90, va=\"bottom\", fontsize=15)\n",
    "plt.title('%s' %classes[k])\n",
    "plt.draw()\n",
    "plt.savefig('rho_%s.png' %(classes[k]), dpi=250)"
   ]
  },
  {
   "cell_type": "code",
   "execution_count": 392,
   "metadata": {},
   "outputs": [
    {
     "name": "stdout",
     "output_type": "stream",
     "text": [
      "0.7555096715002093\n",
      "0.7848467463860321\n",
      "0.7263151515694309\n",
      "0.7193575453296328\n",
      "0.6930583599813924\n"
     ]
    }
   ],
   "source": [
    "i_O = 1\n",
    "i_Tau = -1\n",
    "ylabel = labelsY[i_Tau]\n",
    "for iClass in range(5):\n",
    "    mask = Y[:,iClass].data.numpy()\n",
    "    mask = mask >0\n",
    "    # make 2D plot\n",
    "    xlabel = \"$\\overline{O_{%i}}$\" %i_O\n",
    "    myO_predicted_test = O_predicted_test[:,i_O]/100.\n",
    "    myY_hlf = Y_hlf.data.numpy()[:,myHLFlist[i_Tau]]\n",
    "    rho = np.corrcoef(myO_predicted_test[mask], myY_hlf[mask])\n",
    "    print(rho[0,1])\n",
    "    plt.figure(figsize=(7, 7))\n",
    "    plt.hist2d(myO_predicted_test[mask], myY_hlf[mask], bins=30, norm=LogNorm())\n",
    "    plt.xlabel(xlabel, fontsize=20)\n",
    "    plt.ylabel(ylabel, fontsize=20)\n",
    "    plt.title(\"%s ($\\\\rho = %.2f$)\" %(classes[iClass], rho[0,1]), fontsize=15)\n",
    "    plt.rc('text', usetex=True)\n",
    "    plt.rc('font', family='serif')\n",
    "    myrho[i,j] = rho[0,1]\n",
    "    #plt.legend(xlabel, '$rho_{corr} = %f$' %rho[1,1])\n",
    "    #plt.show()\n",
    "    plt.draw()\n",
    "    plt.savefig('O%i_corr_%s.pdf' %(i_O, classes[iClass]), dpi=500)\n",
    "    plt.close()"
   ]
  },
  {
   "cell_type": "code",
   "execution_count": null,
   "metadata": {},
   "outputs": [],
   "source": []
  },
  {
   "cell_type": "code",
   "execution_count": null,
   "metadata": {},
   "outputs": [],
   "source": []
  }
 ],
 "metadata": {
  "kernelspec": {
   "display_name": "Python 3",
   "language": "python",
   "name": "python3"
  },
  "language_info": {
   "codemirror_mode": {
    "name": "ipython",
    "version": 3
   },
   "file_extension": ".py",
   "mimetype": "text/x-python",
   "name": "python",
   "nbconvert_exporter": "python",
   "pygments_lexer": "ipython3",
   "version": "3.7.3"
  }
 },
 "nbformat": 4,
 "nbformat_minor": 2
}
