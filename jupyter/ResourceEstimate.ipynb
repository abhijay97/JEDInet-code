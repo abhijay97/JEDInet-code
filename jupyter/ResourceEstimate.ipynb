{
 "cells": [
  {
   "cell_type": "markdown",
   "metadata": {},
   "source": [
    "# Script to count Floops in a tensorflow model"
   ]
  },
  {
   "cell_type": "code",
   "execution_count": 1,
   "metadata": {
    "ExecuteTime": {
     "end_time": "2019-07-22T19:59:48.330693Z",
     "start_time": "2019-07-22T19:59:45.766284Z"
    }
   },
   "outputs": [],
   "source": [
    "import os\n",
    "import tensorflow as tf\n",
    "import numpy as np\n",
    "def load_graph(frozen_graph_filename):\n",
    "\n",
    "    # We load the protobuf file from the disk and parse it to retrieve the unserialized graph_def\n",
    "    with tf.gfile.GFile(frozen_graph_filename, \"rb\") as f:\n",
    "        graph_def = tf.GraphDef()\n",
    "        graph_def.ParseFromString(f.read())\n",
    "    # Then, we import the graph_def into a new Graph and returns it\n",
    "    with tf.Graph().as_default() as graph:\n",
    "    # The name var will prefix every op/nodes in your graph\n",
    "    # Since we load everything in a new graph, this is not needed\n",
    "        tf.import_graph_def(graph_def, name=\"\")\n",
    "    return graph, graph_def"
   ]
  },
  {
   "cell_type": "code",
   "execution_count": 2,
   "metadata": {
    "ExecuteTime": {
     "end_time": "2019-07-22T19:59:48.340997Z",
     "start_time": "2019-07-22T19:59:48.332508Z"
    }
   },
   "outputs": [],
   "source": [
    "from tensorflow import keras\n",
    "# keras imports\n",
    "from tensorflow.keras.models import Model, Sequential\n",
    "from tensorflow.keras.layers import Dense, Input, Conv2D, Dropout, Flatten\n",
    "from tensorflow.keras.layers import Concatenate, BatchNormalization, Activation\n",
    "from tensorflow.keras.layers import MaxPooling2D, MaxPooling3D, GRU\n",
    "from tensorflow.keras.utils import plot_model\n",
    "from tensorflow.keras import regularizers\n",
    "from tensorflow.keras import backend as K\n",
    "from tensorflow.keras import metrics\n",
    "from tensorflow.keras.callbacks import EarlyStopping, ReduceLROnPlateau, TerminateOnNaN\n",
    "from tensorflow.keras.regularizers import l1"
   ]
  },
  {
   "cell_type": "markdown",
   "metadata": {},
   "source": [
    "## Define all the utilities"
   ]
  },
  {
   "cell_type": "code",
   "execution_count": 3,
   "metadata": {
    "ExecuteTime": {
     "end_time": "2019-07-22T19:59:48.345033Z",
     "start_time": "2019-07-22T19:59:48.342795Z"
    }
   },
   "outputs": [],
   "source": [
    "from tensorflow.python.framework import graph_util"
   ]
  },
  {
   "cell_type": "code",
   "execution_count": 4,
   "metadata": {
    "ExecuteTime": {
     "end_time": "2019-07-22T19:59:48.362321Z",
     "start_time": "2019-07-22T19:59:48.346760Z"
    }
   },
   "outputs": [],
   "source": [
    "keras.backend.set_learning_phase(0)"
   ]
  },
  {
   "cell_type": "code",
   "execution_count": 5,
   "metadata": {
    "ExecuteTime": {
     "end_time": "2019-07-22T19:59:48.367691Z",
     "start_time": "2019-07-22T19:59:48.363859Z"
    }
   },
   "outputs": [],
   "source": [
    "def load_graph(frozen_graph_filename):\n",
    "\n",
    "    # We load the protobuf file from the disk and parse it to retrieve the unserialized graph_def\n",
    "    with tf.gfile.GFile(frozen_graph_filename, \"rb\") as f:\n",
    "        graph_def = tf.GraphDef()\n",
    "        graph_def.ParseFromString(f.read())\n",
    "\n",
    "    # Then, we import the graph_def into a new Graph and returns it\n",
    "    with tf.Graph().as_default() as graph:\n",
    "        # The name var will prefix every op/nodes in your graph\n",
    "        # Since we load everything in a new graph, this is not needed\n",
    "        tf.import_graph_def(graph_def, name=\"\")\n",
    "    return graph, graph_def"
   ]
  },
  {
   "cell_type": "code",
   "execution_count": 6,
   "metadata": {
    "ExecuteTime": {
     "end_time": "2019-07-22T19:59:48.372689Z",
     "start_time": "2019-07-22T19:59:48.369238Z"
    }
   },
   "outputs": [],
   "source": [
    "def getFLOPS(model):\n",
    "    run_meta = tf.RunMetadata()\n",
    "    opts = tf.profiler.ProfileOptionBuilder.float_operation()\n",
    "\n",
    "    # We use the Keras session graph in the call to the profiler.\n",
    "    flops = tf.profiler.profile(graph=K.get_session().graph,\n",
    "                                run_meta=run_meta, cmd='op', options=opts)\n",
    "\n",
    "    print(flops.total_float_ops)  # Prints the \"flops\" of the model."
   ]
  },
  {
   "cell_type": "markdown",
   "metadata": {},
   "source": [
    "# DNN"
   ]
  },
  {
   "cell_type": "code",
   "execution_count": 7,
   "metadata": {
    "ExecuteTime": {
     "end_time": "2019-07-22T19:59:48.376594Z",
     "start_time": "2019-07-22T19:59:48.374256Z"
    },
    "code_folding": []
   },
   "outputs": [],
   "source": [
    "# # best model from optimization\n",
    "# DNN_neurons = 80\n",
    "# DNN_layers = 3\n",
    "# DNN_activation = 'elu'\n",
    "# dropout = 0.10\n",
    "# batch_size = 50\n",
    "# n_epochs = 500\n",
    "# labels = ['j_g', 'j_q', 'j_w', 'j_z', 'j_t']\n",
    "\n",
    "# # #  model\n",
    "# def myModel():\n",
    "#     inputArray = Input(shape=(input_shape,))\n",
    "#     x = Dense(DNN_neurons, activation=DNN_activation, \n",
    "#               kernel_initializer='lecun_uniform', name='dense_0')(inputArray)\n",
    "#     x = Dropout(dropout)(x)\n",
    "#     ####\n",
    "#     for i in range(1,DNN_layers):\n",
    "#         x = Dense(DNN_neurons, activation=DNN_activation, \n",
    "#                   kernel_initializer='lecun_uniform', name='dense_%i' %i)(x)\n",
    "#         x = Dropout(dropout)(x)\n",
    "\n",
    "#     output = Dense(5, activation='softmax', kernel_initializer='lecun_uniform', \n",
    "#                    name = 'output_softmax')(x)\n",
    "#     ####\n",
    "#     model = Model(inputs=inputArray, outputs=output)\n",
    "#     model.compile(optimizer='adam', loss='categorical_crossentropy', metrics=['acc'])\n",
    "#     return model"
   ]
  },
  {
   "cell_type": "code",
   "execution_count": 8,
   "metadata": {
    "ExecuteTime": {
     "end_time": "2019-07-22T19:59:48.381020Z",
     "start_time": "2019-07-22T19:59:48.379325Z"
    }
   },
   "outputs": [],
   "source": [
    "# input_shape = len([12, 34, 35, 36, 37, 38, 39, 40, 41, 42, 43, 44, 45, 46, 48, 52])\n",
    "# thisModel = myModel()\n",
    "# thisModel.summary()"
   ]
  },
  {
   "cell_type": "code",
   "execution_count": 9,
   "metadata": {
    "ExecuteTime": {
     "end_time": "2019-07-22T19:59:48.384683Z",
     "start_time": "2019-07-22T19:59:48.382926Z"
    }
   },
   "outputs": [],
   "source": [
    "# thisModel = myModel()\n",
    "# thisModel.compile(loss='MSE', optimizer='Adam')\n",
    "\n",
    "# getFLOPS(thisModel)"
   ]
  },
  {
   "cell_type": "code",
   "execution_count": 10,
   "metadata": {
    "ExecuteTime": {
     "end_time": "2019-07-22T19:59:48.388425Z",
     "start_time": "2019-07-22T19:59:48.386205Z"
    },
    "code_folding": [],
    "scrolled": true
   },
   "outputs": [],
   "source": [
    "# keras.backend.set_learning_phase(0)\n",
    "# tfsession = keras.backend.get_session()\n",
    "\n",
    "# constant_graph = graph_util.convert_variables_to_constants(tfsession, \n",
    "#                                                            tfsession.graph.as_graph_def(),\n",
    "#                                                            ['output_softmax/Softmax'])\n",
    "\n",
    "# f = 'constantgraph.pb'\n",
    "# tf.train.write_graph(constant_graph, './', f, as_text=False)\n",
    "\n",
    "# graph, graph_def = load_graph('constantgraph.pb')\n",
    "\n",
    "# ins = graph.get_tensor_by_name('input_1:0')\n",
    "# ins_ones = np.ones([1, 16])\n",
    "\n",
    "# pred = graph.get_tensor_by_name('output_softmax/Softmax:0')\n",
    "# sess = tf.Session(graph=graph)\n",
    "# run_metadata = tf.RunMetadata()\n",
    "# op = sess.graph.get_operations()\n",
    "# print([m.values() for m in op])\n",
    "# with graph.as_default():\n",
    "#     sess.run(tf.global_variables_initializer())\n",
    "#     result = sess.run(pred, \n",
    "#                       feed_dict={ins:ins_ones}, \n",
    "#                       options=tf.RunOptions(trace_level=tf.RunOptions.FULL_TRACE),\n",
    "#                       run_metadata=run_metadata)\n",
    "#     flops = tf.profiler.profile(graph, \n",
    "#                                 options = tf.profiler.ProfileOptionBuilder.float_operation(),\n",
    "#                                 run_meta=run_metadata)\n",
    "#     print('FLOP after freezing', flops.total_float_ops)"
   ]
  },
  {
   "cell_type": "markdown",
   "metadata": {},
   "source": [
    "# CNN"
   ]
  },
  {
   "cell_type": "code",
   "execution_count": 11,
   "metadata": {
    "ExecuteTime": {
     "end_time": "2019-07-22T19:59:48.391837Z",
     "start_time": "2019-07-22T19:59:48.389913Z"
    },
    "code_folding": [
     0
    ]
   },
   "outputs": [],
   "source": [
    "# CNN_filters = 10\n",
    "# CNN_filter_size = 3\n",
    "# CNN_MaxPool_size = 5\n",
    "# CNN_layers = 1\n",
    "# CNN_activation = 'elu'\n",
    "# DNN_neurons = 50\n",
    "# DNN_layers = 3\n",
    "# DNN_activation = 'elu'\n",
    "# dropout = 0.1\n",
    "# batch_size = 500\n",
    "# n_epochs = 500\n",
    "# labels = ['j_g', 'j_q', 'j_w', 'j_z', 'j_t']\n",
    "# nParticles = 50"
   ]
  },
  {
   "cell_type": "code",
   "execution_count": 12,
   "metadata": {
    "ExecuteTime": {
     "end_time": "2019-07-22T19:59:48.395734Z",
     "start_time": "2019-07-22T19:59:48.393361Z"
    },
    "code_folding": [
     0
    ]
   },
   "outputs": [],
   "source": [
    "# #  model\n",
    "# def myModel():\n",
    "#     inputImage = Input(shape=(image_shape))\n",
    "#     x = Conv2D(CNN_filters, kernel_size=(CNN_filter_size,CNN_filter_size), \n",
    "#                data_format=\"channels_last\", strides=(1, 1), padding=\"same\", input_shape=image_shape,\n",
    "#                kernel_initializer='lecun_uniform', name='cnn2D_0')(inputImage)\n",
    "#     x = BatchNormalization()(x)\n",
    "#     x = Activation(CNN_activation)(x)\n",
    "#     x = MaxPooling2D( pool_size = (CNN_MaxPool_size,CNN_MaxPool_size))(x)\n",
    "#     x = Dropout(dropout)(x)\n",
    "#     for i in range(1,CNN_layers):\n",
    "#         x = Conv2D(CNN_filters, kernel_size=(CNN_filter_size,CNN_filter_size), \n",
    "#                    data_format=\"channels_last\", strides=(1, 1), padding=\"same\", input_shape=image_shape,\n",
    "#                    kernel_initializer='lecun_uniform', name='cnn2D_%i' %i)(x)\n",
    "#         x = BatchNormalization()(x)\n",
    "#         x = Activation(CNN_activation)(x)\n",
    "#         #x = MaxPooling2D( pool_size = (CNN_MaxPool_size,CNN_MaxPool_size))(x)\n",
    "#         x = Dropout(dropout)(x)\n",
    "        \n",
    "#     ####\n",
    "#     x = Flatten()(x)\n",
    "#     #\n",
    "#     for i in range(DNN_layers):\n",
    "#         x = Dense(DNN_neurons, activation=DNN_activation, \n",
    "#                   kernel_initializer='lecun_uniform', name='dense_%i' %i)(x)\n",
    "#         x = Dropout(dropout)(x)\n",
    "#     #\n",
    "#     output = Dense(5, activation='softmax', kernel_initializer='lecun_uniform', \n",
    "#                    name = 'output_softmax')(x)\n",
    "#     ####\n",
    "#     model = Model(inputs=inputImage, outputs=output)\n",
    "#     model.compile(optimizer='adam', loss='categorical_crossentropy', metrics=['acc'])\n",
    "\n",
    "#     return model"
   ]
  },
  {
   "cell_type": "code",
   "execution_count": 13,
   "metadata": {
    "ExecuteTime": {
     "end_time": "2019-07-22T19:59:48.398969Z",
     "start_time": "2019-07-22T19:59:48.397246Z"
    },
    "code_folding": [
     0
    ]
   },
   "outputs": [],
   "source": [
    "# img_rows = 100#X.shape[1]\n",
    "# img_cols = 100#X.shape[2]\n",
    "# image_shape = (img_rows, img_cols, 1)"
   ]
  },
  {
   "cell_type": "code",
   "execution_count": 14,
   "metadata": {
    "ExecuteTime": {
     "end_time": "2019-07-22T19:59:48.402188Z",
     "start_time": "2019-07-22T19:59:48.400486Z"
    }
   },
   "outputs": [],
   "source": [
    "# thisModel = myModel()\n",
    "# thisModel.summary()"
   ]
  },
  {
   "cell_type": "code",
   "execution_count": 15,
   "metadata": {
    "ExecuteTime": {
     "end_time": "2019-07-22T19:59:48.406045Z",
     "start_time": "2019-07-22T19:59:48.403720Z"
    },
    "code_folding": []
   },
   "outputs": [],
   "source": [
    "# keras.backend.set_learning_phase(0)\n",
    "# tfsession = keras.backend.get_session()\n",
    "\n",
    "# constant_graph = graph_util.convert_variables_to_constants(tfsession, \n",
    "#                                                            tfsession.graph.as_graph_def(),\n",
    "#                                                            ['output_softmax/Softmax'])\n",
    "\n",
    "# f = 'constantgraph.pb'\n",
    "# tf.train.write_graph(constant_graph, './', f, as_text=False)\n",
    "\n",
    "# graph, graph_def = load_graph('constantgraph.pb')\n",
    "\n",
    "# ins = graph.get_tensor_by_name('input_1:0')\n",
    "# ins_ones = np.ones([1, 100, 100, 1])\n",
    "\n",
    "# # batchnorm = graph.get_tensor_by_name('batch_normalization/keras_learning_phase:0')\n",
    "\n",
    "# pred = graph.get_tensor_by_name('output_softmax/Softmax:0')\n",
    "# sess = tf.Session(graph=graph)\n",
    "# run_metadata = tf.RunMetadata()\n",
    "# op = sess.graph.get_operations()\n",
    "# print([m.values() for m in op])\n",
    "# with graph.as_default():\n",
    "#     sess.run(tf.global_variables_initializer())\n",
    "#     result = sess.run(pred, \n",
    "#                       feed_dict={ins:ins_ones}, \n",
    "#                       options=tf.RunOptions(trace_level=tf.RunOptions.FULL_TRACE),\n",
    "#                       run_metadata=run_metadata)\n",
    "#     flops = tf.profiler.profile(graph, \n",
    "#                                 options = tf.profiler.ProfileOptionBuilder.float_operation(),\n",
    "#                                 run_meta=run_metadata)\n",
    "#     print('FLOP after freezing', flops.total_float_ops)\n",
    "    \n",
    "# raise"
   ]
  },
  {
   "cell_type": "markdown",
   "metadata": {},
   "source": [
    "# GRU"
   ]
  },
  {
   "cell_type": "code",
   "execution_count": 16,
   "metadata": {
    "ExecuteTime": {
     "end_time": "2019-07-22T19:59:48.409408Z",
     "start_time": "2019-07-22T19:59:48.407473Z"
    }
   },
   "outputs": [],
   "source": [
    "# nParticles = 50\n",
    "# GRU_units= 50\n",
    "# DNN_neurons = 40\n",
    "# DNN_layers = 3\n",
    "# DNN_activation = 'relu'\n",
    "# dropout = 0.22\n",
    "# batch_size = 500\n",
    "# n_epochs = 50\n",
    "# #n_epochs = 1\n",
    "# labels = ['j_g', 'j_q', 'j_w', 'j_z', 'j_t']\n",
    "# input_shape = (nParticles,16)"
   ]
  },
  {
   "cell_type": "code",
   "execution_count": 18,
   "metadata": {
    "ExecuteTime": {
     "end_time": "2019-07-22T20:00:26.840990Z",
     "start_time": "2019-07-22T20:00:26.837831Z"
    }
   },
   "outputs": [],
   "source": [
    "#  model\n",
    "# def myModel():\n",
    "#     inputArray = Input(shape=(input_shape))\n",
    "#     x = GRU(GRU_units, activation='tanh',\n",
    "#             recurrent_activation='hard_sigmoid', name='gru')(inputArray)\n",
    "#     x = Dropout(dropout)(x)\n",
    "#     ####\n",
    "#     for i in range(0,DNN_layers):\n",
    "#         x = Dense(DNN_neurons, activation=DNN_activation, \n",
    "#                   kernel_initializer='lecun_uniform', name='dense_%i' %i)(x)\n",
    "#         x = Dropout(dropout)(x)\n",
    "#     #\n",
    "#     output = Dense(5, activation='softmax', kernel_initializer='lecun_uniform', \n",
    "#                    name = 'output_softmax')(x)\n",
    "#     ####\n",
    "#     model = Model(inputs=inputArray, outputs=output)\n",
    "#     model.compile(optimizer='adam', loss='categorical_crossentropy', metrics=['acc'])\n",
    "#     return model"
   ]
  },
  {
   "cell_type": "code",
   "execution_count": 19,
   "metadata": {
    "ExecuteTime": {
     "end_time": "2019-07-22T20:00:27.549666Z",
     "start_time": "2019-07-22T20:00:27.547538Z"
    }
   },
   "outputs": [],
   "source": [
    "# thisModel = myModel()\n",
    "# thisModel.summary()\n",
    "\n",
    "# thisModel.compile(loss='MSE', optimizer='Adam')\n",
    "# thisModel.fit(x=np.ones([10, 50, 16]), y=np.ones([10, 5]))"
   ]
  },
  {
   "cell_type": "code",
   "execution_count": 20,
   "metadata": {
    "ExecuteTime": {
     "end_time": "2019-07-22T20:00:27.712983Z",
     "start_time": "2019-07-22T20:00:27.710815Z"
    }
   },
   "outputs": [],
   "source": [
    "# run_meta = tf.RunMetadata()\n",
    "# opts = tf.profiler.ProfileOptionBuilder.float_operation()\n",
    "\n",
    "# # We use the Keras session graph in the call to the profiler.\n",
    "# flops = tf.profiler.profile(graph=K.get_session().graph,\n",
    "#                             run_meta=run_meta, cmd='op', options=opts)\n",
    "\n",
    "# print(flops.total_float_ops)  # Prints the \"flops\" of the model."
   ]
  },
  {
   "cell_type": "markdown",
   "metadata": {},
   "source": [
    "# JEDI-net"
   ]
  },
  {
   "cell_type": "code",
   "execution_count": 21,
   "metadata": {
    "ExecuteTime": {
     "end_time": "2019-07-22T20:00:30.377832Z",
     "start_time": "2019-07-22T20:00:28.774596Z"
    }
   },
   "outputs": [
    {
     "name": "stderr",
     "output_type": "stream",
     "text": [
      "/nfshome/ocerri/miniconda2/envs/PartAN/lib/python3.7/site-packages/onnx_tf/common/__init__.py:87: UserWarning: onnx_tf.common.get_outputs_names is deprecated. It will be removed in future release. Use TensorflowGraph.get_outputs_names instead.\n",
      "  warnings.warn(message)\n",
      "WARNING: Logging before flag parsing goes to stderr.\n",
      "W0722 13:00:29.203435 139635486955328 deprecation_wrapper.py:119] From /nfshome/ocerri/miniconda2/envs/PartAN/lib/python3.7/site-packages/onnx_tf/handlers/backend/ceil.py:10: The name tf.ceil is deprecated. Please use tf.math.ceil instead.\n",
      "\n",
      "W0722 13:00:29.211855 139635486955328 deprecation_wrapper.py:119] From /nfshome/ocerri/miniconda2/envs/PartAN/lib/python3.7/site-packages/onnx_tf/handlers/backend/depth_to_space.py:12: The name tf.depth_to_space is deprecated. Please use tf.compat.v1.depth_to_space instead.\n",
      "\n",
      "W0722 13:00:29.215927 139635486955328 deprecation_wrapper.py:119] From /nfshome/ocerri/miniconda2/envs/PartAN/lib/python3.7/site-packages/onnx_tf/handlers/backend/erf.py:9: The name tf.erf is deprecated. Please use tf.math.erf instead.\n",
      "\n"
     ]
    },
    {
     "name": "stdout",
     "output_type": "stream",
     "text": [
      "1.5.0\n"
     ]
    },
    {
     "name": "stderr",
     "output_type": "stream",
     "text": [
      "W0722 13:00:30.328505 139635486955328 lazy_loader.py:50] \n",
      "The TensorFlow contrib module will not be included in TensorFlow 2.0.\n",
      "For more information, please see:\n",
      "  * https://github.com/tensorflow/community/blob/master/rfcs/20180907-contrib-sunset.md\n",
      "  * https://github.com/tensorflow/addons\n",
      "  * https://github.com/tensorflow/io (for I/O related ops)\n",
      "If you depend on functionality not listed there, please file an issue.\n",
      "\n",
      "W0722 13:00:30.332672 139635486955328 deprecation_wrapper.py:119] From /nfshome/ocerri/miniconda2/envs/PartAN/lib/python3.7/site-packages/onnx_tf/handlers/backend/is_nan.py:9: The name tf.is_nan is deprecated. Please use tf.math.is_nan instead.\n",
      "\n",
      "W0722 13:00:30.335104 139635486955328 deprecation_wrapper.py:119] From /nfshome/ocerri/miniconda2/envs/PartAN/lib/python3.7/site-packages/onnx_tf/handlers/backend/log.py:10: The name tf.log is deprecated. Please use tf.math.log instead.\n",
      "\n",
      "W0722 13:00:30.371943 139635486955328 deprecation_wrapper.py:119] From /nfshome/ocerri/miniconda2/envs/PartAN/lib/python3.7/site-packages/onnx_tf/handlers/backend/upsample.py:13: The name tf.image.resize_images is deprecated. Please use tf.image.resize instead.\n",
      "\n"
     ]
    }
   ],
   "source": [
    "import torch\n",
    "import torch.nn as nn\n",
    "from torch.autograd.variable import *\n",
    "import torch.optim as optim\n",
    "import itertools\n",
    "\n",
    "import onnx\n",
    "print(onnx.__version__)\n",
    "import onnx_tf\n",
    "from onnx_tf.backend import prepare\n",
    "# print(onnx_tf.__version__)"
   ]
  },
  {
   "cell_type": "code",
   "execution_count": 22,
   "metadata": {
    "ExecuteTime": {
     "end_time": "2019-07-22T20:00:30.412400Z",
     "start_time": "2019-07-22T20:00:30.379949Z"
    },
    "code_folding": [
     0
    ]
   },
   "outputs": [],
   "source": [
    "class GraphNet(nn.Module):\n",
    "    def __init__(self, n_constituents, n_targets, params, hidden, De, Do, \n",
    "                 fr_activation=0, fo_activation=0, fc_activation=0, optimizer = 0, verbose = False):\n",
    "        super(GraphNet, self).__init__()\n",
    "        self.hidden = hidden\n",
    "        self.P = len(params)\n",
    "        self.N = n_constituents\n",
    "        print(self.P, self.N)\n",
    "        self.Nr = self.N * (self.N - 1)\n",
    "        self.Dr = 0\n",
    "        self.De = De\n",
    "        self.Dx = 0\n",
    "        self.Do = Do\n",
    "        self.n_targets = n_targets\n",
    "        self.fr_activation = fr_activation\n",
    "        self.fo_activation = fo_activation\n",
    "        self.fc_activation = fc_activation\n",
    "        self.optimizer = optimizer\n",
    "        self.verbose = verbose\n",
    "        self.assign_matrices()\n",
    "\n",
    "        self.Ra = torch.ones(self.Dr, self.Nr)\n",
    "        self.fr1 = nn.Linear(2 * self.P + self.Dr, hidden)\n",
    "        self.fr2 = nn.Linear(hidden, int(hidden/2))\n",
    "        self.fr3 = nn.Linear(int(hidden/2), self.De)\n",
    "        self.fo1 = nn.Linear(self.P + self.Dx + self.De, hidden)\n",
    "        self.fo2 = nn.Linear(hidden, int(hidden/2))\n",
    "        self.fo3 = nn.Linear(int(hidden/2), self.Do)\n",
    "        self.fc1 = nn.Linear(self.Do * self.N, hidden)\n",
    "        self.fc2 = nn.Linear(hidden, int(hidden/2))\n",
    "        self.fc3 = nn.Linear(int(hidden/2), self.n_targets)\n",
    "\n",
    "    def assign_matrices(self):\n",
    "        self.Rr = torch.zeros(self.N, self.Nr)\n",
    "        self.Rs = torch.zeros(self.N, self.Nr)\n",
    "        receiver_sender_list = [i for i in itertools.product(range(self.N), range(self.N)) if i[0]!=i[1]]\n",
    "        for i, (r, s) in enumerate(receiver_sender_list):\n",
    "            self.Rr[r, i] = 1\n",
    "            self.Rs[s, i] = 1\n",
    "        self.Rr = Variable(self.Rr)\n",
    "        self.Rs = Variable(self.Rs)\n",
    "\n",
    "    def forward(self, x):\n",
    "        Orr = self.tmul(x, self.Rr)\n",
    "        Ors = self.tmul(x, self.Rs)\n",
    "        B = torch.cat([Orr, Ors], 1)\n",
    "        ### First MLP ###\n",
    "        B = torch.transpose(B, 1, 2).contiguous()\n",
    "        if self.fr_activation ==2:\n",
    "            B = nn.functional.selu(self.fr1(B.view(-1, 2 * self.P + self.Dr)))\n",
    "            B = nn.functional.selu(self.fr2(B))\n",
    "            E = nn.functional.selu(self.fr3(B).view(-1, self.Nr, self.De))            \n",
    "        elif self.fr_activation ==1:\n",
    "            B = nn.functional.elu(self.fr1(B.view(-1, 2 * self.P + self.Dr)))\n",
    "            B = nn.functional.elu(self.fr2(B))\n",
    "            E = nn.functional.elu(self.fr3(B).view(-1, self.Nr, self.De))\n",
    "        else:\n",
    "            B = nn.functional.relu(self.fr1(B.view(-1, 2 * self.P + self.Dr)))\n",
    "            B = nn.functional.relu(self.fr2(B))\n",
    "            E = nn.functional.relu(self.fr3(B).view(-1, self.Nr, self.De))\n",
    "        del B\n",
    "        E = torch.transpose(E, 1, 2).contiguous()\n",
    "        Ebar = self.tmul(E, torch.transpose(self.Rr, 0, 1).contiguous())\n",
    "        del E\n",
    "        C = torch.cat([x, Ebar], 1)\n",
    "        del Ebar\n",
    "        C = torch.transpose(C, 1, 2).contiguous()\n",
    "        ### Second MLP ###\n",
    "        if self.fo_activation ==2:\n",
    "            C = nn.functional.selu(self.fo1(C.view(-1, self.P + self.Dx + self.De)))\n",
    "            C = nn.functional.selu(self.fo2(C))\n",
    "            O = nn.functional.selu(self.fo3(C).view(-1, self.N, self.Do))\n",
    "        elif self.fo_activation ==1:\n",
    "            C = nn.functional.elu(self.fo1(C.view(-1, self.P + self.Dx + self.De)))\n",
    "            C = nn.functional.elu(self.fo2(C))\n",
    "            O = nn.functional.elu(self.fo3(C).view(-1, self.N, self.Do))\n",
    "        else:\n",
    "            C = nn.functional.relu(self.fo1(C.view(-1, self.P + self.Dx + self.De)))\n",
    "            C = nn.functional.relu(self.fo2(C))\n",
    "            O = nn.functional.relu(self.fo3(C).view(-1, self.N, self.Do))\n",
    "        del C\n",
    "        ### Classification MLP ###\n",
    "        if self.fc_activation ==2:\n",
    "            N = nn.functional.selu(self.fc1(O.view(-1, self.Do * self.N)))\n",
    "            N = nn.functional.selu(self.fc2(N))       \n",
    "        elif self.fc_activation ==1:\n",
    "            N = nn.functional.elu(self.fc1(O.view(-1, self.Do * self.N)))\n",
    "            N = nn.functional.elu(self.fc2(N))\n",
    "        else:\n",
    "            N = nn.functional.relu(self.fc1(O.view(-1, self.Do * self.N)))\n",
    "            N = nn.functional.relu(self.fc2(N))\n",
    "        del O\n",
    "        #N = nn.functional.relu(self.fc3(N))\n",
    "        N = self.fc3(N)\n",
    "        return N\n",
    "\n",
    "    def tmul(self, x, y):  #Takes (I * J * K)(K * L) -> I * J * L \n",
    "        x_shape = x.size()\n",
    "        y_shape = y.size()\n",
    "        return torch.mm(x.view(-1, x_shape[2]), y).view(-1, x_shape[1], y_shape[1])"
   ]
  },
  {
   "cell_type": "code",
   "execution_count": 23,
   "metadata": {
    "ExecuteTime": {
     "end_time": "2019-07-22T20:00:30.935401Z",
     "start_time": "2019-07-22T20:00:30.414549Z"
    },
    "code_folding": []
   },
   "outputs": [
    {
     "name": "stdout",
     "output_type": "stream",
     "text": [
      "16 100\n"
     ]
    }
   ],
   "source": [
    "# ### Prepare Dataset                                                                                                                                                  \n",
    "nParticles = 100\n",
    "x = []\n",
    "x.append(30) # hinned nodes                                                                                                                                            \n",
    "x.append(10) # De                                                                                                                                                      \n",
    "x.append(10) # Do                                                                                                                                                      \n",
    "x.append(1) # fr_activation_index                                                                                                                                      \n",
    "x.append(1) # fo_activation_index                                                                                                                                      \n",
    "x.append(1) # fc_activation_index                                                                                                                                      \n",
    "x.append(0) # optmizer_index           \n",
    "\n",
    "params = ['j1_px', 'j1_py' , 'j1_pz' , 'j1_e' , 'j1_erel' , 'j1_pt' , 'j1_ptrel', 'j1_eta' , 'j1_etarel' , \n",
    "          'j1_etarot' , 'j1_phi' , 'j1_phirel' , 'j1_phirot', 'j1_deltaR' , 'j1_costheta' , 'j1_costhetarel']\n",
    "\n",
    "mymodel = GraphNet(nParticles, len(params), params, int(x[0]), int(x[1]), int(x[2]), \n",
    "                       int(x[3]),  int(x[4]),  int(x[5]), int(x[6]), 0)"
   ]
  },
  {
   "cell_type": "code",
   "execution_count": 24,
   "metadata": {
    "ExecuteTime": {
     "end_time": "2019-07-22T20:00:30.941102Z",
     "start_time": "2019-07-22T20:00:30.937252Z"
    }
   },
   "outputs": [
    {
     "name": "stdout",
     "output_type": "stream",
     "text": [
      "GraphNet(\n",
      "  (fr1): Linear(in_features=32, out_features=30, bias=True)\n",
      "  (fr2): Linear(in_features=30, out_features=15, bias=True)\n",
      "  (fr3): Linear(in_features=15, out_features=10, bias=True)\n",
      "  (fo1): Linear(in_features=26, out_features=30, bias=True)\n",
      "  (fo2): Linear(in_features=30, out_features=15, bias=True)\n",
      "  (fo3): Linear(in_features=15, out_features=10, bias=True)\n",
      "  (fc1): Linear(in_features=1000, out_features=30, bias=True)\n",
      "  (fc2): Linear(in_features=30, out_features=15, bias=True)\n",
      "  (fc3): Linear(in_features=15, out_features=16, bias=True)\n",
      ")\n",
      "\n",
      "Trainable parameters: 33801\n"
     ]
    }
   ],
   "source": [
    "print(mymodel)\n",
    "trainablePars = sum(p.numel() for p in mymodel.parameters() if p.requires_grad)\n",
    "print('\\nTrainable parameters:', trainablePars)"
   ]
  },
  {
   "cell_type": "code",
   "execution_count": 25,
   "metadata": {
    "ExecuteTime": {
     "end_time": "2019-07-22T20:00:31.148912Z",
     "start_time": "2019-07-22T20:00:30.942594Z"
    },
    "scrolled": true
   },
   "outputs": [
    {
     "name": "stdout",
     "output_type": "stream",
     "text": [
      "graph(%input : Float(1, 16, 100),\n",
      "      %fr1.weight : Float(30, 32),\n",
      "      %fr1.bias : Float(30),\n",
      "      %fr2.weight : Float(15, 30),\n",
      "      %fr2.bias : Float(15),\n",
      "      %fr3.weight : Float(10, 15),\n",
      "      %fr3.bias : Float(10),\n",
      "      %fo1.weight : Float(30, 26),\n",
      "      %fo1.bias : Float(30),\n",
      "      %fo2.weight : Float(15, 30),\n",
      "      %fo2.bias : Float(15),\n",
      "      %fo3.weight : Float(10, 15),\n",
      "      %fo3.bias : Float(10),\n",
      "      %fc1.weight : Float(30, 1000),\n",
      "      %fc1.bias : Float(30),\n",
      "      %fc2.weight : Float(15, 30),\n",
      "      %fc2.bias : Float(15),\n",
      "      %fc3.weight : Float(16, 15),\n",
      "      %fc3.bias : Float(16)):\n",
      "  %19 : Long() = onnx::Constant[value={1}](), scope: GraphNet\n",
      "  %20 : Tensor = onnx::Shape(%input), scope: GraphNet\n",
      "  %21 : Long() = onnx::Gather[axis=0](%20, %19), scope: GraphNet\n",
      "  %22 : Long() = onnx::Constant[value={2}](), scope: GraphNet\n",
      "  %23 : Tensor = onnx::Shape(%input), scope: GraphNet\n",
      "  %24 : Long() = onnx::Gather[axis=0](%23, %22), scope: GraphNet\n",
      "  %25 : Float(100, 9900) = onnx::Constant[value=<Tensor>](), scope: GraphNet\n",
      "  %26 : Long() = onnx::Constant[value={9900}]()\n",
      "  %27 : Long() = onnx::Constant[value={-1}](), scope: GraphNet\n",
      "  %28 : Tensor = onnx::Unsqueeze[axes=[0]](%27)\n",
      "  %29 : Tensor = onnx::Unsqueeze[axes=[0]](%24)\n",
      "  %30 : Tensor = onnx::Concat[axis=0](%28, %29)\n",
      "  %31 : Float(16, 100) = onnx::Reshape(%input, %30), scope: GraphNet\n",
      "  %32 : Tensor = onnx::Constant[value={0}](), scope: GraphNet\n",
      "  %33 : Float(16, 9900) = onnx::Gemm[alpha=1, beta=0](%31, %25, %32), scope: GraphNet\n",
      "  %34 : Long() = onnx::Constant[value={-1}](), scope: GraphNet\n",
      "  %35 : Tensor = onnx::Unsqueeze[axes=[0]](%34)\n",
      "  %36 : Tensor = onnx::Unsqueeze[axes=[0]](%21)\n",
      "  %37 : Tensor = onnx::Unsqueeze[axes=[0]](%26)\n",
      "  %38 : Tensor = onnx::Concat[axis=0](%35, %36, %37)\n",
      "  %39 : Float(1, 16, 9900) = onnx::Reshape(%33, %38), scope: GraphNet\n",
      "  %40 : Long() = onnx::Constant[value={1}](), scope: GraphNet\n",
      "  %41 : Tensor = onnx::Shape(%input), scope: GraphNet\n",
      "  %42 : Long() = onnx::Gather[axis=0](%41, %40), scope: GraphNet\n",
      "  %43 : Long() = onnx::Constant[value={2}](), scope: GraphNet\n",
      "  %44 : Tensor = onnx::Shape(%input), scope: GraphNet\n",
      "  %45 : Long() = onnx::Gather[axis=0](%44, %43), scope: GraphNet\n",
      "  %46 : Float(100, 9900) = onnx::Constant[value=<Tensor>](), scope: GraphNet\n",
      "  %47 : Long() = onnx::Constant[value={9900}]()\n",
      "  %48 : Long() = onnx::Constant[value={-1}](), scope: GraphNet\n",
      "  %49 : Tensor = onnx::Unsqueeze[axes=[0]](%48)\n",
      "  %50 : Tensor = onnx::Unsqueeze[axes=[0]](%45)\n",
      "  %51 : Tensor = onnx::Concat[axis=0](%49, %50)\n",
      "  %52 : Float(16, 100) = onnx::Reshape(%input, %51), scope: GraphNet\n",
      "  %53 : Tensor = onnx::Constant[value={0}](), scope: GraphNet\n",
      "  %54 : Float(16, 9900) = onnx::Gemm[alpha=1, beta=0](%52, %46, %53), scope: GraphNet\n",
      "  %55 : Long() = onnx::Constant[value={-1}](), scope: GraphNet\n",
      "  %56 : Tensor = onnx::Unsqueeze[axes=[0]](%55)\n",
      "  %57 : Tensor = onnx::Unsqueeze[axes=[0]](%42)\n",
      "  %58 : Tensor = onnx::Unsqueeze[axes=[0]](%47)\n",
      "  %59 : Tensor = onnx::Concat[axis=0](%56, %57, %58)\n",
      "  %60 : Float(1, 16, 9900) = onnx::Reshape(%54, %59), scope: GraphNet\n",
      "  %61 : Float(1, 32, 9900) = onnx::Concat[axis=1](%39, %60), scope: GraphNet\n",
      "  %62 : Float(1, 9900, 32) = onnx::Transpose[perm=[0, 2, 1]](%61), scope: GraphNet\n",
      "  %63 : Tensor = onnx::Constant[value= -1  32 [ Variable[CPUType]{2} ]](), scope: GraphNet\n",
      "  %64 : Float(9900, 32) = onnx::Reshape(%62, %63), scope: GraphNet\n",
      "  %65 : Float(9900, 30) = onnx::Gemm[alpha=1, beta=1, transB=1](%64, %fr1.weight, %fr1.bias), scope: GraphNet/Linear[fr1]\n",
      "  %66 : Float(9900, 30) = onnx::Elu[alpha=1](%65), scope: GraphNet\n",
      "  %67 : Float(9900, 15) = onnx::Gemm[alpha=1, beta=1, transB=1](%66, %fr2.weight, %fr2.bias), scope: GraphNet/Linear[fr2]\n",
      "  %68 : Float(9900, 15) = onnx::Elu[alpha=1](%67), scope: GraphNet\n",
      "  %69 : Float(9900, 10) = onnx::Gemm[alpha=1, beta=1, transB=1](%68, %fr3.weight, %fr3.bias), scope: GraphNet/Linear[fr3]\n",
      "  %70 : Tensor = onnx::Constant[value=   -1  9900    10 [ Variable[CPUType]{3} ]](), scope: GraphNet\n",
      "  %71 : Float(1, 9900, 10) = onnx::Reshape(%69, %70), scope: GraphNet\n",
      "  %72 : Float(1, 9900, 10) = onnx::Elu[alpha=1](%71), scope: GraphNet\n",
      "  %73 : Float(1, 10, 9900) = onnx::Transpose[perm=[0, 2, 1]](%72), scope: GraphNet\n",
      "  %74 : Float(9900, 100) = onnx::Constant[value=<Tensor>]()\n",
      "  %75 : Long() = onnx::Constant[value={1}](), scope: GraphNet\n",
      "  %76 : Tensor = onnx::Shape(%73), scope: GraphNet\n",
      "  %77 : Long() = onnx::Gather[axis=0](%76, %75), scope: GraphNet\n",
      "  %78 : Long() = onnx::Constant[value={2}](), scope: GraphNet\n",
      "  %79 : Tensor = onnx::Shape(%73), scope: GraphNet\n",
      "  %80 : Long() = onnx::Gather[axis=0](%79, %78), scope: GraphNet\n",
      "  %81 : Long() = onnx::Constant[value={100}]()\n",
      "  %82 : Long() = onnx::Constant[value={-1}](), scope: GraphNet\n",
      "  %83 : Tensor = onnx::Unsqueeze[axes=[0]](%82)\n",
      "  %84 : Tensor = onnx::Unsqueeze[axes=[0]](%80)\n",
      "  %85 : Tensor = onnx::Concat[axis=0](%83, %84)\n",
      "  %86 : Float(10, 9900) = onnx::Reshape(%73, %85), scope: GraphNet\n",
      "  %87 : Tensor = onnx::Constant[value={0}](), scope: GraphNet\n",
      "  %88 : Float(10, 100) = onnx::Gemm[alpha=1, beta=0](%86, %74, %87), scope: GraphNet\n",
      "  %89 : Long() = onnx::Constant[value={-1}](), scope: GraphNet\n",
      "  %90 : Tensor = onnx::Unsqueeze[axes=[0]](%89)\n",
      "  %91 : Tensor = onnx::Unsqueeze[axes=[0]](%77)\n",
      "  %92 : Tensor = onnx::Unsqueeze[axes=[0]](%81)\n",
      "  %93 : Tensor = onnx::Concat[axis=0](%90, %91, %92)\n",
      "  %94 : Float(1, 10, 100) = onnx::Reshape(%88, %93), scope: GraphNet\n",
      "  %95 : Float(1, 26, 100) = onnx::Concat[axis=1](%input, %94), scope: GraphNet\n",
      "  %96 : Float(1, 100, 26) = onnx::Transpose[perm=[0, 2, 1]](%95), scope: GraphNet\n",
      "  %97 : Tensor = onnx::Constant[value= -1  26 [ Variable[CPUType]{2} ]](), scope: GraphNet\n",
      "  %98 : Float(100, 26) = onnx::Reshape(%96, %97), scope: GraphNet\n",
      "  %99 : Float(100, 30) = onnx::Gemm[alpha=1, beta=1, transB=1](%98, %fo1.weight, %fo1.bias), scope: GraphNet/Linear[fo1]\n",
      "  %100 : Float(100, 30) = onnx::Elu[alpha=1](%99), scope: GraphNet\n",
      "  %101 : Float(100, 15) = onnx::Gemm[alpha=1, beta=1, transB=1](%100, %fo2.weight, %fo2.bias), scope: GraphNet/Linear[fo2]\n",
      "  %102 : Float(100, 15) = onnx::Elu[alpha=1](%101), scope: GraphNet\n",
      "  %103 : Float(100, 10) = onnx::Gemm[alpha=1, beta=1, transB=1](%102, %fo3.weight, %fo3.bias), scope: GraphNet/Linear[fo3]\n",
      "  %104 : Tensor = onnx::Constant[value=  -1  100   10 [ Variable[CPUType]{3} ]](), scope: GraphNet\n",
      "  %105 : Float(1, 100, 10) = onnx::Reshape(%103, %104), scope: GraphNet\n",
      "  %106 : Float(1, 100, 10) = onnx::Elu[alpha=1](%105), scope: GraphNet\n",
      "  %107 : Tensor = onnx::Constant[value=   -1  1000 [ Variable[CPUType]{2} ]](), scope: GraphNet\n",
      "  %108 : Float(1, 1000) = onnx::Reshape(%106, %107), scope: GraphNet\n",
      "  %109 : Float(1, 30) = onnx::Gemm[alpha=1, beta=1, transB=1](%108, %fc1.weight, %fc1.bias), scope: GraphNet/Linear[fc1]\n",
      "  %110 : Float(1, 30) = onnx::Elu[alpha=1](%109), scope: GraphNet\n",
      "  %111 : Float(1, 15) = onnx::Gemm[alpha=1, beta=1, transB=1](%110, %fc2.weight, %fc2.bias), scope: GraphNet/Linear[fc2]\n",
      "  %112 : Float(1, 15) = onnx::Elu[alpha=1](%111), scope: GraphNet\n",
      "  %output : Float(1, 16) = onnx::Gemm[alpha=1, beta=1, transB=1](%112, %fc3.weight, %fc3.bias), scope: GraphNet/Linear[fc3]\n",
      "  return (%output)\n",
      "\n"
     ]
    }
   ],
   "source": [
    "dummy_input = torch.ones((1,16,100))\n",
    "out_test = mymodel(dummy_input)\n",
    "\n",
    "torch.onnx.export(mymodel, dummy_input, \n",
    "                  \"test.onnx\", \n",
    "                  verbose=True,\n",
    "                  input_names = ['input'], \n",
    "                  output_names = ['output'])"
   ]
  },
  {
   "cell_type": "code",
   "execution_count": 26,
   "metadata": {
    "ExecuteTime": {
     "end_time": "2019-07-22T20:00:31.796993Z",
     "start_time": "2019-07-22T20:00:31.150536Z"
    },
    "scrolled": true
   },
   "outputs": [
    {
     "name": "stderr",
     "output_type": "stream",
     "text": [
      "/nfshome/ocerri/miniconda2/envs/PartAN/lib/python3.7/site-packages/onnx_tf/common/handler_helper.py:37: UserWarning: Unknown op ConstantFill in domain `ai.onnx`.\n",
      "  handler.ONNX_OP, handler.DOMAIN or \"ai.onnx\"))\n",
      "/nfshome/ocerri/miniconda2/envs/PartAN/lib/python3.7/site-packages/onnx_tf/common/handler_helper.py:37: UserWarning: Unknown op ImageScaler in domain `ai.onnx`.\n",
      "  handler.ONNX_OP, handler.DOMAIN or \"ai.onnx\"))\n",
      "/nfshome/ocerri/miniconda2/envs/PartAN/lib/python3.7/site-packages/onnx_tf/common/handler_helper.py:34: UserWarning: Fail to get since_version of IsInf in domain `` with max_inclusive_version=9. Set to 1.\n",
      "  handler.ONNX_OP, handler.DOMAIN, version))\n",
      "/nfshome/ocerri/miniconda2/envs/PartAN/lib/python3.7/site-packages/onnx_tf/common/handler_helper.py:34: UserWarning: Fail to get since_version of Mod in domain `` with max_inclusive_version=9. Set to 1.\n",
      "  handler.ONNX_OP, handler.DOMAIN, version))\n",
      "/nfshome/ocerri/miniconda2/envs/PartAN/lib/python3.7/site-packages/onnx_tf/common/handler_helper.py:34: UserWarning: Fail to get since_version of ThresholdedRelu in domain `` with max_inclusive_version=9. Set to 1.\n",
      "  handler.ONNX_OP, handler.DOMAIN, version))\n",
      "W0722 13:00:31.272864 139635486955328 deprecation.py:323] From /nfshome/ocerri/miniconda2/envs/PartAN/lib/python3.7/site-packages/onnx_tf/handlers/backend/reshape.py:26: add_dispatch_support.<locals>.wrapper (from tensorflow.python.ops.array_ops) is deprecated and will be removed in a future version.\n",
      "Instructions for updating:\n",
      "Use tf.where in 2.0, which has the same broadcast rule as np.where\n",
      "W0722 13:00:31.277809 139635486955328 deprecation.py:323] From /nfshome/ocerri/miniconda2/envs/PartAN/lib/python3.7/site-packages/onnx_tf/handlers/backend/reshape.py:31: sparse_to_dense (from tensorflow.python.ops.sparse_ops) is deprecated and will be removed in a future version.\n",
      "Instructions for updating:\n",
      "Create a `tf.sparse.SparseTensor` and use `tf.sparse.to_dense` instead.\n",
      "W0722 13:00:31.283676 139635486955328 deprecation.py:323] From /nfshome/ocerri/miniconda2/envs/PartAN/lib/python3.7/site-packages/onnx_tf/handlers/backend/gemm.py:14: flatten (from tensorflow.python.layers.core) is deprecated and will be removed in a future version.\n",
      "Instructions for updating:\n",
      "Use keras.layers.flatten instead.\n"
     ]
    },
    {
     "name": "stdout",
     "output_type": "stream",
     "text": [
      "graph torch-jit-export (\n",
      "  %input[FLOAT, 1x16x100]\n",
      ") initializers (\n",
      "  %fr1.weight[FLOAT, 30x32]\n",
      "  %fr1.bias[FLOAT, 30]\n",
      "  %fr2.weight[FLOAT, 15x30]\n",
      "  %fr2.bias[FLOAT, 15]\n",
      "  %fr3.weight[FLOAT, 10x15]\n",
      "  %fr3.bias[FLOAT, 10]\n",
      "  %fo1.weight[FLOAT, 30x26]\n",
      "  %fo1.bias[FLOAT, 30]\n",
      "  %fo2.weight[FLOAT, 15x30]\n",
      "  %fo2.bias[FLOAT, 15]\n",
      "  %fo3.weight[FLOAT, 10x15]\n",
      "  %fo3.bias[FLOAT, 10]\n",
      "  %fc1.weight[FLOAT, 30x1000]\n",
      "  %fc1.bias[FLOAT, 30]\n",
      "  %fc2.weight[FLOAT, 15x30]\n",
      "  %fc2.bias[FLOAT, 15]\n",
      "  %fc3.weight[FLOAT, 16x15]\n",
      "  %fc3.bias[FLOAT, 16]\n",
      ") {\n",
      "  %19 = Constant[value = <Scalar Tensor []>]()\n",
      "  %20 = Shape(%input)\n",
      "  %21 = Gather[axis = 0](%20, %19)\n",
      "  %22 = Constant[value = <Scalar Tensor []>]()\n",
      "  %23 = Shape(%input)\n",
      "  %24 = Gather[axis = 0](%23, %22)\n",
      "  %25 = Constant[value = <Tensor>]()\n",
      "  %26 = Constant[value = <Scalar Tensor []>]()\n",
      "  %27 = Constant[value = <Scalar Tensor []>]()\n",
      "  %28 = Unsqueeze[axes = [0]](%27)\n",
      "  %29 = Unsqueeze[axes = [0]](%24)\n",
      "  %30 = Concat[axis = 0](%28, %29)\n",
      "  %31 = Reshape(%input, %30)\n",
      "  %32 = Constant[value = <Tensor>]()\n",
      "  %33 = Gemm[alpha = 1, beta = 0](%31, %25, %32)\n",
      "  %34 = Constant[value = <Scalar Tensor []>]()\n",
      "  %35 = Unsqueeze[axes = [0]](%34)\n",
      "  %36 = Unsqueeze[axes = [0]](%21)\n",
      "  %37 = Unsqueeze[axes = [0]](%26)\n",
      "  %38 = Concat[axis = 0](%35, %36, %37)\n",
      "  %39 = Reshape(%33, %38)\n",
      "  %40 = Constant[value = <Scalar Tensor []>]()\n",
      "  %41 = Shape(%input)\n",
      "  %42 = Gather[axis = 0](%41, %40)\n",
      "  %43 = Constant[value = <Scalar Tensor []>]()\n",
      "  %44 = Shape(%input)\n",
      "  %45 = Gather[axis = 0](%44, %43)\n",
      "  %46 = Constant[value = <Tensor>]()\n",
      "  %47 = Constant[value = <Scalar Tensor []>]()\n",
      "  %48 = Constant[value = <Scalar Tensor []>]()\n",
      "  %49 = Unsqueeze[axes = [0]](%48)\n",
      "  %50 = Unsqueeze[axes = [0]](%45)\n",
      "  %51 = Concat[axis = 0](%49, %50)\n",
      "  %52 = Reshape(%input, %51)\n",
      "  %53 = Constant[value = <Tensor>]()\n",
      "  %54 = Gemm[alpha = 1, beta = 0](%52, %46, %53)\n",
      "  %55 = Constant[value = <Scalar Tensor []>]()\n",
      "  %56 = Unsqueeze[axes = [0]](%55)\n",
      "  %57 = Unsqueeze[axes = [0]](%42)\n",
      "  %58 = Unsqueeze[axes = [0]](%47)\n",
      "  %59 = Concat[axis = 0](%56, %57, %58)\n",
      "  %60 = Reshape(%54, %59)\n",
      "  %61 = Concat[axis = 1](%39, %60)\n",
      "  %62 = Transpose[perm = [0, 2, 1]](%61)\n",
      "  %63 = Constant[value = <Tensor>]()\n",
      "  %64 = Reshape(%62, %63)\n",
      "  %65 = Gemm[alpha = 1, beta = 1, transB = 1](%64, %fr1.weight, %fr1.bias)\n",
      "  %66 = Elu[alpha = 1](%65)\n",
      "  %67 = Gemm[alpha = 1, beta = 1, transB = 1](%66, %fr2.weight, %fr2.bias)\n",
      "  %68 = Elu[alpha = 1](%67)\n",
      "  %69 = Gemm[alpha = 1, beta = 1, transB = 1](%68, %fr3.weight, %fr3.bias)\n",
      "  %70 = Constant[value = <Tensor>]()\n",
      "  %71 = Reshape(%69, %70)\n",
      "  %72 = Elu[alpha = 1](%71)\n",
      "  %73 = Transpose[perm = [0, 2, 1]](%72)\n",
      "  %74 = Constant[value = <Tensor>]()\n",
      "  %75 = Constant[value = <Scalar Tensor []>]()\n",
      "  %76 = Shape(%73)\n",
      "  %77 = Gather[axis = 0](%76, %75)\n",
      "  %78 = Constant[value = <Scalar Tensor []>]()\n",
      "  %79 = Shape(%73)\n",
      "  %80 = Gather[axis = 0](%79, %78)\n",
      "  %81 = Constant[value = <Scalar Tensor []>]()\n",
      "  %82 = Constant[value = <Scalar Tensor []>]()\n",
      "  %83 = Unsqueeze[axes = [0]](%82)\n",
      "  %84 = Unsqueeze[axes = [0]](%80)\n",
      "  %85 = Concat[axis = 0](%83, %84)\n",
      "  %86 = Reshape(%73, %85)\n",
      "  %87 = Constant[value = <Tensor>]()\n",
      "  %88 = Gemm[alpha = 1, beta = 0](%86, %74, %87)\n",
      "  %89 = Constant[value = <Scalar Tensor []>]()\n",
      "  %90 = Unsqueeze[axes = [0]](%89)\n",
      "  %91 = Unsqueeze[axes = [0]](%77)\n",
      "  %92 = Unsqueeze[axes = [0]](%81)\n",
      "  %93 = Concat[axis = 0](%90, %91, %92)\n",
      "  %94 = Reshape(%88, %93)\n",
      "  %95 = Concat[axis = 1](%input, %94)\n",
      "  %96 = Transpose[perm = [0, 2, 1]](%95)\n",
      "  %97 = Constant[value = <Tensor>]()\n",
      "  %98 = Reshape(%96, %97)\n",
      "  %99 = Gemm[alpha = 1, beta = 1, transB = 1](%98, %fo1.weight, %fo1.bias)\n",
      "  %100 = Elu[alpha = 1](%99)\n",
      "  %101 = Gemm[alpha = 1, beta = 1, transB = 1](%100, %fo2.weight, %fo2.bias)\n",
      "  %102 = Elu[alpha = 1](%101)\n",
      "  %103 = Gemm[alpha = 1, beta = 1, transB = 1](%102, %fo3.weight, %fo3.bias)\n",
      "  %104 = Constant[value = <Tensor>]()\n",
      "  %105 = Reshape(%103, %104)\n",
      "  %106 = Elu[alpha = 1](%105)\n",
      "  %107 = Constant[value = <Tensor>]()\n",
      "  %108 = Reshape(%106, %107)\n",
      "  %109 = Gemm[alpha = 1, beta = 1, transB = 1](%108, %fc1.weight, %fc1.bias)\n",
      "  %110 = Elu[alpha = 1](%109)\n",
      "  %111 = Gemm[alpha = 1, beta = 1, transB = 1](%110, %fc2.weight, %fc2.bias)\n",
      "  %112 = Elu[alpha = 1](%111)\n",
      "  %output = Gemm[alpha = 1, beta = 1, transB = 1](%112, %fc3.weight, %fc3.bias)\n",
      "  return %output\n",
      "}\n",
      "inputs: ['input']\n",
      "outputs: ['output']\n",
      "tensor_dict:\n",
      "{'fc1.bias': <tf.Tensor 'Const:0' shape=(30,) dtype=float32>, 'fc1.weight': <tf.Tensor 'Const_1:0' shape=(30, 1000) dtype=float32>, 'fc2.bias': <tf.Tensor 'Const_2:0' shape=(15,) dtype=float32>, 'fc2.weight': <tf.Tensor 'Const_3:0' shape=(15, 30) dtype=float32>, 'fc3.bias': <tf.Tensor 'Const_4:0' shape=(16,) dtype=float32>, 'fc3.weight': <tf.Tensor 'Const_5:0' shape=(16, 15) dtype=float32>, 'fo1.bias': <tf.Tensor 'Const_6:0' shape=(30,) dtype=float32>, 'fo1.weight': <tf.Tensor 'Const_7:0' shape=(30, 26) dtype=float32>, 'fo2.bias': <tf.Tensor 'Const_8:0' shape=(15,) dtype=float32>, 'fo2.weight': <tf.Tensor 'Const_9:0' shape=(15, 30) dtype=float32>, 'fo3.bias': <tf.Tensor 'Const_10:0' shape=(10,) dtype=float32>, 'fo3.weight': <tf.Tensor 'Const_11:0' shape=(10, 15) dtype=float32>, 'fr1.bias': <tf.Tensor 'Const_12:0' shape=(30,) dtype=float32>, 'fr1.weight': <tf.Tensor 'Const_13:0' shape=(30, 32) dtype=float32>, 'fr2.bias': <tf.Tensor 'Const_14:0' shape=(15,) dtype=float32>, 'fr2.weight': <tf.Tensor 'Const_15:0' shape=(15, 30) dtype=float32>, 'fr3.bias': <tf.Tensor 'Const_16:0' shape=(10,) dtype=float32>, 'fr3.weight': <tf.Tensor 'Const_17:0' shape=(10, 15) dtype=float32>, 'input': <tf.Tensor 'input:0' shape=(1, 16, 100) dtype=float32>, '19': <tf.Tensor 'Const_18:0' shape=() dtype=int64>, '20': <tf.Tensor 'Shape:0' shape=(3,) dtype=int64>, '21': <tf.Tensor 'GatherV2:0' shape=() dtype=int64>, '22': <tf.Tensor 'Const_19:0' shape=() dtype=int64>, '23': <tf.Tensor 'Shape_1:0' shape=(3,) dtype=int64>, '24': <tf.Tensor 'GatherV2_1:0' shape=() dtype=int64>, '25': <tf.Tensor 'Const_20:0' shape=(100, 9900) dtype=float32>, '26': <tf.Tensor 'Const_21:0' shape=() dtype=int64>, '27': <tf.Tensor 'Const_22:0' shape=() dtype=int64>, '28': <tf.Tensor 'ExpandDims:0' shape=(1,) dtype=int64>, '29': <tf.Tensor 'ExpandDims_1:0' shape=(1,) dtype=int64>, '30': <tf.Tensor 'concat:0' shape=(2,) dtype=int64>, '31': <tf.Tensor 'Reshape:0' shape=(16, 100) dtype=float32>, '32': <tf.Tensor 'Const_24:0' shape=(1,) dtype=float32>, '33': <tf.Tensor 'add_1:0' shape=(16, 9900) dtype=float32>, '34': <tf.Tensor 'Const_25:0' shape=() dtype=int64>, '35': <tf.Tensor 'ExpandDims_2:0' shape=(1,) dtype=int64>, '36': <tf.Tensor 'ExpandDims_3:0' shape=(1,) dtype=int64>, '37': <tf.Tensor 'ExpandDims_4:0' shape=(1,) dtype=int64>, '38': <tf.Tensor 'concat_1:0' shape=(3,) dtype=int64>, '39': <tf.Tensor 'Reshape_1:0' shape=(1, 16, 9900) dtype=float32>, '40': <tf.Tensor 'Const_27:0' shape=() dtype=int64>, '41': <tf.Tensor 'Shape_6:0' shape=(3,) dtype=int64>, '42': <tf.Tensor 'GatherV2_4:0' shape=() dtype=int64>, '43': <tf.Tensor 'Const_28:0' shape=() dtype=int64>, '44': <tf.Tensor 'Shape_7:0' shape=(3,) dtype=int64>, '45': <tf.Tensor 'GatherV2_5:0' shape=() dtype=int64>, '46': <tf.Tensor 'Const_29:0' shape=(100, 9900) dtype=float32>, '47': <tf.Tensor 'Const_30:0' shape=() dtype=int64>, '48': <tf.Tensor 'Const_31:0' shape=() dtype=int64>, '49': <tf.Tensor 'ExpandDims_5:0' shape=(1,) dtype=int64>, '50': <tf.Tensor 'ExpandDims_6:0' shape=(1,) dtype=int64>, '51': <tf.Tensor 'concat_2:0' shape=(2,) dtype=int64>, '52': <tf.Tensor 'Reshape_2:0' shape=(16, 100) dtype=float32>, '53': <tf.Tensor 'Const_33:0' shape=(1,) dtype=float32>, '54': <tf.Tensor 'add_4:0' shape=(16, 9900) dtype=float32>, '55': <tf.Tensor 'Const_34:0' shape=() dtype=int64>, '56': <tf.Tensor 'ExpandDims_7:0' shape=(1,) dtype=int64>, '57': <tf.Tensor 'ExpandDims_8:0' shape=(1,) dtype=int64>, '58': <tf.Tensor 'ExpandDims_9:0' shape=(1,) dtype=int64>, '59': <tf.Tensor 'concat_3:0' shape=(3,) dtype=int64>, '60': <tf.Tensor 'Reshape_3:0' shape=(1, 16, 9900) dtype=float32>, '61': <tf.Tensor 'concat_4:0' shape=(1, 32, 9900) dtype=float32>, '62': <tf.Tensor 'transpose:0' shape=(1, 9900, 32) dtype=float32>, '63': <tf.Tensor 'Const_36:0' shape=(2,) dtype=int64>, '64': <tf.Tensor 'Reshape_4:0' shape=(9900, 32) dtype=float32>, '65': <tf.Tensor 'add_7:0' shape=(9900, 30) dtype=float32>, '66': <tf.Tensor 'Elu:0' shape=(9900, 30) dtype=float32>, '67': <tf.Tensor 'add_8:0' shape=(9900, 15) dtype=float32>, '68': <tf.Tensor 'Elu_1:0' shape=(9900, 15) dtype=float32>, '69': <tf.Tensor 'add_9:0' shape=(9900, 10) dtype=float32>, '70': <tf.Tensor 'Const_38:0' shape=(3,) dtype=int64>, '71': <tf.Tensor 'Reshape_5:0' shape=(1, 9900, 10) dtype=float32>, '72': <tf.Tensor 'Elu_2:0' shape=(1, 9900, 10) dtype=float32>, '73': <tf.Tensor 'transpose_4:0' shape=(1, 10, 9900) dtype=float32>, '74': <tf.Tensor 'Const_40:0' shape=(9900, 100) dtype=float32>, '75': <tf.Tensor 'Const_41:0' shape=() dtype=int64>, '76': <tf.Tensor 'Shape_16:0' shape=(3,) dtype=int64>, '77': <tf.Tensor 'GatherV2_10:0' shape=() dtype=int64>, '78': <tf.Tensor 'Const_42:0' shape=() dtype=int64>, '79': <tf.Tensor 'Shape_17:0' shape=(3,) dtype=int64>, '80': <tf.Tensor 'GatherV2_11:0' shape=() dtype=int64>, '81': <tf.Tensor 'Const_43:0' shape=() dtype=int64>, '82': <tf.Tensor 'Const_44:0' shape=() dtype=int64>, '83': <tf.Tensor 'ExpandDims_10:0' shape=(1,) dtype=int64>, '84': <tf.Tensor 'ExpandDims_11:0' shape=(1,) dtype=int64>, '85': <tf.Tensor 'concat_5:0' shape=(2,) dtype=int64>, '86': <tf.Tensor 'Reshape_6:0' shape=(10, 9900) dtype=float32>, '87': <tf.Tensor 'Const_46:0' shape=(1,) dtype=float32>, '88': <tf.Tensor 'add_12:0' shape=(10, 100) dtype=float32>, '89': <tf.Tensor 'Const_47:0' shape=() dtype=int64>, '90': <tf.Tensor 'ExpandDims_12:0' shape=(1,) dtype=int64>, '91': <tf.Tensor 'ExpandDims_13:0' shape=(1,) dtype=int64>, '92': <tf.Tensor 'ExpandDims_14:0' shape=(1,) dtype=int64>, '93': <tf.Tensor 'concat_6:0' shape=(3,) dtype=int64>, '94': <tf.Tensor 'Reshape_7:0' shape=(1, 10, 100) dtype=float32>, '95': <tf.Tensor 'concat_7:0' shape=(1, 26, 100) dtype=float32>, '96': <tf.Tensor 'transpose_5:0' shape=(1, 100, 26) dtype=float32>, '97': <tf.Tensor 'Const_49:0' shape=(2,) dtype=int64>, '98': <tf.Tensor 'Reshape_8:0' shape=(100, 26) dtype=float32>, '99': <tf.Tensor 'add_15:0' shape=(100, 30) dtype=float32>, '100': <tf.Tensor 'Elu_3:0' shape=(100, 30) dtype=float32>, '101': <tf.Tensor 'add_16:0' shape=(100, 15) dtype=float32>, '102': <tf.Tensor 'Elu_4:0' shape=(100, 15) dtype=float32>, '103': <tf.Tensor 'add_17:0' shape=(100, 10) dtype=float32>, '104': <tf.Tensor 'Const_51:0' shape=(3,) dtype=int64>, '105': <tf.Tensor 'Reshape_9:0' shape=(1, 100, 10) dtype=float32>, '106': <tf.Tensor 'Elu_5:0' shape=(1, 100, 10) dtype=float32>, '107': <tf.Tensor 'Const_53:0' shape=(2,) dtype=int64>, '108': <tf.Tensor 'Reshape_10:0' shape=(1, 1000) dtype=float32>, '109': <tf.Tensor 'add_20:0' shape=(1, 30) dtype=float32>, '110': <tf.Tensor 'Elu_6:0' shape=(1, 30) dtype=float32>, '111': <tf.Tensor 'add_21:0' shape=(1, 15) dtype=float32>, '112': <tf.Tensor 'Elu_7:0' shape=(1, 15) dtype=float32>, 'output': <tf.Tensor 'add_22:0' shape=(1, 16) dtype=float32>}\n"
     ]
    }
   ],
   "source": [
    "model = onnx.load('test.onnx')\n",
    "onnx.checker.check_model(model)\n",
    "print(onnx.helper.printable_graph(model.graph))\n",
    "\n",
    "tf_rep = prepare(model)\n",
    "\n",
    "# Input nodes to the model\n",
    "print('inputs:', tf_rep.inputs)\n",
    "\n",
    "# Output nodes from the model\n",
    "print('outputs:', tf_rep.outputs)\n",
    "\n",
    "# All nodes in the model\n",
    "print('tensor_dict:')\n",
    "print(tf_rep.tensor_dict)\n",
    "\n",
    "tf_rep.export_graph('constantgraph.pb')"
   ]
  },
  {
   "cell_type": "code",
   "execution_count": 32,
   "metadata": {
    "ExecuteTime": {
     "end_time": "2019-07-22T20:02:44.124344Z",
     "start_time": "2019-07-22T20:02:37.416551Z"
    }
   },
   "outputs": [
    {
     "name": "stdout",
     "output_type": "stream",
     "text": [
      "[(<tf.Tensor 'Const:0' shape=(30,) dtype=float32>,), (<tf.Tensor 'Const_1:0' shape=(30, 1000) dtype=float32>,), (<tf.Tensor 'Const_2:0' shape=(15,) dtype=float32>,), (<tf.Tensor 'Const_3:0' shape=(15, 30) dtype=float32>,), (<tf.Tensor 'Const_4:0' shape=(16,) dtype=float32>,), (<tf.Tensor 'Const_5:0' shape=(16, 15) dtype=float32>,), (<tf.Tensor 'Const_6:0' shape=(30,) dtype=float32>,), (<tf.Tensor 'Const_7:0' shape=(30, 26) dtype=float32>,), (<tf.Tensor 'Const_8:0' shape=(15,) dtype=float32>,), (<tf.Tensor 'Const_9:0' shape=(15, 30) dtype=float32>,), (<tf.Tensor 'Const_10:0' shape=(10,) dtype=float32>,), (<tf.Tensor 'Const_11:0' shape=(10, 15) dtype=float32>,), (<tf.Tensor 'Const_12:0' shape=(30,) dtype=float32>,), (<tf.Tensor 'Const_13:0' shape=(30, 32) dtype=float32>,), (<tf.Tensor 'Const_14:0' shape=(15,) dtype=float32>,), (<tf.Tensor 'Const_15:0' shape=(15, 30) dtype=float32>,), (<tf.Tensor 'Const_16:0' shape=(10,) dtype=float32>,), (<tf.Tensor 'Const_17:0' shape=(10, 15) dtype=float32>,), (<tf.Tensor 'input:0' shape=(1, 16, 100) dtype=float32>,), (<tf.Tensor 'Const_18:0' shape=() dtype=int64>,), (<tf.Tensor 'Shape:0' shape=(3,) dtype=int64>,), (<tf.Tensor 'GatherV2/axis:0' shape=() dtype=int32>,), (<tf.Tensor 'GatherV2:0' shape=() dtype=int64>,), (<tf.Tensor 'Const_19:0' shape=() dtype=int64>,), (<tf.Tensor 'Shape_1:0' shape=(3,) dtype=int64>,), (<tf.Tensor 'GatherV2_1/axis:0' shape=() dtype=int32>,), (<tf.Tensor 'GatherV2_1:0' shape=() dtype=int64>,), (<tf.Tensor 'Const_20:0' shape=(100, 9900) dtype=float32>,), (<tf.Tensor 'Const_21:0' shape=() dtype=int64>,), (<tf.Tensor 'Const_22:0' shape=() dtype=int64>,), (<tf.Tensor 'ExpandDims/dim:0' shape=() dtype=int32>,), (<tf.Tensor 'ExpandDims:0' shape=(1,) dtype=int64>,), (<tf.Tensor 'ExpandDims_1/dim:0' shape=() dtype=int32>,), (<tf.Tensor 'ExpandDims_1:0' shape=(1,) dtype=int64>,), (<tf.Tensor 'concat/axis:0' shape=() dtype=int32>,), (<tf.Tensor 'concat:0' shape=(2,) dtype=int64>,), (<tf.Tensor 'Shape_2:0' shape=(3,) dtype=int64>,), (<tf.Tensor 'Const_23:0' shape=() dtype=int64>,), (<tf.Tensor 'Equal:0' shape=(2,) dtype=bool>,), (<tf.Tensor 'Where:0' shape=(?, 1) dtype=int64>,), (<tf.Tensor 'Squeeze:0' shape=(?,) dtype=int64>,), (<tf.Tensor 'GatherV2_2/axis:0' shape=() dtype=int32>,), (<tf.Tensor 'GatherV2_2:0' shape=(?,) dtype=int64>,), (<tf.Tensor 'Shape_3:0' shape=(1,) dtype=int32>,), (<tf.Tensor 'Cast:0' shape=(1,) dtype=int64>,), (<tf.Tensor 'SparseToDense/default_value:0' shape=() dtype=int64>,), (<tf.Tensor 'SparseToDense:0' shape=(2,) dtype=int64>,), (<tf.Tensor 'add:0' shape=(2,) dtype=int64>,), (<tf.Tensor 'Reshape:0' shape=(16, 100) dtype=float32>,), (<tf.Tensor 'Const_24:0' shape=(1,) dtype=float32>,), (<tf.Tensor 'flatten/Reshape/shape:0' shape=(2,) dtype=int32>,), (<tf.Tensor 'flatten/Reshape:0' shape=(16, 100) dtype=float32>,), (<tf.Tensor 'MatMul:0' shape=(16, 9900) dtype=float32>,), (<tf.Tensor 'mul/x:0' shape=() dtype=float32>,), (<tf.Tensor 'mul:0' shape=(16, 9900) dtype=float32>,), (<tf.Tensor 'mul_1/x:0' shape=() dtype=float32>,), (<tf.Tensor 'mul_1:0' shape=(1,) dtype=float32>,), (<tf.Tensor 'add_1:0' shape=(16, 9900) dtype=float32>,), (<tf.Tensor 'Const_25:0' shape=() dtype=int64>,), (<tf.Tensor 'ExpandDims_2/dim:0' shape=() dtype=int32>,), (<tf.Tensor 'ExpandDims_2:0' shape=(1,) dtype=int64>,), (<tf.Tensor 'ExpandDims_3/dim:0' shape=() dtype=int32>,), (<tf.Tensor 'ExpandDims_3:0' shape=(1,) dtype=int64>,), (<tf.Tensor 'ExpandDims_4/dim:0' shape=() dtype=int32>,), (<tf.Tensor 'ExpandDims_4:0' shape=(1,) dtype=int64>,), (<tf.Tensor 'concat_1/axis:0' shape=() dtype=int32>,), (<tf.Tensor 'concat_1:0' shape=(3,) dtype=int64>,), (<tf.Tensor 'Shape_4:0' shape=(2,) dtype=int64>,), (<tf.Tensor 'Const_26:0' shape=() dtype=int64>,), (<tf.Tensor 'Equal_1:0' shape=(3,) dtype=bool>,), (<tf.Tensor 'Where_1:0' shape=(?, 1) dtype=int64>,), (<tf.Tensor 'Squeeze_1:0' shape=(?,) dtype=int64>,), (<tf.Tensor 'GatherV2_3/axis:0' shape=() dtype=int32>,), (<tf.Tensor 'GatherV2_3:0' shape=(?,) dtype=int64>,), (<tf.Tensor 'Shape_5:0' shape=(1,) dtype=int32>,), (<tf.Tensor 'Cast_1:0' shape=(1,) dtype=int64>,), (<tf.Tensor 'SparseToDense_1/default_value:0' shape=() dtype=int64>,), (<tf.Tensor 'SparseToDense_1:0' shape=(3,) dtype=int64>,), (<tf.Tensor 'add_2:0' shape=(3,) dtype=int64>,), (<tf.Tensor 'Reshape_1:0' shape=(1, 16, 9900) dtype=float32>,), (<tf.Tensor 'Const_27:0' shape=() dtype=int64>,), (<tf.Tensor 'Shape_6:0' shape=(3,) dtype=int64>,), (<tf.Tensor 'GatherV2_4/axis:0' shape=() dtype=int32>,), (<tf.Tensor 'GatherV2_4:0' shape=() dtype=int64>,), (<tf.Tensor 'Const_28:0' shape=() dtype=int64>,), (<tf.Tensor 'Shape_7:0' shape=(3,) dtype=int64>,), (<tf.Tensor 'GatherV2_5/axis:0' shape=() dtype=int32>,), (<tf.Tensor 'GatherV2_5:0' shape=() dtype=int64>,), (<tf.Tensor 'Const_29:0' shape=(100, 9900) dtype=float32>,), (<tf.Tensor 'Const_30:0' shape=() dtype=int64>,), (<tf.Tensor 'Const_31:0' shape=() dtype=int64>,), (<tf.Tensor 'ExpandDims_5/dim:0' shape=() dtype=int32>,), (<tf.Tensor 'ExpandDims_5:0' shape=(1,) dtype=int64>,), (<tf.Tensor 'ExpandDims_6/dim:0' shape=() dtype=int32>,), (<tf.Tensor 'ExpandDims_6:0' shape=(1,) dtype=int64>,), (<tf.Tensor 'concat_2/axis:0' shape=() dtype=int32>,), (<tf.Tensor 'concat_2:0' shape=(2,) dtype=int64>,), (<tf.Tensor 'Shape_8:0' shape=(3,) dtype=int64>,), (<tf.Tensor 'Const_32:0' shape=() dtype=int64>,), (<tf.Tensor 'Equal_2:0' shape=(2,) dtype=bool>,), (<tf.Tensor 'Where_2:0' shape=(?, 1) dtype=int64>,), (<tf.Tensor 'Squeeze_2:0' shape=(?,) dtype=int64>,), (<tf.Tensor 'GatherV2_6/axis:0' shape=() dtype=int32>,), (<tf.Tensor 'GatherV2_6:0' shape=(?,) dtype=int64>,), (<tf.Tensor 'Shape_9:0' shape=(1,) dtype=int32>,), (<tf.Tensor 'Cast_2:0' shape=(1,) dtype=int64>,), (<tf.Tensor 'SparseToDense_2/default_value:0' shape=() dtype=int64>,), (<tf.Tensor 'SparseToDense_2:0' shape=(2,) dtype=int64>,), (<tf.Tensor 'add_3:0' shape=(2,) dtype=int64>,), (<tf.Tensor 'Reshape_2:0' shape=(16, 100) dtype=float32>,), (<tf.Tensor 'Const_33:0' shape=(1,) dtype=float32>,), (<tf.Tensor 'flatten_1/Reshape/shape:0' shape=(2,) dtype=int32>,), (<tf.Tensor 'flatten_1/Reshape:0' shape=(16, 100) dtype=float32>,), (<tf.Tensor 'MatMul_1:0' shape=(16, 9900) dtype=float32>,), (<tf.Tensor 'mul_2/x:0' shape=() dtype=float32>,), (<tf.Tensor 'mul_2:0' shape=(16, 9900) dtype=float32>,), (<tf.Tensor 'mul_3/x:0' shape=() dtype=float32>,), (<tf.Tensor 'mul_3:0' shape=(1,) dtype=float32>,), (<tf.Tensor 'add_4:0' shape=(16, 9900) dtype=float32>,), (<tf.Tensor 'Const_34:0' shape=() dtype=int64>,), (<tf.Tensor 'ExpandDims_7/dim:0' shape=() dtype=int32>,), (<tf.Tensor 'ExpandDims_7:0' shape=(1,) dtype=int64>,), (<tf.Tensor 'ExpandDims_8/dim:0' shape=() dtype=int32>,), (<tf.Tensor 'ExpandDims_8:0' shape=(1,) dtype=int64>,), (<tf.Tensor 'ExpandDims_9/dim:0' shape=() dtype=int32>,), (<tf.Tensor 'ExpandDims_9:0' shape=(1,) dtype=int64>,), (<tf.Tensor 'concat_3/axis:0' shape=() dtype=int32>,), (<tf.Tensor 'concat_3:0' shape=(3,) dtype=int64>,), (<tf.Tensor 'Shape_10:0' shape=(2,) dtype=int64>,), (<tf.Tensor 'Const_35:0' shape=() dtype=int64>,), (<tf.Tensor 'Equal_3:0' shape=(3,) dtype=bool>,), (<tf.Tensor 'Where_3:0' shape=(?, 1) dtype=int64>,), (<tf.Tensor 'Squeeze_3:0' shape=(?,) dtype=int64>,), (<tf.Tensor 'GatherV2_7/axis:0' shape=() dtype=int32>,), (<tf.Tensor 'GatherV2_7:0' shape=(?,) dtype=int64>,), (<tf.Tensor 'Shape_11:0' shape=(1,) dtype=int32>,), (<tf.Tensor 'Cast_3:0' shape=(1,) dtype=int64>,), (<tf.Tensor 'SparseToDense_3/default_value:0' shape=() dtype=int64>,), (<tf.Tensor 'SparseToDense_3:0' shape=(3,) dtype=int64>,), (<tf.Tensor 'add_5:0' shape=(3,) dtype=int64>,), (<tf.Tensor 'Reshape_3:0' shape=(1, 16, 9900) dtype=float32>,), (<tf.Tensor 'concat_4/axis:0' shape=() dtype=int32>,), (<tf.Tensor 'concat_4:0' shape=(1, 32, 9900) dtype=float32>,), (<tf.Tensor 'transpose/perm:0' shape=(3,) dtype=int32>,), (<tf.Tensor 'transpose:0' shape=(1, 9900, 32) dtype=float32>,), (<tf.Tensor 'Const_36:0' shape=(2,) dtype=int64>,), (<tf.Tensor 'Shape_12:0' shape=(3,) dtype=int64>,), (<tf.Tensor 'Const_37:0' shape=() dtype=int64>,), (<tf.Tensor 'Equal_4:0' shape=(2,) dtype=bool>,), (<tf.Tensor 'Where_4:0' shape=(?, 1) dtype=int64>,), (<tf.Tensor 'Squeeze_4:0' shape=(?,) dtype=int64>,), (<tf.Tensor 'GatherV2_8/axis:0' shape=() dtype=int32>,), (<tf.Tensor 'GatherV2_8:0' shape=(?,) dtype=int64>,), (<tf.Tensor 'Shape_13:0' shape=(1,) dtype=int32>,), (<tf.Tensor 'Cast_4:0' shape=(1,) dtype=int64>,), (<tf.Tensor 'SparseToDense_4/default_value:0' shape=() dtype=int64>,), (<tf.Tensor 'SparseToDense_4:0' shape=(2,) dtype=int64>,), (<tf.Tensor 'add_6:0' shape=(2,) dtype=int64>,), (<tf.Tensor 'Reshape_4:0' shape=(9900, 32) dtype=float32>,), (<tf.Tensor 'flatten_2/Reshape/shape:0' shape=(2,) dtype=int32>,), (<tf.Tensor 'flatten_2/Reshape:0' shape=(9900, 32) dtype=float32>,), (<tf.Tensor 'transpose_1/perm:0' shape=(2,) dtype=int32>,), (<tf.Tensor 'transpose_1:0' shape=(32, 30) dtype=float32>,), (<tf.Tensor 'MatMul_2:0' shape=(9900, 30) dtype=float32>,), (<tf.Tensor 'mul_4/x:0' shape=() dtype=float32>,), (<tf.Tensor 'mul_4:0' shape=(9900, 30) dtype=float32>,), (<tf.Tensor 'mul_5/x:0' shape=() dtype=float32>,), (<tf.Tensor 'mul_5:0' shape=(30,) dtype=float32>,), (<tf.Tensor 'add_7:0' shape=(9900, 30) dtype=float32>,), (<tf.Tensor 'Elu:0' shape=(9900, 30) dtype=float32>,), (<tf.Tensor 'flatten_3/Reshape/shape:0' shape=(2,) dtype=int32>,), (<tf.Tensor 'flatten_3/Reshape:0' shape=(9900, 30) dtype=float32>,), (<tf.Tensor 'transpose_2/perm:0' shape=(2,) dtype=int32>,), (<tf.Tensor 'transpose_2:0' shape=(30, 15) dtype=float32>,), (<tf.Tensor 'MatMul_3:0' shape=(9900, 15) dtype=float32>,), (<tf.Tensor 'mul_6/x:0' shape=() dtype=float32>,), (<tf.Tensor 'mul_6:0' shape=(9900, 15) dtype=float32>,), (<tf.Tensor 'mul_7/x:0' shape=() dtype=float32>,), (<tf.Tensor 'mul_7:0' shape=(15,) dtype=float32>,), (<tf.Tensor 'add_8:0' shape=(9900, 15) dtype=float32>,), (<tf.Tensor 'Elu_1:0' shape=(9900, 15) dtype=float32>,), (<tf.Tensor 'flatten_4/Reshape/shape:0' shape=(2,) dtype=int32>,), (<tf.Tensor 'flatten_4/Reshape:0' shape=(9900, 15) dtype=float32>,), (<tf.Tensor 'transpose_3/perm:0' shape=(2,) dtype=int32>,), (<tf.Tensor 'transpose_3:0' shape=(15, 10) dtype=float32>,), (<tf.Tensor 'MatMul_4:0' shape=(9900, 10) dtype=float32>,), (<tf.Tensor 'mul_8/x:0' shape=() dtype=float32>,), (<tf.Tensor 'mul_8:0' shape=(9900, 10) dtype=float32>,), (<tf.Tensor 'mul_9/x:0' shape=() dtype=float32>,), (<tf.Tensor 'mul_9:0' shape=(10,) dtype=float32>,), (<tf.Tensor 'add_9:0' shape=(9900, 10) dtype=float32>,), (<tf.Tensor 'Const_38:0' shape=(3,) dtype=int64>,), (<tf.Tensor 'Shape_14:0' shape=(2,) dtype=int64>,), (<tf.Tensor 'Const_39:0' shape=() dtype=int64>,), (<tf.Tensor 'Equal_5:0' shape=(3,) dtype=bool>,), (<tf.Tensor 'Where_5:0' shape=(?, 1) dtype=int64>,), (<tf.Tensor 'Squeeze_5:0' shape=(?,) dtype=int64>,), (<tf.Tensor 'GatherV2_9/axis:0' shape=() dtype=int32>,), (<tf.Tensor 'GatherV2_9:0' shape=(?,) dtype=int64>,), (<tf.Tensor 'Shape_15:0' shape=(1,) dtype=int32>,), (<tf.Tensor 'Cast_5:0' shape=(1,) dtype=int64>,), (<tf.Tensor 'SparseToDense_5/default_value:0' shape=() dtype=int64>,), (<tf.Tensor 'SparseToDense_5:0' shape=(3,) dtype=int64>,), (<tf.Tensor 'add_10:0' shape=(3,) dtype=int64>,), (<tf.Tensor 'Reshape_5:0' shape=(1, 9900, 10) dtype=float32>,), (<tf.Tensor 'Elu_2:0' shape=(1, 9900, 10) dtype=float32>,), (<tf.Tensor 'transpose_4/perm:0' shape=(3,) dtype=int32>,), (<tf.Tensor 'transpose_4:0' shape=(1, 10, 9900) dtype=float32>,), (<tf.Tensor 'Const_40:0' shape=(9900, 100) dtype=float32>,), (<tf.Tensor 'Const_41:0' shape=() dtype=int64>,), (<tf.Tensor 'Shape_16:0' shape=(3,) dtype=int64>,), (<tf.Tensor 'GatherV2_10/axis:0' shape=() dtype=int32>,), (<tf.Tensor 'GatherV2_10:0' shape=() dtype=int64>,), (<tf.Tensor 'Const_42:0' shape=() dtype=int64>,), (<tf.Tensor 'Shape_17:0' shape=(3,) dtype=int64>,), (<tf.Tensor 'GatherV2_11/axis:0' shape=() dtype=int32>,), (<tf.Tensor 'GatherV2_11:0' shape=() dtype=int64>,), (<tf.Tensor 'Const_43:0' shape=() dtype=int64>,), (<tf.Tensor 'Const_44:0' shape=() dtype=int64>,), (<tf.Tensor 'ExpandDims_10/dim:0' shape=() dtype=int32>,), (<tf.Tensor 'ExpandDims_10:0' shape=(1,) dtype=int64>,), (<tf.Tensor 'ExpandDims_11/dim:0' shape=() dtype=int32>,), (<tf.Tensor 'ExpandDims_11:0' shape=(1,) dtype=int64>,), (<tf.Tensor 'concat_5/axis:0' shape=() dtype=int32>,), (<tf.Tensor 'concat_5:0' shape=(2,) dtype=int64>,), (<tf.Tensor 'Shape_18:0' shape=(3,) dtype=int64>,), (<tf.Tensor 'Const_45:0' shape=() dtype=int64>,), (<tf.Tensor 'Equal_6:0' shape=(2,) dtype=bool>,), (<tf.Tensor 'Where_6:0' shape=(?, 1) dtype=int64>,), (<tf.Tensor 'Squeeze_6:0' shape=(?,) dtype=int64>,), (<tf.Tensor 'GatherV2_12/axis:0' shape=() dtype=int32>,), (<tf.Tensor 'GatherV2_12:0' shape=(?,) dtype=int64>,), (<tf.Tensor 'Shape_19:0' shape=(1,) dtype=int32>,), (<tf.Tensor 'Cast_6:0' shape=(1,) dtype=int64>,), (<tf.Tensor 'SparseToDense_6/default_value:0' shape=() dtype=int64>,), (<tf.Tensor 'SparseToDense_6:0' shape=(2,) dtype=int64>,), (<tf.Tensor 'add_11:0' shape=(2,) dtype=int64>,), (<tf.Tensor 'Reshape_6:0' shape=(10, 9900) dtype=float32>,), (<tf.Tensor 'Const_46:0' shape=(1,) dtype=float32>,), (<tf.Tensor 'flatten_5/Reshape/shape:0' shape=(2,) dtype=int32>,), (<tf.Tensor 'flatten_5/Reshape:0' shape=(10, 9900) dtype=float32>,), (<tf.Tensor 'MatMul_5:0' shape=(10, 100) dtype=float32>,), (<tf.Tensor 'mul_10/x:0' shape=() dtype=float32>,), (<tf.Tensor 'mul_10:0' shape=(10, 100) dtype=float32>,), (<tf.Tensor 'mul_11/x:0' shape=() dtype=float32>,), (<tf.Tensor 'mul_11:0' shape=(1,) dtype=float32>,), (<tf.Tensor 'add_12:0' shape=(10, 100) dtype=float32>,), (<tf.Tensor 'Const_47:0' shape=() dtype=int64>,), (<tf.Tensor 'ExpandDims_12/dim:0' shape=() dtype=int32>,), (<tf.Tensor 'ExpandDims_12:0' shape=(1,) dtype=int64>,), (<tf.Tensor 'ExpandDims_13/dim:0' shape=() dtype=int32>,), (<tf.Tensor 'ExpandDims_13:0' shape=(1,) dtype=int64>,), (<tf.Tensor 'ExpandDims_14/dim:0' shape=() dtype=int32>,), (<tf.Tensor 'ExpandDims_14:0' shape=(1,) dtype=int64>,), (<tf.Tensor 'concat_6/axis:0' shape=() dtype=int32>,), (<tf.Tensor 'concat_6:0' shape=(3,) dtype=int64>,), (<tf.Tensor 'Shape_20:0' shape=(2,) dtype=int64>,), (<tf.Tensor 'Const_48:0' shape=() dtype=int64>,), (<tf.Tensor 'Equal_7:0' shape=(3,) dtype=bool>,), (<tf.Tensor 'Where_7:0' shape=(?, 1) dtype=int64>,), (<tf.Tensor 'Squeeze_7:0' shape=(?,) dtype=int64>,), (<tf.Tensor 'GatherV2_13/axis:0' shape=() dtype=int32>,), (<tf.Tensor 'GatherV2_13:0' shape=(?,) dtype=int64>,), (<tf.Tensor 'Shape_21:0' shape=(1,) dtype=int32>,), (<tf.Tensor 'Cast_7:0' shape=(1,) dtype=int64>,), (<tf.Tensor 'SparseToDense_7/default_value:0' shape=() dtype=int64>,), (<tf.Tensor 'SparseToDense_7:0' shape=(3,) dtype=int64>,), (<tf.Tensor 'add_13:0' shape=(3,) dtype=int64>,), (<tf.Tensor 'Reshape_7:0' shape=(1, 10, 100) dtype=float32>,), (<tf.Tensor 'concat_7/axis:0' shape=() dtype=int32>,), (<tf.Tensor 'concat_7:0' shape=(1, 26, 100) dtype=float32>,), (<tf.Tensor 'transpose_5/perm:0' shape=(3,) dtype=int32>,), (<tf.Tensor 'transpose_5:0' shape=(1, 100, 26) dtype=float32>,), (<tf.Tensor 'Const_49:0' shape=(2,) dtype=int64>,), (<tf.Tensor 'Shape_22:0' shape=(3,) dtype=int64>,), (<tf.Tensor 'Const_50:0' shape=() dtype=int64>,), (<tf.Tensor 'Equal_8:0' shape=(2,) dtype=bool>,), (<tf.Tensor 'Where_8:0' shape=(?, 1) dtype=int64>,), (<tf.Tensor 'Squeeze_8:0' shape=(?,) dtype=int64>,), (<tf.Tensor 'GatherV2_14/axis:0' shape=() dtype=int32>,), (<tf.Tensor 'GatherV2_14:0' shape=(?,) dtype=int64>,), (<tf.Tensor 'Shape_23:0' shape=(1,) dtype=int32>,), (<tf.Tensor 'Cast_8:0' shape=(1,) dtype=int64>,), (<tf.Tensor 'SparseToDense_8/default_value:0' shape=() dtype=int64>,), (<tf.Tensor 'SparseToDense_8:0' shape=(2,) dtype=int64>,), (<tf.Tensor 'add_14:0' shape=(2,) dtype=int64>,), (<tf.Tensor 'Reshape_8:0' shape=(100, 26) dtype=float32>,), (<tf.Tensor 'flatten_6/Reshape/shape:0' shape=(2,) dtype=int32>,), (<tf.Tensor 'flatten_6/Reshape:0' shape=(100, 26) dtype=float32>,), (<tf.Tensor 'transpose_6/perm:0' shape=(2,) dtype=int32>,), (<tf.Tensor 'transpose_6:0' shape=(26, 30) dtype=float32>,), (<tf.Tensor 'MatMul_6:0' shape=(100, 30) dtype=float32>,), (<tf.Tensor 'mul_12/x:0' shape=() dtype=float32>,), (<tf.Tensor 'mul_12:0' shape=(100, 30) dtype=float32>,), (<tf.Tensor 'mul_13/x:0' shape=() dtype=float32>,), (<tf.Tensor 'mul_13:0' shape=(30,) dtype=float32>,), (<tf.Tensor 'add_15:0' shape=(100, 30) dtype=float32>,), (<tf.Tensor 'Elu_3:0' shape=(100, 30) dtype=float32>,), (<tf.Tensor 'flatten_7/Reshape/shape:0' shape=(2,) dtype=int32>,), (<tf.Tensor 'flatten_7/Reshape:0' shape=(100, 30) dtype=float32>,), (<tf.Tensor 'transpose_7/perm:0' shape=(2,) dtype=int32>,), (<tf.Tensor 'transpose_7:0' shape=(30, 15) dtype=float32>,), (<tf.Tensor 'MatMul_7:0' shape=(100, 15) dtype=float32>,), (<tf.Tensor 'mul_14/x:0' shape=() dtype=float32>,), (<tf.Tensor 'mul_14:0' shape=(100, 15) dtype=float32>,), (<tf.Tensor 'mul_15/x:0' shape=() dtype=float32>,), (<tf.Tensor 'mul_15:0' shape=(15,) dtype=float32>,), (<tf.Tensor 'add_16:0' shape=(100, 15) dtype=float32>,), (<tf.Tensor 'Elu_4:0' shape=(100, 15) dtype=float32>,), (<tf.Tensor 'flatten_8/Reshape/shape:0' shape=(2,) dtype=int32>,), (<tf.Tensor 'flatten_8/Reshape:0' shape=(100, 15) dtype=float32>,), (<tf.Tensor 'transpose_8/perm:0' shape=(2,) dtype=int32>,), (<tf.Tensor 'transpose_8:0' shape=(15, 10) dtype=float32>,), (<tf.Tensor 'MatMul_8:0' shape=(100, 10) dtype=float32>,), (<tf.Tensor 'mul_16/x:0' shape=() dtype=float32>,), (<tf.Tensor 'mul_16:0' shape=(100, 10) dtype=float32>,), (<tf.Tensor 'mul_17/x:0' shape=() dtype=float32>,), (<tf.Tensor 'mul_17:0' shape=(10,) dtype=float32>,), (<tf.Tensor 'add_17:0' shape=(100, 10) dtype=float32>,), (<tf.Tensor 'Const_51:0' shape=(3,) dtype=int64>,), (<tf.Tensor 'Shape_24:0' shape=(2,) dtype=int64>,), (<tf.Tensor 'Const_52:0' shape=() dtype=int64>,), (<tf.Tensor 'Equal_9:0' shape=(3,) dtype=bool>,), (<tf.Tensor 'Where_9:0' shape=(?, 1) dtype=int64>,), (<tf.Tensor 'Squeeze_9:0' shape=(?,) dtype=int64>,), (<tf.Tensor 'GatherV2_15/axis:0' shape=() dtype=int32>,), (<tf.Tensor 'GatherV2_15:0' shape=(?,) dtype=int64>,), (<tf.Tensor 'Shape_25:0' shape=(1,) dtype=int32>,), (<tf.Tensor 'Cast_9:0' shape=(1,) dtype=int64>,), (<tf.Tensor 'SparseToDense_9/default_value:0' shape=() dtype=int64>,), (<tf.Tensor 'SparseToDense_9:0' shape=(3,) dtype=int64>,), (<tf.Tensor 'add_18:0' shape=(3,) dtype=int64>,), (<tf.Tensor 'Reshape_9:0' shape=(1, 100, 10) dtype=float32>,), (<tf.Tensor 'Elu_5:0' shape=(1, 100, 10) dtype=float32>,), (<tf.Tensor 'Const_53:0' shape=(2,) dtype=int64>,), (<tf.Tensor 'Shape_26:0' shape=(3,) dtype=int64>,), (<tf.Tensor 'Const_54:0' shape=() dtype=int64>,), (<tf.Tensor 'Equal_10:0' shape=(2,) dtype=bool>,), (<tf.Tensor 'Where_10:0' shape=(?, 1) dtype=int64>,), (<tf.Tensor 'Squeeze_10:0' shape=(?,) dtype=int64>,), (<tf.Tensor 'GatherV2_16/axis:0' shape=() dtype=int32>,), (<tf.Tensor 'GatherV2_16:0' shape=(?,) dtype=int64>,), (<tf.Tensor 'Shape_27:0' shape=(1,) dtype=int32>,), (<tf.Tensor 'Cast_10:0' shape=(1,) dtype=int64>,), (<tf.Tensor 'SparseToDense_10/default_value:0' shape=() dtype=int64>,), (<tf.Tensor 'SparseToDense_10:0' shape=(2,) dtype=int64>,), (<tf.Tensor 'add_19:0' shape=(2,) dtype=int64>,), (<tf.Tensor 'Reshape_10:0' shape=(1, 1000) dtype=float32>,), (<tf.Tensor 'flatten_9/Reshape/shape:0' shape=(2,) dtype=int32>,), (<tf.Tensor 'flatten_9/Reshape:0' shape=(1, 1000) dtype=float32>,), (<tf.Tensor 'transpose_9/perm:0' shape=(2,) dtype=int32>,), (<tf.Tensor 'transpose_9:0' shape=(1000, 30) dtype=float32>,), (<tf.Tensor 'MatMul_9:0' shape=(1, 30) dtype=float32>,), (<tf.Tensor 'mul_18/x:0' shape=() dtype=float32>,), (<tf.Tensor 'mul_18:0' shape=(1, 30) dtype=float32>,), (<tf.Tensor 'mul_19/x:0' shape=() dtype=float32>,), (<tf.Tensor 'mul_19:0' shape=(30,) dtype=float32>,), (<tf.Tensor 'add_20:0' shape=(1, 30) dtype=float32>,), (<tf.Tensor 'Elu_6:0' shape=(1, 30) dtype=float32>,), (<tf.Tensor 'flatten_10/Reshape/shape:0' shape=(2,) dtype=int32>,), (<tf.Tensor 'flatten_10/Reshape:0' shape=(1, 30) dtype=float32>,), (<tf.Tensor 'transpose_10/perm:0' shape=(2,) dtype=int32>,), (<tf.Tensor 'transpose_10:0' shape=(30, 15) dtype=float32>,), (<tf.Tensor 'MatMul_10:0' shape=(1, 15) dtype=float32>,), (<tf.Tensor 'mul_20/x:0' shape=() dtype=float32>,), (<tf.Tensor 'mul_20:0' shape=(1, 15) dtype=float32>,), (<tf.Tensor 'mul_21/x:0' shape=() dtype=float32>,), (<tf.Tensor 'mul_21:0' shape=(15,) dtype=float32>,), (<tf.Tensor 'add_21:0' shape=(1, 15) dtype=float32>,), (<tf.Tensor 'Elu_7:0' shape=(1, 15) dtype=float32>,), (<tf.Tensor 'flatten_11/Reshape/shape:0' shape=(2,) dtype=int32>,), (<tf.Tensor 'flatten_11/Reshape:0' shape=(1, 15) dtype=float32>,), (<tf.Tensor 'transpose_11/perm:0' shape=(2,) dtype=int32>,), (<tf.Tensor 'transpose_11:0' shape=(15, 16) dtype=float32>,), (<tf.Tensor 'MatMul_11:0' shape=(1, 16) dtype=float32>,), (<tf.Tensor 'mul_22/x:0' shape=() dtype=float32>,), (<tf.Tensor 'mul_22:0' shape=(1, 16) dtype=float32>,), (<tf.Tensor 'mul_23/x:0' shape=() dtype=float32>,), (<tf.Tensor 'mul_23:0' shape=(16,) dtype=float32>,), (<tf.Tensor 'add_22:0' shape=(1, 16) dtype=float32>,)]\n"
     ]
    },
    {
     "name": "stderr",
     "output_type": "stream",
     "text": [
      "W0722 13:02:43.987157 139635486955328 deprecation.py:323] From /nfshome/ocerri/miniconda2/envs/PartAN/lib/python3.7/site-packages/tensorflow/python/profiler/internal/flops_registry.py:142: tensor_shape_from_node_def_name (from tensorflow.python.framework.graph_util_impl) is deprecated and will be removed in a future version.\n",
      "Instructions for updating:\n",
      "Use `tf.compat.v1.graph_util.tensor_shape_from_node_def_name`\n"
     ]
    },
    {
     "name": "stdout",
     "output_type": "stream",
     "text": [
      "FLOP after freezing 116121330\n"
     ]
    },
    {
     "ename": "RuntimeError",
     "evalue": "No active exception to reraise",
     "output_type": "error",
     "traceback": [
      "\u001b[0;31m---------------------------------------------------------------------------\u001b[0m",
      "\u001b[0;31mRuntimeError\u001b[0m                              Traceback (most recent call last)",
      "\u001b[0;32m<ipython-input-32-510841e9c0e5>\u001b[0m in \u001b[0;36m<module>\u001b[0;34m\u001b[0m\n\u001b[1;32m     26\u001b[0m     \u001b[0mprint\u001b[0m\u001b[0;34m(\u001b[0m\u001b[0;34m'FLOP after freezing'\u001b[0m\u001b[0;34m,\u001b[0m \u001b[0mflops\u001b[0m\u001b[0;34m.\u001b[0m\u001b[0mtotal_float_ops\u001b[0m\u001b[0;34m)\u001b[0m\u001b[0;34m\u001b[0m\u001b[0;34m\u001b[0m\u001b[0m\n\u001b[1;32m     27\u001b[0m \u001b[0;34m\u001b[0m\u001b[0m\n\u001b[0;32m---> 28\u001b[0;31m \u001b[0;32mraise\u001b[0m\u001b[0;34m\u001b[0m\u001b[0;34m\u001b[0m\u001b[0m\n\u001b[0m",
      "\u001b[0;31mRuntimeError\u001b[0m: No active exception to reraise"
     ]
    }
   ],
   "source": [
    "tf.reset_default_graph()\n",
    "keras.backend.set_learning_phase(0)\n",
    "tfsession = keras.backend.get_session()\n",
    "\n",
    "graph, graph_def = load_graph('constantgraph.pb')\n",
    "\n",
    "ins = graph.get_tensor_by_name('input:0')\n",
    "ins_ones = np.ones([1, 16, 100])\n",
    "\n",
    "# batchnorm = graph.get_tensor_by_name('batch_normalization/keras_learning_phase:0')\n",
    "\n",
    "pred = graph.get_tensor_by_name('add_22:0')\n",
    "sess = tf.Session(graph=graph)\n",
    "run_metadata = tf.RunMetadata()\n",
    "op = sess.graph.get_operations()\n",
    "print([m.values() for m in op])\n",
    "with graph.as_default():\n",
    "    sess.run(tf.global_variables_initializer())\n",
    "    result = sess.run(pred, \n",
    "                      feed_dict={ins:ins_ones}, \n",
    "                      options=tf.RunOptions(trace_level=tf.RunOptions.FULL_TRACE),\n",
    "                      run_metadata=run_metadata)\n",
    "    flops = tf.profiler.profile(graph, \n",
    "                                options = tf.profiler.ProfileOptionBuilder.float_operation(),\n",
    "                                run_meta=run_metadata)\n",
    "    print('FLOP after freezing', flops.total_float_ops)\n",
    "    \n",
    "raise"
   ]
  },
  {
   "cell_type": "markdown",
   "metadata": {},
   "source": [
    "# JEDI-net with Sum over O"
   ]
  },
  {
   "cell_type": "code",
   "execution_count": 33,
   "metadata": {
    "ExecuteTime": {
     "end_time": "2019-07-22T20:06:21.339878Z",
     "start_time": "2019-07-22T20:06:21.288382Z"
    },
    "code_folding": [
     0
    ]
   },
   "outputs": [],
   "source": [
    "class GraphNet(nn.Module):\n",
    "    def __init__(self, n_constituents, n_targets, params, hidden, De, Do, \n",
    "                 fr_activation=0, fo_activation=0, fc_activation=0, optimizer = 0, verbose = False):\n",
    "        super(GraphNet, self).__init__()\n",
    "        self.hidden = hidden\n",
    "        self.P = len(params)\n",
    "        self.N = n_constituents\n",
    "        self.Nr = self.N * (self.N - 1)\n",
    "        self.Dr = 0\n",
    "        self.De = De\n",
    "        self.Dx = 0\n",
    "        self.Do = Do\n",
    "        self.n_targets = n_targets\n",
    "        self.fr_activation = fr_activation\n",
    "        self.fo_activation = fo_activation\n",
    "        self.fc_activation = fc_activation\n",
    "        self.optimizer = optimizer\n",
    "        self.verbose = verbose\n",
    "        self.assign_matrices()\n",
    "\n",
    "        self.Ra = torch.ones(self.Dr, self.Nr)\n",
    "        self.fr1 = nn.Linear(2 * self.P + self.Dr, hidden)\n",
    "        self.fr2 = nn.Linear(hidden, int(hidden/2))\n",
    "        self.fr3 = nn.Linear(int(hidden/2), self.De)\n",
    "        self.fo1 = nn.Linear(self.P + self.Dx + self.De, hidden)\n",
    "        self.fo2 = nn.Linear(hidden, int(hidden/2))\n",
    "        self.fo3 = nn.Linear(int(hidden/2), self.Do)\n",
    "        self.fc1 = nn.Linear(self.Do, hidden)\n",
    "        self.fc2 = nn.Linear(hidden, int(hidden/2))\n",
    "        self.fc3 = nn.Linear(int(hidden/2), self.n_targets)\n",
    "\n",
    "    def assign_matrices(self):\n",
    "        self.Rr = torch.zeros(self.N, self.Nr)\n",
    "        self.Rs = torch.zeros(self.N, self.Nr)\n",
    "        receiver_sender_list = [i for i in itertools.product(range(self.N), range(self.N)) if i[0]!=i[1]]\n",
    "        for i, (r, s) in enumerate(receiver_sender_list):\n",
    "            self.Rr[r, i] = 1\n",
    "            self.Rs[s, i] = 1\n",
    "        self.Rr = Variable(self.Rr)\n",
    "        self.Rs = Variable(self.Rs)\n",
    "\n",
    "    def forward(self, x):\n",
    "        Orr = self.tmul(x, self.Rr)\n",
    "        Ors = self.tmul(x, self.Rs)\n",
    "        B = torch.cat([Orr, Ors], 1)\n",
    "        ### First MLP ###\n",
    "        B = torch.transpose(B, 1, 2).contiguous()\n",
    "        if self.fr_activation ==2:\n",
    "            B = nn.functional.selu(self.fr1(B.view(-1, 2 * self.P + self.Dr)))\n",
    "            B = nn.functional.selu(self.fr2(B))\n",
    "            E = nn.functional.selu(self.fr3(B).view(-1, self.Nr, self.De))            \n",
    "        elif self.fr_activation ==1:\n",
    "            B = nn.functional.elu(self.fr1(B.view(-1, 2 * self.P + self.Dr)))\n",
    "            B = nn.functional.elu(self.fr2(B))\n",
    "            E = nn.functional.elu(self.fr3(B).view(-1, self.Nr, self.De))\n",
    "        else:\n",
    "            B = nn.functional.relu(self.fr1(B.view(-1, 2 * self.P + self.Dr)))\n",
    "            B = nn.functional.relu(self.fr2(B))\n",
    "            E = nn.functional.relu(self.fr3(B).view(-1, self.Nr, self.De))\n",
    "        del B\n",
    "        E = torch.transpose(E, 1, 2).contiguous()\n",
    "        Ebar = self.tmul(E, torch.transpose(self.Rr, 0, 1).contiguous())\n",
    "        del E\n",
    "        C = torch.cat([x, Ebar], 1)\n",
    "        del Ebar\n",
    "        C = torch.transpose(C, 1, 2).contiguous()\n",
    "        ### Second MLP ###\n",
    "        if self.fo_activation ==2:\n",
    "            C = nn.functional.selu(self.fo1(C.view(-1, self.P + self.Dx + self.De)))\n",
    "            C = nn.functional.selu(self.fo2(C))\n",
    "            O = nn.functional.selu(self.fo3(C).view(-1, self.N, self.Do))\n",
    "        elif self.fo_activation ==1:\n",
    "            C = nn.functional.elu(self.fo1(C.view(-1, self.P + self.Dx + self.De)))\n",
    "            C = nn.functional.elu(self.fo2(C))\n",
    "            O = nn.functional.elu(self.fo3(C).view(-1, self.N, self.Do))\n",
    "        else:\n",
    "            C = nn.functional.relu(self.fo1(C.view(-1, self.P + self.Dx + self.De)))\n",
    "            C = nn.functional.relu(self.fo2(C))\n",
    "            O = nn.functional.relu(self.fo3(C).view(-1, self.N, self.Do))\n",
    "        del C\n",
    "        ## sum over the O matrix  \n",
    "        O = torch.sum( O, dim=1)\n",
    "        ### Classification MLP ###\n",
    "        if self.fc_activation ==2:\n",
    "            N = nn.functional.selu(self.fc1(O.view(-1, self.Do)))\n",
    "            N = nn.functional.selu(self.fc2(N))       \n",
    "        elif self.fc_activation ==1:\n",
    "            N = nn.functional.elu(self.fc1(O.view(-1, self.Do)))\n",
    "            N = nn.functional.elu(self.fc2(N))\n",
    "        else:\n",
    "            N = nn.functional.relu(self.fc1(O.view(-1, self.Do)))\n",
    "            N = nn.functional.relu(self.fc2(N))\n",
    "        del O\n",
    "        #N = nn.functional.relu(self.fc3(N))\n",
    "        N = self.fc3(N)\n",
    "        return N\n",
    "\n",
    "    def tmul(self, x, y):  #Takes (I * J * K)(K * L) -> I * J * L \n",
    "        x_shape = x.size()\n",
    "        y_shape = y.size()\n",
    "        return torch.mm(x.view(-1, x_shape[2]), y).view(-1, x_shape[1], y_shape[1])"
   ]
  },
  {
   "cell_type": "code",
   "execution_count": 34,
   "metadata": {
    "ExecuteTime": {
     "end_time": "2019-07-22T20:06:21.348322Z",
     "start_time": "2019-07-22T20:06:21.342533Z"
    }
   },
   "outputs": [],
   "source": [
    "# ### Prepare Dataset                                                                                                                                                  \n",
    "nParticles = 150\n",
    "x = []\n",
    "x.append(50) # hinned nodes                                                                                                                                            \n",
    "x.append(14) # De                                                                                                                                                      \n",
    "x.append(12) # Do                                                                                                                                                      \n",
    "x.append(2) # fr_activation_index                                                                                                                                      \n",
    "x.append(2) # fo_activation_index                                                                                                                                      \n",
    "x.append(2) # fc_activation_index                                                                                                                                      \n",
    "x.append(0) # optmizer_index           "
   ]
  },
  {
   "cell_type": "code",
   "execution_count": 36,
   "metadata": {
    "ExecuteTime": {
     "end_time": "2019-07-22T20:06:31.425287Z",
     "start_time": "2019-07-22T20:06:30.580977Z"
    }
   },
   "outputs": [],
   "source": [
    "mymodel = GraphNet(nParticles, len(params), params, int(x[0]), int(x[1]), int(x[2]), \n",
    "                       int(x[3]),  int(x[4]),  int(x[5]), int(x[6]), 0)"
   ]
  },
  {
   "cell_type": "code",
   "execution_count": 37,
   "metadata": {
    "ExecuteTime": {
     "end_time": "2019-07-22T20:06:32.468588Z",
     "start_time": "2019-07-22T20:06:32.464116Z"
    }
   },
   "outputs": [
    {
     "name": "stdout",
     "output_type": "stream",
     "text": [
      "GraphNet(\n",
      "  (fr1): Linear(in_features=32, out_features=50, bias=True)\n",
      "  (fr2): Linear(in_features=50, out_features=25, bias=True)\n",
      "  (fr3): Linear(in_features=25, out_features=14, bias=True)\n",
      "  (fo1): Linear(in_features=30, out_features=50, bias=True)\n",
      "  (fo2): Linear(in_features=50, out_features=25, bias=True)\n",
      "  (fo3): Linear(in_features=25, out_features=12, bias=True)\n",
      "  (fc1): Linear(in_features=12, out_features=50, bias=True)\n",
      "  (fc2): Linear(in_features=50, out_features=25, bias=True)\n",
      "  (fc3): Linear(in_features=25, out_features=16, bias=True)\n",
      ")\n",
      "\n",
      "Trainable parameters: 8767\n"
     ]
    }
   ],
   "source": [
    "print(mymodel)\n",
    "trainablePars = sum(p.numel() for p in mymodel.parameters() if p.requires_grad)\n",
    "print('\\nTrainable parameters:', trainablePars)"
   ]
  },
  {
   "cell_type": "code",
   "execution_count": 38,
   "metadata": {
    "ExecuteTime": {
     "end_time": "2019-07-22T20:06:36.757371Z",
     "start_time": "2019-07-22T20:06:36.028924Z"
    }
   },
   "outputs": [
    {
     "name": "stdout",
     "output_type": "stream",
     "text": [
      "graph(%input : Float(1, 16, 150),\n",
      "      %fr1.weight : Float(50, 32),\n",
      "      %fr1.bias : Float(50),\n",
      "      %fr2.weight : Float(25, 50),\n",
      "      %fr2.bias : Float(25),\n",
      "      %fr3.weight : Float(14, 25),\n",
      "      %fr3.bias : Float(14),\n",
      "      %fo1.weight : Float(50, 30),\n",
      "      %fo1.bias : Float(50),\n",
      "      %fo2.weight : Float(25, 50),\n",
      "      %fo2.bias : Float(25),\n",
      "      %fo3.weight : Float(12, 25),\n",
      "      %fo3.bias : Float(12),\n",
      "      %fc1.weight : Float(50, 12),\n",
      "      %fc1.bias : Float(50),\n",
      "      %fc2.weight : Float(25, 50),\n",
      "      %fc2.bias : Float(25),\n",
      "      %fc3.weight : Float(16, 25),\n",
      "      %fc3.bias : Float(16)):\n",
      "  %19 : Long() = onnx::Constant[value={1}](), scope: GraphNet\n",
      "  %20 : Tensor = onnx::Shape(%input), scope: GraphNet\n",
      "  %21 : Long() = onnx::Gather[axis=0](%20, %19), scope: GraphNet\n",
      "  %22 : Long() = onnx::Constant[value={2}](), scope: GraphNet\n",
      "  %23 : Tensor = onnx::Shape(%input), scope: GraphNet\n",
      "  %24 : Long() = onnx::Gather[axis=0](%23, %22), scope: GraphNet\n",
      "  %25 : Float(150, 22350) = onnx::Constant[value=<Tensor>](), scope: GraphNet\n",
      "  %26 : Long() = onnx::Constant[value={22350}]()\n",
      "  %27 : Long() = onnx::Constant[value={-1}](), scope: GraphNet\n",
      "  %28 : Tensor = onnx::Unsqueeze[axes=[0]](%27)\n",
      "  %29 : Tensor = onnx::Unsqueeze[axes=[0]](%24)\n",
      "  %30 : Tensor = onnx::Concat[axis=0](%28, %29)\n",
      "  %31 : Float(16, 150) = onnx::Reshape(%input, %30), scope: GraphNet\n",
      "  %32 : Tensor = onnx::Constant[value={0}](), scope: GraphNet\n",
      "  %33 : Float(16, 22350) = onnx::Gemm[alpha=1, beta=0](%31, %25, %32), scope: GraphNet\n",
      "  %34 : Long() = onnx::Constant[value={-1}](), scope: GraphNet\n",
      "  %35 : Tensor = onnx::Unsqueeze[axes=[0]](%34)\n",
      "  %36 : Tensor = onnx::Unsqueeze[axes=[0]](%21)\n",
      "  %37 : Tensor = onnx::Unsqueeze[axes=[0]](%26)\n",
      "  %38 : Tensor = onnx::Concat[axis=0](%35, %36, %37)\n",
      "  %39 : Float(1, 16, 22350) = onnx::Reshape(%33, %38), scope: GraphNet\n",
      "  %40 : Long() = onnx::Constant[value={1}](), scope: GraphNet\n",
      "  %41 : Tensor = onnx::Shape(%input), scope: GraphNet\n",
      "  %42 : Long() = onnx::Gather[axis=0](%41, %40), scope: GraphNet\n",
      "  %43 : Long() = onnx::Constant[value={2}](), scope: GraphNet\n",
      "  %44 : Tensor = onnx::Shape(%input), scope: GraphNet\n",
      "  %45 : Long() = onnx::Gather[axis=0](%44, %43), scope: GraphNet\n",
      "  %46 : Float(150, 22350) = onnx::Constant[value=<Tensor>](), scope: GraphNet\n",
      "  %47 : Long() = onnx::Constant[value={22350}]()\n",
      "  %48 : Long() = onnx::Constant[value={-1}](), scope: GraphNet\n",
      "  %49 : Tensor = onnx::Unsqueeze[axes=[0]](%48)\n",
      "  %50 : Tensor = onnx::Unsqueeze[axes=[0]](%45)\n",
      "  %51 : Tensor = onnx::Concat[axis=0](%49, %50)\n",
      "  %52 : Float(16, 150) = onnx::Reshape(%input, %51), scope: GraphNet\n",
      "  %53 : Tensor = onnx::Constant[value={0}](), scope: GraphNet\n",
      "  %54 : Float(16, 22350) = onnx::Gemm[alpha=1, beta=0](%52, %46, %53), scope: GraphNet\n",
      "  %55 : Long() = onnx::Constant[value={-1}](), scope: GraphNet\n",
      "  %56 : Tensor = onnx::Unsqueeze[axes=[0]](%55)\n",
      "  %57 : Tensor = onnx::Unsqueeze[axes=[0]](%42)\n",
      "  %58 : Tensor = onnx::Unsqueeze[axes=[0]](%47)\n",
      "  %59 : Tensor = onnx::Concat[axis=0](%56, %57, %58)\n",
      "  %60 : Float(1, 16, 22350) = onnx::Reshape(%54, %59), scope: GraphNet\n",
      "  %61 : Float(1, 32, 22350) = onnx::Concat[axis=1](%39, %60), scope: GraphNet\n",
      "  %62 : Float(1, 22350, 32) = onnx::Transpose[perm=[0, 2, 1]](%61), scope: GraphNet\n",
      "  %63 : Tensor = onnx::Constant[value= -1  32 [ Variable[CPUType]{2} ]](), scope: GraphNet\n",
      "  %64 : Float(22350, 32) = onnx::Reshape(%62, %63), scope: GraphNet\n",
      "  %65 : Float(22350, 50) = onnx::Gemm[alpha=1, beta=1, transB=1](%64, %fr1.weight, %fr1.bias), scope: GraphNet/Linear[fr1]\n",
      "  %66 : Float(22350, 50) = onnx::Selu(%65), scope: GraphNet\n",
      "  %67 : Float(22350, 25) = onnx::Gemm[alpha=1, beta=1, transB=1](%66, %fr2.weight, %fr2.bias), scope: GraphNet/Linear[fr2]\n",
      "  %68 : Float(22350, 25) = onnx::Selu(%67), scope: GraphNet\n",
      "  %69 : Float(22350, 14) = onnx::Gemm[alpha=1, beta=1, transB=1](%68, %fr3.weight, %fr3.bias), scope: GraphNet/Linear[fr3]\n",
      "  %70 : Tensor = onnx::Constant[value=    -1  22350     14 [ Variable[CPUType]{3} ]](), scope: GraphNet\n",
      "  %71 : Float(1, 22350, 14) = onnx::Reshape(%69, %70), scope: GraphNet\n",
      "  %72 : Float(1, 22350, 14) = onnx::Selu(%71), scope: GraphNet\n",
      "  %73 : Float(1, 14, 22350) = onnx::Transpose[perm=[0, 2, 1]](%72), scope: GraphNet\n",
      "  %74 : Float(22350, 150) = onnx::Constant[value=<Tensor>]()\n",
      "  %75 : Long() = onnx::Constant[value={1}](), scope: GraphNet\n",
      "  %76 : Tensor = onnx::Shape(%73), scope: GraphNet\n",
      "  %77 : Long() = onnx::Gather[axis=0](%76, %75), scope: GraphNet\n",
      "  %78 : Long() = onnx::Constant[value={2}](), scope: GraphNet\n",
      "  %79 : Tensor = onnx::Shape(%73), scope: GraphNet\n",
      "  %80 : Long() = onnx::Gather[axis=0](%79, %78), scope: GraphNet\n",
      "  %81 : Long() = onnx::Constant[value={150}]()\n",
      "  %82 : Long() = onnx::Constant[value={-1}](), scope: GraphNet\n",
      "  %83 : Tensor = onnx::Unsqueeze[axes=[0]](%82)\n",
      "  %84 : Tensor = onnx::Unsqueeze[axes=[0]](%80)\n",
      "  %85 : Tensor = onnx::Concat[axis=0](%83, %84)\n",
      "  %86 : Float(14, 22350) = onnx::Reshape(%73, %85), scope: GraphNet\n",
      "  %87 : Tensor = onnx::Constant[value={0}](), scope: GraphNet\n",
      "  %88 : Float(14, 150) = onnx::Gemm[alpha=1, beta=0](%86, %74, %87), scope: GraphNet\n",
      "  %89 : Long() = onnx::Constant[value={-1}](), scope: GraphNet\n",
      "  %90 : Tensor = onnx::Unsqueeze[axes=[0]](%89)\n",
      "  %91 : Tensor = onnx::Unsqueeze[axes=[0]](%77)\n",
      "  %92 : Tensor = onnx::Unsqueeze[axes=[0]](%81)\n",
      "  %93 : Tensor = onnx::Concat[axis=0](%90, %91, %92)\n",
      "  %94 : Float(1, 14, 150) = onnx::Reshape(%88, %93), scope: GraphNet\n",
      "  %95 : Float(1, 30, 150) = onnx::Concat[axis=1](%input, %94), scope: GraphNet\n",
      "  %96 : Float(1, 150, 30) = onnx::Transpose[perm=[0, 2, 1]](%95), scope: GraphNet\n",
      "  %97 : Tensor = onnx::Constant[value= -1  30 [ Variable[CPUType]{2} ]](), scope: GraphNet\n",
      "  %98 : Float(150, 30) = onnx::Reshape(%96, %97), scope: GraphNet\n",
      "  %99 : Float(150, 50) = onnx::Gemm[alpha=1, beta=1, transB=1](%98, %fo1.weight, %fo1.bias), scope: GraphNet/Linear[fo1]\n",
      "  %100 : Float(150, 50) = onnx::Selu(%99), scope: GraphNet\n",
      "  %101 : Float(150, 25) = onnx::Gemm[alpha=1, beta=1, transB=1](%100, %fo2.weight, %fo2.bias), scope: GraphNet/Linear[fo2]\n",
      "  %102 : Float(150, 25) = onnx::Selu(%101), scope: GraphNet\n",
      "  %103 : Float(150, 12) = onnx::Gemm[alpha=1, beta=1, transB=1](%102, %fo3.weight, %fo3.bias), scope: GraphNet/Linear[fo3]\n",
      "  %104 : Tensor = onnx::Constant[value=  -1  150   12 [ Variable[CPUType]{3} ]](), scope: GraphNet\n",
      "  %105 : Float(1, 150, 12) = onnx::Reshape(%103, %104), scope: GraphNet\n",
      "  %106 : Float(1, 150, 12) = onnx::Selu(%105), scope: GraphNet\n",
      "  %107 : Float(1, 12) = onnx::ReduceSum[axes=[1], keepdims=0](%106), scope: GraphNet\n",
      "  %108 : Tensor = onnx::Constant[value= -1  12 [ Variable[CPUType]{2} ]](), scope: GraphNet\n",
      "  %109 : Float(1, 12) = onnx::Reshape(%107, %108), scope: GraphNet\n",
      "  %110 : Float(1, 50) = onnx::Gemm[alpha=1, beta=1, transB=1](%109, %fc1.weight, %fc1.bias), scope: GraphNet/Linear[fc1]\n",
      "  %111 : Float(1, 50) = onnx::Selu(%110), scope: GraphNet\n",
      "  %112 : Float(1, 25) = onnx::Gemm[alpha=1, beta=1, transB=1](%111, %fc2.weight, %fc2.bias), scope: GraphNet/Linear[fc2]\n",
      "  %113 : Float(1, 25) = onnx::Selu(%112), scope: GraphNet\n",
      "  %output : Float(1, 16) = onnx::Gemm[alpha=1, beta=1, transB=1](%113, %fc3.weight, %fc3.bias), scope: GraphNet/Linear[fc3]\n",
      "  return (%output)\n",
      "\n"
     ]
    }
   ],
   "source": [
    "dummy_input = torch.ones((1,16,150))\n",
    "out_test = mymodel(dummy_input)\n",
    "\n",
    "torch.onnx.export(mymodel, dummy_input, \n",
    "                  \"test.onnx\", \n",
    "                  verbose=True,\n",
    "                  input_names = ['input'], \n",
    "                  output_names = ['output'])"
   ]
  },
  {
   "cell_type": "code",
   "execution_count": 39,
   "metadata": {
    "ExecuteTime": {
     "end_time": "2019-07-22T20:06:53.150110Z",
     "start_time": "2019-07-22T20:06:52.223900Z"
    }
   },
   "outputs": [
    {
     "name": "stdout",
     "output_type": "stream",
     "text": [
      "graph torch-jit-export (\n",
      "  %input[FLOAT, 1x16x150]\n",
      ") initializers (\n",
      "  %fr1.weight[FLOAT, 50x32]\n",
      "  %fr1.bias[FLOAT, 50]\n",
      "  %fr2.weight[FLOAT, 25x50]\n",
      "  %fr2.bias[FLOAT, 25]\n",
      "  %fr3.weight[FLOAT, 14x25]\n",
      "  %fr3.bias[FLOAT, 14]\n",
      "  %fo1.weight[FLOAT, 50x30]\n",
      "  %fo1.bias[FLOAT, 50]\n",
      "  %fo2.weight[FLOAT, 25x50]\n",
      "  %fo2.bias[FLOAT, 25]\n",
      "  %fo3.weight[FLOAT, 12x25]\n",
      "  %fo3.bias[FLOAT, 12]\n",
      "  %fc1.weight[FLOAT, 50x12]\n",
      "  %fc1.bias[FLOAT, 50]\n",
      "  %fc2.weight[FLOAT, 25x50]\n",
      "  %fc2.bias[FLOAT, 25]\n",
      "  %fc3.weight[FLOAT, 16x25]\n",
      "  %fc3.bias[FLOAT, 16]\n",
      ") {\n",
      "  %19 = Constant[value = <Scalar Tensor []>]()\n",
      "  %20 = Shape(%input)\n",
      "  %21 = Gather[axis = 0](%20, %19)\n",
      "  %22 = Constant[value = <Scalar Tensor []>]()\n",
      "  %23 = Shape(%input)\n",
      "  %24 = Gather[axis = 0](%23, %22)\n",
      "  %25 = Constant[value = <Tensor>]()\n",
      "  %26 = Constant[value = <Scalar Tensor []>]()\n",
      "  %27 = Constant[value = <Scalar Tensor []>]()\n",
      "  %28 = Unsqueeze[axes = [0]](%27)\n",
      "  %29 = Unsqueeze[axes = [0]](%24)\n",
      "  %30 = Concat[axis = 0](%28, %29)\n",
      "  %31 = Reshape(%input, %30)\n",
      "  %32 = Constant[value = <Tensor>]()\n",
      "  %33 = Gemm[alpha = 1, beta = 0](%31, %25, %32)\n",
      "  %34 = Constant[value = <Scalar Tensor []>]()\n",
      "  %35 = Unsqueeze[axes = [0]](%34)\n",
      "  %36 = Unsqueeze[axes = [0]](%21)\n",
      "  %37 = Unsqueeze[axes = [0]](%26)\n",
      "  %38 = Concat[axis = 0](%35, %36, %37)\n",
      "  %39 = Reshape(%33, %38)\n",
      "  %40 = Constant[value = <Scalar Tensor []>]()\n",
      "  %41 = Shape(%input)\n",
      "  %42 = Gather[axis = 0](%41, %40)\n",
      "  %43 = Constant[value = <Scalar Tensor []>]()\n",
      "  %44 = Shape(%input)\n",
      "  %45 = Gather[axis = 0](%44, %43)\n",
      "  %46 = Constant[value = <Tensor>]()\n",
      "  %47 = Constant[value = <Scalar Tensor []>]()\n",
      "  %48 = Constant[value = <Scalar Tensor []>]()\n",
      "  %49 = Unsqueeze[axes = [0]](%48)\n",
      "  %50 = Unsqueeze[axes = [0]](%45)\n",
      "  %51 = Concat[axis = 0](%49, %50)\n",
      "  %52 = Reshape(%input, %51)\n",
      "  %53 = Constant[value = <Tensor>]()\n",
      "  %54 = Gemm[alpha = 1, beta = 0](%52, %46, %53)\n",
      "  %55 = Constant[value = <Scalar Tensor []>]()\n",
      "  %56 = Unsqueeze[axes = [0]](%55)\n",
      "  %57 = Unsqueeze[axes = [0]](%42)\n",
      "  %58 = Unsqueeze[axes = [0]](%47)\n",
      "  %59 = Concat[axis = 0](%56, %57, %58)\n",
      "  %60 = Reshape(%54, %59)\n",
      "  %61 = Concat[axis = 1](%39, %60)\n",
      "  %62 = Transpose[perm = [0, 2, 1]](%61)\n",
      "  %63 = Constant[value = <Tensor>]()\n",
      "  %64 = Reshape(%62, %63)\n",
      "  %65 = Gemm[alpha = 1, beta = 1, transB = 1](%64, %fr1.weight, %fr1.bias)\n",
      "  %66 = Selu(%65)\n",
      "  %67 = Gemm[alpha = 1, beta = 1, transB = 1](%66, %fr2.weight, %fr2.bias)\n",
      "  %68 = Selu(%67)\n",
      "  %69 = Gemm[alpha = 1, beta = 1, transB = 1](%68, %fr3.weight, %fr3.bias)\n",
      "  %70 = Constant[value = <Tensor>]()\n",
      "  %71 = Reshape(%69, %70)\n",
      "  %72 = Selu(%71)\n",
      "  %73 = Transpose[perm = [0, 2, 1]](%72)\n",
      "  %74 = Constant[value = <Tensor>]()\n",
      "  %75 = Constant[value = <Scalar Tensor []>]()\n",
      "  %76 = Shape(%73)\n",
      "  %77 = Gather[axis = 0](%76, %75)\n",
      "  %78 = Constant[value = <Scalar Tensor []>]()\n",
      "  %79 = Shape(%73)\n",
      "  %80 = Gather[axis = 0](%79, %78)\n",
      "  %81 = Constant[value = <Scalar Tensor []>]()\n",
      "  %82 = Constant[value = <Scalar Tensor []>]()\n",
      "  %83 = Unsqueeze[axes = [0]](%82)\n",
      "  %84 = Unsqueeze[axes = [0]](%80)\n",
      "  %85 = Concat[axis = 0](%83, %84)\n",
      "  %86 = Reshape(%73, %85)\n",
      "  %87 = Constant[value = <Tensor>]()\n",
      "  %88 = Gemm[alpha = 1, beta = 0](%86, %74, %87)\n",
      "  %89 = Constant[value = <Scalar Tensor []>]()\n",
      "  %90 = Unsqueeze[axes = [0]](%89)\n",
      "  %91 = Unsqueeze[axes = [0]](%77)\n",
      "  %92 = Unsqueeze[axes = [0]](%81)\n",
      "  %93 = Concat[axis = 0](%90, %91, %92)\n",
      "  %94 = Reshape(%88, %93)\n",
      "  %95 = Concat[axis = 1](%input, %94)\n",
      "  %96 = Transpose[perm = [0, 2, 1]](%95)\n",
      "  %97 = Constant[value = <Tensor>]()\n",
      "  %98 = Reshape(%96, %97)\n",
      "  %99 = Gemm[alpha = 1, beta = 1, transB = 1](%98, %fo1.weight, %fo1.bias)\n",
      "  %100 = Selu(%99)\n",
      "  %101 = Gemm[alpha = 1, beta = 1, transB = 1](%100, %fo2.weight, %fo2.bias)\n",
      "  %102 = Selu(%101)\n",
      "  %103 = Gemm[alpha = 1, beta = 1, transB = 1](%102, %fo3.weight, %fo3.bias)\n",
      "  %104 = Constant[value = <Tensor>]()\n",
      "  %105 = Reshape(%103, %104)\n",
      "  %106 = Selu(%105)\n",
      "  %107 = ReduceSum[axes = [1], keepdims = 0](%106)\n",
      "  %108 = Constant[value = <Tensor>]()\n",
      "  %109 = Reshape(%107, %108)\n",
      "  %110 = Gemm[alpha = 1, beta = 1, transB = 1](%109, %fc1.weight, %fc1.bias)\n",
      "  %111 = Selu(%110)\n",
      "  %112 = Gemm[alpha = 1, beta = 1, transB = 1](%111, %fc2.weight, %fc2.bias)\n",
      "  %113 = Selu(%112)\n",
      "  %output = Gemm[alpha = 1, beta = 1, transB = 1](%113, %fc3.weight, %fc3.bias)\n",
      "  return %output\n",
      "}\n",
      "inputs: ['input']\n",
      "outputs: ['output']\n",
      "tensor_dict:\n",
      "{'fc1.bias': <tf.Tensor 'Const:0' shape=(50,) dtype=float32>, 'fc1.weight': <tf.Tensor 'Const_1:0' shape=(50, 12) dtype=float32>, 'fc2.bias': <tf.Tensor 'Const_2:0' shape=(25,) dtype=float32>, 'fc2.weight': <tf.Tensor 'Const_3:0' shape=(25, 50) dtype=float32>, 'fc3.bias': <tf.Tensor 'Const_4:0' shape=(16,) dtype=float32>, 'fc3.weight': <tf.Tensor 'Const_5:0' shape=(16, 25) dtype=float32>, 'fo1.bias': <tf.Tensor 'Const_6:0' shape=(50,) dtype=float32>, 'fo1.weight': <tf.Tensor 'Const_7:0' shape=(50, 30) dtype=float32>, 'fo2.bias': <tf.Tensor 'Const_8:0' shape=(25,) dtype=float32>, 'fo2.weight': <tf.Tensor 'Const_9:0' shape=(25, 50) dtype=float32>, 'fo3.bias': <tf.Tensor 'Const_10:0' shape=(12,) dtype=float32>, 'fo3.weight': <tf.Tensor 'Const_11:0' shape=(12, 25) dtype=float32>, 'fr1.bias': <tf.Tensor 'Const_12:0' shape=(50,) dtype=float32>, 'fr1.weight': <tf.Tensor 'Const_13:0' shape=(50, 32) dtype=float32>, 'fr2.bias': <tf.Tensor 'Const_14:0' shape=(25,) dtype=float32>, 'fr2.weight': <tf.Tensor 'Const_15:0' shape=(25, 50) dtype=float32>, 'fr3.bias': <tf.Tensor 'Const_16:0' shape=(14,) dtype=float32>, 'fr3.weight': <tf.Tensor 'Const_17:0' shape=(14, 25) dtype=float32>, 'input': <tf.Tensor 'input:0' shape=(1, 16, 150) dtype=float32>, '19': <tf.Tensor 'Const_18:0' shape=() dtype=int64>, '20': <tf.Tensor 'Shape:0' shape=(3,) dtype=int64>, '21': <tf.Tensor 'GatherV2:0' shape=() dtype=int64>, '22': <tf.Tensor 'Const_19:0' shape=() dtype=int64>, '23': <tf.Tensor 'Shape_1:0' shape=(3,) dtype=int64>, '24': <tf.Tensor 'GatherV2_1:0' shape=() dtype=int64>, '25': <tf.Tensor 'Const_20:0' shape=(150, 22350) dtype=float32>, '26': <tf.Tensor 'Const_21:0' shape=() dtype=int64>, '27': <tf.Tensor 'Const_22:0' shape=() dtype=int64>, '28': <tf.Tensor 'ExpandDims:0' shape=(1,) dtype=int64>, '29': <tf.Tensor 'ExpandDims_1:0' shape=(1,) dtype=int64>, '30': <tf.Tensor 'concat:0' shape=(2,) dtype=int64>, '31': <tf.Tensor 'Reshape:0' shape=(16, 150) dtype=float32>, '32': <tf.Tensor 'Const_24:0' shape=(1,) dtype=float32>, '33': <tf.Tensor 'add_1:0' shape=(16, 22350) dtype=float32>, '34': <tf.Tensor 'Const_25:0' shape=() dtype=int64>, '35': <tf.Tensor 'ExpandDims_2:0' shape=(1,) dtype=int64>, '36': <tf.Tensor 'ExpandDims_3:0' shape=(1,) dtype=int64>, '37': <tf.Tensor 'ExpandDims_4:0' shape=(1,) dtype=int64>, '38': <tf.Tensor 'concat_1:0' shape=(3,) dtype=int64>, '39': <tf.Tensor 'Reshape_1:0' shape=(1, 16, 22350) dtype=float32>, '40': <tf.Tensor 'Const_27:0' shape=() dtype=int64>, '41': <tf.Tensor 'Shape_6:0' shape=(3,) dtype=int64>, '42': <tf.Tensor 'GatherV2_4:0' shape=() dtype=int64>, '43': <tf.Tensor 'Const_28:0' shape=() dtype=int64>, '44': <tf.Tensor 'Shape_7:0' shape=(3,) dtype=int64>, '45': <tf.Tensor 'GatherV2_5:0' shape=() dtype=int64>, '46': <tf.Tensor 'Const_29:0' shape=(150, 22350) dtype=float32>, '47': <tf.Tensor 'Const_30:0' shape=() dtype=int64>, '48': <tf.Tensor 'Const_31:0' shape=() dtype=int64>, '49': <tf.Tensor 'ExpandDims_5:0' shape=(1,) dtype=int64>, '50': <tf.Tensor 'ExpandDims_6:0' shape=(1,) dtype=int64>, '51': <tf.Tensor 'concat_2:0' shape=(2,) dtype=int64>, '52': <tf.Tensor 'Reshape_2:0' shape=(16, 150) dtype=float32>, '53': <tf.Tensor 'Const_33:0' shape=(1,) dtype=float32>, '54': <tf.Tensor 'add_4:0' shape=(16, 22350) dtype=float32>, '55': <tf.Tensor 'Const_34:0' shape=() dtype=int64>, '56': <tf.Tensor 'ExpandDims_7:0' shape=(1,) dtype=int64>, '57': <tf.Tensor 'ExpandDims_8:0' shape=(1,) dtype=int64>, '58': <tf.Tensor 'ExpandDims_9:0' shape=(1,) dtype=int64>, '59': <tf.Tensor 'concat_3:0' shape=(3,) dtype=int64>, '60': <tf.Tensor 'Reshape_3:0' shape=(1, 16, 22350) dtype=float32>, '61': <tf.Tensor 'concat_4:0' shape=(1, 32, 22350) dtype=float32>, '62': <tf.Tensor 'transpose:0' shape=(1, 22350, 32) dtype=float32>, '63': <tf.Tensor 'Const_36:0' shape=(2,) dtype=int64>, '64': <tf.Tensor 'Reshape_4:0' shape=(22350, 32) dtype=float32>, '65': <tf.Tensor 'add_7:0' shape=(22350, 50) dtype=float32>, '66': <tf.Tensor 'Selu:0' shape=(22350, 50) dtype=float32>, '67': <tf.Tensor 'add_8:0' shape=(22350, 25) dtype=float32>, '68': <tf.Tensor 'Selu_1:0' shape=(22350, 25) dtype=float32>, '69': <tf.Tensor 'add_9:0' shape=(22350, 14) dtype=float32>, '70': <tf.Tensor 'Const_38:0' shape=(3,) dtype=int64>, '71': <tf.Tensor 'Reshape_5:0' shape=(1, 22350, 14) dtype=float32>, '72': <tf.Tensor 'Selu_2:0' shape=(1, 22350, 14) dtype=float32>, '73': <tf.Tensor 'transpose_4:0' shape=(1, 14, 22350) dtype=float32>, '74': <tf.Tensor 'Const_40:0' shape=(22350, 150) dtype=float32>, '75': <tf.Tensor 'Const_41:0' shape=() dtype=int64>, '76': <tf.Tensor 'Shape_16:0' shape=(3,) dtype=int64>, '77': <tf.Tensor 'GatherV2_10:0' shape=() dtype=int64>, '78': <tf.Tensor 'Const_42:0' shape=() dtype=int64>, '79': <tf.Tensor 'Shape_17:0' shape=(3,) dtype=int64>, '80': <tf.Tensor 'GatherV2_11:0' shape=() dtype=int64>, '81': <tf.Tensor 'Const_43:0' shape=() dtype=int64>, '82': <tf.Tensor 'Const_44:0' shape=() dtype=int64>, '83': <tf.Tensor 'ExpandDims_10:0' shape=(1,) dtype=int64>, '84': <tf.Tensor 'ExpandDims_11:0' shape=(1,) dtype=int64>, '85': <tf.Tensor 'concat_5:0' shape=(2,) dtype=int64>, '86': <tf.Tensor 'Reshape_6:0' shape=(14, 22350) dtype=float32>, '87': <tf.Tensor 'Const_46:0' shape=(1,) dtype=float32>, '88': <tf.Tensor 'add_12:0' shape=(14, 150) dtype=float32>, '89': <tf.Tensor 'Const_47:0' shape=() dtype=int64>, '90': <tf.Tensor 'ExpandDims_12:0' shape=(1,) dtype=int64>, '91': <tf.Tensor 'ExpandDims_13:0' shape=(1,) dtype=int64>, '92': <tf.Tensor 'ExpandDims_14:0' shape=(1,) dtype=int64>, '93': <tf.Tensor 'concat_6:0' shape=(3,) dtype=int64>, '94': <tf.Tensor 'Reshape_7:0' shape=(1, 14, 150) dtype=float32>, '95': <tf.Tensor 'concat_7:0' shape=(1, 30, 150) dtype=float32>, '96': <tf.Tensor 'transpose_5:0' shape=(1, 150, 30) dtype=float32>, '97': <tf.Tensor 'Const_49:0' shape=(2,) dtype=int64>, '98': <tf.Tensor 'Reshape_8:0' shape=(150, 30) dtype=float32>, '99': <tf.Tensor 'add_15:0' shape=(150, 50) dtype=float32>, '100': <tf.Tensor 'Selu_3:0' shape=(150, 50) dtype=float32>, '101': <tf.Tensor 'add_16:0' shape=(150, 25) dtype=float32>, '102': <tf.Tensor 'Selu_4:0' shape=(150, 25) dtype=float32>, '103': <tf.Tensor 'add_17:0' shape=(150, 12) dtype=float32>, '104': <tf.Tensor 'Const_51:0' shape=(3,) dtype=int64>, '105': <tf.Tensor 'Reshape_9:0' shape=(1, 150, 12) dtype=float32>, '106': <tf.Tensor 'Selu_5:0' shape=(1, 150, 12) dtype=float32>, '107': <tf.Tensor 'Sum:0' shape=(1, 12) dtype=float32>, '108': <tf.Tensor 'Const_53:0' shape=(2,) dtype=int64>, '109': <tf.Tensor 'Reshape_10:0' shape=(1, 12) dtype=float32>, '110': <tf.Tensor 'add_20:0' shape=(1, 50) dtype=float32>, '111': <tf.Tensor 'Selu_6:0' shape=(1, 50) dtype=float32>, '112': <tf.Tensor 'add_21:0' shape=(1, 25) dtype=float32>, '113': <tf.Tensor 'Selu_7:0' shape=(1, 25) dtype=float32>, 'output': <tf.Tensor 'add_22:0' shape=(1, 16) dtype=float32>}\n"
     ]
    }
   ],
   "source": [
    "model = onnx.load('test.onnx')\n",
    "onnx.checker.check_model(model)\n",
    "print(onnx.helper.printable_graph(model.graph))\n",
    "\n",
    "tf_rep = prepare(model)\n",
    "\n",
    "# Input nodes to the model\n",
    "print('inputs:', tf_rep.inputs)\n",
    "\n",
    "# Output nodes from the model\n",
    "print('outputs:', tf_rep.outputs)\n",
    "\n",
    "# All nodes in the model\n",
    "print('tensor_dict:')\n",
    "print(tf_rep.tensor_dict)\n",
    "\n",
    "tf_rep.export_graph('constantgraph.pb')"
   ]
  },
  {
   "cell_type": "code",
   "execution_count": 40,
   "metadata": {
    "ExecuteTime": {
     "end_time": "2019-07-22T20:07:08.811013Z",
     "start_time": "2019-07-22T20:07:06.279065Z"
    }
   },
   "outputs": [
    {
     "name": "stdout",
     "output_type": "stream",
     "text": [
      "[(<tf.Tensor 'Const:0' shape=(50,) dtype=float32>,), (<tf.Tensor 'Const_1:0' shape=(50, 12) dtype=float32>,), (<tf.Tensor 'Const_2:0' shape=(25,) dtype=float32>,), (<tf.Tensor 'Const_3:0' shape=(25, 50) dtype=float32>,), (<tf.Tensor 'Const_4:0' shape=(16,) dtype=float32>,), (<tf.Tensor 'Const_5:0' shape=(16, 25) dtype=float32>,), (<tf.Tensor 'Const_6:0' shape=(50,) dtype=float32>,), (<tf.Tensor 'Const_7:0' shape=(50, 30) dtype=float32>,), (<tf.Tensor 'Const_8:0' shape=(25,) dtype=float32>,), (<tf.Tensor 'Const_9:0' shape=(25, 50) dtype=float32>,), (<tf.Tensor 'Const_10:0' shape=(12,) dtype=float32>,), (<tf.Tensor 'Const_11:0' shape=(12, 25) dtype=float32>,), (<tf.Tensor 'Const_12:0' shape=(50,) dtype=float32>,), (<tf.Tensor 'Const_13:0' shape=(50, 32) dtype=float32>,), (<tf.Tensor 'Const_14:0' shape=(25,) dtype=float32>,), (<tf.Tensor 'Const_15:0' shape=(25, 50) dtype=float32>,), (<tf.Tensor 'Const_16:0' shape=(14,) dtype=float32>,), (<tf.Tensor 'Const_17:0' shape=(14, 25) dtype=float32>,), (<tf.Tensor 'input:0' shape=(1, 16, 150) dtype=float32>,), (<tf.Tensor 'Const_18:0' shape=() dtype=int64>,), (<tf.Tensor 'Shape:0' shape=(3,) dtype=int64>,), (<tf.Tensor 'GatherV2/axis:0' shape=() dtype=int32>,), (<tf.Tensor 'GatherV2:0' shape=() dtype=int64>,), (<tf.Tensor 'Const_19:0' shape=() dtype=int64>,), (<tf.Tensor 'Shape_1:0' shape=(3,) dtype=int64>,), (<tf.Tensor 'GatherV2_1/axis:0' shape=() dtype=int32>,), (<tf.Tensor 'GatherV2_1:0' shape=() dtype=int64>,), (<tf.Tensor 'Const_20:0' shape=(150, 22350) dtype=float32>,), (<tf.Tensor 'Const_21:0' shape=() dtype=int64>,), (<tf.Tensor 'Const_22:0' shape=() dtype=int64>,), (<tf.Tensor 'ExpandDims/dim:0' shape=() dtype=int32>,), (<tf.Tensor 'ExpandDims:0' shape=(1,) dtype=int64>,), (<tf.Tensor 'ExpandDims_1/dim:0' shape=() dtype=int32>,), (<tf.Tensor 'ExpandDims_1:0' shape=(1,) dtype=int64>,), (<tf.Tensor 'concat/axis:0' shape=() dtype=int32>,), (<tf.Tensor 'concat:0' shape=(2,) dtype=int64>,), (<tf.Tensor 'Shape_2:0' shape=(3,) dtype=int64>,), (<tf.Tensor 'Const_23:0' shape=() dtype=int64>,), (<tf.Tensor 'Equal:0' shape=(2,) dtype=bool>,), (<tf.Tensor 'Where:0' shape=(?, 1) dtype=int64>,), (<tf.Tensor 'Squeeze:0' shape=(?,) dtype=int64>,), (<tf.Tensor 'GatherV2_2/axis:0' shape=() dtype=int32>,), (<tf.Tensor 'GatherV2_2:0' shape=(?,) dtype=int64>,), (<tf.Tensor 'Shape_3:0' shape=(1,) dtype=int32>,), (<tf.Tensor 'Cast:0' shape=(1,) dtype=int64>,), (<tf.Tensor 'SparseToDense/default_value:0' shape=() dtype=int64>,), (<tf.Tensor 'SparseToDense:0' shape=(2,) dtype=int64>,), (<tf.Tensor 'add:0' shape=(2,) dtype=int64>,), (<tf.Tensor 'Reshape:0' shape=(16, 150) dtype=float32>,), (<tf.Tensor 'Const_24:0' shape=(1,) dtype=float32>,), (<tf.Tensor 'flatten/Reshape/shape:0' shape=(2,) dtype=int32>,), (<tf.Tensor 'flatten/Reshape:0' shape=(16, 150) dtype=float32>,), (<tf.Tensor 'MatMul:0' shape=(16, 22350) dtype=float32>,), (<tf.Tensor 'mul/x:0' shape=() dtype=float32>,), (<tf.Tensor 'mul:0' shape=(16, 22350) dtype=float32>,), (<tf.Tensor 'mul_1/x:0' shape=() dtype=float32>,), (<tf.Tensor 'mul_1:0' shape=(1,) dtype=float32>,), (<tf.Tensor 'add_1:0' shape=(16, 22350) dtype=float32>,), (<tf.Tensor 'Const_25:0' shape=() dtype=int64>,), (<tf.Tensor 'ExpandDims_2/dim:0' shape=() dtype=int32>,), (<tf.Tensor 'ExpandDims_2:0' shape=(1,) dtype=int64>,), (<tf.Tensor 'ExpandDims_3/dim:0' shape=() dtype=int32>,), (<tf.Tensor 'ExpandDims_3:0' shape=(1,) dtype=int64>,), (<tf.Tensor 'ExpandDims_4/dim:0' shape=() dtype=int32>,), (<tf.Tensor 'ExpandDims_4:0' shape=(1,) dtype=int64>,), (<tf.Tensor 'concat_1/axis:0' shape=() dtype=int32>,), (<tf.Tensor 'concat_1:0' shape=(3,) dtype=int64>,), (<tf.Tensor 'Shape_4:0' shape=(2,) dtype=int64>,), (<tf.Tensor 'Const_26:0' shape=() dtype=int64>,), (<tf.Tensor 'Equal_1:0' shape=(3,) dtype=bool>,), (<tf.Tensor 'Where_1:0' shape=(?, 1) dtype=int64>,), (<tf.Tensor 'Squeeze_1:0' shape=(?,) dtype=int64>,), (<tf.Tensor 'GatherV2_3/axis:0' shape=() dtype=int32>,), (<tf.Tensor 'GatherV2_3:0' shape=(?,) dtype=int64>,), (<tf.Tensor 'Shape_5:0' shape=(1,) dtype=int32>,), (<tf.Tensor 'Cast_1:0' shape=(1,) dtype=int64>,), (<tf.Tensor 'SparseToDense_1/default_value:0' shape=() dtype=int64>,), (<tf.Tensor 'SparseToDense_1:0' shape=(3,) dtype=int64>,), (<tf.Tensor 'add_2:0' shape=(3,) dtype=int64>,), (<tf.Tensor 'Reshape_1:0' shape=(1, 16, 22350) dtype=float32>,), (<tf.Tensor 'Const_27:0' shape=() dtype=int64>,), (<tf.Tensor 'Shape_6:0' shape=(3,) dtype=int64>,), (<tf.Tensor 'GatherV2_4/axis:0' shape=() dtype=int32>,), (<tf.Tensor 'GatherV2_4:0' shape=() dtype=int64>,), (<tf.Tensor 'Const_28:0' shape=() dtype=int64>,), (<tf.Tensor 'Shape_7:0' shape=(3,) dtype=int64>,), (<tf.Tensor 'GatherV2_5/axis:0' shape=() dtype=int32>,), (<tf.Tensor 'GatherV2_5:0' shape=() dtype=int64>,), (<tf.Tensor 'Const_29:0' shape=(150, 22350) dtype=float32>,), (<tf.Tensor 'Const_30:0' shape=() dtype=int64>,), (<tf.Tensor 'Const_31:0' shape=() dtype=int64>,), (<tf.Tensor 'ExpandDims_5/dim:0' shape=() dtype=int32>,), (<tf.Tensor 'ExpandDims_5:0' shape=(1,) dtype=int64>,), (<tf.Tensor 'ExpandDims_6/dim:0' shape=() dtype=int32>,), (<tf.Tensor 'ExpandDims_6:0' shape=(1,) dtype=int64>,), (<tf.Tensor 'concat_2/axis:0' shape=() dtype=int32>,), (<tf.Tensor 'concat_2:0' shape=(2,) dtype=int64>,), (<tf.Tensor 'Shape_8:0' shape=(3,) dtype=int64>,), (<tf.Tensor 'Const_32:0' shape=() dtype=int64>,), (<tf.Tensor 'Equal_2:0' shape=(2,) dtype=bool>,), (<tf.Tensor 'Where_2:0' shape=(?, 1) dtype=int64>,), (<tf.Tensor 'Squeeze_2:0' shape=(?,) dtype=int64>,), (<tf.Tensor 'GatherV2_6/axis:0' shape=() dtype=int32>,), (<tf.Tensor 'GatherV2_6:0' shape=(?,) dtype=int64>,), (<tf.Tensor 'Shape_9:0' shape=(1,) dtype=int32>,), (<tf.Tensor 'Cast_2:0' shape=(1,) dtype=int64>,), (<tf.Tensor 'SparseToDense_2/default_value:0' shape=() dtype=int64>,), (<tf.Tensor 'SparseToDense_2:0' shape=(2,) dtype=int64>,), (<tf.Tensor 'add_3:0' shape=(2,) dtype=int64>,), (<tf.Tensor 'Reshape_2:0' shape=(16, 150) dtype=float32>,), (<tf.Tensor 'Const_33:0' shape=(1,) dtype=float32>,), (<tf.Tensor 'flatten_1/Reshape/shape:0' shape=(2,) dtype=int32>,), (<tf.Tensor 'flatten_1/Reshape:0' shape=(16, 150) dtype=float32>,), (<tf.Tensor 'MatMul_1:0' shape=(16, 22350) dtype=float32>,), (<tf.Tensor 'mul_2/x:0' shape=() dtype=float32>,), (<tf.Tensor 'mul_2:0' shape=(16, 22350) dtype=float32>,), (<tf.Tensor 'mul_3/x:0' shape=() dtype=float32>,), (<tf.Tensor 'mul_3:0' shape=(1,) dtype=float32>,), (<tf.Tensor 'add_4:0' shape=(16, 22350) dtype=float32>,), (<tf.Tensor 'Const_34:0' shape=() dtype=int64>,), (<tf.Tensor 'ExpandDims_7/dim:0' shape=() dtype=int32>,), (<tf.Tensor 'ExpandDims_7:0' shape=(1,) dtype=int64>,), (<tf.Tensor 'ExpandDims_8/dim:0' shape=() dtype=int32>,), (<tf.Tensor 'ExpandDims_8:0' shape=(1,) dtype=int64>,), (<tf.Tensor 'ExpandDims_9/dim:0' shape=() dtype=int32>,), (<tf.Tensor 'ExpandDims_9:0' shape=(1,) dtype=int64>,), (<tf.Tensor 'concat_3/axis:0' shape=() dtype=int32>,), (<tf.Tensor 'concat_3:0' shape=(3,) dtype=int64>,), (<tf.Tensor 'Shape_10:0' shape=(2,) dtype=int64>,), (<tf.Tensor 'Const_35:0' shape=() dtype=int64>,), (<tf.Tensor 'Equal_3:0' shape=(3,) dtype=bool>,), (<tf.Tensor 'Where_3:0' shape=(?, 1) dtype=int64>,), (<tf.Tensor 'Squeeze_3:0' shape=(?,) dtype=int64>,), (<tf.Tensor 'GatherV2_7/axis:0' shape=() dtype=int32>,), (<tf.Tensor 'GatherV2_7:0' shape=(?,) dtype=int64>,), (<tf.Tensor 'Shape_11:0' shape=(1,) dtype=int32>,), (<tf.Tensor 'Cast_3:0' shape=(1,) dtype=int64>,), (<tf.Tensor 'SparseToDense_3/default_value:0' shape=() dtype=int64>,), (<tf.Tensor 'SparseToDense_3:0' shape=(3,) dtype=int64>,), (<tf.Tensor 'add_5:0' shape=(3,) dtype=int64>,), (<tf.Tensor 'Reshape_3:0' shape=(1, 16, 22350) dtype=float32>,), (<tf.Tensor 'concat_4/axis:0' shape=() dtype=int32>,), (<tf.Tensor 'concat_4:0' shape=(1, 32, 22350) dtype=float32>,), (<tf.Tensor 'transpose/perm:0' shape=(3,) dtype=int32>,), (<tf.Tensor 'transpose:0' shape=(1, 22350, 32) dtype=float32>,), (<tf.Tensor 'Const_36:0' shape=(2,) dtype=int64>,), (<tf.Tensor 'Shape_12:0' shape=(3,) dtype=int64>,), (<tf.Tensor 'Const_37:0' shape=() dtype=int64>,), (<tf.Tensor 'Equal_4:0' shape=(2,) dtype=bool>,), (<tf.Tensor 'Where_4:0' shape=(?, 1) dtype=int64>,), (<tf.Tensor 'Squeeze_4:0' shape=(?,) dtype=int64>,), (<tf.Tensor 'GatherV2_8/axis:0' shape=() dtype=int32>,), (<tf.Tensor 'GatherV2_8:0' shape=(?,) dtype=int64>,), (<tf.Tensor 'Shape_13:0' shape=(1,) dtype=int32>,), (<tf.Tensor 'Cast_4:0' shape=(1,) dtype=int64>,), (<tf.Tensor 'SparseToDense_4/default_value:0' shape=() dtype=int64>,), (<tf.Tensor 'SparseToDense_4:0' shape=(2,) dtype=int64>,), (<tf.Tensor 'add_6:0' shape=(2,) dtype=int64>,), (<tf.Tensor 'Reshape_4:0' shape=(22350, 32) dtype=float32>,), (<tf.Tensor 'flatten_2/Reshape/shape:0' shape=(2,) dtype=int32>,), (<tf.Tensor 'flatten_2/Reshape:0' shape=(22350, 32) dtype=float32>,), (<tf.Tensor 'transpose_1/perm:0' shape=(2,) dtype=int32>,), (<tf.Tensor 'transpose_1:0' shape=(32, 50) dtype=float32>,), (<tf.Tensor 'MatMul_2:0' shape=(22350, 50) dtype=float32>,), (<tf.Tensor 'mul_4/x:0' shape=() dtype=float32>,), (<tf.Tensor 'mul_4:0' shape=(22350, 50) dtype=float32>,), (<tf.Tensor 'mul_5/x:0' shape=() dtype=float32>,), (<tf.Tensor 'mul_5:0' shape=(50,) dtype=float32>,), (<tf.Tensor 'add_7:0' shape=(22350, 50) dtype=float32>,), (<tf.Tensor 'Selu:0' shape=(22350, 50) dtype=float32>,), (<tf.Tensor 'flatten_3/Reshape/shape:0' shape=(2,) dtype=int32>,), (<tf.Tensor 'flatten_3/Reshape:0' shape=(22350, 50) dtype=float32>,), (<tf.Tensor 'transpose_2/perm:0' shape=(2,) dtype=int32>,), (<tf.Tensor 'transpose_2:0' shape=(50, 25) dtype=float32>,), (<tf.Tensor 'MatMul_3:0' shape=(22350, 25) dtype=float32>,), (<tf.Tensor 'mul_6/x:0' shape=() dtype=float32>,), (<tf.Tensor 'mul_6:0' shape=(22350, 25) dtype=float32>,), (<tf.Tensor 'mul_7/x:0' shape=() dtype=float32>,), (<tf.Tensor 'mul_7:0' shape=(25,) dtype=float32>,), (<tf.Tensor 'add_8:0' shape=(22350, 25) dtype=float32>,), (<tf.Tensor 'Selu_1:0' shape=(22350, 25) dtype=float32>,), (<tf.Tensor 'flatten_4/Reshape/shape:0' shape=(2,) dtype=int32>,), (<tf.Tensor 'flatten_4/Reshape:0' shape=(22350, 25) dtype=float32>,), (<tf.Tensor 'transpose_3/perm:0' shape=(2,) dtype=int32>,), (<tf.Tensor 'transpose_3:0' shape=(25, 14) dtype=float32>,), (<tf.Tensor 'MatMul_4:0' shape=(22350, 14) dtype=float32>,), (<tf.Tensor 'mul_8/x:0' shape=() dtype=float32>,), (<tf.Tensor 'mul_8:0' shape=(22350, 14) dtype=float32>,), (<tf.Tensor 'mul_9/x:0' shape=() dtype=float32>,), (<tf.Tensor 'mul_9:0' shape=(14,) dtype=float32>,), (<tf.Tensor 'add_9:0' shape=(22350, 14) dtype=float32>,), (<tf.Tensor 'Const_38:0' shape=(3,) dtype=int64>,), (<tf.Tensor 'Shape_14:0' shape=(2,) dtype=int64>,), (<tf.Tensor 'Const_39:0' shape=() dtype=int64>,), (<tf.Tensor 'Equal_5:0' shape=(3,) dtype=bool>,), (<tf.Tensor 'Where_5:0' shape=(?, 1) dtype=int64>,), (<tf.Tensor 'Squeeze_5:0' shape=(?,) dtype=int64>,), (<tf.Tensor 'GatherV2_9/axis:0' shape=() dtype=int32>,), (<tf.Tensor 'GatherV2_9:0' shape=(?,) dtype=int64>,), (<tf.Tensor 'Shape_15:0' shape=(1,) dtype=int32>,), (<tf.Tensor 'Cast_5:0' shape=(1,) dtype=int64>,), (<tf.Tensor 'SparseToDense_5/default_value:0' shape=() dtype=int64>,), (<tf.Tensor 'SparseToDense_5:0' shape=(3,) dtype=int64>,), (<tf.Tensor 'add_10:0' shape=(3,) dtype=int64>,), (<tf.Tensor 'Reshape_5:0' shape=(1, 22350, 14) dtype=float32>,), (<tf.Tensor 'Selu_2:0' shape=(1, 22350, 14) dtype=float32>,), (<tf.Tensor 'transpose_4/perm:0' shape=(3,) dtype=int32>,), (<tf.Tensor 'transpose_4:0' shape=(1, 14, 22350) dtype=float32>,), (<tf.Tensor 'Const_40:0' shape=(22350, 150) dtype=float32>,), (<tf.Tensor 'Const_41:0' shape=() dtype=int64>,), (<tf.Tensor 'Shape_16:0' shape=(3,) dtype=int64>,), (<tf.Tensor 'GatherV2_10/axis:0' shape=() dtype=int32>,), (<tf.Tensor 'GatherV2_10:0' shape=() dtype=int64>,), (<tf.Tensor 'Const_42:0' shape=() dtype=int64>,), (<tf.Tensor 'Shape_17:0' shape=(3,) dtype=int64>,), (<tf.Tensor 'GatherV2_11/axis:0' shape=() dtype=int32>,), (<tf.Tensor 'GatherV2_11:0' shape=() dtype=int64>,), (<tf.Tensor 'Const_43:0' shape=() dtype=int64>,), (<tf.Tensor 'Const_44:0' shape=() dtype=int64>,), (<tf.Tensor 'ExpandDims_10/dim:0' shape=() dtype=int32>,), (<tf.Tensor 'ExpandDims_10:0' shape=(1,) dtype=int64>,), (<tf.Tensor 'ExpandDims_11/dim:0' shape=() dtype=int32>,), (<tf.Tensor 'ExpandDims_11:0' shape=(1,) dtype=int64>,), (<tf.Tensor 'concat_5/axis:0' shape=() dtype=int32>,), (<tf.Tensor 'concat_5:0' shape=(2,) dtype=int64>,), (<tf.Tensor 'Shape_18:0' shape=(3,) dtype=int64>,), (<tf.Tensor 'Const_45:0' shape=() dtype=int64>,), (<tf.Tensor 'Equal_6:0' shape=(2,) dtype=bool>,), (<tf.Tensor 'Where_6:0' shape=(?, 1) dtype=int64>,), (<tf.Tensor 'Squeeze_6:0' shape=(?,) dtype=int64>,), (<tf.Tensor 'GatherV2_12/axis:0' shape=() dtype=int32>,), (<tf.Tensor 'GatherV2_12:0' shape=(?,) dtype=int64>,), (<tf.Tensor 'Shape_19:0' shape=(1,) dtype=int32>,), (<tf.Tensor 'Cast_6:0' shape=(1,) dtype=int64>,), (<tf.Tensor 'SparseToDense_6/default_value:0' shape=() dtype=int64>,), (<tf.Tensor 'SparseToDense_6:0' shape=(2,) dtype=int64>,), (<tf.Tensor 'add_11:0' shape=(2,) dtype=int64>,), (<tf.Tensor 'Reshape_6:0' shape=(14, 22350) dtype=float32>,), (<tf.Tensor 'Const_46:0' shape=(1,) dtype=float32>,), (<tf.Tensor 'flatten_5/Reshape/shape:0' shape=(2,) dtype=int32>,), (<tf.Tensor 'flatten_5/Reshape:0' shape=(14, 22350) dtype=float32>,), (<tf.Tensor 'MatMul_5:0' shape=(14, 150) dtype=float32>,), (<tf.Tensor 'mul_10/x:0' shape=() dtype=float32>,), (<tf.Tensor 'mul_10:0' shape=(14, 150) dtype=float32>,), (<tf.Tensor 'mul_11/x:0' shape=() dtype=float32>,), (<tf.Tensor 'mul_11:0' shape=(1,) dtype=float32>,), (<tf.Tensor 'add_12:0' shape=(14, 150) dtype=float32>,), (<tf.Tensor 'Const_47:0' shape=() dtype=int64>,), (<tf.Tensor 'ExpandDims_12/dim:0' shape=() dtype=int32>,), (<tf.Tensor 'ExpandDims_12:0' shape=(1,) dtype=int64>,), (<tf.Tensor 'ExpandDims_13/dim:0' shape=() dtype=int32>,), (<tf.Tensor 'ExpandDims_13:0' shape=(1,) dtype=int64>,), (<tf.Tensor 'ExpandDims_14/dim:0' shape=() dtype=int32>,), (<tf.Tensor 'ExpandDims_14:0' shape=(1,) dtype=int64>,), (<tf.Tensor 'concat_6/axis:0' shape=() dtype=int32>,), (<tf.Tensor 'concat_6:0' shape=(3,) dtype=int64>,), (<tf.Tensor 'Shape_20:0' shape=(2,) dtype=int64>,), (<tf.Tensor 'Const_48:0' shape=() dtype=int64>,), (<tf.Tensor 'Equal_7:0' shape=(3,) dtype=bool>,), (<tf.Tensor 'Where_7:0' shape=(?, 1) dtype=int64>,), (<tf.Tensor 'Squeeze_7:0' shape=(?,) dtype=int64>,), (<tf.Tensor 'GatherV2_13/axis:0' shape=() dtype=int32>,), (<tf.Tensor 'GatherV2_13:0' shape=(?,) dtype=int64>,), (<tf.Tensor 'Shape_21:0' shape=(1,) dtype=int32>,), (<tf.Tensor 'Cast_7:0' shape=(1,) dtype=int64>,), (<tf.Tensor 'SparseToDense_7/default_value:0' shape=() dtype=int64>,), (<tf.Tensor 'SparseToDense_7:0' shape=(3,) dtype=int64>,), (<tf.Tensor 'add_13:0' shape=(3,) dtype=int64>,), (<tf.Tensor 'Reshape_7:0' shape=(1, 14, 150) dtype=float32>,), (<tf.Tensor 'concat_7/axis:0' shape=() dtype=int32>,), (<tf.Tensor 'concat_7:0' shape=(1, 30, 150) dtype=float32>,), (<tf.Tensor 'transpose_5/perm:0' shape=(3,) dtype=int32>,), (<tf.Tensor 'transpose_5:0' shape=(1, 150, 30) dtype=float32>,), (<tf.Tensor 'Const_49:0' shape=(2,) dtype=int64>,), (<tf.Tensor 'Shape_22:0' shape=(3,) dtype=int64>,), (<tf.Tensor 'Const_50:0' shape=() dtype=int64>,), (<tf.Tensor 'Equal_8:0' shape=(2,) dtype=bool>,), (<tf.Tensor 'Where_8:0' shape=(?, 1) dtype=int64>,), (<tf.Tensor 'Squeeze_8:0' shape=(?,) dtype=int64>,), (<tf.Tensor 'GatherV2_14/axis:0' shape=() dtype=int32>,), (<tf.Tensor 'GatherV2_14:0' shape=(?,) dtype=int64>,), (<tf.Tensor 'Shape_23:0' shape=(1,) dtype=int32>,), (<tf.Tensor 'Cast_8:0' shape=(1,) dtype=int64>,), (<tf.Tensor 'SparseToDense_8/default_value:0' shape=() dtype=int64>,), (<tf.Tensor 'SparseToDense_8:0' shape=(2,) dtype=int64>,), (<tf.Tensor 'add_14:0' shape=(2,) dtype=int64>,), (<tf.Tensor 'Reshape_8:0' shape=(150, 30) dtype=float32>,), (<tf.Tensor 'flatten_6/Reshape/shape:0' shape=(2,) dtype=int32>,), (<tf.Tensor 'flatten_6/Reshape:0' shape=(150, 30) dtype=float32>,), (<tf.Tensor 'transpose_6/perm:0' shape=(2,) dtype=int32>,), (<tf.Tensor 'transpose_6:0' shape=(30, 50) dtype=float32>,), (<tf.Tensor 'MatMul_6:0' shape=(150, 50) dtype=float32>,), (<tf.Tensor 'mul_12/x:0' shape=() dtype=float32>,), (<tf.Tensor 'mul_12:0' shape=(150, 50) dtype=float32>,), (<tf.Tensor 'mul_13/x:0' shape=() dtype=float32>,), (<tf.Tensor 'mul_13:0' shape=(50,) dtype=float32>,), (<tf.Tensor 'add_15:0' shape=(150, 50) dtype=float32>,), (<tf.Tensor 'Selu_3:0' shape=(150, 50) dtype=float32>,), (<tf.Tensor 'flatten_7/Reshape/shape:0' shape=(2,) dtype=int32>,), (<tf.Tensor 'flatten_7/Reshape:0' shape=(150, 50) dtype=float32>,), (<tf.Tensor 'transpose_7/perm:0' shape=(2,) dtype=int32>,), (<tf.Tensor 'transpose_7:0' shape=(50, 25) dtype=float32>,), (<tf.Tensor 'MatMul_7:0' shape=(150, 25) dtype=float32>,), (<tf.Tensor 'mul_14/x:0' shape=() dtype=float32>,), (<tf.Tensor 'mul_14:0' shape=(150, 25) dtype=float32>,), (<tf.Tensor 'mul_15/x:0' shape=() dtype=float32>,), (<tf.Tensor 'mul_15:0' shape=(25,) dtype=float32>,), (<tf.Tensor 'add_16:0' shape=(150, 25) dtype=float32>,), (<tf.Tensor 'Selu_4:0' shape=(150, 25) dtype=float32>,), (<tf.Tensor 'flatten_8/Reshape/shape:0' shape=(2,) dtype=int32>,), (<tf.Tensor 'flatten_8/Reshape:0' shape=(150, 25) dtype=float32>,), (<tf.Tensor 'transpose_8/perm:0' shape=(2,) dtype=int32>,), (<tf.Tensor 'transpose_8:0' shape=(25, 12) dtype=float32>,), (<tf.Tensor 'MatMul_8:0' shape=(150, 12) dtype=float32>,), (<tf.Tensor 'mul_16/x:0' shape=() dtype=float32>,), (<tf.Tensor 'mul_16:0' shape=(150, 12) dtype=float32>,), (<tf.Tensor 'mul_17/x:0' shape=() dtype=float32>,), (<tf.Tensor 'mul_17:0' shape=(12,) dtype=float32>,), (<tf.Tensor 'add_17:0' shape=(150, 12) dtype=float32>,), (<tf.Tensor 'Const_51:0' shape=(3,) dtype=int64>,), (<tf.Tensor 'Shape_24:0' shape=(2,) dtype=int64>,), (<tf.Tensor 'Const_52:0' shape=() dtype=int64>,), (<tf.Tensor 'Equal_9:0' shape=(3,) dtype=bool>,), (<tf.Tensor 'Where_9:0' shape=(?, 1) dtype=int64>,), (<tf.Tensor 'Squeeze_9:0' shape=(?,) dtype=int64>,), (<tf.Tensor 'GatherV2_15/axis:0' shape=() dtype=int32>,), (<tf.Tensor 'GatherV2_15:0' shape=(?,) dtype=int64>,), (<tf.Tensor 'Shape_25:0' shape=(1,) dtype=int32>,), (<tf.Tensor 'Cast_9:0' shape=(1,) dtype=int64>,), (<tf.Tensor 'SparseToDense_9/default_value:0' shape=() dtype=int64>,), (<tf.Tensor 'SparseToDense_9:0' shape=(3,) dtype=int64>,), (<tf.Tensor 'add_18:0' shape=(3,) dtype=int64>,), (<tf.Tensor 'Reshape_9:0' shape=(1, 150, 12) dtype=float32>,), (<tf.Tensor 'Selu_5:0' shape=(1, 150, 12) dtype=float32>,), (<tf.Tensor 'Sum/reduction_indices:0' shape=() dtype=int32>,), (<tf.Tensor 'Sum:0' shape=(1, 12) dtype=float32>,), (<tf.Tensor 'Const_53:0' shape=(2,) dtype=int64>,), (<tf.Tensor 'Shape_26:0' shape=(2,) dtype=int64>,), (<tf.Tensor 'Const_54:0' shape=() dtype=int64>,), (<tf.Tensor 'Equal_10:0' shape=(2,) dtype=bool>,), (<tf.Tensor 'Where_10:0' shape=(?, 1) dtype=int64>,), (<tf.Tensor 'Squeeze_10:0' shape=(?,) dtype=int64>,), (<tf.Tensor 'GatherV2_16/axis:0' shape=() dtype=int32>,), (<tf.Tensor 'GatherV2_16:0' shape=(?,) dtype=int64>,), (<tf.Tensor 'Shape_27:0' shape=(1,) dtype=int32>,), (<tf.Tensor 'Cast_10:0' shape=(1,) dtype=int64>,), (<tf.Tensor 'SparseToDense_10/default_value:0' shape=() dtype=int64>,), (<tf.Tensor 'SparseToDense_10:0' shape=(2,) dtype=int64>,), (<tf.Tensor 'add_19:0' shape=(2,) dtype=int64>,), (<tf.Tensor 'Reshape_10:0' shape=(1, 12) dtype=float32>,), (<tf.Tensor 'flatten_9/Reshape/shape:0' shape=(2,) dtype=int32>,), (<tf.Tensor 'flatten_9/Reshape:0' shape=(1, 12) dtype=float32>,), (<tf.Tensor 'transpose_9/perm:0' shape=(2,) dtype=int32>,), (<tf.Tensor 'transpose_9:0' shape=(12, 50) dtype=float32>,), (<tf.Tensor 'MatMul_9:0' shape=(1, 50) dtype=float32>,), (<tf.Tensor 'mul_18/x:0' shape=() dtype=float32>,), (<tf.Tensor 'mul_18:0' shape=(1, 50) dtype=float32>,), (<tf.Tensor 'mul_19/x:0' shape=() dtype=float32>,), (<tf.Tensor 'mul_19:0' shape=(50,) dtype=float32>,), (<tf.Tensor 'add_20:0' shape=(1, 50) dtype=float32>,), (<tf.Tensor 'Selu_6:0' shape=(1, 50) dtype=float32>,), (<tf.Tensor 'flatten_10/Reshape/shape:0' shape=(2,) dtype=int32>,), (<tf.Tensor 'flatten_10/Reshape:0' shape=(1, 50) dtype=float32>,), (<tf.Tensor 'transpose_10/perm:0' shape=(2,) dtype=int32>,), (<tf.Tensor 'transpose_10:0' shape=(50, 25) dtype=float32>,), (<tf.Tensor 'MatMul_10:0' shape=(1, 25) dtype=float32>,), (<tf.Tensor 'mul_20/x:0' shape=() dtype=float32>,), (<tf.Tensor 'mul_20:0' shape=(1, 25) dtype=float32>,), (<tf.Tensor 'mul_21/x:0' shape=() dtype=float32>,), (<tf.Tensor 'mul_21:0' shape=(25,) dtype=float32>,), (<tf.Tensor 'add_21:0' shape=(1, 25) dtype=float32>,), (<tf.Tensor 'Selu_7:0' shape=(1, 25) dtype=float32>,), (<tf.Tensor 'flatten_11/Reshape/shape:0' shape=(2,) dtype=int32>,), (<tf.Tensor 'flatten_11/Reshape:0' shape=(1, 25) dtype=float32>,), (<tf.Tensor 'transpose_11/perm:0' shape=(2,) dtype=int32>,), (<tf.Tensor 'transpose_11:0' shape=(25, 16) dtype=float32>,), (<tf.Tensor 'MatMul_11:0' shape=(1, 16) dtype=float32>,), (<tf.Tensor 'mul_22/x:0' shape=() dtype=float32>,), (<tf.Tensor 'mul_22:0' shape=(1, 16) dtype=float32>,), (<tf.Tensor 'mul_23/x:0' shape=() dtype=float32>,), (<tf.Tensor 'mul_23:0' shape=(16,) dtype=float32>,), (<tf.Tensor 'add_22:0' shape=(1, 16) dtype=float32>,)]\n"
     ]
    },
    {
     "name": "stdout",
     "output_type": "stream",
     "text": [
      "FLOP after freezing 457830794\n"
     ]
    },
    {
     "ename": "RuntimeError",
     "evalue": "No active exception to reraise",
     "output_type": "error",
     "traceback": [
      "\u001b[0;31m---------------------------------------------------------------------------\u001b[0m",
      "\u001b[0;31mRuntimeError\u001b[0m                              Traceback (most recent call last)",
      "\u001b[0;32m<ipython-input-40-82e63f226cbf>\u001b[0m in \u001b[0;36m<module>\u001b[0;34m\u001b[0m\n\u001b[1;32m     26\u001b[0m     \u001b[0mprint\u001b[0m\u001b[0;34m(\u001b[0m\u001b[0;34m'FLOP after freezing'\u001b[0m\u001b[0;34m,\u001b[0m \u001b[0mflops\u001b[0m\u001b[0;34m.\u001b[0m\u001b[0mtotal_float_ops\u001b[0m\u001b[0;34m)\u001b[0m\u001b[0;34m\u001b[0m\u001b[0;34m\u001b[0m\u001b[0m\n\u001b[1;32m     27\u001b[0m \u001b[0;34m\u001b[0m\u001b[0m\n\u001b[0;32m---> 28\u001b[0;31m \u001b[0;32mraise\u001b[0m\u001b[0;34m\u001b[0m\u001b[0;34m\u001b[0m\u001b[0m\n\u001b[0m",
      "\u001b[0;31mRuntimeError\u001b[0m: No active exception to reraise"
     ]
    }
   ],
   "source": [
    "tf.reset_default_graph()\n",
    "keras.backend.set_learning_phase(0)\n",
    "tfsession = keras.backend.get_session()\n",
    "\n",
    "graph, graph_def = load_graph('constantgraph.pb')\n",
    "\n",
    "ins = graph.get_tensor_by_name('input:0')\n",
    "ins_ones = np.ones([1, 16, 150])\n",
    "\n",
    "# batchnorm = graph.get_tensor_by_name('batch_normalization/keras_learning_phase:0')\n",
    "\n",
    "pred = graph.get_tensor_by_name('add_22:0')\n",
    "sess = tf.Session(graph=graph)\n",
    "run_metadata = tf.RunMetadata()\n",
    "op = sess.graph.get_operations()\n",
    "print([m.values() for m in op])\n",
    "with graph.as_default():\n",
    "    sess.run(tf.global_variables_initializer())\n",
    "    result = sess.run(pred, \n",
    "                      feed_dict={ins:ins_ones}, \n",
    "                      options=tf.RunOptions(trace_level=tf.RunOptions.FULL_TRACE),\n",
    "                      run_metadata=run_metadata)\n",
    "    flops = tf.profiler.profile(graph, \n",
    "                                options = tf.profiler.ProfileOptionBuilder.float_operation(),\n",
    "                                run_meta=run_metadata)\n",
    "    print('FLOP after freezing', flops.total_float_ops)\n",
    "    \n",
    "raise"
   ]
  },
  {
   "cell_type": "code",
   "execution_count": null,
   "metadata": {},
   "outputs": [],
   "source": []
  }
 ],
 "metadata": {
  "kernelspec": {
   "display_name": "Python 3",
   "language": "python",
   "name": "python3"
  },
  "language_info": {
   "codemirror_mode": {
    "name": "ipython",
    "version": 3
   },
   "file_extension": ".py",
   "mimetype": "text/x-python",
   "name": "python",
   "nbconvert_exporter": "python",
   "pygments_lexer": "ipython3",
   "version": "3.7.3"
  }
 },
 "nbformat": 4,
 "nbformat_minor": 2
}
