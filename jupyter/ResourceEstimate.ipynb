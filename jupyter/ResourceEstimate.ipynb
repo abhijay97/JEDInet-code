{
 "cells": [
  {
   "cell_type": "markdown",
   "metadata": {},
   "source": [
    "# Script to count Floops in a tensorflow model"
   ]
  },
  {
   "cell_type": "code",
   "execution_count": null,
   "metadata": {
    "ExecuteTime": {
     "end_time": "2019-07-22T18:41:57.313599Z",
     "start_time": "2019-07-22T18:41:55.219587Z"
    }
   },
   "outputs": [],
   "source": [
    "import os\n",
    "import tensorflow as tf\n",
    "import numpy as np\n",
    "def load_graph(frozen_graph_filename):\n",
    "\n",
    "    # We load the protobuf file from the disk and parse it to retrieve the unserialized graph_def\n",
    "    with tf.gfile.GFile(frozen_graph_filename, \"rb\") as f:\n",
    "        graph_def = tf.GraphDef()\n",
    "        graph_def.ParseFromString(f.read())\n",
    "    # Then, we import the graph_def into a new Graph and returns it\n",
    "    with tf.Graph().as_default() as graph:\n",
    "    # The name var will prefix every op/nodes in your graph\n",
    "    # Since we load everything in a new graph, this is not needed\n",
    "        tf.import_graph_def(graph_def, name=\"\")\n",
    "    return graph, graph_def"
   ]
  },
  {
   "cell_type": "code",
   "execution_count": null,
   "metadata": {
    "ExecuteTime": {
     "end_time": "2019-07-22T18:41:57.323526Z",
     "start_time": "2019-07-22T18:41:57.315436Z"
    }
   },
   "outputs": [],
   "source": [
    "from tensorflow import keras\n",
    "# keras imports\n",
    "from tensorflow.keras.models import Model, Sequential\n",
    "from tensorflow.keras.layers import Dense, Input, Conv2D, Dropout, Flatten\n",
    "from tensorflow.keras.layers import Concatenate, BatchNormalization, Activation\n",
    "from tensorflow.keras.layers import MaxPooling2D, MaxPooling3D, GRU\n",
    "from tensorflow.keras.utils import plot_model\n",
    "from tensorflow.keras import regularizers\n",
    "from tensorflow.keras import backend as K\n",
    "from tensorflow.keras import metrics\n",
    "from tensorflow.keras.callbacks import EarlyStopping, ReduceLROnPlateau, TerminateOnNaN\n",
    "from tensorflow.keras.regularizers import l1"
   ]
  },
  {
   "cell_type": "markdown",
   "metadata": {},
   "source": [
    "## Define all the utilities"
   ]
  },
  {
   "cell_type": "code",
   "execution_count": null,
   "metadata": {
    "ExecuteTime": {
     "end_time": "2019-07-22T18:41:57.327442Z",
     "start_time": "2019-07-22T18:41:57.325313Z"
    }
   },
   "outputs": [],
   "source": [
    "from tensorflow.python.framework import graph_util"
   ]
  },
  {
   "cell_type": "code",
   "execution_count": null,
   "metadata": {
    "ExecuteTime": {
     "end_time": "2019-07-22T18:41:57.344652Z",
     "start_time": "2019-07-22T18:41:57.329131Z"
    }
   },
   "outputs": [],
   "source": [
    "keras.backend.set_learning_phase(0)"
   ]
  },
  {
   "cell_type": "code",
   "execution_count": null,
   "metadata": {
    "ExecuteTime": {
     "end_time": "2019-07-22T18:41:57.349702Z",
     "start_time": "2019-07-22T18:41:57.346114Z"
    }
   },
   "outputs": [],
   "source": [
    "def load_graph(frozen_graph_filename):\n",
    "\n",
    "    # We load the protobuf file from the disk and parse it to retrieve the unserialized graph_def\n",
    "    with tf.gfile.GFile(frozen_graph_filename, \"rb\") as f:\n",
    "        graph_def = tf.GraphDef()\n",
    "        graph_def.ParseFromString(f.read())\n",
    "\n",
    "    # Then, we import the graph_def into a new Graph and returns it\n",
    "    with tf.Graph().as_default() as graph:\n",
    "        # The name var will prefix every op/nodes in your graph\n",
    "        # Since we load everything in a new graph, this is not needed\n",
    "        tf.import_graph_def(graph_def, name=\"\")\n",
    "    return graph, graph_def"
   ]
  },
  {
   "cell_type": "code",
   "execution_count": null,
   "metadata": {
    "ExecuteTime": {
     "end_time": "2019-07-22T18:41:57.357459Z",
     "start_time": "2019-07-22T18:41:57.354122Z"
    }
   },
   "outputs": [],
   "source": [
    "def getFLOPS(model):\n",
    "    run_meta = tf.RunMetadata()\n",
    "    opts = tf.profiler.ProfileOptionBuilder.float_operation()\n",
    "\n",
    "    # We use the Keras session graph in the call to the profiler.\n",
    "    flops = tf.profiler.profile(graph=K.get_session().graph,\n",
    "                                run_meta=run_meta, cmd='op', options=opts)\n",
    "\n",
    "    print(flops.total_float_ops)  # Prints the \"flops\" of the model."
   ]
  },
  {
   "cell_type": "markdown",
   "metadata": {},
   "source": [
    "# DNN"
   ]
  },
  {
   "cell_type": "code",
   "execution_count": null,
   "metadata": {
    "ExecuteTime": {
     "end_time": "2019-07-22T18:42:22.082814Z",
     "start_time": "2019-07-22T18:42:22.075904Z"
    },
    "code_folding": []
   },
   "outputs": [],
   "source": [
    "# # best model from optimization\n",
    "# DNN_neurons = 80\n",
    "# DNN_layers = 3\n",
    "# DNN_activation = 'elu'\n",
    "# dropout = 0.10\n",
    "# batch_size = 50\n",
    "# n_epochs = 500\n",
    "# labels = ['j_g', 'j_q', 'j_w', 'j_z', 'j_t']\n",
    "\n",
    "# # #  model\n",
    "# def myModel():\n",
    "#     inputArray = Input(shape=(input_shape,))\n",
    "#     x = Dense(DNN_neurons, activation=DNN_activation, \n",
    "#               kernel_initializer='lecun_uniform', name='dense_0')(inputArray)\n",
    "#     x = Dropout(dropout)(x)\n",
    "#     ####\n",
    "#     for i in range(1,DNN_layers):\n",
    "#         x = Dense(DNN_neurons, activation=DNN_activation, \n",
    "#                   kernel_initializer='lecun_uniform', name='dense_%i' %i)(x)\n",
    "#         x = Dropout(dropout)(x)\n",
    "\n",
    "#     output = Dense(5, activation='softmax', kernel_initializer='lecun_uniform', \n",
    "#                    name = 'output_softmax')(x)\n",
    "#     ####\n",
    "#     model = Model(inputs=inputArray, outputs=output)\n",
    "#     model.compile(optimizer='adam', loss='categorical_crossentropy', metrics=['acc'])\n",
    "#     return model"
   ]
  },
  {
   "cell_type": "code",
   "execution_count": null,
   "metadata": {
    "ExecuteTime": {
     "end_time": "2019-07-22T18:43:29.610926Z",
     "start_time": "2019-07-22T18:43:29.607993Z"
    }
   },
   "outputs": [],
   "source": [
    "# input_shape = len([12, 34, 35, 36, 37, 38, 39, 40, 41, 42, 43, 44, 45, 46, 48, 52])\n",
    "# thisModel = myModel()\n",
    "# thisModel.summary()"
   ]
  },
  {
   "cell_type": "code",
   "execution_count": null,
   "metadata": {
    "ExecuteTime": {
     "end_time": "2019-07-22T18:43:33.817616Z",
     "start_time": "2019-07-22T18:43:30.611676Z"
    }
   },
   "outputs": [],
   "source": [
    "# thisModel = myModel()\n",
    "# thisModel.compile(loss='MSE', optimizer='Adam')\n",
    "\n",
    "# getFLOPS(thisModel)"
   ]
  },
  {
   "cell_type": "code",
   "execution_count": null,
   "metadata": {
    "ExecuteTime": {
     "end_time": "2019-07-22T18:39:13.426979Z",
     "start_time": "2019-07-22T18:39:13.424730Z"
    },
    "code_folding": [],
    "scrolled": true
   },
   "outputs": [],
   "source": [
    "# keras.backend.set_learning_phase(0)\n",
    "# tfsession = keras.backend.get_session()\n",
    "\n",
    "# constant_graph = graph_util.convert_variables_to_constants(tfsession, \n",
    "#                                                            tfsession.graph.as_graph_def(),\n",
    "#                                                            ['output_softmax/Softmax'])\n",
    "\n",
    "# f = 'constantgraph.pb'\n",
    "# tf.train.write_graph(constant_graph, './', f, as_text=False)\n",
    "\n",
    "# graph, graph_def = load_graph('constantgraph.pb')\n",
    "\n",
    "# ins = graph.get_tensor_by_name('input_1:0')\n",
    "# ins_ones = np.ones([1, 16])\n",
    "\n",
    "# pred = graph.get_tensor_by_name('output_softmax/Softmax:0')\n",
    "# sess = tf.Session(graph=graph)\n",
    "# run_metadata = tf.RunMetadata()\n",
    "# op = sess.graph.get_operations()\n",
    "# print([m.values() for m in op])\n",
    "# with graph.as_default():\n",
    "#     sess.run(tf.global_variables_initializer())\n",
    "#     result = sess.run(pred, \n",
    "#                       feed_dict={ins:ins_ones}, \n",
    "#                       options=tf.RunOptions(trace_level=tf.RunOptions.FULL_TRACE),\n",
    "#                       run_metadata=run_metadata)\n",
    "#     flops = tf.profiler.profile(graph, \n",
    "#                                 options = tf.profiler.ProfileOptionBuilder.float_operation(),\n",
    "#                                 run_meta=run_metadata)\n",
    "#     print('FLOP after freezing', flops.total_float_ops)"
   ]
  },
  {
   "cell_type": "markdown",
   "metadata": {},
   "source": [
    "# CNN"
   ]
  },
  {
   "cell_type": "code",
   "execution_count": null,
   "metadata": {
    "ExecuteTime": {
     "end_time": "2019-07-22T18:39:13.430409Z",
     "start_time": "2019-07-22T18:39:13.428513Z"
    },
    "code_folding": [
     0
    ]
   },
   "outputs": [],
   "source": [
    "# CNN_filters = 10\n",
    "# CNN_filter_size = 3\n",
    "# CNN_MaxPool_size = 5\n",
    "# CNN_layers = 1\n",
    "# CNN_activation = 'elu'\n",
    "# DNN_neurons = 50\n",
    "# DNN_layers = 3\n",
    "# DNN_activation = 'elu'\n",
    "# dropout = 0.1\n",
    "# batch_size = 500\n",
    "# n_epochs = 500\n",
    "# labels = ['j_g', 'j_q', 'j_w', 'j_z', 'j_t']\n",
    "# nParticles = 50"
   ]
  },
  {
   "cell_type": "code",
   "execution_count": null,
   "metadata": {
    "ExecuteTime": {
     "end_time": "2019-07-22T18:39:13.434316Z",
     "start_time": "2019-07-22T18:39:13.431956Z"
    },
    "code_folding": [
     0
    ]
   },
   "outputs": [],
   "source": [
    "# #  model\n",
    "# def myModel():\n",
    "#     inputImage = Input(shape=(image_shape))\n",
    "#     x = Conv2D(CNN_filters, kernel_size=(CNN_filter_size,CNN_filter_size), \n",
    "#                data_format=\"channels_last\", strides=(1, 1), padding=\"same\", input_shape=image_shape,\n",
    "#                kernel_initializer='lecun_uniform', name='cnn2D_0')(inputImage)\n",
    "#     x = BatchNormalization()(x)\n",
    "#     x = Activation(CNN_activation)(x)\n",
    "#     x = MaxPooling2D( pool_size = (CNN_MaxPool_size,CNN_MaxPool_size))(x)\n",
    "#     x = Dropout(dropout)(x)\n",
    "#     for i in range(1,CNN_layers):\n",
    "#         x = Conv2D(CNN_filters, kernel_size=(CNN_filter_size,CNN_filter_size), \n",
    "#                    data_format=\"channels_last\", strides=(1, 1), padding=\"same\", input_shape=image_shape,\n",
    "#                    kernel_initializer='lecun_uniform', name='cnn2D_%i' %i)(x)\n",
    "#         x = BatchNormalization()(x)\n",
    "#         x = Activation(CNN_activation)(x)\n",
    "#         #x = MaxPooling2D( pool_size = (CNN_MaxPool_size,CNN_MaxPool_size))(x)\n",
    "#         x = Dropout(dropout)(x)\n",
    "        \n",
    "#     ####\n",
    "#     x = Flatten()(x)\n",
    "#     #\n",
    "#     for i in range(DNN_layers):\n",
    "#         x = Dense(DNN_neurons, activation=DNN_activation, \n",
    "#                   kernel_initializer='lecun_uniform', name='dense_%i' %i)(x)\n",
    "#         x = Dropout(dropout)(x)\n",
    "#     #\n",
    "#     output = Dense(5, activation='softmax', kernel_initializer='lecun_uniform', \n",
    "#                    name = 'output_softmax')(x)\n",
    "#     ####\n",
    "#     model = Model(inputs=inputImage, outputs=output)\n",
    "#     model.compile(optimizer='adam', loss='categorical_crossentropy', metrics=['acc'])\n",
    "\n",
    "#     return model"
   ]
  },
  {
   "cell_type": "code",
   "execution_count": null,
   "metadata": {
    "ExecuteTime": {
     "end_time": "2019-07-22T18:39:13.437615Z",
     "start_time": "2019-07-22T18:39:13.435778Z"
    },
    "code_folding": [
     0
    ]
   },
   "outputs": [],
   "source": [
    "# img_rows = 100#X.shape[1]\n",
    "# img_cols = 100#X.shape[2]\n",
    "# image_shape = (img_rows, img_cols, 1)"
   ]
  },
  {
   "cell_type": "code",
   "execution_count": null,
   "metadata": {
    "ExecuteTime": {
     "end_time": "2019-07-22T18:39:13.440911Z",
     "start_time": "2019-07-22T18:39:13.439197Z"
    }
   },
   "outputs": [],
   "source": [
    "# thisModel = myModel()\n",
    "# thisModel.summary()"
   ]
  },
  {
   "cell_type": "code",
   "execution_count": null,
   "metadata": {
    "ExecuteTime": {
     "end_time": "2019-07-22T18:39:13.444799Z",
     "start_time": "2019-07-22T18:39:13.442481Z"
    },
    "code_folding": [
     0
    ]
   },
   "outputs": [],
   "source": [
    "# keras.backend.set_learning_phase(0)\n",
    "# tfsession = keras.backend.get_session()\n",
    "\n",
    "# constant_graph = graph_util.convert_variables_to_constants(tfsession, \n",
    "#                                                            tfsession.graph.as_graph_def(),\n",
    "#                                                            ['output_softmax/Softmax'])\n",
    "\n",
    "# f = 'constantgraph.pb'\n",
    "# tf.train.write_graph(constant_graph, './', f, as_text=False)\n",
    "\n",
    "# graph, graph_def = load_graph('constantgraph.pb')\n",
    "\n",
    "# ins = graph.get_tensor_by_name('input_1:0')\n",
    "# ins_ones = np.ones([1, 100, 100, 1])\n",
    "\n",
    "# # batchnorm = graph.get_tensor_by_name('batch_normalization/keras_learning_phase:0')\n",
    "\n",
    "# pred = graph.get_tensor_by_name('output_softmax/Softmax:0')\n",
    "# sess = tf.Session(graph=graph)\n",
    "# run_metadata = tf.RunMetadata()\n",
    "# op = sess.graph.get_operations()\n",
    "# print([m.values() for m in op])\n",
    "# with graph.as_default():\n",
    "#     sess.run(tf.global_variables_initializer())\n",
    "#     result = sess.run(pred, \n",
    "#                       feed_dict={ins:ins_ones}, \n",
    "#                       options=tf.RunOptions(trace_level=tf.RunOptions.FULL_TRACE),\n",
    "#                       run_metadata=run_metadata)\n",
    "#     flops = tf.profiler.profile(graph, \n",
    "#                                 options = tf.profiler.ProfileOptionBuilder.float_operation(),\n",
    "#                                 run_meta=run_metadata)\n",
    "#     print('FLOP after freezing', flops.total_float_ops)\n",
    "    \n",
    "# raise"
   ]
  },
  {
   "cell_type": "markdown",
   "metadata": {},
   "source": [
    "# GRU"
   ]
  },
  {
   "cell_type": "code",
   "execution_count": null,
   "metadata": {
    "ExecuteTime": {
     "end_time": "2019-07-22T18:39:13.449768Z",
     "start_time": "2019-07-22T18:39:13.446321Z"
    }
   },
   "outputs": [],
   "source": [
    "# nParticles = 50\n",
    "# GRU_units= 50\n",
    "# DNN_neurons = 40\n",
    "# DNN_layers = 3\n",
    "# DNN_activation = 'relu'\n",
    "# dropout = 0.22\n",
    "# batch_size = 500\n",
    "# n_epochs = 50\n",
    "# #n_epochs = 1\n",
    "# labels = ['j_g', 'j_q', 'j_w', 'j_z', 'j_t']\n",
    "# input_shape = (nParticles,16)"
   ]
  },
  {
   "cell_type": "code",
   "execution_count": null,
   "metadata": {
    "ExecuteTime": {
     "end_time": "2019-07-22T18:39:13.456753Z",
     "start_time": "2019-07-22T18:39:13.451303Z"
    }
   },
   "outputs": [],
   "source": [
    "#  model\n",
    "# def myModel():\n",
    "#     inputArray = Input(shape=(input_shape))\n",
    "#     x = GRU(GRU_units, activation='tanh',\n",
    "#             recurrent_activation='hard_sigmoid', name='gru')(inputArray)\n",
    "#     x = Dropout(dropout)(x)\n",
    "#     ####\n",
    "#     for i in range(0,DNN_layers):\n",
    "#         x = Dense(DNN_neurons, activation=DNN_activation, \n",
    "#                   kernel_initializer='lecun_uniform', name='dense_%i' %i)(x)\n",
    "#         x = Dropout(dropout)(x)\n",
    "#     #\n",
    "#     output = Dense(5, activation='softmax', kernel_initializer='lecun_uniform', \n",
    "#                    name = 'output_softmax')(x)\n",
    "#     ####\n",
    "#     model = Model(inputs=inputArray, outputs=output)\n",
    "#     model.compile(optimizer='adam', loss='categorical_crossentropy', metrics=['acc'])\n",
    "    return model"
   ]
  },
  {
   "cell_type": "code",
   "execution_count": null,
   "metadata": {
    "ExecuteTime": {
     "end_time": "2019-07-22T18:39:13.862590Z",
     "start_time": "2019-07-22T18:39:13.458269Z"
    }
   },
   "outputs": [],
   "source": [
    "# thisModel = myModel()\n",
    "# thisModel.summary()\n",
    "\n",
    "# thisModel.compile(loss='MSE', optimizer='Adam')\n",
    "# thisModel.fit(x=np.ones([10, 50, 16]), y=np.ones([10, 5]))"
   ]
  },
  {
   "cell_type": "code",
   "execution_count": null,
   "metadata": {
    "ExecuteTime": {
     "end_time": "2019-07-22T18:39:19.382860Z",
     "start_time": "2019-07-22T18:39:18.549921Z"
    }
   },
   "outputs": [],
   "source": [
    "# run_meta = tf.RunMetadata()\n",
    "# opts = tf.profiler.ProfileOptionBuilder.float_operation()\n",
    "\n",
    "# # We use the Keras session graph in the call to the profiler.\n",
    "# flops = tf.profiler.profile(graph=K.get_session().graph,\n",
    "#                             run_meta=run_meta, cmd='op', options=opts)\n",
    "\n",
    "# print(flops.total_float_ops)  # Prints the \"flops\" of the model."
   ]
  },
  {
   "cell_type": "markdown",
   "metadata": {},
   "source": [
    "# JEDI-net"
   ]
  },
  {
   "cell_type": "code",
   "execution_count": null,
   "metadata": {
    "ExecuteTime": {
     "end_time": "2019-07-22T18:39:19.391199Z",
     "start_time": "2019-07-22T18:38:07.711Z"
    }
   },
   "outputs": [],
   "source": [
    "import torch\n",
    "import torch.nn as nn\n",
    "from torch.autograd.variable import *\n",
    "import torch.optim as optim\n",
    "import itertools"
   ]
  },
  {
   "cell_type": "code",
   "execution_count": null,
   "metadata": {
    "ExecuteTime": {
     "end_time": "2019-07-22T18:39:19.392412Z",
     "start_time": "2019-07-22T18:38:07.712Z"
    },
    "code_folding": [
     0
    ]
   },
   "outputs": [],
   "source": [
    "class GraphNet(nn.Module):\n",
    "    def __init__(self, n_constituents, n_targets, params, hidden, De, Do, \n",
    "                 fr_activation=0, fo_activation=0, fc_activation=0, optimizer = 0, verbose = False):\n",
    "        super(GraphNet, self).__init__()\n",
    "        self.hidden = hidden\n",
    "        self.P = len(params)\n",
    "        self.N = n_constituents\n",
    "        self.Nr = self.N * (self.N - 1)\n",
    "        self.Dr = 0\n",
    "        self.De = De\n",
    "        self.Dx = 0\n",
    "        self.Do = Do\n",
    "        self.n_targets = n_targets\n",
    "        self.fr_activation = fr_activation\n",
    "        self.fo_activation = fo_activation\n",
    "        self.fc_activation = fc_activation\n",
    "        self.optimizer = optimizer\n",
    "        self.verbose = verbose\n",
    "        self.assign_matrices()\n",
    "\n",
    "        self.Ra = torch.ones(self.Dr, self.Nr)\n",
    "        self.fr1 = nn.Linear(2 * self.P + self.Dr, hidden)\n",
    "        self.fr2 = nn.Linear(hidden, int(hidden/2))\n",
    "        self.fr3 = nn.Linear(int(hidden/2), self.De)\n",
    "        self.fo1 = nn.Linear(self.P + self.Dx + self.De, hidden)\n",
    "        self.fo2 = nn.Linear(hidden, int(hidden/2))\n",
    "        self.fo3 = nn.Linear(int(hidden/2), self.Do)\n",
    "        self.fc1 = nn.Linear(self.Do * self.N, hidden)\n",
    "        self.fc2 = nn.Linear(hidden, int(hidden/2))\n",
    "        self.fc3 = nn.Linear(int(hidden/2), self.n_targets)\n",
    "\n",
    "    def assign_matrices(self):\n",
    "        self.Rr = torch.zeros(self.N, self.Nr)\n",
    "        self.Rs = torch.zeros(self.N, self.Nr)\n",
    "        receiver_sender_list = [i for i in itertools.product(range(self.N), range(self.N)) if i[0]!=i[1]]\n",
    "        for i, (r, s) in enumerate(receiver_sender_list):\n",
    "            self.Rr[r, i] = 1\n",
    "            self.Rs[s, i] = 1\n",
    "        self.Rr = Variable(self.Rr)\n",
    "        self.Rs = Variable(self.Rs)\n",
    "\n",
    "    def forward(self, x):\n",
    "        Orr = self.tmul(x, self.Rr)\n",
    "        Ors = self.tmul(x, self.Rs)\n",
    "        B = torch.cat([Orr, Ors], 1)\n",
    "        ### First MLP ###\n",
    "        B = torch.transpose(B, 1, 2).contiguous()\n",
    "        if self.fr_activation ==2:\n",
    "            B = nn.functional.selu(self.fr1(B.view(-1, 2 * self.P + self.Dr)))\n",
    "            B = nn.functional.selu(self.fr2(B))\n",
    "            E = nn.functional.selu(self.fr3(B).view(-1, self.Nr, self.De))            \n",
    "        elif self.fr_activation ==1:\n",
    "            B = nn.functional.elu(self.fr1(B.view(-1, 2 * self.P + self.Dr)))\n",
    "            B = nn.functional.elu(self.fr2(B))\n",
    "            E = nn.functional.elu(self.fr3(B).view(-1, self.Nr, self.De))\n",
    "        else:\n",
    "            B = nn.functional.relu(self.fr1(B.view(-1, 2 * self.P + self.Dr)))\n",
    "            B = nn.functional.relu(self.fr2(B))\n",
    "            E = nn.functional.relu(self.fr3(B).view(-1, self.Nr, self.De))\n",
    "        del B\n",
    "        E = torch.transpose(E, 1, 2).contiguous()\n",
    "        Ebar = self.tmul(E, torch.transpose(self.Rr, 0, 1).contiguous())\n",
    "        del E\n",
    "        C = torch.cat([x, Ebar], 1)\n",
    "        del Ebar\n",
    "        C = torch.transpose(C, 1, 2).contiguous()\n",
    "        ### Second MLP ###\n",
    "        if self.fo_activation ==2:\n",
    "            C = nn.functional.selu(self.fo1(C.view(-1, self.P + self.Dx + self.De)))\n",
    "            C = nn.functional.selu(self.fo2(C))\n",
    "            O = nn.functional.selu(self.fo3(C).view(-1, self.N, self.Do))\n",
    "        elif self.fo_activation ==1:\n",
    "            C = nn.functional.elu(self.fo1(C.view(-1, self.P + self.Dx + self.De)))\n",
    "            C = nn.functional.elu(self.fo2(C))\n",
    "            O = nn.functional.elu(self.fo3(C).view(-1, self.N, self.Do))\n",
    "        else:\n",
    "            C = nn.functional.relu(self.fo1(C.view(-1, self.P + self.Dx + self.De)))\n",
    "            C = nn.functional.relu(self.fo2(C))\n",
    "            O = nn.functional.relu(self.fo3(C).view(-1, self.N, self.Do))\n",
    "        del C\n",
    "        ### Classification MLP ###\n",
    "        if self.fc_activation ==2:\n",
    "            N = nn.functional.selu(self.fc1(O.view(-1, self.Do * self.N)))\n",
    "            N = nn.functional.selu(self.fc2(N))       \n",
    "        elif self.fc_activation ==1:\n",
    "            N = nn.functional.elu(self.fc1(O.view(-1, self.Do * self.N)))\n",
    "            N = nn.functional.elu(self.fc2(N))\n",
    "        else:\n",
    "            N = nn.functional.relu(self.fc1(O.view(-1, self.Do * self.N)))\n",
    "            N = nn.functional.relu(self.fc2(N))\n",
    "        del O\n",
    "        #N = nn.functional.relu(self.fc3(N))\n",
    "        N = self.fc3(N)\n",
    "        return N\n",
    "\n",
    "    def tmul(self, x, y):  #Takes (I * J * K)(K * L) -> I * J * L \n",
    "        x_shape = x.size()\n",
    "        y_shape = y.size()\n",
    "        return torch.mm(x.view(-1, x_shape[2]), y).view(-1, x_shape[1], y_shape[1])"
   ]
  },
  {
   "cell_type": "code",
   "execution_count": null,
   "metadata": {
    "ExecuteTime": {
     "end_time": "2019-07-22T18:39:19.393585Z",
     "start_time": "2019-07-22T18:38:07.714Z"
    },
    "code_folding": [
     0
    ]
   },
   "outputs": [],
   "source": [
    "# ### Prepare Dataset                                                                                                                                                  \n",
    "nParticles = 100\n",
    "x = []\n",
    "x.append(30) # hinned nodes                                                                                                                                            \n",
    "x.append(10) # De                                                                                                                                                      \n",
    "x.append(10) # Do                                                                                                                                                      \n",
    "x.append(1) # fr_activation_index                                                                                                                                      \n",
    "x.append(1) # fo_activation_index                                                                                                                                      \n",
    "x.append(1) # fc_activation_index                                                                                                                                      \n",
    "x.append(0) # optmizer_index           "
   ]
  },
  {
   "cell_type": "code",
   "execution_count": null,
   "metadata": {
    "ExecuteTime": {
     "end_time": "2019-07-22T18:39:19.394754Z",
     "start_time": "2019-07-22T18:38:07.716Z"
    }
   },
   "outputs": [],
   "source": [
    "params = ['j1_px', 'j1_py' , 'j1_pz' , 'j1_e' , 'j1_erel' , 'j1_pt' , 'j1_ptrel', 'j1_eta' , 'j1_etarel' , \n",
    "          'j1_etarot' , 'j1_phi' , 'j1_phirel' , 'j1_phirot', 'j1_deltaR' , 'j1_costheta' , 'j1_costhetarel']"
   ]
  },
  {
   "cell_type": "code",
   "execution_count": null,
   "metadata": {
    "ExecuteTime": {
     "end_time": "2019-07-22T18:39:19.395941Z",
     "start_time": "2019-07-22T18:38:07.717Z"
    }
   },
   "outputs": [],
   "source": [
    "mymodel = GraphNet(nParticles, len(labels), params, int(x[0]), int(x[1]), int(x[2]), \n",
    "                       int(x[3]),  int(x[4]),  int(x[5]), int(x[6]), 0)"
   ]
  },
  {
   "cell_type": "code",
   "execution_count": null,
   "metadata": {
    "ExecuteTime": {
     "end_time": "2019-07-22T18:39:19.397133Z",
     "start_time": "2019-07-22T18:38:07.718Z"
    }
   },
   "outputs": [],
   "source": [
    "print(mymodel)\n",
    "trainablePars = sum(p.numel() for p in mymodel.parameters() if p.requires_grad)\n",
    "print('\\nTrainable parameters:', trainablePars)"
   ]
  },
  {
   "cell_type": "markdown",
   "metadata": {},
   "source": [
    "# JEDI-net with Sum over O"
   ]
  },
  {
   "cell_type": "code",
   "execution_count": null,
   "metadata": {
    "ExecuteTime": {
     "end_time": "2019-07-22T18:39:19.398369Z",
     "start_time": "2019-07-22T18:38:07.719Z"
    },
    "code_folding": [
     0
    ]
   },
   "outputs": [],
   "source": [
    "class GraphNet(nn.Module):\n",
    "    def __init__(self, n_constituents, n_targets, params, hidden, De, Do, \n",
    "                 fr_activation=0, fo_activation=0, fc_activation=0, optimizer = 0, verbose = False):\n",
    "        super(GraphNet, self).__init__()\n",
    "        self.hidden = hidden\n",
    "        self.P = len(params)\n",
    "        self.N = n_constituents\n",
    "        self.Nr = self.N * (self.N - 1)\n",
    "        self.Dr = 0\n",
    "        self.De = De\n",
    "        self.Dx = 0\n",
    "        self.Do = Do\n",
    "        self.n_targets = n_targets\n",
    "        self.fr_activation = fr_activation\n",
    "        self.fo_activation = fo_activation\n",
    "        self.fc_activation = fc_activation\n",
    "        self.optimizer = optimizer\n",
    "        self.verbose = verbose\n",
    "        self.assign_matrices()\n",
    "\n",
    "        self.Ra = torch.ones(self.Dr, self.Nr)\n",
    "        self.fr1 = nn.Linear(2 * self.P + self.Dr, hidden)\n",
    "        self.fr2 = nn.Linear(hidden, int(hidden/2))\n",
    "        self.fr3 = nn.Linear(int(hidden/2), self.De)\n",
    "        self.fo1 = nn.Linear(self.P + self.Dx + self.De, hidden)\n",
    "        self.fo2 = nn.Linear(hidden, int(hidden/2))\n",
    "        self.fo3 = nn.Linear(int(hidden/2), self.Do)\n",
    "        self.fc1 = nn.Linear(self.Do, hidden)\n",
    "        self.fc2 = nn.Linear(hidden, int(hidden/2))\n",
    "        self.fc3 = nn.Linear(int(hidden/2), self.n_targets)\n",
    "\n",
    "    def assign_matrices(self):\n",
    "        self.Rr = torch.zeros(self.N, self.Nr)\n",
    "        self.Rs = torch.zeros(self.N, self.Nr)\n",
    "        receiver_sender_list = [i for i in itertools.product(range(self.N), range(self.N)) if i[0]!=i[1]]\n",
    "        for i, (r, s) in enumerate(receiver_sender_list):\n",
    "            self.Rr[r, i] = 1\n",
    "            self.Rs[s, i] = 1\n",
    "        self.Rr = Variable(self.Rr)\n",
    "        self.Rs = Variable(self.Rs)\n",
    "\n",
    "    def forward(self, x):\n",
    "        Orr = self.tmul(x, self.Rr)\n",
    "        Ors = self.tmul(x, self.Rs)\n",
    "        B = torch.cat([Orr, Ors], 1)\n",
    "        ### First MLP ###\n",
    "        B = torch.transpose(B, 1, 2).contiguous()\n",
    "        if self.fr_activation ==2:\n",
    "            B = nn.functional.selu(self.fr1(B.view(-1, 2 * self.P + self.Dr)))\n",
    "            B = nn.functional.selu(self.fr2(B))\n",
    "            E = nn.functional.selu(self.fr3(B).view(-1, self.Nr, self.De))            \n",
    "        elif self.fr_activation ==1:\n",
    "            B = nn.functional.elu(self.fr1(B.view(-1, 2 * self.P + self.Dr)))\n",
    "            B = nn.functional.elu(self.fr2(B))\n",
    "            E = nn.functional.elu(self.fr3(B).view(-1, self.Nr, self.De))\n",
    "        else:\n",
    "            B = nn.functional.relu(self.fr1(B.view(-1, 2 * self.P + self.Dr)))\n",
    "            B = nn.functional.relu(self.fr2(B))\n",
    "            E = nn.functional.relu(self.fr3(B).view(-1, self.Nr, self.De))\n",
    "        del B\n",
    "        E = torch.transpose(E, 1, 2).contiguous()\n",
    "        Ebar = self.tmul(E, torch.transpose(self.Rr, 0, 1).contiguous())\n",
    "        del E\n",
    "        C = torch.cat([x, Ebar], 1)\n",
    "        del Ebar\n",
    "        C = torch.transpose(C, 1, 2).contiguous()\n",
    "        ### Second MLP ###\n",
    "        if self.fo_activation ==2:\n",
    "            C = nn.functional.selu(self.fo1(C.view(-1, self.P + self.Dx + self.De)))\n",
    "            C = nn.functional.selu(self.fo2(C))\n",
    "            O = nn.functional.selu(self.fo3(C).view(-1, self.N, self.Do))\n",
    "        elif self.fo_activation ==1:\n",
    "            C = nn.functional.elu(self.fo1(C.view(-1, self.P + self.Dx + self.De)))\n",
    "            C = nn.functional.elu(self.fo2(C))\n",
    "            O = nn.functional.elu(self.fo3(C).view(-1, self.N, self.Do))\n",
    "        else:\n",
    "            C = nn.functional.relu(self.fo1(C.view(-1, self.P + self.Dx + self.De)))\n",
    "            C = nn.functional.relu(self.fo2(C))\n",
    "            O = nn.functional.relu(self.fo3(C).view(-1, self.N, self.Do))\n",
    "        del C\n",
    "        ## sum over the O matrix  \n",
    "        O = torch.sum( O, dim=1)\n",
    "        ### Classification MLP ###\n",
    "        if self.fc_activation ==2:\n",
    "            N = nn.functional.selu(self.fc1(O.view(-1, self.Do)))\n",
    "            N = nn.functional.selu(self.fc2(N))       \n",
    "        elif self.fc_activation ==1:\n",
    "            N = nn.functional.elu(self.fc1(O.view(-1, self.Do)))\n",
    "            N = nn.functional.elu(self.fc2(N))\n",
    "        else:\n",
    "            N = nn.functional.relu(self.fc1(O.view(-1, self.Do)))\n",
    "            N = nn.functional.relu(self.fc2(N))\n",
    "        del O\n",
    "        #N = nn.functional.relu(self.fc3(N))\n",
    "        N = self.fc3(N)\n",
    "        return N\n",
    "\n",
    "    def tmul(self, x, y):  #Takes (I * J * K)(K * L) -> I * J * L \n",
    "        x_shape = x.size()\n",
    "        y_shape = y.size()\n",
    "        return torch.mm(x.view(-1, x_shape[2]), y).view(-1, x_shape[1], y_shape[1])"
   ]
  },
  {
   "cell_type": "code",
   "execution_count": null,
   "metadata": {
    "ExecuteTime": {
     "end_time": "2019-07-22T18:39:19.399563Z",
     "start_time": "2019-07-22T18:38:07.720Z"
    }
   },
   "outputs": [],
   "source": [
    "# ### Prepare Dataset                                                                                                                                                  \n",
    "nParticles = 150\n",
    "x = []\n",
    "x.append(50) # hinned nodes                                                                                                                                            \n",
    "x.append(14) # De                                                                                                                                                      \n",
    "x.append(12) # Do                                                                                                                                                      \n",
    "x.append(2) # fr_activation_index                                                                                                                                      \n",
    "x.append(2) # fo_activation_index                                                                                                                                      \n",
    "x.append(2) # fc_activation_index                                                                                                                                      \n",
    "x.append(0) # optmizer_index           "
   ]
  },
  {
   "cell_type": "code",
   "execution_count": null,
   "metadata": {
    "ExecuteTime": {
     "end_time": "2019-07-22T18:39:19.400742Z",
     "start_time": "2019-07-22T18:38:07.721Z"
    }
   },
   "outputs": [],
   "source": [
    "mymodel = GraphNet(nParticles, len(labels), params, int(x[0]), int(x[1]), int(x[2]), \n",
    "                       int(x[3]),  int(x[4]),  int(x[5]), int(x[6]), 0)"
   ]
  },
  {
   "cell_type": "code",
   "execution_count": null,
   "metadata": {
    "ExecuteTime": {
     "end_time": "2019-07-22T18:39:19.401922Z",
     "start_time": "2019-07-22T18:38:07.722Z"
    }
   },
   "outputs": [],
   "source": [
    "print(mymodel)\n",
    "trainablePars = sum(p.numel() for p in mymodel.parameters() if p.requires_grad)\n",
    "print('\\nTrainable parameters:', trainablePars)"
   ]
  },
  {
   "cell_type": "code",
   "execution_count": null,
   "metadata": {},
   "outputs": [],
   "source": []
  },
  {
   "cell_type": "code",
   "execution_count": null,
   "metadata": {},
   "outputs": [],
   "source": []
  }
 ],
 "metadata": {
  "kernelspec": {
   "display_name": "Python 3",
   "language": "python",
   "name": "python3"
  },
  "language_info": {
   "codemirror_mode": {
    "name": "ipython",
    "version": 3
   },
   "file_extension": ".py",
   "mimetype": "text/x-python",
   "name": "python",
   "nbconvert_exporter": "python",
   "pygments_lexer": "ipython3",
   "version": "3.7.3"
  }
 },
 "nbformat": 4,
 "nbformat_minor": 2
}
