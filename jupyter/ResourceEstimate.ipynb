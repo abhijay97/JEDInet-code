{
 "cells": [
  {
   "cell_type": "markdown",
   "metadata": {},
   "source": [
    "# Script to count Floops in a tensorflow model"
   ]
  },
  {
   "cell_type": "code",
   "execution_count": 43,
   "metadata": {},
   "outputs": [],
   "source": [
    "import os\n",
    "import tensorflow as tf\n",
    "import numpy as np\n",
    "def load_graph(frozen_graph_filename):\n",
    "\n",
    "    # We load the protobuf file from the disk and parse it to retrieve the unserialized graph_def\n",
    "    with tf.gfile.GFile(frozen_graph_filename, \"rb\") as f:\n",
    "        graph_def = tf.GraphDef()\n",
    "        graph_def.ParseFromString(f.read())\n",
    "    # Then, we import the graph_def into a new Graph and returns it\n",
    "    with tf.Graph().as_default() as graph:\n",
    "    # The name var will prefix every op/nodes in your graph\n",
    "    # Since we load everything in a new graph, this is not needed\n",
    "        tf.import_graph_def(graph_def, name=\"\")\n",
    "    return graph, graph_def"
   ]
  },
  {
   "cell_type": "markdown",
   "metadata": {},
   "source": [
    "# DNN"
   ]
  },
  {
   "cell_type": "code",
   "execution_count": 14,
   "metadata": {},
   "outputs": [],
   "source": [
    "# keras imports\n",
    "from keras.models import Model, Sequential\n",
    "from keras.layers import Dense, Input, Conv2D, Dropout, Flatten\n",
    "from keras.layers import Concatenate, BatchNormalization, Activation\n",
    "from keras.layers import MaxPooling2D, MaxPooling3D, GRU\n",
    "from keras.utils import plot_model\n",
    "from keras import regularizers\n",
    "from keras import backend as K\n",
    "from keras import metrics\n",
    "from keras.callbacks import EarlyStopping, ReduceLROnPlateau, TerminateOnNaN\n",
    "from keras.regularizers import l1"
   ]
  },
  {
   "cell_type": "code",
   "execution_count": 2,
   "metadata": {},
   "outputs": [],
   "source": [
    "#optmizer = 'adam'\n",
    "# best model from optimization\n",
    "DNN_neurons = 80\n",
    "DNN_layers = 3\n",
    "DNN_activation = 'elu'\n",
    "dropout = 0.10\n",
    "batch_size = 50\n",
    "n_epochs = 500\n",
    "labels = ['j_g', 'j_q', 'j_w', 'j_z', 'j_t']"
   ]
  },
  {
   "cell_type": "code",
   "execution_count": 4,
   "metadata": {},
   "outputs": [],
   "source": [
    "#  model\n",
    "def myModel():\n",
    "    inputArray = Input(shape=(input_shape,))\n",
    "    x = Dense(DNN_neurons, activation=DNN_activation, \n",
    "              kernel_initializer='lecun_uniform', name='dense_0')(inputArray)\n",
    "    x = Dropout(dropout)(x)\n",
    "    ####\n",
    "    for i in range(1,DNN_layers):\n",
    "        x = Dense(DNN_neurons, activation=DNN_activation, \n",
    "                  kernel_initializer='lecun_uniform', name='dense_%i' %i)(x)\n",
    "        x = Dropout(dropout)(x)\n",
    "\n",
    "    output = Dense(5, activation='softmax', kernel_initializer='lecun_uniform', \n",
    "                   name = 'output_softmax')(x)\n",
    "    ####\n",
    "    model = Model(inputs=inputArray, outputs=output)\n",
    "    model.compile(optimizer='adam', loss='categorical_crossentropy', metrics=['acc'])\n",
    "    return model"
   ]
  },
  {
   "cell_type": "code",
   "execution_count": 6,
   "metadata": {},
   "outputs": [
    {
     "name": "stderr",
     "output_type": "stream",
     "text": [
      "WARNING: Logging before flag parsing goes to stderr.\n",
      "W0704 10:06:53.220622 4481996224 deprecation_wrapper.py:119] From /usr/local/lib/python3.7/site-packages/keras/backend/tensorflow_backend.py:74: The name tf.get_default_graph is deprecated. Please use tf.compat.v1.get_default_graph instead.\n",
      "\n",
      "W0704 10:06:53.247987 4481996224 deprecation_wrapper.py:119] From /usr/local/lib/python3.7/site-packages/keras/backend/tensorflow_backend.py:517: The name tf.placeholder is deprecated. Please use tf.compat.v1.placeholder instead.\n",
      "\n",
      "W0704 10:06:53.257430 4481996224 deprecation_wrapper.py:119] From /usr/local/lib/python3.7/site-packages/keras/backend/tensorflow_backend.py:4138: The name tf.random_uniform is deprecated. Please use tf.random.uniform instead.\n",
      "\n",
      "W0704 10:06:53.278475 4481996224 deprecation_wrapper.py:119] From /usr/local/lib/python3.7/site-packages/keras/backend/tensorflow_backend.py:133: The name tf.placeholder_with_default is deprecated. Please use tf.compat.v1.placeholder_with_default instead.\n",
      "\n",
      "W0704 10:06:53.287894 4481996224 deprecation.py:506] From /usr/local/lib/python3.7/site-packages/keras/backend/tensorflow_backend.py:3445: calling dropout (from tensorflow.python.ops.nn_ops) with keep_prob is deprecated and will be removed in a future version.\n",
      "Instructions for updating:\n",
      "Please use `rate` instead of `keep_prob`. Rate should be set to `rate = 1 - keep_prob`.\n",
      "W0704 10:06:53.366019 4481996224 deprecation_wrapper.py:119] From /usr/local/lib/python3.7/site-packages/keras/optimizers.py:790: The name tf.train.Optimizer is deprecated. Please use tf.compat.v1.train.Optimizer instead.\n",
      "\n",
      "W0704 10:06:53.387775 4481996224 deprecation_wrapper.py:119] From /usr/local/lib/python3.7/site-packages/keras/backend/tensorflow_backend.py:3295: The name tf.log is deprecated. Please use tf.math.log instead.\n",
      "\n"
     ]
    },
    {
     "name": "stdout",
     "output_type": "stream",
     "text": [
      "_________________________________________________________________\n",
      "Layer (type)                 Output Shape              Param #   \n",
      "=================================================================\n",
      "input_1 (InputLayer)         (None, 16)                0         \n",
      "_________________________________________________________________\n",
      "dense_0 (Dense)              (None, 80)                1360      \n",
      "_________________________________________________________________\n",
      "dropout_1 (Dropout)          (None, 80)                0         \n",
      "_________________________________________________________________\n",
      "dense_1 (Dense)              (None, 80)                6480      \n",
      "_________________________________________________________________\n",
      "dropout_2 (Dropout)          (None, 80)                0         \n",
      "_________________________________________________________________\n",
      "dense_2 (Dense)              (None, 80)                6480      \n",
      "_________________________________________________________________\n",
      "dropout_3 (Dropout)          (None, 80)                0         \n",
      "_________________________________________________________________\n",
      "output_softmax (Dense)       (None, 5)                 405       \n",
      "=================================================================\n",
      "Total params: 14,725\n",
      "Trainable params: 14,725\n",
      "Non-trainable params: 0\n",
      "_________________________________________________________________\n"
     ]
    }
   ],
   "source": [
    "input_shape = len([12, 34, 35, 36, 37, 38, 39, 40, 41, 42, 43, 44, 45, 46, 48, 52])\n",
    "thisModel = myModel()\n",
    "thisModel.summary()"
   ]
  },
  {
   "cell_type": "code",
   "execution_count": 44,
   "metadata": {},
   "outputs": [],
   "source": [
    "# save model as protobuf\n"
   ]
  },
  {
   "cell_type": "code",
   "execution_count": null,
   "metadata": {},
   "outputs": [],
   "source": [
    "# number of FLops\n",
    "graph, graph_def = load_graph('DDB.pb')\n",
    "db = graph.get_tensor_by_name('input_1:0')\n",
    "cpf = graph.get_tensor_by_name('input_2:0')\n",
    "sv = graph.get_tensor_by_name('input_3:0')\n",
    "db_zeros = np.zeros([1, 1, 27])\n",
    "cpf_zeros = np.zeros([1, 60, 8])\n",
    "sv_zeros = np.zeros([1, 5, 2])\n",
    "batchnorm = graph.get_tensor_by_name('db_input_batchnorm/keras_learning_phase:0')\n",
    "pred = graph.get_tensor_by_name('ID_pred/Softmax:0')\n",
    "sess = tf.Session(graph=graph)\n",
    "run_metadata = tf.RunMetadata()\n",
    "op = sess.graph.get_operations()\n",
    "print([m.values() for m in op])\n",
    "with graph.as_default():\n",
    "#sess.run(tf.global_variables_initializer())\n",
    "    result = sess.run(pred, feed_dict={db: db_zeros, cpf: cpf_zeros, sv: sv_zeros, batchnorm: False}, \n",
    "options=tf.RunOptions(trace_level=tf.RunOptions.FULL_TRACE),\n",
    "run_metadata=run_metadata)\n",
    "    flops = tf.profiler.profile(graph, options = tf.profiler.ProfileOptionBuilder.float_operation(),run_meta=run_metadata)\n",
    "print('FLOP after freezing', flops.total_float_ops)"
   ]
  },
  {
   "cell_type": "markdown",
   "metadata": {},
   "source": [
    "# CNN"
   ]
  },
  {
   "cell_type": "code",
   "execution_count": 7,
   "metadata": {},
   "outputs": [],
   "source": [
    "CNN_filters = 10\n",
    "CNN_filter_size = 3\n",
    "CNN_MaxPool_size = 5\n",
    "CNN_layers = 1\n",
    "CNN_activation = 'elu'\n",
    "DNN_neurons = 50\n",
    "DNN_layers = 3\n",
    "DNN_activation = 'elu'\n",
    "dropout = 0.1\n",
    "batch_size = 500\n",
    "n_epochs = 500\n",
    "labels = ['j_g', 'j_q', 'j_w', 'j_z', 'j_t']\n",
    "nParticles = 50"
   ]
  },
  {
   "cell_type": "code",
   "execution_count": 8,
   "metadata": {},
   "outputs": [],
   "source": [
    "#  model\n",
    "def myModel():\n",
    "    inputImage = Input(shape=(image_shape))\n",
    "    x = Conv2D(CNN_filters, kernel_size=(CNN_filter_size,CNN_filter_size), \n",
    "               data_format=\"channels_last\", strides=(1, 1), padding=\"same\", input_shape=image_shape,\n",
    "               kernel_initializer='lecun_uniform', name='cnn2D_0')(inputImage)\n",
    "    x = BatchNormalization()(x)\n",
    "    x = Activation(CNN_activation)(x)\n",
    "    x = MaxPooling2D( pool_size = (CNN_MaxPool_size,CNN_MaxPool_size))(x)\n",
    "    x = Dropout(dropout)(x)\n",
    "    for i in range(1,CNN_layers):\n",
    "        x = Conv2D(CNN_filters, kernel_size=(CNN_filter_size,CNN_filter_size), \n",
    "                   data_format=\"channels_last\", strides=(1, 1), padding=\"same\", input_shape=image_shape,\n",
    "                   kernel_initializer='lecun_uniform', name='cnn2D_%i' %i)(x)\n",
    "        x = BatchNormalization()(x)\n",
    "        x = Activation(CNN_activation)(x)\n",
    "        #x = MaxPooling2D( pool_size = (CNN_MaxPool_size,CNN_MaxPool_size))(x)\n",
    "        x = Dropout(dropout)(x)\n",
    "        \n",
    "    ####\n",
    "    x = Flatten()(x)\n",
    "    #\n",
    "    for i in range(DNN_layers):\n",
    "        x = Dense(DNN_neurons, activation=DNN_activation, \n",
    "                  kernel_initializer='lecun_uniform', name='dense_%i' %i)(x)\n",
    "        x = Dropout(dropout)(x)\n",
    "    #\n",
    "    output = Dense(5, activation='softmax', kernel_initializer='lecun_uniform', \n",
    "                   name = 'output_softmax')(x)\n",
    "    ####\n",
    "    model = Model(inputs=inputImage, outputs=output)\n",
    "    model.compile(optimizer='adam', loss='categorical_crossentropy', metrics=['acc'])\n",
    "\n",
    "    return model"
   ]
  },
  {
   "cell_type": "code",
   "execution_count": 9,
   "metadata": {},
   "outputs": [],
   "source": [
    "img_rows = 100#X.shape[1]\n",
    "img_cols = 100#X.shape[2]\n",
    "image_shape = (img_rows, img_cols, 1)"
   ]
  },
  {
   "cell_type": "code",
   "execution_count": 10,
   "metadata": {},
   "outputs": [
    {
     "name": "stderr",
     "output_type": "stream",
     "text": [
      "W0704 10:13:12.032739 4481996224 deprecation_wrapper.py:119] From /usr/local/lib/python3.7/site-packages/keras/backend/tensorflow_backend.py:1834: The name tf.nn.fused_batch_norm is deprecated. Please use tf.compat.v1.nn.fused_batch_norm instead.\n",
      "\n",
      "W0704 10:13:12.093631 4481996224 deprecation_wrapper.py:119] From /usr/local/lib/python3.7/site-packages/keras/backend/tensorflow_backend.py:3976: The name tf.nn.max_pool is deprecated. Please use tf.nn.max_pool2d instead.\n",
      "\n"
     ]
    },
    {
     "name": "stdout",
     "output_type": "stream",
     "text": [
      "_________________________________________________________________\n",
      "Layer (type)                 Output Shape              Param #   \n",
      "=================================================================\n",
      "input_2 (InputLayer)         (None, 100, 100, 1)       0         \n",
      "_________________________________________________________________\n",
      "cnn2D_0 (Conv2D)             (None, 100, 100, 10)      100       \n",
      "_________________________________________________________________\n",
      "batch_normalization_1 (Batch (None, 100, 100, 10)      40        \n",
      "_________________________________________________________________\n",
      "activation_1 (Activation)    (None, 100, 100, 10)      0         \n",
      "_________________________________________________________________\n",
      "max_pooling2d_1 (MaxPooling2 (None, 20, 20, 10)        0         \n",
      "_________________________________________________________________\n",
      "dropout_4 (Dropout)          (None, 20, 20, 10)        0         \n",
      "_________________________________________________________________\n",
      "flatten_1 (Flatten)          (None, 4000)              0         \n",
      "_________________________________________________________________\n",
      "dense_0 (Dense)              (None, 50)                200050    \n",
      "_________________________________________________________________\n",
      "dropout_5 (Dropout)          (None, 50)                0         \n",
      "_________________________________________________________________\n",
      "dense_1 (Dense)              (None, 50)                2550      \n",
      "_________________________________________________________________\n",
      "dropout_6 (Dropout)          (None, 50)                0         \n",
      "_________________________________________________________________\n",
      "dense_2 (Dense)              (None, 50)                2550      \n",
      "_________________________________________________________________\n",
      "dropout_7 (Dropout)          (None, 50)                0         \n",
      "_________________________________________________________________\n",
      "output_softmax (Dense)       (None, 5)                 255       \n",
      "=================================================================\n",
      "Total params: 205,545\n",
      "Trainable params: 205,525\n",
      "Non-trainable params: 20\n",
      "_________________________________________________________________\n"
     ]
    }
   ],
   "source": [
    "thisModel = myModel()\n",
    "thisModel.summary()"
   ]
  },
  {
   "cell_type": "markdown",
   "metadata": {},
   "source": [
    "# GRU"
   ]
  },
  {
   "cell_type": "code",
   "execution_count": 15,
   "metadata": {},
   "outputs": [],
   "source": [
    "nParticles = 50\n",
    "GRU_units= 50\n",
    "DNN_neurons = 40\n",
    "DNN_layers = 3\n",
    "DNN_activation = 'relu'\n",
    "dropout = 0.22\n",
    "batch_size = 500\n",
    "n_epochs = 50\n",
    "#n_epochs = 1\n",
    "labels = ['j_g', 'j_q', 'j_w', 'j_z', 'j_t']\n",
    "input_shape = (nParticles,16)"
   ]
  },
  {
   "cell_type": "code",
   "execution_count": 16,
   "metadata": {},
   "outputs": [],
   "source": [
    "#  model\n",
    "def myModel():\n",
    "    inputArray = Input(shape=(input_shape))\n",
    "    x = GRU(GRU_units, activation='tanh',\n",
    "            recurrent_activation='hard_sigmoid', name='gru')(inputArray)\n",
    "    x = Dropout(dropout)(x)\n",
    "    ####\n",
    "    for i in range(0,DNN_layers):\n",
    "        x = Dense(DNN_neurons, activation=DNN_activation, \n",
    "                  kernel_initializer='lecun_uniform', name='dense_%i' %i)(x)\n",
    "        x = Dropout(dropout)(x)\n",
    "    #\n",
    "    output = Dense(5, activation='softmax', kernel_initializer='lecun_uniform', \n",
    "                   name = 'output_softmax')(x)\n",
    "    ####\n",
    "    model = Model(inputs=inputArray, outputs=output)\n",
    "    model.compile(optimizer='adam', loss='categorical_crossentropy', metrics=['acc'])\n",
    "    return model"
   ]
  },
  {
   "cell_type": "code",
   "execution_count": 17,
   "metadata": {},
   "outputs": [
    {
     "name": "stdout",
     "output_type": "stream",
     "text": [
      "_________________________________________________________________\n",
      "Layer (type)                 Output Shape              Param #   \n",
      "=================================================================\n",
      "input_4 (InputLayer)         (None, 50, 16)            0         \n",
      "_________________________________________________________________\n",
      "gru (GRU)                    (None, 50)                10050     \n",
      "_________________________________________________________________\n",
      "dropout_8 (Dropout)          (None, 50)                0         \n",
      "_________________________________________________________________\n",
      "dense_0 (Dense)              (None, 40)                2040      \n",
      "_________________________________________________________________\n",
      "dropout_9 (Dropout)          (None, 40)                0         \n",
      "_________________________________________________________________\n",
      "dense_1 (Dense)              (None, 40)                1640      \n",
      "_________________________________________________________________\n",
      "dropout_10 (Dropout)         (None, 40)                0         \n",
      "_________________________________________________________________\n",
      "dense_2 (Dense)              (None, 40)                1640      \n",
      "_________________________________________________________________\n",
      "dropout_11 (Dropout)         (None, 40)                0         \n",
      "_________________________________________________________________\n",
      "output_softmax (Dense)       (None, 5)                 205       \n",
      "=================================================================\n",
      "Total params: 15,575\n",
      "Trainable params: 15,575\n",
      "Non-trainable params: 0\n",
      "_________________________________________________________________\n"
     ]
    }
   ],
   "source": [
    "thisModel = myModel()\n",
    "thisModel.summary()"
   ]
  },
  {
   "cell_type": "markdown",
   "metadata": {},
   "source": [
    "# JEDI-net"
   ]
  },
  {
   "cell_type": "code",
   "execution_count": 24,
   "metadata": {},
   "outputs": [],
   "source": [
    "import torch\n",
    "import torch.nn as nn\n",
    "from torch.autograd.variable import *\n",
    "import torch.optim as optim\n",
    "import itertools"
   ]
  },
  {
   "cell_type": "code",
   "execution_count": 29,
   "metadata": {},
   "outputs": [],
   "source": [
    "class GraphNet(nn.Module):\n",
    "    def __init__(self, n_constituents, n_targets, params, hidden, De, Do, \n",
    "                 fr_activation=0, fo_activation=0, fc_activation=0, optimizer = 0, verbose = False):\n",
    "        super(GraphNet, self).__init__()\n",
    "        self.hidden = hidden\n",
    "        self.P = len(params)\n",
    "        self.N = n_constituents\n",
    "        self.Nr = self.N * (self.N - 1)\n",
    "        self.Dr = 0\n",
    "        self.De = De\n",
    "        self.Dx = 0\n",
    "        self.Do = Do\n",
    "        self.n_targets = n_targets\n",
    "        self.fr_activation = fr_activation\n",
    "        self.fo_activation = fo_activation\n",
    "        self.fc_activation = fc_activation\n",
    "        self.optimizer = optimizer\n",
    "        self.verbose = verbose\n",
    "        self.assign_matrices()\n",
    "\n",
    "        self.Ra = torch.ones(self.Dr, self.Nr)\n",
    "        self.fr1 = nn.Linear(2 * self.P + self.Dr, hidden)\n",
    "        self.fr2 = nn.Linear(hidden, int(hidden/2))\n",
    "        self.fr3 = nn.Linear(int(hidden/2), self.De)\n",
    "        self.fo1 = nn.Linear(self.P + self.Dx + self.De, hidden)\n",
    "        self.fo2 = nn.Linear(hidden, int(hidden/2))\n",
    "        self.fo3 = nn.Linear(int(hidden/2), self.Do)\n",
    "        self.fc1 = nn.Linear(self.Do * self.N, hidden)\n",
    "        self.fc2 = nn.Linear(hidden, int(hidden/2))\n",
    "        self.fc3 = nn.Linear(int(hidden/2), self.n_targets)\n",
    "\n",
    "    def assign_matrices(self):\n",
    "        self.Rr = torch.zeros(self.N, self.Nr)\n",
    "        self.Rs = torch.zeros(self.N, self.Nr)\n",
    "        receiver_sender_list = [i for i in itertools.product(range(self.N), range(self.N)) if i[0]!=i[1]]\n",
    "        for i, (r, s) in enumerate(receiver_sender_list):\n",
    "            self.Rr[r, i] = 1\n",
    "            self.Rs[s, i] = 1\n",
    "        self.Rr = Variable(self.Rr)\n",
    "        self.Rs = Variable(self.Rs)\n",
    "\n",
    "    def forward(self, x):\n",
    "        Orr = self.tmul(x, self.Rr)\n",
    "        Ors = self.tmul(x, self.Rs)\n",
    "        B = torch.cat([Orr, Ors], 1)\n",
    "        ### First MLP ###\n",
    "        B = torch.transpose(B, 1, 2).contiguous()\n",
    "        if self.fr_activation ==2:\n",
    "            B = nn.functional.selu(self.fr1(B.view(-1, 2 * self.P + self.Dr)))\n",
    "            B = nn.functional.selu(self.fr2(B))\n",
    "            E = nn.functional.selu(self.fr3(B).view(-1, self.Nr, self.De))            \n",
    "        elif self.fr_activation ==1:\n",
    "            B = nn.functional.elu(self.fr1(B.view(-1, 2 * self.P + self.Dr)))\n",
    "            B = nn.functional.elu(self.fr2(B))\n",
    "            E = nn.functional.elu(self.fr3(B).view(-1, self.Nr, self.De))\n",
    "        else:\n",
    "            B = nn.functional.relu(self.fr1(B.view(-1, 2 * self.P + self.Dr)))\n",
    "            B = nn.functional.relu(self.fr2(B))\n",
    "            E = nn.functional.relu(self.fr3(B).view(-1, self.Nr, self.De))\n",
    "        del B\n",
    "        E = torch.transpose(E, 1, 2).contiguous()\n",
    "        Ebar = self.tmul(E, torch.transpose(self.Rr, 0, 1).contiguous())\n",
    "        del E\n",
    "        C = torch.cat([x, Ebar], 1)\n",
    "        del Ebar\n",
    "        C = torch.transpose(C, 1, 2).contiguous()\n",
    "        ### Second MLP ###\n",
    "        if self.fo_activation ==2:\n",
    "            C = nn.functional.selu(self.fo1(C.view(-1, self.P + self.Dx + self.De)))\n",
    "            C = nn.functional.selu(self.fo2(C))\n",
    "            O = nn.functional.selu(self.fo3(C).view(-1, self.N, self.Do))\n",
    "        elif self.fo_activation ==1:\n",
    "            C = nn.functional.elu(self.fo1(C.view(-1, self.P + self.Dx + self.De)))\n",
    "            C = nn.functional.elu(self.fo2(C))\n",
    "            O = nn.functional.elu(self.fo3(C).view(-1, self.N, self.Do))\n",
    "        else:\n",
    "            C = nn.functional.relu(self.fo1(C.view(-1, self.P + self.Dx + self.De)))\n",
    "            C = nn.functional.relu(self.fo2(C))\n",
    "            O = nn.functional.relu(self.fo3(C).view(-1, self.N, self.Do))\n",
    "        del C\n",
    "        ### Classification MLP ###\n",
    "        if self.fc_activation ==2:\n",
    "            N = nn.functional.selu(self.fc1(O.view(-1, self.Do * self.N)))\n",
    "            N = nn.functional.selu(self.fc2(N))       \n",
    "        elif self.fc_activation ==1:\n",
    "            N = nn.functional.elu(self.fc1(O.view(-1, self.Do * self.N)))\n",
    "            N = nn.functional.elu(self.fc2(N))\n",
    "        else:\n",
    "            N = nn.functional.relu(self.fc1(O.view(-1, self.Do * self.N)))\n",
    "            N = nn.functional.relu(self.fc2(N))\n",
    "        del O\n",
    "        #N = nn.functional.relu(self.fc3(N))\n",
    "        N = self.fc3(N)\n",
    "        return N\n",
    "\n",
    "    def tmul(self, x, y):  #Takes (I * J * K)(K * L) -> I * J * L \n",
    "        x_shape = x.size()\n",
    "        y_shape = y.size()\n",
    "        return torch.mm(x.view(-1, x_shape[2]), y).view(-1, x_shape[1], y_shape[1])"
   ]
  },
  {
   "cell_type": "code",
   "execution_count": 30,
   "metadata": {},
   "outputs": [],
   "source": [
    "# ### Prepare Dataset\n",
    "nParticles = 150\n",
    "x = []\n",
    "x.append(50) # hinned nodes\n",
    "x.append(14) # De\n",
    "x.append(6) # Do\n",
    "x.append(2) # fr_activation_index\n",
    "x.append(2) # fo_activation_index\n",
    "x.append(0) # fc_activation_index\n",
    "x.append(0) # optmizer_index"
   ]
  },
  {
   "cell_type": "code",
   "execution_count": 31,
   "metadata": {},
   "outputs": [],
   "source": [
    "params = ['j1_px', 'j1_py' , 'j1_pz' , 'j1_e' , 'j1_erel' , 'j1_pt' , 'j1_ptrel', 'j1_eta' , 'j1_etarel' , \n",
    "          'j1_etarot' , 'j1_phi' , 'j1_phirel' , 'j1_phirot', 'j1_deltaR' , 'j1_costheta' , 'j1_costhetarel']"
   ]
  },
  {
   "cell_type": "code",
   "execution_count": 32,
   "metadata": {},
   "outputs": [],
   "source": [
    "mymodel = GraphNet(nParticles, len(labels), params, int(x[0]), int(x[1]), int(x[2]), \n",
    "                       int(x[3]),  int(x[4]),  int(x[5]), int(x[6]), 0)"
   ]
  },
  {
   "cell_type": "code",
   "execution_count": 34,
   "metadata": {},
   "outputs": [
    {
     "name": "stdout",
     "output_type": "stream",
     "text": [
      "GraphNet(\n",
      "  (fr1): Linear(in_features=32, out_features=50, bias=True)\n",
      "  (fr2): Linear(in_features=50, out_features=25, bias=True)\n",
      "  (fr3): Linear(in_features=25, out_features=14, bias=True)\n",
      "  (fo1): Linear(in_features=30, out_features=50, bias=True)\n",
      "  (fo2): Linear(in_features=50, out_features=25, bias=True)\n",
      "  (fo3): Linear(in_features=25, out_features=6, bias=True)\n",
      "  (fc1): Linear(in_features=900, out_features=50, bias=True)\n",
      "  (fc2): Linear(in_features=50, out_features=25, bias=True)\n",
      "  (fc3): Linear(in_features=25, out_features=5, bias=True)\n",
      ")\n",
      "\n",
      "Trainable parameters: 52725\n"
     ]
    }
   ],
   "source": [
    "print(mymodel)\n",
    "trainablePars = sum(p.numel() for p in mymodel.parameters() if p.requires_grad)\n",
    "print('\\nTrainable parameters:', trainablePars)"
   ]
  },
  {
   "cell_type": "markdown",
   "metadata": {},
   "source": [
    "# JEDI-net with Sum over O"
   ]
  },
  {
   "cell_type": "code",
   "execution_count": 38,
   "metadata": {},
   "outputs": [],
   "source": [
    "class GraphNet(nn.Module):\n",
    "    def __init__(self, n_constituents, n_targets, params, hidden, De, Do, \n",
    "                 fr_activation=0, fo_activation=0, fc_activation=0, optimizer = 0, verbose = False):\n",
    "        super(GraphNet, self).__init__()\n",
    "        self.hidden = hidden\n",
    "        self.P = len(params)\n",
    "        self.N = n_constituents\n",
    "        self.Nr = self.N * (self.N - 1)\n",
    "        self.Dr = 0\n",
    "        self.De = De\n",
    "        self.Dx = 0\n",
    "        self.Do = Do\n",
    "        self.n_targets = n_targets\n",
    "        self.fr_activation = fr_activation\n",
    "        self.fo_activation = fo_activation\n",
    "        self.fc_activation = fc_activation\n",
    "        self.optimizer = optimizer\n",
    "        self.verbose = verbose\n",
    "        self.assign_matrices()\n",
    "\n",
    "        self.Ra = torch.ones(self.Dr, self.Nr)\n",
    "        self.fr1 = nn.Linear(2 * self.P + self.Dr, hidden)\n",
    "        self.fr2 = nn.Linear(hidden, int(hidden/2))\n",
    "        self.fr3 = nn.Linear(int(hidden/2), self.De)\n",
    "        self.fo1 = nn.Linear(self.P + self.Dx + self.De, hidden)\n",
    "        self.fo2 = nn.Linear(hidden, int(hidden/2))\n",
    "        self.fo3 = nn.Linear(int(hidden/2), self.Do)\n",
    "        self.fc1 = nn.Linear(self.Do, hidden)\n",
    "        self.fc2 = nn.Linear(hidden, int(hidden/2))\n",
    "        self.fc3 = nn.Linear(int(hidden/2), self.n_targets)\n",
    "\n",
    "    def assign_matrices(self):\n",
    "        self.Rr = torch.zeros(self.N, self.Nr)\n",
    "        self.Rs = torch.zeros(self.N, self.Nr)\n",
    "        receiver_sender_list = [i for i in itertools.product(range(self.N), range(self.N)) if i[0]!=i[1]]\n",
    "        for i, (r, s) in enumerate(receiver_sender_list):\n",
    "            self.Rr[r, i] = 1\n",
    "            self.Rs[s, i] = 1\n",
    "        self.Rr = Variable(self.Rr)\n",
    "        self.Rs = Variable(self.Rs)\n",
    "\n",
    "    def forward(self, x):\n",
    "        Orr = self.tmul(x, self.Rr)\n",
    "        Ors = self.tmul(x, self.Rs)\n",
    "        B = torch.cat([Orr, Ors], 1)\n",
    "        ### First MLP ###\n",
    "        B = torch.transpose(B, 1, 2).contiguous()\n",
    "        if self.fr_activation ==2:\n",
    "            B = nn.functional.selu(self.fr1(B.view(-1, 2 * self.P + self.Dr)))\n",
    "            B = nn.functional.selu(self.fr2(B))\n",
    "            E = nn.functional.selu(self.fr3(B).view(-1, self.Nr, self.De))            \n",
    "        elif self.fr_activation ==1:\n",
    "            B = nn.functional.elu(self.fr1(B.view(-1, 2 * self.P + self.Dr)))\n",
    "            B = nn.functional.elu(self.fr2(B))\n",
    "            E = nn.functional.elu(self.fr3(B).view(-1, self.Nr, self.De))\n",
    "        else:\n",
    "            B = nn.functional.relu(self.fr1(B.view(-1, 2 * self.P + self.Dr)))\n",
    "            B = nn.functional.relu(self.fr2(B))\n",
    "            E = nn.functional.relu(self.fr3(B).view(-1, self.Nr, self.De))\n",
    "        del B\n",
    "        E = torch.transpose(E, 1, 2).contiguous()\n",
    "        Ebar = self.tmul(E, torch.transpose(self.Rr, 0, 1).contiguous())\n",
    "        del E\n",
    "        C = torch.cat([x, Ebar], 1)\n",
    "        del Ebar\n",
    "        C = torch.transpose(C, 1, 2).contiguous()\n",
    "        ### Second MLP ###\n",
    "        if self.fo_activation ==2:\n",
    "            C = nn.functional.selu(self.fo1(C.view(-1, self.P + self.Dx + self.De)))\n",
    "            C = nn.functional.selu(self.fo2(C))\n",
    "            O = nn.functional.selu(self.fo3(C).view(-1, self.N, self.Do))\n",
    "        elif self.fo_activation ==1:\n",
    "            C = nn.functional.elu(self.fo1(C.view(-1, self.P + self.Dx + self.De)))\n",
    "            C = nn.functional.elu(self.fo2(C))\n",
    "            O = nn.functional.elu(self.fo3(C).view(-1, self.N, self.Do))\n",
    "        else:\n",
    "            C = nn.functional.relu(self.fo1(C.view(-1, self.P + self.Dx + self.De)))\n",
    "            C = nn.functional.relu(self.fo2(C))\n",
    "            O = nn.functional.relu(self.fo3(C).view(-1, self.N, self.Do))\n",
    "        del C\n",
    "        ## sum over the O matrix  \n",
    "        O = torch.sum( O, dim=1)\n",
    "        ### Classification MLP ###\n",
    "        if self.fc_activation ==2:\n",
    "            N = nn.functional.selu(self.fc1(O.view(-1, self.Do)))\n",
    "            N = nn.functional.selu(self.fc2(N))       \n",
    "        elif self.fc_activation ==1:\n",
    "            N = nn.functional.elu(self.fc1(O.view(-1, self.Do)))\n",
    "            N = nn.functional.elu(self.fc2(N))\n",
    "        else:\n",
    "            N = nn.functional.relu(self.fc1(O.view(-1, self.Do)))\n",
    "            N = nn.functional.relu(self.fc2(N))\n",
    "        del O\n",
    "        #N = nn.functional.relu(self.fc3(N))\n",
    "        N = self.fc3(N)\n",
    "        return N\n",
    "\n",
    "    def tmul(self, x, y):  #Takes (I * J * K)(K * L) -> I * J * L \n",
    "        x_shape = x.size()\n",
    "        y_shape = y.size()\n",
    "        return torch.mm(x.view(-1, x_shape[2]), y).view(-1, x_shape[1], y_shape[1])"
   ]
  },
  {
   "cell_type": "code",
   "execution_count": 39,
   "metadata": {},
   "outputs": [],
   "source": [
    "# ### Prepare Dataset\n",
    "nParticles = 50\n",
    "x = []\n",
    "x.append(50) # hinned nodes\n",
    "x.append(12) # De\n",
    "x.append(14) # Do\n",
    "x.append(0) # fr_activation_index\n",
    "x.append(0) # fo_activation_index\n",
    "x.append(2) # fc_activation_index\n",
    "x.append(0) # optmizer_index"
   ]
  },
  {
   "cell_type": "code",
   "execution_count": 40,
   "metadata": {},
   "outputs": [],
   "source": [
    "mymodel = GraphNet(nParticles, len(labels), params, int(x[0]), int(x[1]), int(x[2]), \n",
    "                       int(x[3]),  int(x[4]),  int(x[5]), int(x[6]), 0)"
   ]
  },
  {
   "cell_type": "code",
   "execution_count": 41,
   "metadata": {},
   "outputs": [
    {
     "name": "stdout",
     "output_type": "stream",
     "text": [
      "GraphNet(\n",
      "  (fr1): Linear(in_features=32, out_features=50, bias=True)\n",
      "  (fr2): Linear(in_features=50, out_features=25, bias=True)\n",
      "  (fr3): Linear(in_features=25, out_features=12, bias=True)\n",
      "  (fo1): Linear(in_features=28, out_features=50, bias=True)\n",
      "  (fo2): Linear(in_features=50, out_features=25, bias=True)\n",
      "  (fo3): Linear(in_features=25, out_features=14, bias=True)\n",
      "  (fc1): Linear(in_features=14, out_features=50, bias=True)\n",
      "  (fc2): Linear(in_features=50, out_features=25, bias=True)\n",
      "  (fc3): Linear(in_features=25, out_features=5, bias=True)\n",
      ")\n",
      "\n",
      "Trainable parameters: 8481\n"
     ]
    }
   ],
   "source": [
    "print(mymodel)\n",
    "trainablePars = sum(p.numel() for p in mymodel.parameters() if p.requires_grad)\n",
    "print('\\nTrainable parameters:', trainablePars)"
   ]
  },
  {
   "cell_type": "code",
   "execution_count": null,
   "metadata": {},
   "outputs": [],
   "source": []
  }
 ],
 "metadata": {
  "kernelspec": {
   "display_name": "Python 3",
   "language": "python",
   "name": "python3"
  },
  "language_info": {
   "codemirror_mode": {
    "name": "ipython",
    "version": 3
   },
   "file_extension": ".py",
   "mimetype": "text/x-python",
   "name": "python",
   "nbconvert_exporter": "python",
   "pygments_lexer": "ipython3",
   "version": "3.7.3"
  }
 },
 "nbformat": 4,
 "nbformat_minor": 2
}
