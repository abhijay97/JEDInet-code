{
 "cells": [
  {
   "cell_type": "markdown",
   "metadata": {},
   "source": [
    "# Script to evaluate inference time"
   ]
  },
  {
   "cell_type": "code",
   "execution_count": 4,
   "metadata": {},
   "outputs": [],
   "source": [
    "import numpy as np\n",
    "import h5py"
   ]
  },
  {
   "cell_type": "code",
   "execution_count": 5,
   "metadata": {},
   "outputs": [],
   "source": [
    "labels = ['j_g', 'j_q', 'j_w', 'j_z', 'j_t']"
   ]
  },
  {
   "cell_type": "code",
   "execution_count": 7,
   "metadata": {},
   "outputs": [
    {
     "ename": "OSError",
     "evalue": "Unable to open file (unable to open file: name = 'data/jetImage_50_VAL.h5', errno = 2, error message = 'No such file or directory', flags = 0, o_flags = 0)",
     "output_type": "error",
     "traceback": [
      "\u001b[0;31m---------------------------------------------------------------------------\u001b[0m",
      "\u001b[0;31mOSError\u001b[0m                                   Traceback (most recent call last)",
      "\u001b[0;32m<ipython-input-7-2d3f87bfb25d>\u001b[0m in \u001b[0;36m<module>\u001b[0;34m\u001b[0m\n\u001b[1;32m      3\u001b[0m \u001b[0mX_hlf\u001b[0m \u001b[0;34m=\u001b[0m \u001b[0mnp\u001b[0m\u001b[0;34m.\u001b[0m\u001b[0marray\u001b[0m\u001b[0;34m(\u001b[0m\u001b[0;34m[\u001b[0m\u001b[0;34m]\u001b[0m\u001b[0;34m)\u001b[0m\u001b[0;34m\u001b[0m\u001b[0;34m\u001b[0m\u001b[0m\n\u001b[1;32m      4\u001b[0m \u001b[0mY\u001b[0m \u001b[0;34m=\u001b[0m \u001b[0mnp\u001b[0m\u001b[0;34m.\u001b[0m\u001b[0marray\u001b[0m\u001b[0;34m(\u001b[0m\u001b[0;34m[\u001b[0m\u001b[0;34m]\u001b[0m\u001b[0;34m)\u001b[0m\u001b[0;34m\u001b[0m\u001b[0;34m\u001b[0m\u001b[0m\n\u001b[0;32m----> 5\u001b[0;31m \u001b[0mfile_50\u001b[0m \u001b[0;34m=\u001b[0m \u001b[0mh5py\u001b[0m\u001b[0;34m.\u001b[0m\u001b[0mFile\u001b[0m\u001b[0;34m(\u001b[0m\u001b[0;34m\"data/jetImage_50_VAL.h5\"\u001b[0m\u001b[0;34m,\u001b[0m\u001b[0;34m\"r\"\u001b[0m\u001b[0;34m)\u001b[0m\u001b[0;34m\u001b[0m\u001b[0;34m\u001b[0m\u001b[0m\n\u001b[0m\u001b[1;32m      6\u001b[0m \u001b[0mfile_100\u001b[0m \u001b[0;34m=\u001b[0m \u001b[0mh5py\u001b[0m\u001b[0;34m.\u001b[0m\u001b[0mFile\u001b[0m\u001b[0;34m(\u001b[0m\u001b[0;34m\"../data/jetImage_7_100p_50000_60000.h5\"\u001b[0m\u001b[0;34m,\u001b[0m\u001b[0;34m\"r\"\u001b[0m\u001b[0;34m)\u001b[0m\u001b[0;34m\u001b[0m\u001b[0;34m\u001b[0m\u001b[0m\n\u001b[1;32m      7\u001b[0m \u001b[0mfile_150\u001b[0m \u001b[0;34m=\u001b[0m \u001b[0mh5py\u001b[0m\u001b[0;34m.\u001b[0m\u001b[0mFile\u001b[0m\u001b[0;34m(\u001b[0m\u001b[0;34m\"../data/jetImage_7_150p_10000_20000.h5\"\u001b[0m\u001b[0;34m,\u001b[0m\u001b[0;34m\"r\"\u001b[0m\u001b[0;34m)\u001b[0m\u001b[0;34m\u001b[0m\u001b[0;34m\u001b[0m\u001b[0m\n",
      "\u001b[0;32m/usr/local/lib/python3.7/site-packages/h5py/_hl/files.py\u001b[0m in \u001b[0;36m__init__\u001b[0;34m(self, name, mode, driver, libver, userblock_size, swmr, rdcc_nslots, rdcc_nbytes, rdcc_w0, track_order, **kwds)\u001b[0m\n\u001b[1;32m    392\u001b[0m                 fid = make_fid(name, mode, userblock_size,\n\u001b[1;32m    393\u001b[0m                                \u001b[0mfapl\u001b[0m\u001b[0;34m,\u001b[0m \u001b[0mfcpl\u001b[0m\u001b[0;34m=\u001b[0m\u001b[0mmake_fcpl\u001b[0m\u001b[0;34m(\u001b[0m\u001b[0mtrack_order\u001b[0m\u001b[0;34m=\u001b[0m\u001b[0mtrack_order\u001b[0m\u001b[0;34m)\u001b[0m\u001b[0;34m,\u001b[0m\u001b[0;34m\u001b[0m\u001b[0;34m\u001b[0m\u001b[0m\n\u001b[0;32m--> 394\u001b[0;31m                                swmr=swmr)\n\u001b[0m\u001b[1;32m    395\u001b[0m \u001b[0;34m\u001b[0m\u001b[0m\n\u001b[1;32m    396\u001b[0m             \u001b[0;32mif\u001b[0m \u001b[0mswmr_support\u001b[0m\u001b[0;34m:\u001b[0m\u001b[0;34m\u001b[0m\u001b[0;34m\u001b[0m\u001b[0m\n",
      "\u001b[0;32m/usr/local/lib/python3.7/site-packages/h5py/_hl/files.py\u001b[0m in \u001b[0;36mmake_fid\u001b[0;34m(name, mode, userblock_size, fapl, fcpl, swmr)\u001b[0m\n\u001b[1;32m    168\u001b[0m         \u001b[0;32mif\u001b[0m \u001b[0mswmr\u001b[0m \u001b[0;32mand\u001b[0m \u001b[0mswmr_support\u001b[0m\u001b[0;34m:\u001b[0m\u001b[0;34m\u001b[0m\u001b[0;34m\u001b[0m\u001b[0m\n\u001b[1;32m    169\u001b[0m             \u001b[0mflags\u001b[0m \u001b[0;34m|=\u001b[0m \u001b[0mh5f\u001b[0m\u001b[0;34m.\u001b[0m\u001b[0mACC_SWMR_READ\u001b[0m\u001b[0;34m\u001b[0m\u001b[0;34m\u001b[0m\u001b[0m\n\u001b[0;32m--> 170\u001b[0;31m         \u001b[0mfid\u001b[0m \u001b[0;34m=\u001b[0m \u001b[0mh5f\u001b[0m\u001b[0;34m.\u001b[0m\u001b[0mopen\u001b[0m\u001b[0;34m(\u001b[0m\u001b[0mname\u001b[0m\u001b[0;34m,\u001b[0m \u001b[0mflags\u001b[0m\u001b[0;34m,\u001b[0m \u001b[0mfapl\u001b[0m\u001b[0;34m=\u001b[0m\u001b[0mfapl\u001b[0m\u001b[0;34m)\u001b[0m\u001b[0;34m\u001b[0m\u001b[0;34m\u001b[0m\u001b[0m\n\u001b[0m\u001b[1;32m    171\u001b[0m     \u001b[0;32melif\u001b[0m \u001b[0mmode\u001b[0m \u001b[0;34m==\u001b[0m \u001b[0;34m'r+'\u001b[0m\u001b[0;34m:\u001b[0m\u001b[0;34m\u001b[0m\u001b[0;34m\u001b[0m\u001b[0m\n\u001b[1;32m    172\u001b[0m         \u001b[0mfid\u001b[0m \u001b[0;34m=\u001b[0m \u001b[0mh5f\u001b[0m\u001b[0;34m.\u001b[0m\u001b[0mopen\u001b[0m\u001b[0;34m(\u001b[0m\u001b[0mname\u001b[0m\u001b[0;34m,\u001b[0m \u001b[0mh5f\u001b[0m\u001b[0;34m.\u001b[0m\u001b[0mACC_RDWR\u001b[0m\u001b[0;34m,\u001b[0m \u001b[0mfapl\u001b[0m\u001b[0;34m=\u001b[0m\u001b[0mfapl\u001b[0m\u001b[0;34m)\u001b[0m\u001b[0;34m\u001b[0m\u001b[0;34m\u001b[0m\u001b[0m\n",
      "\u001b[0;32mh5py/_objects.pyx\u001b[0m in \u001b[0;36mh5py._objects.with_phil.wrapper\u001b[0;34m()\u001b[0m\n",
      "\u001b[0;32mh5py/_objects.pyx\u001b[0m in \u001b[0;36mh5py._objects.with_phil.wrapper\u001b[0;34m()\u001b[0m\n",
      "\u001b[0;32mh5py/h5f.pyx\u001b[0m in \u001b[0;36mh5py.h5f.open\u001b[0;34m()\u001b[0m\n",
      "\u001b[0;31mOSError\u001b[0m: Unable to open file (unable to open file: name = 'data/jetImage_50_VAL.h5', errno = 2, error message = 'No such file or directory', flags = 0, o_flags = 0)"
     ]
    }
   ],
   "source": [
    "# input dataset\n",
    "import glob\n",
    "X_hlf = np.array([])\n",
    "Y = np.array([])\n",
    "file_50 = h5py.File(\"../data/jetImage_50_VAL.h5\",\"r\")\n",
    "file_100 = h5py.File(\"../data/jetImage_7_100p_50000_60000.h5\",\"r\")\n",
    "file_150 = h5py.File(\"../data/jetImage_7_150p_10000_20000.h5\",\"r\")\n",
    "\n",
    "HLF_50 = np.array(file_50.get('jets')[:,[12, 34, 35, 36, 37, 38, 39, 40, 41, 42, 43, 44, 45, 46, 48, 52]])\n",
    "Y_50 = np.array(file_50.get('jets')[0:,-6:-1])\n",
    "Image_50 = np.array(file_50.get('jetImage'))\n",
    "Image_50 = Image_50.reshape((Image_50.shape[0], Image_50.shape[1], Image_50.shape[2], 1))\n",
    "List_50 =  np.array(file_50.get('jetConstituentList'))\n",
    "\n",
    "Y_100 = np.array(file_100.get('jets')[0:,-6:-1])\n",
    "List_100 =  np.array(file_50.get('jetConstituentList'))\n",
    "\n",
    "Y_150 = np.array(file_100.get('jets')[0:,-6:-1])\n",
    "List_150 =  np.array(file_50.get('jetConstituentList'))\n"
   ]
  },
  {
   "cell_type": "markdown",
   "metadata": {},
   "source": [
    "# DNN"
   ]
  },
  {
   "cell_type": "code",
   "execution_count": 2,
   "metadata": {},
   "outputs": [
    {
     "name": "stderr",
     "output_type": "stream",
     "text": [
      "Using TensorFlow backend.\n"
     ]
    }
   ],
   "source": [
    "# keras imports\n",
    "from keras.models import Model, Sequential\n",
    "from keras.layers import Dense, Input, Conv2D, Dropout, Flatten\n",
    "from keras.layers import Concatenate, BatchNormalization, Activation\n",
    "from keras.layers import MaxPooling2D, MaxPooling3D, GRU\n",
    "from keras.utils import plot_model\n",
    "from keras import regularizers\n",
    "from keras import backend as K\n",
    "from keras import metrics\n",
    "from keras.callbacks import EarlyStopping, ReduceLROnPlateau, TerminateOnNaN\n",
    "from keras.regularizers import l1"
   ]
  },
  {
   "cell_type": "code",
   "execution_count": 3,
   "metadata": {},
   "outputs": [],
   "source": [
    "#optmizer = 'adam'\n",
    "# best model from optimization\n",
    "DNN_neurons = 80\n",
    "DNN_layers = 3\n",
    "DNN_activation = 'elu'\n",
    "dropout = 0.10\n",
    "batch_size = 50\n",
    "n_epochs = 500"
   ]
  },
  {
   "cell_type": "code",
   "execution_count": 4,
   "metadata": {},
   "outputs": [],
   "source": [
    "#  model\n",
    "def myModel():\n",
    "    inputArray = Input(shape=(input_shape,))\n",
    "    x = Dense(DNN_neurons, activation=DNN_activation, \n",
    "              kernel_initializer='lecun_uniform', name='dense_0')(inputArray)\n",
    "    x = Dropout(dropout)(x)\n",
    "    ####\n",
    "    for i in range(1,DNN_layers):\n",
    "        x = Dense(DNN_neurons, activation=DNN_activation, \n",
    "                  kernel_initializer='lecun_uniform', name='dense_%i' %i)(x)\n",
    "        x = Dropout(dropout)(x)\n",
    "\n",
    "    output = Dense(5, activation='softmax', kernel_initializer='lecun_uniform', \n",
    "                   name = 'output_softmax')(x)\n",
    "    ####\n",
    "    model = Model(inputs=inputArray, outputs=output)\n",
    "    model.compile(optimizer='adam', loss='categorical_crossentropy', metrics=['acc'])\n",
    "    return model"
   ]
  },
  {
   "cell_type": "code",
   "execution_count": 5,
   "metadata": {},
   "outputs": [
    {
     "name": "stderr",
     "output_type": "stream",
     "text": [
      "WARNING: Logging before flag parsing goes to stderr.\n",
      "W0719 12:27:05.257584 4549944768 deprecation_wrapper.py:119] From /usr/local/lib/python3.7/site-packages/keras/backend/tensorflow_backend.py:74: The name tf.get_default_graph is deprecated. Please use tf.compat.v1.get_default_graph instead.\n",
      "\n",
      "W0719 12:27:05.272451 4549944768 deprecation_wrapper.py:119] From /usr/local/lib/python3.7/site-packages/keras/backend/tensorflow_backend.py:517: The name tf.placeholder is deprecated. Please use tf.compat.v1.placeholder instead.\n",
      "\n",
      "W0719 12:27:05.276516 4549944768 deprecation_wrapper.py:119] From /usr/local/lib/python3.7/site-packages/keras/backend/tensorflow_backend.py:4138: The name tf.random_uniform is deprecated. Please use tf.random.uniform instead.\n",
      "\n",
      "W0719 12:27:05.310244 4549944768 deprecation_wrapper.py:119] From /usr/local/lib/python3.7/site-packages/keras/backend/tensorflow_backend.py:133: The name tf.placeholder_with_default is deprecated. Please use tf.compat.v1.placeholder_with_default instead.\n",
      "\n",
      "W0719 12:27:05.321657 4549944768 deprecation.py:506] From /usr/local/lib/python3.7/site-packages/keras/backend/tensorflow_backend.py:3445: calling dropout (from tensorflow.python.ops.nn_ops) with keep_prob is deprecated and will be removed in a future version.\n",
      "Instructions for updating:\n",
      "Please use `rate` instead of `keep_prob`. Rate should be set to `rate = 1 - keep_prob`.\n",
      "W0719 12:27:05.412355 4549944768 deprecation_wrapper.py:119] From /usr/local/lib/python3.7/site-packages/keras/optimizers.py:790: The name tf.train.Optimizer is deprecated. Please use tf.compat.v1.train.Optimizer instead.\n",
      "\n",
      "W0719 12:27:05.434594 4549944768 deprecation_wrapper.py:119] From /usr/local/lib/python3.7/site-packages/keras/backend/tensorflow_backend.py:3295: The name tf.log is deprecated. Please use tf.math.log instead.\n",
      "\n"
     ]
    },
    {
     "name": "stdout",
     "output_type": "stream",
     "text": [
      "_________________________________________________________________\n",
      "Layer (type)                 Output Shape              Param #   \n",
      "=================================================================\n",
      "input_1 (InputLayer)         (None, 16)                0         \n",
      "_________________________________________________________________\n",
      "dense_0 (Dense)              (None, 80)                1360      \n",
      "_________________________________________________________________\n",
      "dropout_1 (Dropout)          (None, 80)                0         \n",
      "_________________________________________________________________\n",
      "dense_1 (Dense)              (None, 80)                6480      \n",
      "_________________________________________________________________\n",
      "dropout_2 (Dropout)          (None, 80)                0         \n",
      "_________________________________________________________________\n",
      "dense_2 (Dense)              (None, 80)                6480      \n",
      "_________________________________________________________________\n",
      "dropout_3 (Dropout)          (None, 80)                0         \n",
      "_________________________________________________________________\n",
      "output_softmax (Dense)       (None, 5)                 405       \n",
      "=================================================================\n",
      "Total params: 14,725\n",
      "Trainable params: 14,725\n",
      "Non-trainable params: 0\n",
      "_________________________________________________________________\n"
     ]
    }
   ],
   "source": [
    "input_shape = len([12, 34, 35, 36, 37, 38, 39, 40, 41, 42, 43, 44, 45, 46, 48, 52])\n",
    "thisModel = myModel()\n",
    "thisModel.summary()"
   ]
  },
  {
   "cell_type": "code",
   "execution_count": null,
   "metadata": {},
   "outputs": [],
   "source": []
  },
  {
   "cell_type": "markdown",
   "metadata": {},
   "source": [
    "# CNN"
   ]
  },
  {
   "cell_type": "code",
   "execution_count": 6,
   "metadata": {},
   "outputs": [],
   "source": [
    "CNN_filters = 10\n",
    "CNN_filter_size = 3\n",
    "CNN_MaxPool_size = 5\n",
    "CNN_layers = 1\n",
    "CNN_activation = 'elu'\n",
    "DNN_neurons = 50\n",
    "DNN_layers = 3\n",
    "DNN_activation = 'elu'\n",
    "dropout = 0.1\n",
    "batch_size = 500\n",
    "n_epochs = 500\n",
    "labels = ['j_g', 'j_q', 'j_w', 'j_z', 'j_t']\n",
    "nParticles = 50"
   ]
  },
  {
   "cell_type": "code",
   "execution_count": 7,
   "metadata": {},
   "outputs": [],
   "source": [
    "#  model\n",
    "def myModel():\n",
    "    inputImage = Input(shape=(image_shape))\n",
    "    x = Conv2D(CNN_filters, kernel_size=(CNN_filter_size,CNN_filter_size), \n",
    "               data_format=\"channels_last\", strides=(1, 1), padding=\"same\", input_shape=image_shape,\n",
    "               kernel_initializer='lecun_uniform', name='cnn2D_0')(inputImage)\n",
    "    x = BatchNormalization()(x)\n",
    "    x = Activation(CNN_activation)(x)\n",
    "    x = MaxPooling2D( pool_size = (CNN_MaxPool_size,CNN_MaxPool_size))(x)\n",
    "    x = Dropout(dropout)(x)\n",
    "    for i in range(1,CNN_layers):\n",
    "        x = Conv2D(CNN_filters, kernel_size=(CNN_filter_size,CNN_filter_size), \n",
    "                   data_format=\"channels_last\", strides=(1, 1), padding=\"same\", input_shape=image_shape,\n",
    "                   kernel_initializer='lecun_uniform', name='cnn2D_%i' %i)(x)\n",
    "        x = BatchNormalization()(x)\n",
    "        x = Activation(CNN_activation)(x)\n",
    "        #x = MaxPooling2D( pool_size = (CNN_MaxPool_size,CNN_MaxPool_size))(x)\n",
    "        x = Dropout(dropout)(x)\n",
    "        \n",
    "    ####\n",
    "    x = Flatten()(x)\n",
    "    #\n",
    "    for i in range(DNN_layers):\n",
    "        x = Dense(DNN_neurons, activation=DNN_activation, \n",
    "                  kernel_initializer='lecun_uniform', name='dense_%i' %i)(x)\n",
    "        x = Dropout(dropout)(x)\n",
    "    #\n",
    "    output = Dense(5, activation='softmax', kernel_initializer='lecun_uniform', \n",
    "                   name = 'output_softmax')(x)\n",
    "    ####\n",
    "    model = Model(inputs=inputImage, outputs=output)\n",
    "    model.compile(optimizer='adam', loss='categorical_crossentropy', metrics=['acc'])\n",
    "\n",
    "    return model"
   ]
  },
  {
   "cell_type": "code",
   "execution_count": 8,
   "metadata": {},
   "outputs": [],
   "source": [
    "img_rows = 100#X.shape[1]\n",
    "img_cols = 100#X.shape[2]\n",
    "image_shape = (img_rows, img_cols, 1)"
   ]
  },
  {
   "cell_type": "code",
   "execution_count": 9,
   "metadata": {},
   "outputs": [
    {
     "name": "stderr",
     "output_type": "stream",
     "text": [
      "W0719 12:27:07.751152 4549944768 deprecation_wrapper.py:119] From /usr/local/lib/python3.7/site-packages/keras/backend/tensorflow_backend.py:1834: The name tf.nn.fused_batch_norm is deprecated. Please use tf.compat.v1.nn.fused_batch_norm instead.\n",
      "\n",
      "W0719 12:27:07.816950 4549944768 deprecation_wrapper.py:119] From /usr/local/lib/python3.7/site-packages/keras/backend/tensorflow_backend.py:3976: The name tf.nn.max_pool is deprecated. Please use tf.nn.max_pool2d instead.\n",
      "\n"
     ]
    },
    {
     "name": "stdout",
     "output_type": "stream",
     "text": [
      "_________________________________________________________________\n",
      "Layer (type)                 Output Shape              Param #   \n",
      "=================================================================\n",
      "input_2 (InputLayer)         (None, 100, 100, 1)       0         \n",
      "_________________________________________________________________\n",
      "cnn2D_0 (Conv2D)             (None, 100, 100, 10)      100       \n",
      "_________________________________________________________________\n",
      "batch_normalization_1 (Batch (None, 100, 100, 10)      40        \n",
      "_________________________________________________________________\n",
      "activation_1 (Activation)    (None, 100, 100, 10)      0         \n",
      "_________________________________________________________________\n",
      "max_pooling2d_1 (MaxPooling2 (None, 20, 20, 10)        0         \n",
      "_________________________________________________________________\n",
      "dropout_4 (Dropout)          (None, 20, 20, 10)        0         \n",
      "_________________________________________________________________\n",
      "flatten_1 (Flatten)          (None, 4000)              0         \n",
      "_________________________________________________________________\n",
      "dense_0 (Dense)              (None, 50)                200050    \n",
      "_________________________________________________________________\n",
      "dropout_5 (Dropout)          (None, 50)                0         \n",
      "_________________________________________________________________\n",
      "dense_1 (Dense)              (None, 50)                2550      \n",
      "_________________________________________________________________\n",
      "dropout_6 (Dropout)          (None, 50)                0         \n",
      "_________________________________________________________________\n",
      "dense_2 (Dense)              (None, 50)                2550      \n",
      "_________________________________________________________________\n",
      "dropout_7 (Dropout)          (None, 50)                0         \n",
      "_________________________________________________________________\n",
      "output_softmax (Dense)       (None, 5)                 255       \n",
      "=================================================================\n",
      "Total params: 205,545\n",
      "Trainable params: 205,525\n",
      "Non-trainable params: 20\n",
      "_________________________________________________________________\n"
     ]
    }
   ],
   "source": [
    "thisModel = myModel()\n",
    "thisModel.summary()"
   ]
  },
  {
   "cell_type": "markdown",
   "metadata": {},
   "source": [
    "# GRU"
   ]
  },
  {
   "cell_type": "code",
   "execution_count": 10,
   "metadata": {},
   "outputs": [],
   "source": [
    "nParticles = 50\n",
    "GRU_units= 50\n",
    "DNN_neurons = 40\n",
    "DNN_layers = 3\n",
    "DNN_activation = 'relu'\n",
    "dropout = 0.22\n",
    "batch_size = 500\n",
    "n_epochs = 50\n",
    "#n_epochs = 1\n",
    "labels = ['j_g', 'j_q', 'j_w', 'j_z', 'j_t']\n",
    "input_shape = (nParticles,16)"
   ]
  },
  {
   "cell_type": "code",
   "execution_count": 11,
   "metadata": {},
   "outputs": [],
   "source": [
    "#  model\n",
    "def myModel():\n",
    "    inputArray = Input(shape=(input_shape))\n",
    "    x = GRU(GRU_units, activation='tanh',\n",
    "            recurrent_activation='hard_sigmoid', name='gru')(inputArray)\n",
    "    x = Dropout(dropout)(x)\n",
    "    ####\n",
    "    for i in range(0,DNN_layers):\n",
    "        x = Dense(DNN_neurons, activation=DNN_activation, \n",
    "                  kernel_initializer='lecun_uniform', name='dense_%i' %i)(x)\n",
    "        x = Dropout(dropout)(x)\n",
    "    #\n",
    "    output = Dense(5, activation='softmax', kernel_initializer='lecun_uniform', \n",
    "                   name = 'output_softmax')(x)\n",
    "    ####\n",
    "    model = Model(inputs=inputArray, outputs=output)\n",
    "    model.compile(optimizer='adam', loss='categorical_crossentropy', metrics=['acc'])\n",
    "    return model"
   ]
  },
  {
   "cell_type": "code",
   "execution_count": 12,
   "metadata": {},
   "outputs": [
    {
     "name": "stdout",
     "output_type": "stream",
     "text": [
      "_________________________________________________________________\n",
      "Layer (type)                 Output Shape              Param #   \n",
      "=================================================================\n",
      "input_3 (InputLayer)         (None, 50, 16)            0         \n",
      "_________________________________________________________________\n",
      "gru (GRU)                    (None, 50)                10050     \n",
      "_________________________________________________________________\n",
      "dropout_8 (Dropout)          (None, 50)                0         \n",
      "_________________________________________________________________\n",
      "dense_0 (Dense)              (None, 40)                2040      \n",
      "_________________________________________________________________\n",
      "dropout_9 (Dropout)          (None, 40)                0         \n",
      "_________________________________________________________________\n",
      "dense_1 (Dense)              (None, 40)                1640      \n",
      "_________________________________________________________________\n",
      "dropout_10 (Dropout)         (None, 40)                0         \n",
      "_________________________________________________________________\n",
      "dense_2 (Dense)              (None, 40)                1640      \n",
      "_________________________________________________________________\n",
      "dropout_11 (Dropout)         (None, 40)                0         \n",
      "_________________________________________________________________\n",
      "output_softmax (Dense)       (None, 5)                 205       \n",
      "=================================================================\n",
      "Total params: 15,575\n",
      "Trainable params: 15,575\n",
      "Non-trainable params: 0\n",
      "_________________________________________________________________\n"
     ]
    }
   ],
   "source": [
    "thisModel = myModel()\n",
    "thisModel.summary()"
   ]
  },
  {
   "cell_type": "markdown",
   "metadata": {},
   "source": [
    "# JEDI-net"
   ]
  },
  {
   "cell_type": "code",
   "execution_count": 1,
   "metadata": {},
   "outputs": [],
   "source": [
    "import torch\n",
    "import torch.nn as nn\n",
    "from torch.autograd.variable import *\n",
    "import torch.optim as optim\n",
    "import itertools"
   ]
  },
  {
   "cell_type": "code",
   "execution_count": 2,
   "metadata": {},
   "outputs": [],
   "source": [
    "class GraphNet(nn.Module):\n",
    "    def __init__(self, n_constituents, n_targets, params, hidden, De, Do, \n",
    "                 fr_activation=0, fo_activation=0, fc_activation=0, optimizer = 0, verbose = False):\n",
    "        super(GraphNet, self).__init__()\n",
    "        self.hidden = hidden\n",
    "        self.P = len(params)\n",
    "        self.N = n_constituents\n",
    "        self.Nr = self.N * (self.N - 1)\n",
    "        self.Dr = 0\n",
    "        self.De = De\n",
    "        self.Dx = 0\n",
    "        self.Do = Do\n",
    "        self.n_targets = n_targets\n",
    "        self.fr_activation = fr_activation\n",
    "        self.fo_activation = fo_activation\n",
    "        self.fc_activation = fc_activation\n",
    "        self.optimizer = optimizer\n",
    "        self.verbose = verbose\n",
    "        self.assign_matrices()\n",
    "\n",
    "        self.Ra = torch.ones(self.Dr, self.Nr)\n",
    "        self.fr1 = nn.Linear(2 * self.P + self.Dr, hidden)\n",
    "        self.fr2 = nn.Linear(hidden, int(hidden/2))\n",
    "        self.fr3 = nn.Linear(int(hidden/2), self.De)\n",
    "        self.fo1 = nn.Linear(self.P + self.Dx + self.De, hidden)\n",
    "        self.fo2 = nn.Linear(hidden, int(hidden/2))\n",
    "        self.fo3 = nn.Linear(int(hidden/2), self.Do)\n",
    "        self.fc1 = nn.Linear(self.Do * self.N, hidden)\n",
    "        self.fc2 = nn.Linear(hidden, int(hidden/2))\n",
    "        self.fc3 = nn.Linear(int(hidden/2), self.n_targets)\n",
    "\n",
    "    def assign_matrices(self):\n",
    "        self.Rr = torch.zeros(self.N, self.Nr)\n",
    "        self.Rs = torch.zeros(self.N, self.Nr)\n",
    "        receiver_sender_list = [i for i in itertools.product(range(self.N), range(self.N)) if i[0]!=i[1]]\n",
    "        for i, (r, s) in enumerate(receiver_sender_list):\n",
    "            self.Rr[r, i] = 1\n",
    "            self.Rs[s, i] = 1\n",
    "        self.Rr = Variable(self.Rr)\n",
    "        self.Rs = Variable(self.Rs)\n",
    "\n",
    "    def forward(self, x):\n",
    "        Orr = self.tmul(x, self.Rr)\n",
    "        Ors = self.tmul(x, self.Rs)\n",
    "        B = torch.cat([Orr, Ors], 1)\n",
    "        ### First MLP ###\n",
    "        B = torch.transpose(B, 1, 2).contiguous()\n",
    "        if self.fr_activation ==2:\n",
    "            B = nn.functional.selu(self.fr1(B.view(-1, 2 * self.P + self.Dr)))\n",
    "            B = nn.functional.selu(self.fr2(B))\n",
    "            E = nn.functional.selu(self.fr3(B).view(-1, self.Nr, self.De))            \n",
    "        elif self.fr_activation ==1:\n",
    "            B = nn.functional.elu(self.fr1(B.view(-1, 2 * self.P + self.Dr)))\n",
    "            B = nn.functional.elu(self.fr2(B))\n",
    "            E = nn.functional.elu(self.fr3(B).view(-1, self.Nr, self.De))\n",
    "        else:\n",
    "            B = nn.functional.relu(self.fr1(B.view(-1, 2 * self.P + self.Dr)))\n",
    "            B = nn.functional.relu(self.fr2(B))\n",
    "            E = nn.functional.relu(self.fr3(B).view(-1, self.Nr, self.De))\n",
    "        del B\n",
    "        E = torch.transpose(E, 1, 2).contiguous()\n",
    "        Ebar = self.tmul(E, torch.transpose(self.Rr, 0, 1).contiguous())\n",
    "        del E\n",
    "        C = torch.cat([x, Ebar], 1)\n",
    "        del Ebar\n",
    "        C = torch.transpose(C, 1, 2).contiguous()\n",
    "        ### Second MLP ###\n",
    "        if self.fo_activation ==2:\n",
    "            C = nn.functional.selu(self.fo1(C.view(-1, self.P + self.Dx + self.De)))\n",
    "            C = nn.functional.selu(self.fo2(C))\n",
    "            O = nn.functional.selu(self.fo3(C).view(-1, self.N, self.Do))\n",
    "        elif self.fo_activation ==1:\n",
    "            C = nn.functional.elu(self.fo1(C.view(-1, self.P + self.Dx + self.De)))\n",
    "            C = nn.functional.elu(self.fo2(C))\n",
    "            O = nn.functional.elu(self.fo3(C).view(-1, self.N, self.Do))\n",
    "        else:\n",
    "            C = nn.functional.relu(self.fo1(C.view(-1, self.P + self.Dx + self.De)))\n",
    "            C = nn.functional.relu(self.fo2(C))\n",
    "            O = nn.functional.relu(self.fo3(C).view(-1, self.N, self.Do))\n",
    "        del C\n",
    "        ### Classification MLP ###\n",
    "        if self.fc_activation ==2:\n",
    "            N = nn.functional.selu(self.fc1(O.view(-1, self.Do * self.N)))\n",
    "            N = nn.functional.selu(self.fc2(N))       \n",
    "        elif self.fc_activation ==1:\n",
    "            N = nn.functional.elu(self.fc1(O.view(-1, self.Do * self.N)))\n",
    "            N = nn.functional.elu(self.fc2(N))\n",
    "        else:\n",
    "            N = nn.functional.relu(self.fc1(O.view(-1, self.Do * self.N)))\n",
    "            N = nn.functional.relu(self.fc2(N))\n",
    "        del O\n",
    "        #N = nn.functional.relu(self.fc3(N))\n",
    "        N = self.fc3(N)\n",
    "        return N\n",
    "\n",
    "    def tmul(self, x, y):  #Takes (I * J * K)(K * L) -> I * J * L \n",
    "        x_shape = x.size()\n",
    "        y_shape = y.size()\n",
    "        return torch.mm(x.view(-1, x_shape[2]), y).view(-1, x_shape[1], y_shape[1])"
   ]
  },
  {
   "cell_type": "code",
   "execution_count": 3,
   "metadata": {},
   "outputs": [],
   "source": [
    "# ### Prepare Dataset                                                                                                                                                  \n",
    "nParticles = 100\n",
    "x = []\n",
    "x.append(30) # hinned nodes                                                                                                                                            \n",
    "x.append(10) # De                                                                                                                                                      \n",
    "x.append(10) # Do                                                                                                                                                      \n",
    "x.append(1) # fr_activation_index                                                                                                                                      \n",
    "x.append(1) # fo_activation_index                                                                                                                                      \n",
    "x.append(1) # fc_activation_index                                                                                                                                      \n",
    "x.append(0) # optmizer_index           "
   ]
  },
  {
   "cell_type": "code",
   "execution_count": 4,
   "metadata": {},
   "outputs": [],
   "source": [
    "params = ['j1_px', 'j1_py' , 'j1_pz' , 'j1_e' , 'j1_erel' , 'j1_pt' , 'j1_ptrel', 'j1_eta' , 'j1_etarel' , \n",
    "          'j1_etarot' , 'j1_phi' , 'j1_phirel' , 'j1_phirot', 'j1_deltaR' , 'j1_costheta' , 'j1_costhetarel']"
   ]
  },
  {
   "cell_type": "code",
   "execution_count": 7,
   "metadata": {},
   "outputs": [],
   "source": [
    "mymodel = GraphNet(nParticles, len(labels), params, int(x[0]), int(x[1]), int(x[2]), \n",
    "                       int(x[3]),  int(x[4]),  int(x[5]), int(x[6]), 0)"
   ]
  },
  {
   "cell_type": "code",
   "execution_count": 8,
   "metadata": {},
   "outputs": [
    {
     "name": "stdout",
     "output_type": "stream",
     "text": [
      "GraphNet(\n",
      "  (fr1): Linear(in_features=32, out_features=30, bias=True)\n",
      "  (fr2): Linear(in_features=30, out_features=15, bias=True)\n",
      "  (fr3): Linear(in_features=15, out_features=10, bias=True)\n",
      "  (fo1): Linear(in_features=26, out_features=30, bias=True)\n",
      "  (fo2): Linear(in_features=30, out_features=15, bias=True)\n",
      "  (fo3): Linear(in_features=15, out_features=10, bias=True)\n",
      "  (fc1): Linear(in_features=1000, out_features=30, bias=True)\n",
      "  (fc2): Linear(in_features=30, out_features=15, bias=True)\n",
      "  (fc3): Linear(in_features=15, out_features=5, bias=True)\n",
      ")\n",
      "\n",
      "Trainable parameters: 33625\n"
     ]
    }
   ],
   "source": [
    "print(mymodel)\n",
    "trainablePars = sum(p.numel() for p in mymodel.parameters() if p.requires_grad)\n",
    "print('\\nTrainable parameters:', trainablePars)"
   ]
  },
  {
   "cell_type": "markdown",
   "metadata": {},
   "source": [
    "# JEDI-net with Sum over O"
   ]
  },
  {
   "cell_type": "code",
   "execution_count": 9,
   "metadata": {},
   "outputs": [],
   "source": [
    "class GraphNet(nn.Module):\n",
    "    def __init__(self, n_constituents, n_targets, params, hidden, De, Do, \n",
    "                 fr_activation=0, fo_activation=0, fc_activation=0, optimizer = 0, verbose = False):\n",
    "        super(GraphNet, self).__init__()\n",
    "        self.hidden = hidden\n",
    "        self.P = len(params)\n",
    "        self.N = n_constituents\n",
    "        self.Nr = self.N * (self.N - 1)\n",
    "        self.Dr = 0\n",
    "        self.De = De\n",
    "        self.Dx = 0\n",
    "        self.Do = Do\n",
    "        self.n_targets = n_targets\n",
    "        self.fr_activation = fr_activation\n",
    "        self.fo_activation = fo_activation\n",
    "        self.fc_activation = fc_activation\n",
    "        self.optimizer = optimizer\n",
    "        self.verbose = verbose\n",
    "        self.assign_matrices()\n",
    "\n",
    "        self.Ra = torch.ones(self.Dr, self.Nr)\n",
    "        self.fr1 = nn.Linear(2 * self.P + self.Dr, hidden)\n",
    "        self.fr2 = nn.Linear(hidden, int(hidden/2))\n",
    "        self.fr3 = nn.Linear(int(hidden/2), self.De)\n",
    "        self.fo1 = nn.Linear(self.P + self.Dx + self.De, hidden)\n",
    "        self.fo2 = nn.Linear(hidden, int(hidden/2))\n",
    "        self.fo3 = nn.Linear(int(hidden/2), self.Do)\n",
    "        self.fc1 = nn.Linear(self.Do, hidden)\n",
    "        self.fc2 = nn.Linear(hidden, int(hidden/2))\n",
    "        self.fc3 = nn.Linear(int(hidden/2), self.n_targets)\n",
    "\n",
    "    def assign_matrices(self):\n",
    "        self.Rr = torch.zeros(self.N, self.Nr)\n",
    "        self.Rs = torch.zeros(self.N, self.Nr)\n",
    "        receiver_sender_list = [i for i in itertools.product(range(self.N), range(self.N)) if i[0]!=i[1]]\n",
    "        for i, (r, s) in enumerate(receiver_sender_list):\n",
    "            self.Rr[r, i] = 1\n",
    "            self.Rs[s, i] = 1\n",
    "        self.Rr = Variable(self.Rr)\n",
    "        self.Rs = Variable(self.Rs)\n",
    "\n",
    "    def forward(self, x):\n",
    "        Orr = self.tmul(x, self.Rr)\n",
    "        Ors = self.tmul(x, self.Rs)\n",
    "        B = torch.cat([Orr, Ors], 1)\n",
    "        ### First MLP ###\n",
    "        B = torch.transpose(B, 1, 2).contiguous()\n",
    "        if self.fr_activation ==2:\n",
    "            B = nn.functional.selu(self.fr1(B.view(-1, 2 * self.P + self.Dr)))\n",
    "            B = nn.functional.selu(self.fr2(B))\n",
    "            E = nn.functional.selu(self.fr3(B).view(-1, self.Nr, self.De))            \n",
    "        elif self.fr_activation ==1:\n",
    "            B = nn.functional.elu(self.fr1(B.view(-1, 2 * self.P + self.Dr)))\n",
    "            B = nn.functional.elu(self.fr2(B))\n",
    "            E = nn.functional.elu(self.fr3(B).view(-1, self.Nr, self.De))\n",
    "        else:\n",
    "            B = nn.functional.relu(self.fr1(B.view(-1, 2 * self.P + self.Dr)))\n",
    "            B = nn.functional.relu(self.fr2(B))\n",
    "            E = nn.functional.relu(self.fr3(B).view(-1, self.Nr, self.De))\n",
    "        del B\n",
    "        E = torch.transpose(E, 1, 2).contiguous()\n",
    "        Ebar = self.tmul(E, torch.transpose(self.Rr, 0, 1).contiguous())\n",
    "        del E\n",
    "        C = torch.cat([x, Ebar], 1)\n",
    "        del Ebar\n",
    "        C = torch.transpose(C, 1, 2).contiguous()\n",
    "        ### Second MLP ###\n",
    "        if self.fo_activation ==2:\n",
    "            C = nn.functional.selu(self.fo1(C.view(-1, self.P + self.Dx + self.De)))\n",
    "            C = nn.functional.selu(self.fo2(C))\n",
    "            O = nn.functional.selu(self.fo3(C).view(-1, self.N, self.Do))\n",
    "        elif self.fo_activation ==1:\n",
    "            C = nn.functional.elu(self.fo1(C.view(-1, self.P + self.Dx + self.De)))\n",
    "            C = nn.functional.elu(self.fo2(C))\n",
    "            O = nn.functional.elu(self.fo3(C).view(-1, self.N, self.Do))\n",
    "        else:\n",
    "            C = nn.functional.relu(self.fo1(C.view(-1, self.P + self.Dx + self.De)))\n",
    "            C = nn.functional.relu(self.fo2(C))\n",
    "            O = nn.functional.relu(self.fo3(C).view(-1, self.N, self.Do))\n",
    "        del C\n",
    "        ## sum over the O matrix  \n",
    "        O = torch.sum( O, dim=1)\n",
    "        ### Classification MLP ###\n",
    "        if self.fc_activation ==2:\n",
    "            N = nn.functional.selu(self.fc1(O.view(-1, self.Do)))\n",
    "            N = nn.functional.selu(self.fc2(N))       \n",
    "        elif self.fc_activation ==1:\n",
    "            N = nn.functional.elu(self.fc1(O.view(-1, self.Do)))\n",
    "            N = nn.functional.elu(self.fc2(N))\n",
    "        else:\n",
    "            N = nn.functional.relu(self.fc1(O.view(-1, self.Do)))\n",
    "            N = nn.functional.relu(self.fc2(N))\n",
    "        del O\n",
    "        #N = nn.functional.relu(self.fc3(N))\n",
    "        N = self.fc3(N)\n",
    "        return N\n",
    "\n",
    "    def tmul(self, x, y):  #Takes (I * J * K)(K * L) -> I * J * L \n",
    "        x_shape = x.size()\n",
    "        y_shape = y.size()\n",
    "        return torch.mm(x.view(-1, x_shape[2]), y).view(-1, x_shape[1], y_shape[1])"
   ]
  },
  {
   "cell_type": "code",
   "execution_count": 10,
   "metadata": {},
   "outputs": [],
   "source": [
    "# ### Prepare Dataset                                                                                                                                                  \n",
    "nParticles = 150\n",
    "x = []\n",
    "x.append(50) # hinned nodes                                                                                                                                            \n",
    "x.append(14) # De                                                                                                                                                      \n",
    "x.append(12) # Do                                                                                                                                                      \n",
    "x.append(2) # fr_activation_index                                                                                                                                      \n",
    "x.append(2) # fo_activation_index                                                                                                                                      \n",
    "x.append(2) # fc_activation_index                                                                                                                                      \n",
    "x.append(0) # optmizer_index           "
   ]
  },
  {
   "cell_type": "code",
   "execution_count": 11,
   "metadata": {},
   "outputs": [],
   "source": [
    "mymodel = GraphNet(nParticles, len(labels), params, int(x[0]), int(x[1]), int(x[2]), \n",
    "                       int(x[3]),  int(x[4]),  int(x[5]), int(x[6]), 0)"
   ]
  },
  {
   "cell_type": "code",
   "execution_count": 12,
   "metadata": {},
   "outputs": [
    {
     "name": "stdout",
     "output_type": "stream",
     "text": [
      "GraphNet(\n",
      "  (fr1): Linear(in_features=32, out_features=50, bias=True)\n",
      "  (fr2): Linear(in_features=50, out_features=25, bias=True)\n",
      "  (fr3): Linear(in_features=25, out_features=14, bias=True)\n",
      "  (fo1): Linear(in_features=30, out_features=50, bias=True)\n",
      "  (fo2): Linear(in_features=50, out_features=25, bias=True)\n",
      "  (fo3): Linear(in_features=25, out_features=12, bias=True)\n",
      "  (fc1): Linear(in_features=12, out_features=50, bias=True)\n",
      "  (fc2): Linear(in_features=50, out_features=25, bias=True)\n",
      "  (fc3): Linear(in_features=25, out_features=5, bias=True)\n",
      ")\n",
      "\n",
      "Trainable parameters: 8481\n"
     ]
    }
   ],
   "source": [
    "print(mymodel)\n",
    "trainablePars = sum(p.numel() for p in mymodel.parameters() if p.requires_grad)\n",
    "print('\\nTrainable parameters:', trainablePars)"
   ]
  },
  {
   "cell_type": "code",
   "execution_count": null,
   "metadata": {},
   "outputs": [],
   "source": []
  },
  {
   "cell_type": "code",
   "execution_count": null,
   "metadata": {},
   "outputs": [],
   "source": []
  }
 ],
 "metadata": {
  "kernelspec": {
   "display_name": "Python 3",
   "language": "python",
   "name": "python3"
  },
  "language_info": {
   "codemirror_mode": {
    "name": "ipython",
    "version": 3
   },
   "file_extension": ".py",
   "mimetype": "text/x-python",
   "name": "python",
   "nbconvert_exporter": "python",
   "pygments_lexer": "ipython3",
   "version": "3.7.3"
  }
 },
 "nbformat": 4,
 "nbformat_minor": 2
}
