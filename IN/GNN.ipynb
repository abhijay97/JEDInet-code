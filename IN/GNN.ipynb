{
 "cells": [
  {
   "cell_type": "code",
   "execution_count": 25,
   "metadata": {},
   "outputs": [
    {
     "name": "stderr",
     "output_type": "stream",
     "text": [
      "/usr/local/anaconda3/lib/python3.6/site-packages/h5py/__init__.py:36: FutureWarning: Conversion of the second argument of issubdtype from `float` to `np.floating` is deprecated. In future, it will be treated as `np.float64 == np.dtype(float).type`.\n",
      "  from ._conv import register_converters as _register_converters\n"
     ]
    }
   ],
   "source": [
    "import torch\n",
    "import torch.nn as nn\n",
    "from torch.autograd.variable import *\n",
    "import torch.optim as optim\n",
    "import os\n",
    "import numpy as np\n",
    "import h5py\n",
    "import glob\n",
    "# to check what I need\n",
    "#import util\n",
    "#from __future__ import print_function\n",
    "#os.environ['CUDA_VISIBLE_DEVICES'] = '4'"
   ]
  },
  {
   "cell_type": "code",
   "execution_count": 20,
   "metadata": {},
   "outputs": [
    {
     "name": "stdout",
     "output_type": "stream",
     "text": [
      "setGPU: Setting GPU to: 0\n"
     ]
    }
   ],
   "source": [
    "import setGPU"
   ]
  },
  {
   "cell_type": "markdown",
   "metadata": {},
   "source": [
    "### Model Definition"
   ]
  },
  {
   "cell_type": "code",
   "execution_count": 325,
   "metadata": {},
   "outputs": [],
   "source": [
    "import itertools\n",
    "\n",
    "class GraphNet(nn.Module):\n",
    "    def __init__(self, n_constituents, n_targets, params, hidden, \n",
    "                 fr_activation=0, fo_activation=0, fc_activation=0):\n",
    "        super(GraphNet, self).__init__()\n",
    "        self.hidden = hidden\n",
    "        self.P = len(params)\n",
    "        self.N = n_constituents\n",
    "        self.Nr = self.N * (self.N - 1)\n",
    "        self.Dr = 0\n",
    "        self.De = 8\n",
    "        self.Dx = 0\n",
    "        self.Do = 8\n",
    "        self.n_targets = n_targets\n",
    "        self.fr_activation = fr_activation\n",
    "        self.fo_activation = fo_activation\n",
    "        self.fc_activation = fc_activation\n",
    "        self.assign_matrices()\n",
    "\n",
    "        self.Ra = torch.ones(self.Dr, self.Nr)\n",
    "        self.fr1 = nn.Linear(2 * self.P + self.Dr, hidden).cuda()\n",
    "        self.fr2 = nn.Linear(hidden, int(hidden/2)).cuda()\n",
    "        self.fr3 = nn.Linear(int(hidden/2), self.De).cuda()\n",
    "        self.fo1 = nn.Linear(self.P + self.Dx + self.De, hidden).cuda()\n",
    "        self.fo2 = nn.Linear(hidden, int(hidden/2)).cuda()\n",
    "        self.fo3 = nn.Linear(int(hidden/2), self.Do).cuda()\n",
    "        self.fc1 = nn.Linear(self.Do * self.N, hidden).cuda()\n",
    "        self.fc2 = nn.Linear(hidden, int(hidden/2)).cuda()\n",
    "        self.fc3 = nn.Linear(int(hidden/2), self.n_targets).cuda()\n",
    "        #self.fc_fixed = nn.Linear(self.Do, self.n_targets).cuda()\n",
    "\n",
    "    def assign_matrices(self):\n",
    "        self.Rr = torch.zeros(self.N, self.Nr)\n",
    "        self.Rs = torch.zeros(self.N, self.Nr)\n",
    "        receiver_sender_list = [i for i in itertools.product(range(self.N), range(self.N)) if i[0]!=i[1]]\n",
    "        for i, (r, s) in enumerate(receiver_sender_list):\n",
    "            self.Rr[r, i] = 1\n",
    "            self.Rs[s, i] = 1\n",
    "        self.Rr = Variable(self.Rr).cuda()\n",
    "        self.Rs = Variable(self.Rs).cuda()\n",
    "\n",
    "    def forward(self, x):\n",
    "        Orr = self.tmul(x, self.Rr)\n",
    "        Ors = self.tmul(x, self.Rs)\n",
    "        B = torch.cat([Orr, Ors], 1)\n",
    "        ### First MLP ###\n",
    "        B = torch.transpose(B, 1, 2).contiguous()\n",
    "        if self.fr_activation ==2:\n",
    "            B = nn.functional.selu(self.fr1(B.view(-1, 2 * self.P + self.Dr)))\n",
    "            B = nn.functional.selu(self.fr2(B))\n",
    "            E = nn.functional.selu(self.fr3(B).view(-1, self.Nr, self.De))            \n",
    "        elif self.fr_activation ==1:\n",
    "            B = nn.functional.elu(self.fr1(B.view(-1, 2 * self.P + self.Dr)))\n",
    "            B = nn.functional.elu(self.fr2(B))\n",
    "            E = nn.functional.elu(self.fr3(B).view(-1, self.Nr, self.De))\n",
    "        else:\n",
    "            B = nn.functional.relu(self.fr1(B.view(-1, 2 * self.P + self.Dr)))\n",
    "            B = nn.functional.relu(self.fr2(B))\n",
    "            E = nn.functional.relu(self.fr3(B).view(-1, self.Nr, self.De))\n",
    "        del B\n",
    "        E = torch.transpose(E, 1, 2).contiguous()\n",
    "        Ebar = self.tmul(E, torch.transpose(self.Rr, 0, 1).contiguous())\n",
    "        del E\n",
    "        C = torch.cat([x, Ebar], 1)\n",
    "        del Ebar\n",
    "        C = torch.transpose(C, 1, 2).contiguous()\n",
    "        ### Second MLP ###\n",
    "        if self.fo_activation ==2:\n",
    "            C = nn.functional.relu(self.fo1(C.view(-1, self.P + self.Dx + self.De)))\n",
    "            C = nn.functional.relu(self.fo2(C))\n",
    "            O = nn.functional.relu(self.fo3(C).view(-1, self.N, self.Do))\n",
    "        elif self.fo_activation ==1:\n",
    "            C = nn.functional.relu(self.fo1(C.view(-1, self.P + self.Dx + self.De)))\n",
    "            C = nn.functional.relu(self.fo2(C))\n",
    "            O = nn.functional.relu(self.fo3(C).view(-1, self.N, self.Do))\n",
    "        else:\n",
    "            C = nn.functional.relu(self.fo1(C.view(-1, self.P + self.Dx + self.De)))\n",
    "            C = nn.functional.relu(self.fo2(C))\n",
    "            O = nn.functional.relu(self.fo3(C).view(-1, self.N, self.Do))\n",
    "        del C\n",
    "        ### Classification MLP ###\n",
    "        if self.fc_activation ==2:\n",
    "            N = nn.functional.relu(self.fc1(O.view(-1, self.Do * self.N)))\n",
    "            N = nn.functional.relu(self.fc2(N))       \n",
    "        elif self.fc_activation ==1:\n",
    "            N = nn.functional.relu(self.fc1(O.view(-1, self.Do * self.N)))\n",
    "            N = nn.functional.relu(self.fc2(N))\n",
    "        else:\n",
    "            N = nn.functional.relu(self.fc1(O.view(-1, self.Do * self.N)))\n",
    "            N = nn.functional.relu(self.fc2(N))\n",
    "        del O\n",
    "        N = nn.functional.relu(self.fc3(N))\n",
    "        return N\n",
    "\n",
    "    def tmul(self, x, y):  #Takes (I * J * K)(K * L) -> I * J * L \n",
    "        x_shape = x.size()\n",
    "        y_shape = y.size()\n",
    "        return torch.mm(x.view(-1, x_shape[2]), y).view(-1, x_shape[1], y_shape[1])\n",
    "\n",
    "def get_sample(training, target, choice):\n",
    "    target_vals = np.argmax(target, axis = 1)\n",
    "    ind, = np.where(target_vals == choice)\n",
    "    chosen_ind = np.random.choice(ind, 50000)\n",
    "    return training[chosen_ind], target[chosen_ind]"
   ]
  },
  {
   "cell_type": "markdown",
   "metadata": {},
   "source": [
    "### accuracy metrics to be computed during training"
   ]
  },
  {
   "cell_type": "code",
   "execution_count": 204,
   "metadata": {},
   "outputs": [],
   "source": [
    "def accuracy(predict, target):\n",
    "    _, p_vals = torch.max(predict, 1)\n",
    "    r = torch.sum(target == p_vals.squeeze(1)).data.numpy()[0]\n",
    "    t = target.size()[0]\n",
    "    return r * 1.0 / t\n",
    "\n",
    "def stats(predict, target):\n",
    "    print(predict)\n",
    "    _, p_vals = torch.max(predict, 1)\n",
    "    t = target.cpu().data.numpy()\n",
    "    p_vals = p_vals.squeeze(1).data.numpy()\n",
    "    vals = np.unique(t)\n",
    "    for i in vals:\n",
    "        ind = np.where(t == i)\n",
    "        pv = p_vals[ind]\n",
    "        correct = sum(pv == t[ind])\n",
    "        print(\"  Target %s: %s/%s = %s%%\" % (i, correct, len(pv), correct * 100.0/len(pv)))\n",
    "    print(\"Overall: %s/%s = %s%%\" % (sum(p_vals == t), len(t), sum(p_vals == t) * 100.0/len(t)))\n",
    "    return sum(p_vals == t) * 100.0/len(t)"
   ]
  },
  {
   "cell_type": "markdown",
   "metadata": {},
   "source": [
    "### Prepare Dataset"
   ]
  },
  {
   "cell_type": "code",
   "execution_count": 310,
   "metadata": {},
   "outputs": [],
   "source": [
    "nParticles = 100\n",
    "labels = ['j_g', 'j_q', 'j_w', 'j_z', 'j_t']\n",
    "params = ['j1_px', 'j1_py' , 'j1_pz' , 'j1_e' , 'j1_erel' , 'j1_pt' , 'j1_ptrel', 'j1_eta' , 'j1_etarel' , \n",
    "          'j1_etarot' , 'j1_phi' , 'j1_phirel' , 'j1_phirot', 'j1_deltaR' , 'j1_costheta' , 'j1_costhetarel']"
   ]
  },
  {
   "cell_type": "code",
   "execution_count": 311,
   "metadata": {},
   "outputs": [
    {
     "name": "stdout",
     "output_type": "stream",
     "text": [
      "········\n"
     ]
    },
    {
     "data": {
      "text/plain": [
       "256"
      ]
     },
     "execution_count": 311,
     "metadata": {},
     "output_type": "execute_result"
    }
   ],
   "source": [
    "# need afs password to read from eos\n",
    "import getpass\n",
    "os.system(\"echo %s| kinit\" %getpass.getpass())"
   ]
  },
  {
   "cell_type": "code",
   "execution_count": 312,
   "metadata": {},
   "outputs": [
    {
     "name": "stdout",
     "output_type": "stream",
     "text": [
      "/eos/project/d/dshep/hls-fml/jetImage_0_697346_100.h5\n",
      "16000000\n",
      "(10000, 100, 16) (10000, 5)\n",
      "/eos/project/d/dshep/hls-fml/jetImage_1393449_1801177_100.h5\n",
      "16000000\n",
      "(20000, 100, 16) (20000, 5)\n",
      "/eos/project/d/dshep/hls-fml/jetImage_2226483_2887092_100.h5\n",
      "16000000\n",
      "(30000, 100, 16) (30000, 5)\n",
      "/eos/project/d/dshep/hls-fml/jetImage_2887047_3523866_100.h5\n",
      "16000000\n",
      "(40000, 100, 16) (40000, 5)\n",
      "/eos/project/d/dshep/hls-fml/jetImage_3523808_3927485_100.h5\n",
      "16000000\n",
      "(50000, 100, 16) (50000, 5)\n",
      "/eos/project/d/dshep/hls-fml/jetImage_3927453_4333213_100.h5\n",
      "16000000\n",
      "(60000, 100, 16) (60000, 5)\n",
      "/eos/project/d/dshep/hls-fml/jetImage_4333174_4754296_100.h5\n",
      "16000000\n",
      "(70000, 100, 16) (70000, 5)\n",
      "/eos/project/d/dshep/hls-fml/jetImage_697255_1393473_100.h5\n",
      "16000000\n",
      "(80000, 100, 16) (80000, 5)\n"
     ]
    }
   ],
   "source": [
    "# Load\n",
    "X = np.array([])\n",
    "Y = np.array([])\n",
    "First = True\n",
    "for fileIN in glob.glob(\"/eos/project/d/dshep/hls-fml/jetImage*_%i.h5\" %nParticles):        \n",
    "    print(fileIN)\n",
    "    f = h5py.File(fileIN, 'r')\n",
    "    myFeatures = np.array(f.get('jetConstituentList'))\n",
    "    myTarget = np.array(f.get('jets')[0:,-6:-1])\n",
    "    print(myFeatures.size)\n",
    "    X = np.concatenate([X,myFeatures], axis = 0) if X.size else myFeatures\n",
    "    Y = np.concatenate([Y,myTarget], axis = 0) if Y.size else myTarget\n",
    "    print(X.shape, Y.shape)\n",
    "input_shape = (X.shape[1], X.shape[2])"
   ]
  },
  {
   "cell_type": "code",
   "execution_count": 313,
   "metadata": {},
   "outputs": [],
   "source": [
    "val_split = 0.3\n",
    "batch_size = 100\n",
    "n_epochs = 500\n",
    "patience = 10"
   ]
  },
  {
   "cell_type": "code",
   "execution_count": 314,
   "metadata": {},
   "outputs": [
    {
     "name": "stdout",
     "output_type": "stream",
     "text": [
      "(80000, 100, 16) (80000, 5)\n"
     ]
    }
   ],
   "source": [
    "# cut dataset so that # examples int(examples / batch size)\n",
    "new_Nexamples = int(X.shape[0]/batch_size)*batch_size\n",
    "X = X[:new_Nexamples, :,:]\n",
    "Y = Y[:new_Nexamples]\n",
    "print(X.shape, Y.shape)"
   ]
  },
  {
   "cell_type": "code",
   "execution_count": 315,
   "metadata": {},
   "outputs": [],
   "source": [
    "# transpose constituents index and feature index (to match what IN expects)\n",
    "X = np.swapaxes(X, 1, 2)\n",
    "# pytorch Cross Entropy doesn't support one-hot encoding\n",
    "Y = np.argmax(Y, axis=1)"
   ]
  },
  {
   "cell_type": "code",
   "execution_count": 349,
   "metadata": {},
   "outputs": [
    {
     "name": "stdout",
     "output_type": "stream",
     "text": [
      "(56000, 16, 100) (56000,)\n",
      "(24000, 16, 100) (24000,)\n"
     ]
    }
   ],
   "source": [
    "# shuffle and split\n",
    "from sklearn.utils import shuffle\n",
    "X, Y = shuffle(X, Y, random_state=0)\n",
    "Nval = int(X.shape[0]*val_split)\n",
    "X_val = X[:Nval,:,:]\n",
    "X_train = X[Nval:,:,:]\n",
    "Y_val = Y[:Nval]\n",
    "Y_train = Y[Nval:]\n",
    "# epochs\n",
    "n_batches_train = int(X_train.shape[0]/batch_size)\n",
    "n_batches_val = int(X_val.shape[0]/batch_size)\n",
    "print(X_train.shape, Y_train.shape)\n",
    "print(X_val.shape, Y_val.shape)"
   ]
  },
  {
   "cell_type": "code",
   "execution_count": 317,
   "metadata": {},
   "outputs": [],
   "source": [
    "# Convert dataset to pytorch\n",
    "X_train = Variable(torch.FloatTensor(X_train))\n",
    "X_val = Variable(torch.FloatTensor(X_val))\n",
    "Y_train = Variable(torch.LongTensor(Y_train).long())  \n",
    "Y_val = Variable(torch.LongTensor(Y_val).long())  \n",
    "#Y_val = Variable(torch.from_numpy(np.argmax(Y_val, axis = 1)).long())  "
   ]
  },
  {
   "cell_type": "markdown",
   "metadata": {},
   "source": [
    "### Training"
   ]
  },
  {
   "cell_type": "code",
   "execution_count": 318,
   "metadata": {},
   "outputs": [],
   "source": [
    "import sys\n",
    "def printProgressBar (iteration, total, prefix = '', suffix = '', decimals = 1, length = 100, fill = '#'):\n",
    "    \"\"\" Call in a loop to create terminal progress bar\n",
    "        @params:\n",
    "            iteration   - Required  : current iteration (Int)\n",
    "            total       - Required  : total iterations (Int)\n",
    "            prefix      - Optional  : prefix string (Str)\n",
    "            suffix      - Optional  : suffix string (Str)\n",
    "            decimals    - Optional  : positive number of decimals in percent complete (Int)\n",
    "            length      - Optional  : character length of bar (Int)\n",
    "            fill        - Optional  : bar fill character (Str)\n",
    "    \"\"\"\n",
    "    percent = (\"{0:.\" + str(decimals) + \"f}\").format(100 * (iteration / float(total)))\n",
    "    filledLength = int(length * iteration // total)\n",
    "    bar = fill * filledLength + '-' * (length - filledLength)\n",
    "    sys.stdout.write('\\r%s |%s| %s%% %s' % (prefix, bar, percent, suffix))\n",
    "    sys.stdout.flush()\n",
    "    # Print New Line on Complete\n",
    "    if iteration == total: \n",
    "        print()"
   ]
  },
  {
   "cell_type": "code",
   "execution_count": 341,
   "metadata": {
    "scrolled": true
   },
   "outputs": [
    {
     "name": "stdout",
     "output_type": "stream",
     "text": [
      "Epoch 0\n",
      "Training   Loss: 1.424230\n",
      "Validation Loss: 1.446177\n",
      "Epoch 1\n",
      "Training   Loss: 1.384335\n",
      "Validation Loss: 1.355815\n",
      "Epoch 2\n",
      "Training   Loss: 1.304200\n",
      "Validation Loss: 1.125002\n",
      "Epoch 3\n",
      "Training   Loss: 1.269557\n",
      "Validation Loss: 1.098980\n",
      "Epoch 4\n",
      "Training   Loss: 1.250306\n",
      "Validation Loss: 1.076161\n",
      "Epoch 5\n",
      "Training   Loss: 1.234336\n",
      "Validation Loss: 1.058576\n",
      "Epoch 6\n",
      "Training   Loss: 1.215553\n",
      "Validation Loss: 1.046535\n",
      "Epoch 7\n",
      "Training   Loss: 1.200059\n",
      "Validation Loss: 1.034040\n",
      "Epoch 8\n",
      "Training   Loss: 1.184539\n",
      "Validation Loss: 1.023380\n",
      "Epoch 9\n",
      "Training   Loss: 1.167342\n",
      "Validation Loss: 1.011150\n",
      "Epoch 10\n",
      "Training   Loss: 1.152106\n",
      "Validation Loss: 0.998861\n",
      "Epoch 11\n",
      "Training   Loss: 1.140285\n",
      "Validation Loss: 0.984444\n",
      "Epoch 12\n",
      "Training   Loss: 1.129686\n",
      "Validation Loss: 0.972878\n",
      "Epoch 13\n",
      "Training   Loss: 1.119404\n",
      "Validation Loss: 0.968686\n",
      "Epoch 14\n",
      "Training   Loss: 1.115254\n",
      "Validation Loss: 0.959270\n",
      "Epoch 15\n",
      "Training   Loss: 1.109423\n",
      "Validation Loss: 0.951599\n",
      "Epoch 16\n",
      "Training   Loss: 1.106280\n",
      "Validation Loss: 0.941386\n",
      "Epoch 17\n",
      "Training   Loss: 1.106081\n",
      "Validation Loss: 0.935250\n",
      "Epoch 18\n",
      "Training   Loss: 1.106871\n",
      "Validation Loss: 0.926683\n",
      "Epoch 19\n",
      "Training   Loss: 1.106860\n",
      "Validation Loss: 0.918867\n",
      "Epoch 20\n",
      "Training   Loss: 1.108836\n",
      "Validation Loss: 0.910080\n",
      "Epoch 21\n",
      "Training   Loss: 1.110545\n",
      "Validation Loss: 0.901332\n",
      "Epoch 22\n",
      "Training   Loss: 1.108141\n",
      "Validation Loss: 0.895077\n",
      "Epoch 23\n",
      "Training   Loss: 1.109164\n",
      "Validation Loss: 0.885630\n",
      "Epoch 24\n",
      "Training   Loss: 1.117952\n",
      "Validation Loss: 0.876138\n",
      "Epoch 25\n",
      "Training   Loss: 1.107923\n",
      "Validation Loss: 0.867946\n",
      "Epoch 26\n",
      "Training   Loss: 1.102458\n",
      "Validation Loss: 0.861798\n",
      "Epoch 27\n",
      "Training   Loss: 1.101405\n",
      "Validation Loss: 0.855292\n",
      "Epoch 28\n",
      "Training   Loss: 1.101718\n",
      "Validation Loss: 0.847389\n",
      "Epoch 29\n",
      "Training   Loss: 1.095523\n",
      "Validation Loss: 0.844187\n",
      "Epoch 30\n",
      "Training   Loss: 1.087720\n",
      "Validation Loss: 0.836956\n",
      "Epoch 31\n",
      "Training   Loss: 1.078057\n",
      "Validation Loss: 0.835906\n",
      "Epoch 32\n",
      "Training   Loss: 1.071523\n",
      "Validation Loss: 0.835499\n",
      "Epoch 33\n",
      "Training   Loss: 1.071269\n",
      "Validation Loss: 0.833477\n",
      "Epoch 34\n",
      "Training   Loss: 1.066033\n",
      "Validation Loss: 0.827399\n",
      "Epoch 35\n",
      "Training   Loss: 1.067195\n",
      "Validation Loss: 0.822350\n",
      "Epoch 36\n",
      "Training   Loss: 1.067806\n",
      "Validation Loss: 0.820711\n",
      "Epoch 37\n",
      "Training   Loss: 1.065827\n",
      "Validation Loss: 0.817648\n",
      "Epoch 38\n",
      "Training   Loss: 1.064960\n",
      "Validation Loss: 0.815277\n",
      "Epoch 39\n",
      "Training   Loss: 1.065386\n",
      "Validation Loss: 0.812686\n",
      "Epoch 40\n",
      "Training   Loss: 1.063414\n",
      "Validation Loss: 0.810932\n",
      "Epoch 41\n",
      "Training   Loss: 1.066969\n",
      "Validation Loss: 0.806145\n",
      "Epoch 42\n",
      "Training   Loss: 1.066914\n",
      "Validation Loss: 0.806459\n",
      "Epoch 43\n",
      "Training   Loss: 1.067095\n",
      "Validation Loss: 0.801636\n",
      "Epoch 44\n",
      "Training   Loss: 1.068032\n",
      "Validation Loss: 0.798760\n",
      "Epoch 45\n",
      "Training   Loss: 1.067656\n",
      "Validation Loss: 0.796675\n",
      "Epoch 46\n",
      "Training   Loss: 1.067709\n",
      "Validation Loss: 0.794220\n",
      "Epoch 47\n",
      "Training   Loss: 1.069482\n",
      "Validation Loss: 0.792900\n",
      "Epoch 48\n",
      "Training   Loss: 1.068702\n",
      "Validation Loss: 0.789755\n",
      "Epoch 49\n",
      "Training   Loss: 1.068100\n",
      "Validation Loss: 0.786187\n",
      "Epoch 50\n",
      "Training   Loss: 1.068528\n",
      "Validation Loss: 0.781645\n",
      "Epoch 51\n",
      "Training   Loss: 1.068536\n",
      "Validation Loss: 0.778543\n",
      "Epoch 52\n",
      "Training   Loss: 1.068270\n",
      "Validation Loss: 0.775698\n",
      "Epoch 53\n",
      "Training   Loss: 1.064319\n",
      "Validation Loss: 0.776832\n",
      "Epoch 54\n",
      "Training   Loss: 1.062845\n",
      "Validation Loss: 0.776006\n",
      "Epoch 55\n",
      "Training   Loss: 1.061444\n",
      "Validation Loss: 0.774335\n",
      "Epoch 56\n",
      "Training   Loss: 1.060029\n",
      "Validation Loss: 0.768016\n",
      "Epoch 57\n",
      "Training   Loss: 1.057603\n",
      "Validation Loss: 0.767951\n",
      "Epoch 58\n",
      "Training   Loss: 1.058046\n",
      "Validation Loss: 0.767603\n",
      "Epoch 59\n",
      "Training   Loss: 1.055272\n",
      "Validation Loss: 0.765352\n",
      "Epoch 60\n",
      "Training   Loss: 1.047367\n",
      "Validation Loss: 0.762368\n",
      "Epoch 61\n",
      "Training   Loss: 1.047397\n",
      "Validation Loss: 0.760375\n",
      "Epoch 62\n",
      "Training   Loss: 1.045527\n",
      "Validation Loss: 0.759807\n",
      "Epoch 63\n",
      "Training   Loss: 1.045405\n",
      "Validation Loss: 0.754058\n",
      "Epoch 64\n",
      "Training   Loss: 1.040881\n",
      "Validation Loss: 0.753507\n",
      "Epoch 65\n",
      "Training   Loss: 1.038901\n",
      "Validation Loss: 0.752332\n",
      "Epoch 66\n",
      "Training   Loss: 1.037272\n",
      "Validation Loss: 0.748550\n",
      "Epoch 67\n",
      "Training   Loss: 1.032522\n",
      "Validation Loss: 0.749952\n",
      "Epoch 68\n",
      "Training   Loss: 1.029516\n",
      "Validation Loss: 0.746779\n",
      "Epoch 69\n",
      "Training   Loss: 1.029150\n",
      "Validation Loss: 0.745015\n",
      "Epoch 70\n",
      "Training   Loss: 1.027338\n",
      "Validation Loss: 0.742260\n",
      "Epoch 71\n",
      "Training   Loss: 1.027383\n",
      "Validation Loss: 0.741415\n",
      "Epoch 72\n",
      "Training   Loss: 1.023448\n",
      "Validation Loss: 0.739144\n",
      "Epoch 73\n",
      "Training   Loss: 1.023191\n",
      "Validation Loss: 0.737271\n",
      "Epoch 74\n",
      "Training   Loss: 1.019687\n",
      "Validation Loss: 0.736805\n",
      "Epoch 75\n",
      "Training   Loss: 1.020813\n",
      "Validation Loss: 0.736049\n",
      "Epoch 76\n",
      "Training   Loss: 1.020301\n",
      "Validation Loss: 0.733693\n",
      "Epoch 77\n",
      "Training   Loss: 1.017023\n",
      "Validation Loss: 0.734515\n",
      "Epoch 78\n",
      "Training   Loss: 1.015907\n",
      "Validation Loss: 0.737060\n",
      "Epoch 79\n",
      "Training   Loss: 1.014794\n",
      "Validation Loss: 0.737683\n",
      "Epoch 80\n",
      "Training   Loss: 1.011845\n",
      "Validation Loss: 0.737140\n",
      "Epoch 81\n",
      "Training   Loss: 1.012521\n",
      "Validation Loss: 0.736007\n",
      "Epoch 82\n",
      "Training   Loss: 1.011551\n",
      "Validation Loss: 0.739277\n",
      "Epoch 83\n",
      "Training   Loss: 1.009820\n",
      "Validation Loss: 0.740251\n",
      "Epoch 84\n",
      "Training   Loss: 1.005077\n",
      "Validation Loss: 0.740960\n",
      "Epoch 85\n",
      "Training   Loss: 1.006835\n",
      "Validation Loss: 0.738004\n",
      "Epoch 86\n",
      "Training   Loss: 1.005551\n",
      "Validation Loss: 0.734648\n",
      "Epoch 87\n",
      "Training   Loss: 1.002998\n",
      "Validation Loss: 0.734630\n",
      "Early Stopping\n"
     ]
    }
   ],
   "source": [
    "#import util\n",
    "# instantiate the model & setup training\n",
    "# relu\n",
    "gnn = GraphNet(nParticles, len(labels), params, 20, 0, 0, 0)\n",
    "# elu\n",
    "#gnn = GraphNet(nParticles, len(labels), params, 20, 1, 1 , 1)\n",
    "# selu\n",
    "#gnn = GraphNet(nParticles, len(labels), params, 20, 2, 2, 2)\n",
    "#\n",
    "loss = nn.CrossEntropyLoss()\n",
    "optimizer = optim.Adam(gnn.parameters(), lr = 0.0001)\n",
    "\n",
    "loss_train = np.zeros(n_epochs)\n",
    "acc_train = np.zeros(n_epochs)\n",
    "loss_val = np.zeros(n_epochs)\n",
    "acc_val = np.zeros(n_epochs)\n",
    "for i in range(n_epochs):\n",
    "    print(\"Epoch %s\" % i)\n",
    "    for j in range(0, X_train.size()[0], batch_size):\n",
    "        optimizer.zero_grad()\n",
    "        out = gnn(X_train[j:j + batch_size].cuda())\n",
    "        l = loss(out, Y_train[j:j + batch_size].cuda())\n",
    "        l.backward()\n",
    "        optimizer.step()\n",
    "        loss_train[i] += l.cpu().data.numpy()*batch_size\n",
    "    loss_train[i] = loss_train[i]/X_train.shape[0]\n",
    "    #acc_train[i] = stats(predicted, Y_val)\n",
    "    #### val loss & accuracy\n",
    "    for j in range(0, X_val.size()[0], batch_size):\n",
    "        out_val = gnn(X_val[j:j + batch_size].cuda())\n",
    "        l_val = loss(out_val, Y_val[j:j + batch_size].cuda())\n",
    "        loss_val[i] += l_val.cpu().data.numpy()*batch_size\n",
    "    loss_val[i] = loss_val[i]/X_val.shape[0]\n",
    "    print(\"Training   Loss: %f\" %l.cpu().data.numpy())\n",
    "    print(\"Validation Loss: %f\" %l_val.cpu().data.numpy())\n",
    "    if all(loss_val[max(0, i - patience):i] > min(np.append(loss_val[0:max(0, i - patience)], 200))) and i > patience:\n",
    "        print(\"Early Stopping\")\n",
    "        break\n",
    "    print"
   ]
  },
  {
   "cell_type": "code",
   "execution_count": 342,
   "metadata": {},
   "outputs": [],
   "source": [
    "%matplotlib inline\n",
    "import matplotlib.pyplot as plt"
   ]
  },
  {
   "cell_type": "code",
   "execution_count": 343,
   "metadata": {},
   "outputs": [
    {
     "data": {
      "image/png": "[encoded data removed]",
      "text/plain": [
       "<Figure size 432x288 with 1 Axes>"
      ]
     },
     "metadata": {},
     "output_type": "display_data"
    }
   ],
   "source": [
    "# training history\n",
    "epoch_number = list(range((loss_train > 0.).sum()))\n",
    "plt.figure()\n",
    "plt.plot(epoch_number, loss_train[loss_train>0.],label='Training Loss')\n",
    "plt.plot(epoch_number, loss_val[loss_train>0.],label='Validation Loss')\n",
    "plt.ylabel(\"Loss\")\n",
    "plt.xlabel(\"Epoch\")\n",
    "plt.grid(True)\n",
    "plt.legend(loc='upper right')\n",
    "#plt.savefig('%s/ROC.pdf'%(options.outputDir))\n",
    "plt.show()"
   ]
  },
  {
   "cell_type": "markdown",
   "metadata": {},
   "source": [
    "### Performances"
   ]
  },
  {
   "cell_type": "code",
   "execution_count": 344,
   "metadata": {},
   "outputs": [],
   "source": [
    "lst = []\n",
    "for j in torch.split(X_val, n_batches_val):\n",
    "    a = gnn(j.cuda()).cpu().data.numpy()\n",
    "    lst.append(a)\n",
    "predicted = Variable(torch.FloatTensor(np.concatenate(lst)))"
   ]
  },
  {
   "cell_type": "code",
   "execution_count": 345,
   "metadata": {},
   "outputs": [
    {
     "data": {
      "text/plain": [
       "torch.Size([24000, 5])"
      ]
     },
     "execution_count": 345,
     "metadata": {},
     "output_type": "execute_result"
    }
   ],
   "source": [
    "predicted.shape"
   ]
  },
  {
   "cell_type": "code",
   "execution_count": 346,
   "metadata": {},
   "outputs": [],
   "source": [
    "predicted = torch.nn.functional.softmax(predicted, dim=1)"
   ]
  },
  {
   "cell_type": "code",
   "execution_count": 347,
   "metadata": {},
   "outputs": [],
   "source": [
    "predict_val = predicted.data.numpy()\n",
    "true_val = Y_val.data.numpy()"
   ]
  },
  {
   "cell_type": "code",
   "execution_count": 348,
   "metadata": {},
   "outputs": [
    {
     "data": {
      "image/png": "[encoded data removed]",
      "text/plain": [
       "<Figure size 432x288 with 1 Axes>"
      ]
     },
     "metadata": {},
     "output_type": "display_data"
    }
   ],
   "source": [
    "from sklearn.metrics import roc_curve, auc\n",
    "#### get the ROC curves\n",
    "fpr = {}\n",
    "tpr = {}\n",
    "auc1 = {}\n",
    "plt.figure()\n",
    "for i, label in enumerate(labels):\n",
    "        fpr[label], tpr[label], threshold = roc_curve((true_val== i), predict_val[:,i])\n",
    "        auc1[label] = auc(fpr[label], tpr[label])\n",
    "        plt.plot(fpr[label],tpr[label],label='%s tagger, auc = %.1f%%'%(label,auc1[label]*100.))\n",
    "plt.semilogx()\n",
    "plt.ylabel(\"sig. efficiency\")\n",
    "plt.xlabel(\"bkg. mistag rate\")\n",
    "plt.xlim(0.0005,1)\n",
    "plt.grid(True)\n",
    "plt.legend(loc='lower right')\n",
    "#plt.savefig('%s/ROC.pdf'%(options.outputDir))\n",
    "plt.show()"
   ]
  },
  {
   "cell_type": "code",
   "execution_count": 340,
   "metadata": {},
   "outputs": [],
   "source": [
    "# SAVE DATA FRAMES in a new file\n",
    "import pickle\n",
    "\n",
    "with open('IN_ROC_%i_fpr.pickle' %nParticles, 'wb') as handle:\n",
    "    pickle.dump(fpr, handle, protocol=pickle.HIGHEST_PROTOCOL)\n",
    "with open('IN_ROC_%i_tpr.pickle' %nParticles, 'wb') as handle:\n",
    "    pickle.dump(tpr, handle, protocol=pickle.HIGHEST_PROTOCOL)\n",
    "with open('IN_ROC_%i_AUC.pickle' %nParticles, 'wb') as handle:\n",
    "    pickle.dump(auc1, handle, protocol=pickle.HIGHEST_PROTOCOL)"
   ]
  },
  {
   "cell_type": "code",
   "execution_count": null,
   "metadata": {},
   "outputs": [],
   "source": []
  }
 ],
 "metadata": {
  "kernelspec": {
   "display_name": "Python 3",
   "language": "python",
   "name": "python3"
  },
  "language_info": {
   "codemirror_mode": {
    "name": "ipython",
    "version": 3
   },
   "file_extension": ".py",
   "mimetype": "text/x-python",
   "name": "python",
   "nbconvert_exporter": "python",
   "pygments_lexer": "ipython3",
   "version": "3.6.4"
  }
 },
 "nbformat": 4,
 "nbformat_minor": 2
}
